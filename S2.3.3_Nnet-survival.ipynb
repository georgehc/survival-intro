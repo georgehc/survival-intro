{
 "cells": [
  {
   "cell_type": "markdown",
   "id": "b45f4951-fd8b-4829-a322-a0f08c3a421d",
   "metadata": {},
   "source": [
    "# Section 2.3.3: Nnet-survival Demo\n",
    "\n",
    "Author: George H. Chen (georgechen [at symbol] cmu.edu)\n",
    "\n",
    "This demo covers how to implement Nnet-survival (Gensheimer and Narasimhan, 2019) using PyCox and PyTorch. For an overview of Nnet-survival, please see Example 2.3.2 in Section 2.3.3 of the monograph. This demo is very similar to the DeepHit demo (`S2.3.3_DeepHit_single.ipynb`). Please look at the DeepHit demo first. In PyCox, Nnet-survival is implemented in the `LogisticHazard` Python class."
   ]
  },
  {
   "cell_type": "markdown",
   "id": "ed45bbae-a124-4865-afa0-d04f62b24610",
   "metadata": {},
   "source": [
    "### Loading in the SUPPORT dataset (Knaus et al., 1995)\n",
    "\n",
    "As with the earlier demo, we begin by defining the training, validation, and test sets."
   ]
  },
  {
   "cell_type": "code",
   "execution_count": 1,
   "id": "ca8b9722-9480-4771-850a-592ebe83687e",
   "metadata": {},
   "outputs": [
    {
     "name": "stdout",
     "output_type": "stream",
     "text": [
      "Training set size 4968\n",
      "Validation set size 1243\n",
      "Test set size 2662\n",
      "\n",
      "Features before preprocessing (14 total):\n",
      "['age', 'female', 'race', 'num.co', 'diabetes', 'dementia', 'ca', 'meanbp', 'hrt', 'resp', 'temp', 'wblc', 'sod', 'crea']\n",
      "\n",
      "Features after preprocessing (19 total):\n",
      "['age_std', 'female', 'num.co_norm', 'diabetes', 'dementia', 'ca_norm', 'meanbp_std', 'hrt_std', 'resp_std', 'temp_std', 'wblc_std', 'sod_std', 'crea_std', 'race_blank', 'race_asian', 'race_black', 'race_hispanic', 'race_other', 'race_white']\n",
      "\n",
      "Events: ['death']\n",
      "\n"
     ]
    }
   ],
   "source": [
    "from datasets import load_dataset\n",
    "from sklearn.model_selection import train_test_split\n",
    "\n",
    "X_full_train_raw_np, Y_full_train_np, D_full_train_np, \\\n",
    "        X_test_raw_np, Y_test_np, D_test_np, \\\n",
    "        features_before_preprocessing, features_after_preprocessing, \\\n",
    "        events, train_test_split_prespecified, \\\n",
    "        build_preprocessor_and_preprocess, apply_preprocessor = load_dataset('support')\n",
    "\n",
    "# split the \"full training set\" into the actual training set and a validation set (using a 80/20 split)\n",
    "X_train_raw_np, X_val_raw_np, Y_train_np, Y_val_np, D_train_np, D_val_np = \\\n",
    "    train_test_split(X_full_train_raw_np, Y_full_train_np, D_full_train_np,\n",
    "                     test_size=.2, random_state=0)\n",
    "\n",
    "print(f'Training set size {X_train_raw_np.shape[0]}')\n",
    "print(f'Validation set size {X_val_raw_np.shape[0]}')\n",
    "print(f'Test set size {X_test_raw_np.shape[0]}')\n",
    "print()\n",
    "\n",
    "print(f'Features before preprocessing ({len(features_before_preprocessing)} total):')\n",
    "print(features_before_preprocessing)\n",
    "print()\n",
    "\n",
    "print(f'Features after preprocessing ({len(features_after_preprocessing)} total):')\n",
    "print(features_after_preprocessing)\n",
    "print()\n",
    "\n",
    "print('Events:', events)  # only one critical event for the standard time-to-event prediction setup\n",
    "print()"
   ]
  },
  {
   "cell_type": "markdown",
   "id": "c17484e8-156a-4724-a1e2-bd7f2025db68",
   "metadata": {},
   "source": [
    "We fit and apply a preprocessor to the training set. We apply (but do not re-fit) the preprocessor to the validation set."
   ]
  },
  {
   "cell_type": "code",
   "execution_count": 2,
   "id": "835b67c9-142f-47d8-82ee-e9d885e674f0",
   "metadata": {},
   "outputs": [],
   "source": [
    "X_train_np, preprocessor = build_preprocessor_and_preprocess(X_train_raw_np)\n",
    "X_val_np = apply_preprocessor(X_val_raw_np, preprocessor)"
   ]
  },
  {
   "cell_type": "markdown",
   "id": "3412a160-ce89-4ac6-ad4f-1f791a3ab3c1",
   "metadata": {},
   "source": [
    "### Discretizing time\n",
    "\n",
    "Time discretization works in the exact same way as in the DeepHit demo."
   ]
  },
  {
   "cell_type": "code",
   "execution_count": 3,
   "id": "3483ac40-4542-41cf-8108-8e56a06cd68e",
   "metadata": {},
   "outputs": [
    {
     "name": "stdout",
     "output_type": "stream",
     "text": [
      "Number of time steps to be used with DeepHit: 109\n",
      "Time grid: [   0.    3.    4.    5.    6.    7.    8.    9.   10.   11.   12.   13.\n",
      "   14.   15.   16.   17.   18.   19.   20.   21.   22.   23.   24.   26.\n",
      "   27.   28.   30.   31.   33.   35.   37.   39.   41.   43.   45.   48.\n",
      "   51.   54.   57.   59.   63.   66.   68.   73.   76.   82.   88.   92.\n",
      "   97.  102.  108.  115.  120.  127.  135.  143.  151.  160.  167.  178.\n",
      "  186.  198.  206.  217.  227.  236.  247.  261.  275.  292.  307.  328.\n",
      "  344.  368.  384.  399.  417.  436.  452.  475.  496.  518.  539.  564.\n",
      "  592.  624.  656.  678.  715.  757.  799.  827.  871.  923.  974. 1027.\n",
      " 1085. 1131. 1184. 1228. 1258. 1345. 1415. 1530. 1599. 1690. 1760. 1813.\n",
      " 2029.]\n"
     ]
    },
    {
     "name": "stderr",
     "output_type": "stream",
     "text": [
      "/home/george/Projects/survival-tutorial/pycox/preprocessing/discretization.py:37: UserWarning: cuts are not unique, continue with 109 cuts instead of 128\n",
      "  warnings.warn(f\"cuts are not unique, continue with {len(cuts)} cuts instead of {num}\")\n"
     ]
    }
   ],
   "source": [
    "import numpy as np\n",
    "from pycox.preprocessing.label_transforms import LabTransDiscreteTime\n",
    "\n",
    "num_time_steps = 128  # set this to 0 to use all unique times of death\n",
    "\n",
    "if num_time_steps == 0:\n",
    "    mask = (D_train_np == 1)  # boolean mask specifying which training patients experienced death\n",
    "    label_transform = LabTransDiscreteTime(np.unique(Y_train_np[mask]))\n",
    "else:\n",
    "    # use a quantile based discretization, which could possibly end up using fewer than the\n",
    "    # number of time steps requested (if it turns out that in the dataset, there are many\n",
    "    # duplicate observed times)\n",
    "    label_transform = LabTransDiscreteTime(num_time_steps, scheme='quantiles')\n",
    "\n",
    "Y_train_discrete_np, D_train_discrete_np = label_transform.fit_transform(Y_train_np, D_train_np)\n",
    "Y_val_discrete_np, D_val_discrete_np = label_transform.transform(Y_val_np, D_val_np)\n",
    "# note: PyCox's discretization code allows for the possibility that the event indicator changes\n",
    "# (if a patient's survival time is known so that the event indicator is 1, but the survival time\n",
    "# is after the maximum discrete time grid time, then the patient's event indicator is changed to\n",
    "# being censored)\n",
    "\n",
    "time_grid_train_np = label_transform.cuts\n",
    "output_num_time_steps = len(time_grid_train_np)\n",
    "print(f'Number of time steps to be used with DeepHit: {output_num_time_steps}')\n",
    "print('Time grid:', time_grid_train_np)"
   ]
  },
  {
   "cell_type": "markdown",
   "id": "77ffe5dc-1354-4ea1-bf3c-fea418cd9b0e",
   "metadata": {},
   "source": [
    "### Preparing training and validation sets for use with PyTorch\n",
    "\n",
    "Note that at the time of writing, the code is a bit picky about the data types used. When evaluating the loss later, the underlying PyCox code needs the event indicators to be cast as float32 (unlike in the DeepHit demo)."
   ]
  },
  {
   "cell_type": "code",
   "execution_count": 4,
   "id": "559dc917-0b7c-402f-ad66-fef766e9a87d",
   "metadata": {},
   "outputs": [],
   "source": [
    "import torch\n",
    "\n",
    "device = torch.device('cuda' if torch.cuda.is_available() else 'cpu')\n",
    "\n",
    "X_train = torch.tensor(X_train_np, dtype=torch.float32, device=device)\n",
    "Y_train = torch.tensor(Y_train_discrete_np, dtype=torch.int64, device=device)\n",
    "D_train = torch.tensor(D_train_discrete_np, dtype=torch.float32, device=device)\n",
    "train_data = list(zip(X_train, Y_train, D_train))\n",
    "\n",
    "X_val = torch.tensor(X_val_np, dtype=torch.float32, device=device)\n",
    "Y_val = torch.tensor(Y_val_discrete_np, dtype=torch.int64, device=device)\n",
    "D_val = torch.tensor(D_val_discrete_np, dtype=torch.float32, device=device)\n",
    "val_data = list(zip(X_val, Y_val, D_val))"
   ]
  },
  {
   "cell_type": "markdown",
   "id": "5aef6a07-d3c1-4241-a1d1-ded281c25858",
   "metadata": {},
   "source": [
    "### Setting up the Nnet-survival model and loss"
   ]
  },
  {
   "cell_type": "code",
   "execution_count": 5,
   "id": "2d5d800a-893c-4342-a561-ca53ceee17b0",
   "metadata": {},
   "outputs": [],
   "source": [
    "import torch.nn as nn\n",
    "from pycox.models import LogisticHazard\n",
    "\n",
    "torch.manual_seed(0)\n",
    "\n",
    "num_input_features = X_train.size(1)\n",
    "\n",
    "base_neural_net = nn.Sequential(nn.Linear(num_input_features, 8),\n",
    "                                nn.ReLU(),\n",
    "                                nn.Linear(8, output_num_time_steps)).to(device)\n",
    "\n",
    "nnetsurvival_model = LogisticHazard(base_neural_net, device=device,\n",
    "                                    duration_index=time_grid_train_np)\n",
    "nnetsurvival_loss = nnetsurvival_model.loss"
   ]
  },
  {
   "cell_type": "markdown",
   "id": "c3c36bf4-fd91-4dd5-b997-481b1a8569e2",
   "metadata": {},
   "source": [
    "### Training the model using minibatch gradient descent\n",
    "\n",
    "Just as in the exponential time-to-event prediction model demo, we use the validation set to decide on whether to use a previous epoch's learned model parameters."
   ]
  },
  {
   "cell_type": "code",
   "execution_count": 6,
   "id": "b33ace96-79ed-487a-a1f4-3dc12b33194e",
   "metadata": {},
   "outputs": [
    {
     "name": "stdout",
     "output_type": "stream",
     "text": [
      "Epoch 1 - train loss 4.968472003936768 - val loss 4.938335418701172\n",
      "Epoch 2 - train loss 3.9977524280548096 - val loss 3.996711015701294\n",
      "Epoch 3 - train loss 3.8446109294891357 - val loss 3.8548760414123535\n",
      "Epoch 4 - train loss 3.7577919960021973 - val loss 3.783118486404419\n",
      "Epoch 5 - train loss 3.6902425289154053 - val loss 3.723034143447876\n",
      "Epoch 6 - train loss 3.641087055206299 - val loss 3.6811790466308594\n",
      "Epoch 7 - train loss 3.606241226196289 - val loss 3.652308225631714\n",
      "Epoch 8 - train loss 3.58150577545166 - val loss 3.6336753368377686\n",
      "Epoch 9 - train loss 3.564034938812256 - val loss 3.6228458881378174\n",
      "Epoch 10 - train loss 3.550889015197754 - val loss 3.6081132888793945\n",
      "Epoch 11 - train loss 3.540579319000244 - val loss 3.6052191257476807\n",
      "Epoch 12 - train loss 3.5329127311706543 - val loss 3.59692645072937\n",
      "Epoch 13 - train loss 3.525728464126587 - val loss 3.5962717533111572\n",
      "Epoch 14 - train loss 3.520026922225952 - val loss 3.593959093093872\n",
      "Epoch 15 - train loss 3.5138354301452637 - val loss 3.593039035797119\n",
      "Epoch 16 - train loss 3.50925612449646 - val loss 3.590036392211914\n",
      "Epoch 17 - train loss 3.5055999755859375 - val loss 3.5930309295654297\n",
      "Epoch 18 - train loss 3.500920295715332 - val loss 3.5932233333587646\n",
      "Epoch 19 - train loss 3.497314214706421 - val loss 3.5921716690063477\n",
      "Epoch 20 - train loss 3.493990421295166 - val loss 3.5938737392425537\n",
      "Epoch 21 - train loss 3.4915199279785156 - val loss 3.60025954246521\n",
      "Epoch 22 - train loss 3.4878056049346924 - val loss 3.596217155456543\n",
      "Epoch 23 - train loss 3.485241413116455 - val loss 3.5988547801971436\n",
      "Epoch 24 - train loss 3.483522653579712 - val loss 3.6024107933044434\n",
      "Epoch 25 - train loss 3.483292818069458 - val loss 3.6079039573669434\n",
      "Epoch 26 - train loss 3.4783072471618652 - val loss 3.604572057723999\n",
      "Epoch 27 - train loss 3.4770190715789795 - val loss 3.6046431064605713\n",
      "Epoch 28 - train loss 3.4743809700012207 - val loss 3.605449914932251\n",
      "Epoch 29 - train loss 3.473148822784424 - val loss 3.6085445880889893\n",
      "Epoch 30 - train loss 3.471771240234375 - val loss 3.6047322750091553\n",
      "Epoch 31 - train loss 3.4699270725250244 - val loss 3.6135590076446533\n",
      "Epoch 32 - train loss 3.4687414169311523 - val loss 3.611701011657715\n",
      "Epoch 33 - train loss 3.4660184383392334 - val loss 3.6145875453948975\n",
      "Epoch 34 - train loss 3.464517831802368 - val loss 3.6126067638397217\n",
      "Epoch 35 - train loss 3.4640440940856934 - val loss 3.6175198554992676\n",
      "Epoch 36 - train loss 3.4618418216705322 - val loss 3.617277145385742\n",
      "Epoch 37 - train loss 3.4609575271606445 - val loss 3.6201012134552\n",
      "Epoch 38 - train loss 3.4627676010131836 - val loss 3.623985767364502\n",
      "Epoch 39 - train loss 3.459836006164551 - val loss 3.621976137161255\n",
      "Epoch 40 - train loss 3.459210157394409 - val loss 3.624859571456909\n",
      "Epoch 41 - train loss 3.4582953453063965 - val loss 3.629727840423584\n",
      "Epoch 42 - train loss 3.4555504322052 - val loss 3.62644362449646\n",
      "Epoch 43 - train loss 3.4594151973724365 - val loss 3.630089521408081\n",
      "Epoch 44 - train loss 3.4567463397979736 - val loss 3.629735231399536\n",
      "Epoch 45 - train loss 3.454097270965576 - val loss 3.634286880493164\n",
      "Epoch 46 - train loss 3.4577908515930176 - val loss 3.634167432785034\n",
      "Epoch 47 - train loss 3.452895164489746 - val loss 3.631178140640259\n",
      "Epoch 48 - train loss 3.45314359664917 - val loss 3.6310837268829346\n",
      "Epoch 49 - train loss 3.453989267349243 - val loss 3.6332600116729736\n",
      "Epoch 50 - train loss 3.4526870250701904 - val loss 3.6383631229400635\n",
      "Epoch 51 - train loss 3.4506781101226807 - val loss 3.635606288909912\n",
      "Epoch 52 - train loss 3.450364351272583 - val loss 3.635251998901367\n",
      "Epoch 53 - train loss 3.450261354446411 - val loss 3.6408445835113525\n",
      "Epoch 54 - train loss 3.4521052837371826 - val loss 3.6362884044647217\n",
      "Epoch 55 - train loss 3.448906660079956 - val loss 3.6334121227264404\n",
      "Epoch 56 - train loss 3.448878288269043 - val loss 3.639030694961548\n",
      "Epoch 57 - train loss 3.4524900913238525 - val loss 3.649744987487793\n",
      "Epoch 58 - train loss 3.4510605335235596 - val loss 3.6429195404052734\n",
      "Epoch 59 - train loss 3.447232246398926 - val loss 3.6419155597686768\n",
      "Epoch 60 - train loss 3.4464991092681885 - val loss 3.6465225219726562\n",
      "Epoch 61 - train loss 3.4482765197753906 - val loss 3.644822359085083\n",
      "Epoch 62 - train loss 3.448152542114258 - val loss 3.6446094512939453\n",
      "Epoch 63 - train loss 3.4494125843048096 - val loss 3.6491341590881348\n",
      "Epoch 64 - train loss 3.4452226161956787 - val loss 3.6444602012634277\n",
      "Epoch 65 - train loss 3.444728374481201 - val loss 3.6443405151367188\n",
      "Epoch 66 - train loss 3.445570945739746 - val loss 3.6444735527038574\n",
      "Epoch 67 - train loss 3.4434525966644287 - val loss 3.6435704231262207\n",
      "Epoch 68 - train loss 3.443455696105957 - val loss 3.6422977447509766\n",
      "Epoch 69 - train loss 3.4472110271453857 - val loss 3.650186777114868\n",
      "Epoch 70 - train loss 3.4459571838378906 - val loss 3.6499810218811035\n",
      "Epoch 71 - train loss 3.4431707859039307 - val loss 3.650885581970215\n",
      "Epoch 72 - train loss 3.445173740386963 - val loss 3.646348476409912\n",
      "Epoch 73 - train loss 3.443258047103882 - val loss 3.647960662841797\n",
      "Epoch 74 - train loss 3.4457104206085205 - val loss 3.650768280029297\n",
      "Epoch 75 - train loss 3.4478204250335693 - val loss 3.664050340652466\n",
      "Epoch 76 - train loss 3.445758819580078 - val loss 3.648378610610962\n",
      "Epoch 77 - train loss 3.4451839923858643 - val loss 3.6488940715789795\n",
      "Epoch 78 - train loss 3.4423913955688477 - val loss 3.6512880325317383\n",
      "Epoch 79 - train loss 3.4418957233428955 - val loss 3.651254177093506\n",
      "Epoch 80 - train loss 3.4445741176605225 - val loss 3.646529197692871\n",
      "Epoch 81 - train loss 3.443765640258789 - val loss 3.6636831760406494\n",
      "Epoch 82 - train loss 3.4453155994415283 - val loss 3.653528928756714\n",
      "Epoch 83 - train loss 3.4417812824249268 - val loss 3.6530327796936035\n",
      "Epoch 84 - train loss 3.4414944648742676 - val loss 3.658684730529785\n",
      "Epoch 85 - train loss 3.4419937133789062 - val loss 3.651817560195923\n",
      "Epoch 86 - train loss 3.439391851425171 - val loss 3.654123306274414\n",
      "Epoch 87 - train loss 3.441631555557251 - val loss 3.6576249599456787\n",
      "Epoch 88 - train loss 3.4445085525512695 - val loss 3.65885329246521\n",
      "Epoch 89 - train loss 3.4404962062835693 - val loss 3.6525826454162598\n",
      "Epoch 90 - train loss 3.4392542839050293 - val loss 3.6527974605560303\n",
      "Epoch 91 - train loss 3.4426209926605225 - val loss 3.653347969055176\n",
      "Epoch 92 - train loss 3.443554401397705 - val loss 3.6635000705718994\n",
      "Epoch 93 - train loss 3.4384303092956543 - val loss 3.6564953327178955\n",
      "Epoch 94 - train loss 3.439932107925415 - val loss 3.6512324810028076\n",
      "Epoch 95 - train loss 3.44446063041687 - val loss 3.662391185760498\n",
      "Epoch 96 - train loss 3.4377877712249756 - val loss 3.6564362049102783\n",
      "Epoch 97 - train loss 3.440822124481201 - val loss 3.656226634979248\n",
      "Epoch 98 - train loss 3.441669225692749 - val loss 3.661210298538208\n",
      "Epoch 99 - train loss 3.4389986991882324 - val loss 3.662487268447876\n",
      "Epoch 100 - train loss 3.438556432723999 - val loss 3.6576426029205322\n",
      "Best validation loss (3.590036392211914) achieved at epoch 16\n"
     ]
    },
    {
     "data": {
      "text/plain": [
       "<All keys matched successfully>"
      ]
     },
     "execution_count": 6,
     "metadata": {},
     "output_type": "execute_result"
    }
   ],
   "source": [
    "from copy import deepcopy\n",
    "from torch.utils.data import DataLoader\n",
    "\n",
    "# minibatch gradient descent\n",
    "num_epochs = 100\n",
    "batch_size = 128\n",
    "learning_rate = 1e-2\n",
    "\n",
    "train_loader = DataLoader(train_data, batch_size, shuffle=True)  # shuffling for minibatch gradient descent\n",
    "val_loader = DataLoader(val_data, batch_size, shuffle=False)  # there is no need to shuffle the validation data\n",
    "\n",
    "optimizer = torch.optim.Adam(base_neural_net.parameters(), lr=learning_rate)\n",
    "train_epoch_losses = []\n",
    "val_epoch_losses = []\n",
    "best_val_loss = float('inf')\n",
    "best_params = None\n",
    "best_epoch_index = None\n",
    "for epoch_index in range(num_epochs):\n",
    "    base_neural_net.train()\n",
    "    for X_batch, Y_batch, D_batch in train_loader:\n",
    "        neural_net_output = base_neural_net(X_batch)\n",
    "        loss_batch = nnetsurvival_loss(neural_net_output, Y_batch, D_batch)\n",
    "\n",
    "        optimizer.zero_grad()\n",
    "        loss_batch.backward()\n",
    "        optimizer.step()\n",
    "\n",
    "    # evaluate training and validation set losses\n",
    "    # (note that in practice, instead of evaluating the negative log likelihood loss,\n",
    "    # we could instead evaluate other metrics such as time-dependent concordance index,\n",
    "    # integrated Brier score, etc)\n",
    "    base_neural_net.eval()\n",
    "    with torch.no_grad():\n",
    "        train_loss = torch.tensor(0.0, dtype=torch.float, device=device)\n",
    "        num_points = 0\n",
    "        for X_batch, Y_batch, D_batch in train_loader:\n",
    "            batch_num_points = X_batch.size(0)\n",
    "            neural_net_output = base_neural_net(X_batch)\n",
    "            train_loss += nnetsurvival_loss(neural_net_output, Y_batch, D_batch) * batch_num_points\n",
    "            num_points += batch_num_points\n",
    "        train_loss = float(train_loss / num_points)\n",
    "        train_epoch_losses.append(train_loss)\n",
    "        print(f'Epoch {epoch_index + 1} - train loss {train_loss}', end=' ', flush=True)\n",
    "\n",
    "        val_loss = torch.tensor(0.0, dtype=torch.float, device=device)\n",
    "        num_points = 0\n",
    "        for X_batch, Y_batch, D_batch in val_loader:\n",
    "            batch_num_points = X_batch.size(0)\n",
    "            neural_net_output = base_neural_net(X_batch)\n",
    "            val_loss += nnetsurvival_loss(neural_net_output, Y_batch, D_batch) * batch_num_points\n",
    "            num_points += batch_num_points\n",
    "        val_loss = float(val_loss / num_points)\n",
    "        val_epoch_losses.append(val_loss)\n",
    "        print(f'- val loss {val_loss}', flush=True)\n",
    "\n",
    "        if val_loss < best_val_loss:\n",
    "            best_val_loss = val_loss\n",
    "            best_epoch_index = epoch_index\n",
    "            best_params = deepcopy(base_neural_net.state_dict())\n",
    "print(f'Best validation loss ({best_val_loss}) achieved at epoch {best_epoch_index + 1}')\n",
    "base_neural_net.load_state_dict(best_params)"
   ]
  },
  {
   "cell_type": "code",
   "execution_count": 7,
   "id": "8d591b8f-de58-4e9c-9b6b-c7111ef86487",
   "metadata": {},
   "outputs": [
    {
     "data": {
      "text/plain": [
       "<matplotlib.legend.Legend at 0x7ef744009f10>"
      ]
     },
     "execution_count": 7,
     "metadata": {},
     "output_type": "execute_result"
    },
    {
     "data": {
      "image/png": "[encoded data removed]",
      "text/plain": [
       "<Figure size 640x480 with 1 Axes>"
      ]
     },
     "metadata": {},
     "output_type": "display_data"
    }
   ],
   "source": [
    "%matplotlib inline\n",
    "import matplotlib.pyplot as plt\n",
    "\n",
    "plt.plot(range(1, num_epochs + 1), train_epoch_losses, label='Training')\n",
    "plt.plot(range(1, num_epochs + 1), val_epoch_losses, '--', label='Validation')\n",
    "plt.xlabel('Epoch')\n",
    "plt.ylabel('Loss')\n",
    "plt.legend()"
   ]
  },
  {
   "cell_type": "markdown",
   "id": "49807d51-72fb-42f3-a4a5-93c59657eb0a",
   "metadata": {},
   "source": [
    "### Predicting test set survival curves"
   ]
  },
  {
   "cell_type": "markdown",
   "id": "9fd16f73-ebe8-4caf-8e8f-31a2ff773547",
   "metadata": {},
   "source": [
    "The code here is basically the same as in the DeepHit demo."
   ]
  },
  {
   "cell_type": "code",
   "execution_count": 8,
   "id": "fe28bba0-9ab4-4940-854d-54eec8eb9065",
   "metadata": {},
   "outputs": [],
   "source": [
    "X_test_np = apply_preprocessor(X_test_raw_np, preprocessor).astype('float32')"
   ]
  },
  {
   "cell_type": "markdown",
   "id": "c0dae8e5-8888-4a8e-88e4-b127c31d1f7b",
   "metadata": {},
   "source": [
    "We compute interpolated survival curves for the test set."
   ]
  },
  {
   "cell_type": "code",
   "execution_count": 9,
   "id": "2444a50e-7836-4a05-b011-a3b7d0b5029f",
   "metadata": {},
   "outputs": [],
   "source": [
    "# here we interpolate by a factor of 10 (so that if we initially had m time steps, we would now have (m-1)*10 + 1 time steps)\n",
    "interpolation_factor = 10\n",
    "surv_test_interp_df = nnetsurvival_model.interpolate(interpolation_factor).predict_surv_df(X_test_np, batch_size=batch_size)\n",
    "time_grid_train_interp_np = surv_test_interp_df.index.to_numpy()  # the interpolated time grid is an interpolated version of the *training*  time grid\n",
    "surv_test_interp_np = surv_test_interp_df.to_numpy().T"
   ]
  },
  {
   "cell_type": "markdown",
   "id": "639331f2-90fd-48ee-a96c-4f9fe03aeffc",
   "metadata": {},
   "source": [
    "Here's a plot of the predicted survival function for the 0th test data point:"
   ]
  },
  {
   "cell_type": "code",
   "execution_count": 10,
   "id": "e1bc9c26-471b-471d-8100-9f88af2c90bc",
   "metadata": {},
   "outputs": [
    {
     "data": {
      "text/plain": [
       "Text(0, 0.5, 'Survival probability')"
      ]
     },
     "execution_count": 10,
     "metadata": {},
     "output_type": "execute_result"
    },
    {
     "data": {
      "image/png": "[encoded data removed]",
      "text/plain": [
       "<Figure size 640x480 with 1 Axes>"
      ]
     },
     "metadata": {},
     "output_type": "display_data"
    }
   ],
   "source": [
    "plt.plot(time_grid_train_interp_np, surv_test_interp_np[0])\n",
    "plt.xlabel('Time')\n",
    "plt.ylabel('Survival probability')"
   ]
  },
  {
   "cell_type": "markdown",
   "id": "b3d9dda8-214c-4d57-afb3-60920423fe9e",
   "metadata": {},
   "source": [
    "### Computing test set evaluation metrics\n",
    "\n",
    "For choosing evaluation times, we use the test set's observed times."
   ]
  },
  {
   "cell_type": "code",
   "execution_count": 11,
   "id": "60cfabe1-2776-4a56-87d2-a0a26c58126a",
   "metadata": {},
   "outputs": [],
   "source": [
    "test_time_grid_np = np.unique(Y_test_np)"
   ]
  },
  {
   "cell_type": "markdown",
   "id": "931e241e-7648-4d28-91c8-ffc5942a13c9",
   "metadata": {},
   "source": [
    "#### Time-dependent concordance index (Antolini et al., 2005) using the PyCox implementation (Kvamme et al., 2019)"
   ]
  },
  {
   "cell_type": "code",
   "execution_count": 12,
   "id": "4e93bae8-67f1-4b2b-ac35-41270d413fc9",
   "metadata": {},
   "outputs": [
    {
     "name": "stdout",
     "output_type": "stream",
     "text": [
      "Time-dependent concordance index: 0.6058812636424377\n"
     ]
    }
   ],
   "source": [
    "from pycox.evaluation import EvalSurv\n",
    "\n",
    "eval_pycox = EvalSurv(surv_test_interp_df, Y_test_np, D_test_np)\n",
    "C_td = eval_pycox.concordance_td('antolini')\n",
    "print(f'Time-dependent concordance index: {C_td}')"
   ]
  },
  {
   "cell_type": "markdown",
   "id": "d25beae8-6208-41b0-a7ed-20e0d6f10ad7",
   "metadata": {},
   "source": [
    "#### Truncated time-dependent concordance index (Uno et al., 2011) using the scikit-survival implementation (Pölsterl, 2020)"
   ]
  },
  {
   "cell_type": "code",
   "execution_count": 13,
   "id": "c2875af8-4377-4d2a-a05d-380b0de2f82b",
   "metadata": {},
   "outputs": [
    {
     "name": "stdout",
     "output_type": "stream",
     "text": [
      "Eval time 316.0 - truncated time-dependent concordance: 0.5949681743892252\n",
      "Eval time 693.0 - truncated time-dependent concordance: 0.5971409048872542\n",
      "Eval time 1291.0 - truncated time-dependent concordance: 0.5961824163352452\n"
     ]
    }
   ],
   "source": [
    "from sksurv.util import Surv\n",
    "from sksurv.metrics import concordance_index_ipcw\n",
    "\n",
    "# convert training and test labels into the structured array format used by scikit-survival\n",
    "labels_train_sksurv = Surv.from_arrays(D_train_np, Y_train_np)\n",
    "labels_test_sksurv = Surv.from_arrays(D_test_np, Y_test_np)\n",
    "\n",
    "# as an illustrative example, we evaluate the truncated time-dependent concordance index at\n",
    "# 25, 50, and 75 percentile values of the time grid we specified earlier\n",
    "eval_time_indices = [int(.25 * len(test_time_grid_np)),\n",
    "                     int(.5 * len(test_time_grid_np)),\n",
    "                     int(.75 * len(test_time_grid_np))]\n",
    "\n",
    "for eval_time_index in eval_time_indices:\n",
    "    eval_time = test_time_grid_np[eval_time_index]\n",
    "\n",
    "    # find the interpolated time grid's time point closest to the evaluation time\n",
    "    interp_time_index = np.argmin(np.abs(eval_time - time_grid_train_interp_np))\n",
    "    surv_values_at_eval_time_np = surv_test_interp_np[:, interp_time_index]\n",
    "\n",
    "    estimated_risks_np = 1 - surv_values_at_eval_time_np\n",
    "    concordance = concordance_index_ipcw(labels_train_sksurv, labels_test_sksurv, estimated_risks_np, tau=eval_time)[0]\n",
    "    print(f'Eval time {eval_time} - truncated time-dependent concordance: {concordance}')"
   ]
  },
  {
   "cell_type": "markdown",
   "id": "b27d2851-845a-4d8a-a36e-faccc829b824",
   "metadata": {},
   "source": [
    "#### Time-dependent AUC (Uno et al., 2007; Hung and Chiang, 2010) using the scikit-survival implementation (Pölsterl, 2020)"
   ]
  },
  {
   "cell_type": "code",
   "execution_count": 14,
   "id": "fe777d9e-10e2-49d0-8563-5a7b9889d732",
   "metadata": {},
   "outputs": [
    {
     "name": "stdout",
     "output_type": "stream",
     "text": [
      "Eval time 316.0 - time-dependent AUC: 0.6511213558211291\n",
      "Eval time 693.0 - time-dependent AUC: 0.684395583439373\n",
      "Eval time 1291.0 - time-dependent AUC: 0.6791619083734639\n"
     ]
    }
   ],
   "source": [
    "from sksurv.metrics import cumulative_dynamic_auc\n",
    "\n",
    "for eval_time_index in eval_time_indices:\n",
    "    eval_time = test_time_grid_np[eval_time_index]\n",
    "\n",
    "    # find the interpolated time grid's time point closest to the evaluation time\n",
    "    interp_time_index = np.argmin(np.abs(eval_time - time_grid_train_interp_np))\n",
    "    surv_values_at_eval_time_np = surv_test_interp_np[:, interp_time_index]\n",
    "\n",
    "    estimated_risks_np = 1 - surv_values_at_eval_time_np\n",
    "    AUC = cumulative_dynamic_auc(labels_train_sksurv, labels_test_sksurv, estimated_risks_np, times=[eval_time])[0][0]\n",
    "    print(f'Eval time {eval_time} - time-dependent AUC: {AUC}')"
   ]
  },
  {
   "cell_type": "markdown",
   "id": "86d2ae6f-d8db-4bd5-93fd-6075bb478dd3",
   "metadata": {},
   "source": [
    "#### Brier score (Graf et al., 1999) using the SurvivalEVAL implementation (Qi et al., 2024)"
   ]
  },
  {
   "cell_type": "code",
   "execution_count": 15,
   "id": "594ed417-a759-4871-91fe-657e3d02f111",
   "metadata": {},
   "outputs": [
    {
     "name": "stdout",
     "output_type": "stream",
     "text": [
      "Eval time 316.0 - Brier score: 0.23204116850921025\n",
      "Eval time 693.0 - Brier score: 0.20919962835759953\n",
      "Eval time 1291.0 - Brier score: 0.19076235401204092\n",
      "Integrated Brier score: 0.19155566452236197\n"
     ]
    }
   ],
   "source": [
    "from SurvivalEVAL.Evaluator import SurvivalEvaluator\n",
    "\n",
    "eval = SurvivalEvaluator(surv_test_interp_np, time_grid_train_interp_np,\n",
    "                         Y_test_np, D_test_np,\n",
    "                         Y_train_np, D_train_np)  # note: training labels are also needed\n",
    "\n",
    "for eval_time_index in eval_time_indices:\n",
    "    eval_time = float(test_time_grid_np[eval_time_index])\n",
    "    print(f'Eval time {eval_time} - Brier score: {eval.brier_score(eval_time)}')\n",
    "\n",
    "IBS = eval.integrated_brier_score()\n",
    "print(f'Integrated Brier score: {IBS}')"
   ]
  },
  {
   "cell_type": "markdown",
   "id": "8d898890-64df-4aac-a27c-e0e33132a505",
   "metadata": {},
   "source": [
    "#### D-Calibration (Haider et al., 2020) using the SurvivalEVAL implementation (Qi et al., 2024)"
   ]
  },
  {
   "cell_type": "code",
   "execution_count": 16,
   "id": "d5281245-920b-4f82-941c-66e7d35d34c8",
   "metadata": {},
   "outputs": [
    {
     "name": "stdout",
     "output_type": "stream",
     "text": [
      "The model is D-calibrated.\n"
     ]
    }
   ],
   "source": [
    "p_value, bin_stats = eval.d_calibration()\n",
    "if p_value >= .05:\n",
    "    print('The model is D-calibrated.')\n",
    "else:\n",
    "    print('The model is not D-calibrated.')"
   ]
  },
  {
   "cell_type": "markdown",
   "id": "b2533edb-260c-4e16-9e09-b59954a9196f",
   "metadata": {},
   "source": [
    "#### Mean Absolute Error via the margin (Haider et al., 2020) and, separately, the Pseudo Observation approach (Qi et al., 2023) both using the SurvivalEVAL implementation (Qi et al., 2024)"
   ]
  },
  {
   "cell_type": "code",
   "execution_count": 17,
   "id": "94aac7b8-2d20-437a-9b5d-304db3971ae8",
   "metadata": {},
   "outputs": [
    {
     "name": "stdout",
     "output_type": "stream",
     "text": [
      "Weighted MAE-Margin: 615.1273008931904\n"
     ]
    }
   ],
   "source": [
    "weighted_MAE_margin = eval.mae(method='Margin', weighted=True)\n",
    "print(f'Weighted MAE-Margin: {weighted_MAE_margin}')"
   ]
  },
  {
   "cell_type": "code",
   "execution_count": 18,
   "id": "dc0f800a-a847-44f2-ac85-698c9f72a881",
   "metadata": {},
   "outputs": [
    {
     "name": "stdout",
     "output_type": "stream",
     "text": [
      "Weighted MAE-PO: 733.1180280653864\n"
     ]
    }
   ],
   "source": [
    "weighted_MAE_PO = eval.mae(method='Pseudo_obs', weighted=True)\n",
    "print(f'Weighted MAE-PO: {weighted_MAE_PO}')"
   ]
  }
 ],
 "metadata": {
  "kernelspec": {
   "display_name": "Python 3 (ipykernel)",
   "language": "python",
   "name": "python3"
  },
  "language_info": {
   "codemirror_mode": {
    "name": "ipython",
    "version": 3
   },
   "file_extension": ".py",
   "mimetype": "text/x-python",
   "name": "python",
   "nbconvert_exporter": "python",
   "pygments_lexer": "ipython3",
   "version": "3.12.4"
  }
 },
 "nbformat": 4,
 "nbformat_minor": 5
}
