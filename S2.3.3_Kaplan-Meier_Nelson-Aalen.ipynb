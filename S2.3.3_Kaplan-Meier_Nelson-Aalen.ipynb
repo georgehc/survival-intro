{
 "cells": [
  {
   "cell_type": "markdown",
   "id": "b45f4951-fd8b-4829-a322-a0f08c3a421d",
   "metadata": {},
   "source": [
    "# Section 2.3.3: Kaplan-Meier and Nelson-Aalen Estimators\n",
    "\n",
    "Author: George H. Chen (georgechen [at symbol] cmu.edu)\n",
    "\n",
    "This demo covers how to use the Kaplan-Meier estimator (Kaplan and Meier, 1958) and the Nelson-Aalen estimator (Nelson, 1969; Aalen, 1978) from the `lifelines` package, with an optional time discretization step that is done using PyCox code. For an overview of these two estimators, please see Example 2.3.3 in Section 2.3.3 of the monograph. This demo largely builds off the exponential time-to-event prediction model demo (`S2.2.2_Exponential.ipynb`), so please look at that first as it describes the different steps of the experimental setup in more detail.\n",
    "\n",
    "In the monograph, we derived Kaplan-Meier and Nelson-Aalen estimators as maximum likelihood estimators and, in fact, they can trivially be computed in closed form. For this reason, this demo is not going to use any PyTorch functionality. Note that this demo mostly focuses on the Kaplan-Meier estimator, which estimates a population-level survival function from training data. We briefly also show how to fit a Nelson-Aalen estimator of the population-level cumulative hazard function.\n",
    "\n",
    "Note that the Kaplan-Meier and Nelson-Aalen estimators are population-level estimators that don't need input feature vectors and also don't have hyperparameters to tune. Thus, we will *not* split the data into training/validation/test sets. Instead, we just use a train/test split (the same first split that happens in the exponential time-to-event prediction model demo). In other words, what we called the \"full training data\" is the same as the \"training data\" for this specific demo.\n",
    "\n",
    "**Very important:** We can treat the Kaplan-Meier estimator's survival function (fitted to the full training data) as what we would predict as the survival function for every single test point. Using this idea, we can compute nearly all of the evaluation metrics (on *test* data) that we presented in Section 2.4 of the monograph. This idea is useful because for some evaluation metrics (such as the integrated Brier score), it might not be obvious what a \"baseline\" score should be. The Kaplan-Meier estimator can thus be used to obtain a trivial baseline score."
   ]
  },
  {
   "cell_type": "markdown",
   "id": "ed45bbae-a124-4865-afa0-d04f62b24610",
   "metadata": {},
   "source": [
    "### Loading in the SUPPORT dataset (Knaus et al., 1995)\n",
    "\n",
    "The data loading is much simpler now."
   ]
  },
  {
   "cell_type": "code",
   "execution_count": 1,
   "id": "ca8b9722-9480-4771-850a-592ebe83687e",
   "metadata": {},
   "outputs": [
    {
     "name": "stdout",
     "output_type": "stream",
     "text": [
      "Training set size 6211\n",
      "Test set size 2662\n"
     ]
    }
   ],
   "source": [
    "from datasets import load_dataset\n",
    "from sklearn.model_selection import train_test_split\n",
    "\n",
    "# the suffix \"_np\" indicates a numpy array\n",
    "# (we convert arrays/tables between NumPy array, Pandas DataFrame, and PyTorch tensor formats)\n",
    "_, Y_train_np, D_train_np, _, Y_test_np, D_test_np, _, _, _, _, _, _ = load_dataset('support')\n",
    "\n",
    "print(f'Training set size {Y_train_np.shape[0]}')\n",
    "print(f'Test set size {Y_test_np.shape[0]}')"
   ]
  },
  {
   "cell_type": "markdown",
   "id": "3412a160-ce89-4ac6-ad4f-1f791a3ab3c1",
   "metadata": {},
   "source": [
    "### Discretizing time\n",
    "\n",
    "Here, we just point out that if for whatever reason, the modeler would like to discretize time prior to fitting the Kaplan-Meier estimator, then this is indeed possible. By default, in the code cell below, we actually set the time steps to be the unique times of death in the dataset (but this can easily be changed by modifying the `num_time_steps` variable).\n",
    "\n",
    "If time discretization is used (when `num_time_steps` is set to be larger than 0), then we use PyCox's provided `LabTransDiscreteTime` class that helps discretize time. Note that there are many ways to discretize time (see Section 2.3.2 of the monograph)."
   ]
  },
  {
   "cell_type": "code",
   "execution_count": 2,
   "id": "3483ac40-4542-41cf-8108-8e56a06cd68e",
   "metadata": {},
   "outputs": [
    {
     "name": "stdout",
     "output_type": "stream",
     "text": [
      "Number of time steps to be used with the Kaplan-Meier estimator: 883\n",
      "Time grid: [   3.    4.    5.    6.    7.    8.    9.   10.   11.   12.   13.   14.\n",
      "   15.   16.   17.   18.   19.   20.   21.   22.   23.   24.   25.   26.\n",
      "   27.   28.   29.   30.   31.   32.   33.   34.   35.   36.   37.   38.\n",
      "   39.   40.   41.   42.   43.   44.   45.   46.   47.   48.   49.   50.\n",
      "   51.   52.   53.   54.   55.   56.   57.   58.   59.   60.   61.   62.\n",
      "   63.   64.   65.   66.   67.   68.   69.   70.   71.   72.   73.   74.\n",
      "   75.   76.   77.   78.   79.   80.   81.   82.   83.   84.   85.   86.\n",
      "   87.   88.   89.   90.   91.   92.   93.   94.   95.   96.   97.   98.\n",
      "   99.  100.  101.  102.  103.  104.  105.  106.  107.  108.  109.  110.\n",
      "  111.  112.  113.  114.  115.  116.  117.  118.  119.  120.  121.  122.\n",
      "  123.  124.  125.  126.  127.  128.  129.  130.  132.  133.  134.  135.\n",
      "  136.  137.  138.  139.  140.  141.  142.  143.  144.  145.  146.  147.\n",
      "  148.  149.  150.  151.  152.  153.  154.  155.  156.  157.  158.  159.\n",
      "  160.  161.  162.  163.  164.  165.  166.  167.  168.  169.  170.  171.\n",
      "  172.  173.  174.  175.  176.  177.  178.  179.  180.  181.  182.  183.\n",
      "  185.  186.  187.  188.  189.  190.  191.  192.  193.  194.  195.  196.\n",
      "  197.  198.  199.  200.  201.  202.  203.  204.  205.  206.  207.  208.\n",
      "  209.  210.  211.  212.  213.  214.  215.  216.  217.  218.  219.  220.\n",
      "  221.  222.  223.  224.  225.  226.  227.  228.  229.  230.  231.  232.\n",
      "  233.  234.  235.  236.  237.  238.  239.  240.  241.  242.  243.  244.\n",
      "  245.  246.  247.  248.  249.  250.  251.  252.  253.  254.  256.  257.\n",
      "  258.  259.  260.  261.  262.  263.  264.  265.  266.  267.  268.  269.\n",
      "  270.  271.  272.  274.  275.  276.  277.  278.  281.  282.  283.  284.\n",
      "  285.  287.  288.  289.  290.  291.  292.  293.  294.  295.  296.  297.\n",
      "  298.  299.  300.  301.  303.  304.  305.  306.  307.  308.  309.  310.\n",
      "  311.  312.  314.  315.  316.  317.  318.  319.  320.  321.  322.  323.\n",
      "  324.  325.  326.  327.  328.  329.  330.  331.  332.  333.  334.  335.\n",
      "  336.  337.  338.  339.  340.  341.  343.  344.  345.  346.  347.  349.\n",
      "  350.  351.  352.  353.  354.  355.  356.  358.  359.  360.  362.  363.\n",
      "  364.  365.  366.  368.  369.  370.  371.  372.  373.  374.  375.  376.\n",
      "  377.  379.  380.  381.  382.  384.  385.  386.  387.  389.  390.  391.\n",
      "  392.  394.  395.  396.  397.  399.  400.  401.  402.  403.  404.  405.\n",
      "  406.  407.  408.  409.  410.  411.  412.  413.  414.  415.  417.  418.\n",
      "  419.  420.  421.  422.  423.  424.  425.  426.  427.  430.  431.  432.\n",
      "  433.  434.  435.  436.  437.  438.  439.  440.  441.  442.  443.  444.\n",
      "  446.  447.  448.  449.  450.  451.  452.  453.  454.  455.  456.  459.\n",
      "  460.  461.  462.  465.  466.  467.  468.  469.  470.  471.  472.  473.\n",
      "  474.  476.  477.  478.  479.  480.  481.  482.  483.  484.  485.  486.\n",
      "  487.  488.  489.  490.  491.  492.  493.  494.  495.  496.  497.  498.\n",
      "  499.  500.  501.  503.  504.  505.  506.  507.  509.  510.  511.  512.\n",
      "  515.  517.  518.  519.  520.  523.  524.  525.  527.  528.  530.  532.\n",
      "  533.  534.  536.  537.  539.  540.  541.  542.  543.  544.  546.  548.\n",
      "  549.  550.  551.  552.  554.  556.  557.  558.  560.  562.  563.  565.\n",
      "  567.  568.  569.  570.  572.  574.  575.  576.  577.  579.  581.  582.\n",
      "  583.  584.  585.  588.  589.  590.  591.  593.  594.  601.  602.  604.\n",
      "  606.  607.  608.  610.  611.  612.  613.  614.  615.  617.  618.  619.\n",
      "  620.  621.  622.  623.  624.  626.  627.  629.  632.  634.  635.  636.\n",
      "  638.  643.  644.  645.  647.  650.  651.  652.  653.  656.  657.  658.\n",
      "  659.  661.  662.  664.  666.  667.  668.  669.  673.  674.  676.  678.\n",
      "  679.  680.  681.  684.  685.  686.  689.  690.  692.  693.  699.  700.\n",
      "  706.  708.  709.  711.  713.  714.  715.  716.  717.  719.  723.  726.\n",
      "  728.  730.  734.  735.  738.  741.  742.  744.  745.  746.  747.  750.\n",
      "  752.  754.  756.  757.  758.  761.  762.  764.  769.  773.  774.  775.\n",
      "  776.  777.  781.  782.  783.  784.  785.  788.  791.  792.  793.  794.\n",
      "  797.  800.  802.  803.  805.  807.  809.  810.  811.  812.  814.  816.\n",
      "  817.  824.  825.  826.  827.  828.  829.  830.  831.  833.  835.  837.\n",
      "  838.  842.  852.  855.  858.  865.  866.  867.  869.  870.  872.  873.\n",
      "  875.  877.  879.  880.  887.  889.  890.  891.  892.  895.  896.  902.\n",
      "  907.  910.  913.  914.  917.  923.  926.  927.  928.  929.  932.  937.\n",
      "  941.  942.  944.  950.  951.  959.  965.  968.  969.  970.  971.  974.\n",
      "  977.  982.  989.  991.  993. 1000. 1001. 1007. 1012. 1013. 1016. 1017.\n",
      " 1018. 1021. 1022. 1023. 1029. 1037. 1038. 1040. 1041. 1049. 1050. 1057.\n",
      " 1059. 1062. 1063. 1068. 1070. 1079. 1082. 1083. 1086. 1087. 1099. 1106.\n",
      " 1112. 1114. 1115. 1116. 1118. 1119. 1124. 1126. 1131. 1132. 1133. 1134.\n",
      " 1138. 1142. 1143. 1152. 1162. 1167. 1172. 1174. 1177. 1178. 1184. 1185.\n",
      " 1192. 1194. 1199. 1201. 1206. 1212. 1214. 1215. 1216. 1224. 1227. 1228.\n",
      " 1230. 1231. 1236. 1237. 1238. 1241. 1244. 1250. 1253. 1254. 1257. 1258.\n",
      " 1265. 1266. 1269. 1285. 1286. 1289. 1292. 1304. 1312. 1323. 1325. 1338.\n",
      " 1344. 1346. 1347. 1349. 1358. 1360. 1362. 1363. 1364. 1373. 1379. 1382.\n",
      " 1388. 1401. 1408. 1409. 1416. 1439. 1441. 1443. 1445. 1453. 1462. 1466.\n",
      " 1471. 1474. 1478. 1480. 1485. 1489. 1494. 1524. 1527. 1529. 1530. 1531.\n",
      " 1539. 1546. 1550. 1552. 1572. 1578. 1598. 1600. 1608. 1638. 1643. 1657.\n",
      " 1659. 1661. 1668. 1687. 1691. 1730. 1745. 1753. 1760. 1761. 1776. 1780.\n",
      " 1781. 1789. 1794. 1814. 1868. 1895. 1910.]\n"
     ]
    }
   ],
   "source": [
    "import numpy as np\n",
    "\n",
    "num_time_steps = 0  # set this to 0 to use all unique times of death\n",
    "\n",
    "if num_time_steps == 0:\n",
    "    Y_train_binned_np = Y_train_np\n",
    "    D_train_discrete_np = D_train_np\n",
    "\n",
    "    mask = (D_train_np == 1)  # boolean mask specifying which training points experienced death\n",
    "    time_grid_train_np = np.unique(Y_train_np[mask])\n",
    "else:\n",
    "    # use a quantile based discretization, which could possibly end up using fewer than the\n",
    "    # number of time steps requested (if it turns out that in the dataset, there are many\n",
    "    # duplicate observed time values)\n",
    "    from pycox.preprocessing.label_transforms import LabTransDiscreteTime\n",
    "    label_transform = LabTransDiscreteTime(num_time_steps, scheme='quantiles')\n",
    "\n",
    "    Y_train_discrete_np, D_train_discrete_np = label_transform.fit_transform(Y_train_np, D_train_np)\n",
    "    # note: PyCox's discretization code allows for the possibility that the event indicator changes\n",
    "    # (if a patient's survival time is known so that the event indicator is 1, but the survival time\n",
    "    # is after the maximum discrete time grid time, then the patient's event indicator is changed to\n",
    "    # being censored)\n",
    "\n",
    "    time_grid_train_np = label_transform.cuts\n",
    "\n",
    "    # note that `Y_train_discrete_np` gives the new discretized times in terms of *integer indices*\n",
    "    # and not actual times; we convert these integer indices into actual discretized times:\n",
    "    Y_train_binned_np = np.array([time_grid_train_np[index] for index in Y_train_discrete_np])\n",
    "\n",
    "output_num_time_steps = len(time_grid_train_np)\n",
    "print(f'Number of time steps to be used with the Kaplan-Meier estimator: {output_num_time_steps}')\n",
    "print('Time grid:', time_grid_train_np)"
   ]
  },
  {
   "cell_type": "markdown",
   "id": "c6c95548-0459-42a7-897c-bb82a8c6539b",
   "metadata": {},
   "source": [
    "### Fitting the Kaplan-Meier estimator"
   ]
  },
  {
   "cell_type": "code",
   "execution_count": 3,
   "id": "6a14f962-a74a-4531-a63e-d0aa88764947",
   "metadata": {},
   "outputs": [
    {
     "data": {
      "text/plain": [
       "<Axes: xlabel='timeline'>"
      ]
     },
     "execution_count": 3,
     "metadata": {},
     "output_type": "execute_result"
    },
    {
     "data": {
      "image/png": "[encoded data removed]",
      "text/plain": [
       "<Figure size 640x480 with 1 Axes>"
      ]
     },
     "metadata": {},
     "output_type": "display_data"
    }
   ],
   "source": [
    "from lifelines import KaplanMeierFitter\n",
    "\n",
    "kmf = KaplanMeierFitter()\n",
    "kmf.fit(Y_train_binned_np, D_train_discrete_np)\n",
    "kmf.plot()"
   ]
  },
  {
   "cell_type": "code",
   "execution_count": 4,
   "id": "618b655b-0d7d-4042-a38b-437eb7a54ee6",
   "metadata": {},
   "outputs": [
    {
     "data": {
      "text/html": [
       "<div>\n",
       "<style scoped>\n",
       "    .dataframe tbody tr th:only-of-type {\n",
       "        vertical-align: middle;\n",
       "    }\n",
       "\n",
       "    .dataframe tbody tr th {\n",
       "        vertical-align: top;\n",
       "    }\n",
       "\n",
       "    .dataframe thead th {\n",
       "        text-align: right;\n",
       "    }\n",
       "</style>\n",
       "<table border=\"1\" class=\"dataframe\">\n",
       "  <thead>\n",
       "    <tr style=\"text-align: right;\">\n",
       "      <th></th>\n",
       "      <th>KM_estimate</th>\n",
       "    </tr>\n",
       "    <tr>\n",
       "      <th>timeline</th>\n",
       "      <th></th>\n",
       "    </tr>\n",
       "  </thead>\n",
       "  <tbody>\n",
       "    <tr>\n",
       "      <th>0.0</th>\n",
       "      <td>1.000000</td>\n",
       "    </tr>\n",
       "    <tr>\n",
       "      <th>3.0</th>\n",
       "      <td>0.985832</td>\n",
       "    </tr>\n",
       "    <tr>\n",
       "      <th>4.0</th>\n",
       "      <td>0.956851</td>\n",
       "    </tr>\n",
       "    <tr>\n",
       "      <th>5.0</th>\n",
       "      <td>0.936242</td>\n",
       "    </tr>\n",
       "    <tr>\n",
       "      <th>6.0</th>\n",
       "      <td>0.919176</td>\n",
       "    </tr>\n",
       "    <tr>\n",
       "      <th>...</th>\n",
       "      <td>...</td>\n",
       "    </tr>\n",
       "    <tr>\n",
       "      <th>2024.0</th>\n",
       "      <td>0.248896</td>\n",
       "    </tr>\n",
       "    <tr>\n",
       "      <th>2026.0</th>\n",
       "      <td>0.248896</td>\n",
       "    </tr>\n",
       "    <tr>\n",
       "      <th>2027.0</th>\n",
       "      <td>0.248896</td>\n",
       "    </tr>\n",
       "    <tr>\n",
       "      <th>2028.0</th>\n",
       "      <td>0.248896</td>\n",
       "    </tr>\n",
       "    <tr>\n",
       "      <th>2029.0</th>\n",
       "      <td>0.248896</td>\n",
       "    </tr>\n",
       "  </tbody>\n",
       "</table>\n",
       "<p>1564 rows × 1 columns</p>\n",
       "</div>"
      ],
      "text/plain": [
       "          KM_estimate\n",
       "timeline             \n",
       "0.0          1.000000\n",
       "3.0          0.985832\n",
       "4.0          0.956851\n",
       "5.0          0.936242\n",
       "6.0          0.919176\n",
       "...               ...\n",
       "2024.0       0.248896\n",
       "2026.0       0.248896\n",
       "2027.0       0.248896\n",
       "2028.0       0.248896\n",
       "2029.0       0.248896\n",
       "\n",
       "[1564 rows x 1 columns]"
      ]
     },
     "execution_count": 4,
     "metadata": {},
     "output_type": "execute_result"
    }
   ],
   "source": [
    "kmf.survival_function_"
   ]
  },
  {
   "cell_type": "markdown",
   "id": "2e591d62-8fc6-477c-91a3-580b9f79fb04",
   "metadata": {},
   "source": [
    "Note that by default, time 0 gets added even if it did not show up as one of the training set's observed times of death.\n",
    "\n",
    "We store the time grid and survival function in separate NumPy tables as we will use these later."
   ]
  },
  {
   "cell_type": "code",
   "execution_count": 5,
   "id": "b5c80032-1e6e-4030-856b-d215f7d932a2",
   "metadata": {},
   "outputs": [],
   "source": [
    "time_grid_KM_np = kmf.survival_function_.index.to_numpy()\n",
    "surv_KM_np = kmf.survival_function_.to_numpy().flatten()"
   ]
  },
  {
   "cell_type": "markdown",
   "id": "e724f6df-9ca8-47ac-8541-c45dd27d0d49",
   "metadata": {},
   "source": [
    "We could also essentially manually plot the Kaplan-Meier curve ourselves (although this doesn't plot pointwise confidence intervals)."
   ]
  },
  {
   "cell_type": "code",
   "execution_count": 6,
   "id": "030d0bf0-95cd-469c-82a1-0841b0823007",
   "metadata": {},
   "outputs": [
    {
     "data": {
      "text/plain": [
       "Text(0, 0.5, 'Survival probability')"
      ]
     },
     "execution_count": 6,
     "metadata": {},
     "output_type": "execute_result"
    },
    {
     "data": {
      "image/png": "[encoded data removed]",
      "text/plain": [
       "<Figure size 640x480 with 1 Axes>"
      ]
     },
     "metadata": {},
     "output_type": "display_data"
    }
   ],
   "source": [
    "%matplotlib inline\n",
    "import matplotlib.pyplot as plt\n",
    "plt.plot(time_grid_KM_np, surv_KM_np)\n",
    "plt.xlabel('Time')\n",
    "plt.ylabel('Survival probability')"
   ]
  },
  {
   "cell_type": "code",
   "execution_count": 7,
   "id": "301c1606-9590-41f2-ba5b-ce8f470a6518",
   "metadata": {},
   "outputs": [],
   "source": [
    "from lifelines import NelsonAalenFitter\n",
    "\n",
    "naf = NelsonAalenFitter()\n",
    "naf.fit(Y_train_binned_np, D_train_discrete_np)\n",
    "\n",
    "time_grid_NA_np = naf.cumulative_hazard_.index.to_numpy()\n",
    "cumulative_hazard_NA_np = naf.cumulative_hazard_.to_numpy().flatten()"
   ]
  },
  {
   "cell_type": "code",
   "execution_count": 8,
   "id": "bcdc10c1-b28f-4b4e-97b4-76907389409a",
   "metadata": {},
   "outputs": [
    {
     "data": {
      "text/plain": [
       "Text(0, 0.5, 'Cumulative hazard')"
      ]
     },
     "execution_count": 8,
     "metadata": {},
     "output_type": "execute_result"
    },
    {
     "data": {
      "image/png": "[encoded data removed]",
      "text/plain": [
       "<Figure size 640x480 with 1 Axes>"
      ]
     },
     "metadata": {},
     "output_type": "display_data"
    }
   ],
   "source": [
    "plt.plot(time_grid_NA_np, cumulative_hazard_NA_np)\n",
    "plt.xlabel('Time')\n",
    "plt.ylabel('Cumulative hazard')"
   ]
  },
  {
   "cell_type": "markdown",
   "id": "b3d9dda8-214c-4d57-afb3-60920423fe9e",
   "metadata": {},
   "source": [
    "### Predicting test set survival curves\n",
    "\n",
    "We treat the Kaplan-Meier estimator's survival function (fitted to the training data) as what we would predict to be every single test point's survival function."
   ]
  },
  {
   "cell_type": "code",
   "execution_count": 9,
   "id": "3ecdceca-0a81-492d-b86e-d995c2b5b313",
   "metadata": {},
   "outputs": [],
   "source": [
    "surv_test_np = np.tile(surv_KM_np, (Y_test_np.shape[0], 1))"
   ]
  },
  {
   "cell_type": "markdown",
   "id": "099238a9-2a02-442a-8db3-4a6fea2e78db",
   "metadata": {},
   "source": [
    "### Computing test set evaluation metrics\n",
    "\n",
    "For choosing evaluation times, we use the test set's observed times."
   ]
  },
  {
   "cell_type": "code",
   "execution_count": 10,
   "id": "3af9babc-ba31-4366-8698-645607d2dd46",
   "metadata": {},
   "outputs": [],
   "source": [
    "time_grid_test_np = np.unique(Y_test_np)"
   ]
  },
  {
   "cell_type": "markdown",
   "id": "931e241e-7648-4d28-91c8-ffc5942a13c9",
   "metadata": {},
   "source": [
    "#### Time-dependent concordance index (Antolini et al., 2005) using the PyCox implementation (Kvamme et al., 2019)"
   ]
  },
  {
   "cell_type": "code",
   "execution_count": 11,
   "id": "4e93bae8-67f1-4b2b-ac35-41270d413fc9",
   "metadata": {},
   "outputs": [
    {
     "name": "stdout",
     "output_type": "stream",
     "text": [
      "Time-dependent concordance index: 0.0\n"
     ]
    }
   ],
   "source": [
    "import pandas as pd\n",
    "from pycox.evaluation import EvalSurv\n",
    "\n",
    "# PyCox's EvalSurv expects the predicted test data's survival functions to be in\n",
    "# a Pandas DataFrame where the rows index time, and the columns index data points\n",
    "surv_test_df = pd.DataFrame(surv_test_np.T, index=time_grid_KM_np)\n",
    "eval_pycox = EvalSurv(surv_test_df, Y_test_np, D_test_np)\n",
    "C_td = eval_pycox.concordance_td('antolini')\n",
    "\n",
    "print(f'Time-dependent concordance index: {C_td}')"
   ]
  },
  {
   "cell_type": "markdown",
   "id": "d25beae8-6208-41b0-a7ed-20e0d6f10ad7",
   "metadata": {},
   "source": [
    "#### Truncated time-dependent concordance index (Uno et al., 2011) using the scikit-survival implementation (Pölsterl, 2020)"
   ]
  },
  {
   "cell_type": "code",
   "execution_count": 12,
   "id": "c2875af8-4377-4d2a-a05d-380b0de2f82b",
   "metadata": {},
   "outputs": [
    {
     "name": "stdout",
     "output_type": "stream",
     "text": [
      "Eval time 316.0 - truncated time-dependent concordance: 0.5\n",
      "Eval time 693.0 - truncated time-dependent concordance: 0.5\n",
      "Eval time 1291.0 - truncated time-dependent concordance: 0.5\n"
     ]
    }
   ],
   "source": [
    "from sksurv.util import Surv\n",
    "from sksurv.metrics import concordance_index_ipcw\n",
    "\n",
    "# convert training and test labels into the structured array format used by scikit-survival\n",
    "labels_train_sksurv = Surv.from_arrays(D_train_np, Y_train_np)\n",
    "labels_test_sksurv = Surv.from_arrays(D_test_np, Y_test_np)\n",
    "\n",
    "# as an illustrative example, we evaluate the truncated time-dependent concordance index at\n",
    "# 25, 50, and 75 percentile values of the time grid we specified earlier\n",
    "eval_time_indices = [int(.25 * len(time_grid_test_np)),\n",
    "                     int(.5 * len(time_grid_test_np)),\n",
    "                     int(.75 * len(time_grid_test_np))]\n",
    "\n",
    "for eval_time_index in eval_time_indices:\n",
    "    eval_time = time_grid_test_np[eval_time_index]\n",
    "\n",
    "    # find the Kaplan-Meier time grid's time point closest to the evaluation time\n",
    "    interp_time_index = np.argmin(np.abs(eval_time - time_grid_KM_np))\n",
    "    surv_values_at_eval_time_np = surv_test_np[:, interp_time_index]\n",
    "\n",
    "    estimated_risks_np = 1 - surv_values_at_eval_time_np\n",
    "    concordance = concordance_index_ipcw(labels_train_sksurv, labels_test_sksurv, estimated_risks_np, tau=eval_time)[0]\n",
    "    print(f'Eval time {eval_time} - truncated time-dependent concordance: {concordance}')"
   ]
  },
  {
   "cell_type": "markdown",
   "id": "b27d2851-845a-4d8a-a36e-faccc829b824",
   "metadata": {},
   "source": [
    "#### Time-dependent AUC (Uno et al., 2007; Hung and Chiang, 2010) using the scikit-survival implementation (Pölsterl, 2020)"
   ]
  },
  {
   "cell_type": "code",
   "execution_count": 13,
   "id": "fe777d9e-10e2-49d0-8563-5a7b9889d732",
   "metadata": {},
   "outputs": [
    {
     "name": "stdout",
     "output_type": "stream",
     "text": [
      "Eval time 316.0 - time-dependent AUC: 0.5\n",
      "Eval time 693.0 - time-dependent AUC: 0.5\n",
      "Eval time 1291.0 - time-dependent AUC: 0.5\n"
     ]
    }
   ],
   "source": [
    "from sksurv.metrics import cumulative_dynamic_auc\n",
    "\n",
    "for eval_time_index in eval_time_indices:\n",
    "    eval_time = time_grid_test_np[eval_time_index]\n",
    "\n",
    "    # find the Kaplan-Meier time grid's time point closest to the evaluation time\n",
    "    interp_time_index = np.argmin(np.abs(eval_time - time_grid_KM_np))\n",
    "    surv_values_at_eval_time_np = surv_test_np[:, interp_time_index]\n",
    "\n",
    "    estimated_risks_np = 1 - surv_values_at_eval_time_np\n",
    "    AUC = cumulative_dynamic_auc(labels_train_sksurv, labels_test_sksurv, estimated_risks_np, times=[eval_time])[0][0]\n",
    "    print(f'Eval time {eval_time} - time-dependent AUC: {AUC}')"
   ]
  },
  {
   "cell_type": "markdown",
   "id": "86d2ae6f-d8db-4bd5-93fd-6075bb478dd3",
   "metadata": {},
   "source": [
    "#### Brier score (Graf et al., 1999) using the SurvivalEVAL implementation (Qi et al., 2024)"
   ]
  },
  {
   "cell_type": "code",
   "execution_count": 14,
   "id": "594ed417-a759-4871-91fe-657e3d02f111",
   "metadata": {},
   "outputs": [
    {
     "name": "stdout",
     "output_type": "stream",
     "text": [
      "Eval time 316.0 - Brier score: 0.24812668066770502\n",
      "Eval time 693.0 - Brier score: 0.22996634828274495\n",
      "Eval time 1291.0 - Brier score: 0.20388111570630055\n",
      "Integrated Brier score: 0.20744689372386935\n"
     ]
    }
   ],
   "source": [
    "from SurvivalEVAL.Evaluator import SurvivalEvaluator\n",
    "\n",
    "eval = SurvivalEvaluator(surv_test_np, time_grid_KM_np,\n",
    "                         Y_test_np, D_test_np,\n",
    "                         Y_train_np, D_train_np)  # note: training labels are also needed\n",
    "\n",
    "for eval_time_index in eval_time_indices:\n",
    "    eval_time = float(time_grid_test_np[eval_time_index])\n",
    "    print(f'Eval time {eval_time} - Brier score: {eval.brier_score(eval_time)}')\n",
    "\n",
    "IBS = eval.integrated_brier_score()\n",
    "print(f'Integrated Brier score: {IBS}')"
   ]
  },
  {
   "cell_type": "markdown",
   "id": "8d898890-64df-4aac-a27c-e0e33132a505",
   "metadata": {},
   "source": [
    "#### D-Calibration (Haider et al., 2020) using the SurvivalEVAL implementation (Qi et al., 2024)"
   ]
  },
  {
   "cell_type": "code",
   "execution_count": 15,
   "id": "d5281245-920b-4f82-941c-66e7d35d34c8",
   "metadata": {},
   "outputs": [
    {
     "name": "stdout",
     "output_type": "stream",
     "text": [
      "The model is D-calibrated.\n"
     ]
    }
   ],
   "source": [
    "p_value, bin_stats = eval.d_calibration()\n",
    "if p_value >= .05:\n",
    "    print('The model is D-calibrated.')\n",
    "else:\n",
    "    print('The model is not D-calibrated.')"
   ]
  },
  {
   "cell_type": "markdown",
   "id": "b2533edb-260c-4e16-9e09-b59954a9196f",
   "metadata": {},
   "source": [
    "#### Mean Absolute Error via the margin (Haider et al., 2020) and, separately, the Pseudo Observation approach (Qi et al., 2023) both using the SurvivalEVAL implementation (Qi et al., 2024)"
   ]
  },
  {
   "cell_type": "code",
   "execution_count": 16,
   "id": "94aac7b8-2d20-437a-9b5d-304db3971ae8",
   "metadata": {},
   "outputs": [
    {
     "name": "stdout",
     "output_type": "stream",
     "text": [
      "Weighted MAE-Margin: 625.8539578196724\n"
     ]
    }
   ],
   "source": [
    "weighted_MAE_margin = eval.mae(method='Margin', weighted=True)\n",
    "print(f'Weighted MAE-Margin: {weighted_MAE_margin}')"
   ]
  },
  {
   "cell_type": "code",
   "execution_count": 17,
   "id": "dc0f800a-a847-44f2-ac85-698c9f72a881",
   "metadata": {},
   "outputs": [
    {
     "name": "stdout",
     "output_type": "stream",
     "text": [
      "Weighted MAE-PO: 744.0844621826878\n"
     ]
    }
   ],
   "source": [
    "weighted_MAE_PO = eval.mae(method='Pseudo_obs', weighted=True)\n",
    "print(f'Weighted MAE-PO: {weighted_MAE_PO}')"
   ]
  }
 ],
 "metadata": {
  "kernelspec": {
   "display_name": "Python 3 (ipykernel)",
   "language": "python",
   "name": "python3"
  },
  "language_info": {
   "codemirror_mode": {
    "name": "ipython",
    "version": 3
   },
   "file_extension": ".py",
   "mimetype": "text/x-python",
   "name": "python",
   "nbconvert_exporter": "python",
   "pygments_lexer": "ipython3",
   "version": "3.12.4"
  }
 },
 "nbformat": 4,
 "nbformat_minor": 5
}
