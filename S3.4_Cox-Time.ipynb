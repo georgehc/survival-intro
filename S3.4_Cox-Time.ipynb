{
 "cells": [
  {
   "cell_type": "markdown",
   "id": "b45f4951-fd8b-4829-a322-a0f08c3a421d",
   "metadata": {},
   "source": [
    "# Section 3.4: Cox-Time Demo\n",
    "\n",
    "Author: George H. Chen (georgechen [at symbol] cmu.edu)\n",
    "\n",
    "This demo covers how to implement Cox-Time (Kvamme et al., 2019) using PyCox and PyTorch. For an overview of how Cox-Time works, please see Section 3.4 of the monograph. This Cox-Time demo builds off the DeepSurv demo (`S3.3_DeepSurv.ipynb`), so please look at that first. We again use PyCox, where the Cox-Time model is defined as the `CoxTime` Python class.\n",
    "\n",
    "Extremely importantly, unlike how DeepSurv is implemented in PyCox, the Cox-Time implementation in PyCox uses a stochastic so-called \"case-control\" approximation of the loss function. Please see the paper by Kvamme et al. (2019) for details. This approximation leads to some dramatic differences in various parts of the code here (compared to our DeepSurv demo)."
   ]
  },
  {
   "cell_type": "markdown",
   "id": "ed45bbae-a124-4865-afa0-d04f62b24610",
   "metadata": {},
   "source": [
    "### Loading in the SUPPORT dataset (Knaus et al., 1995)\n",
    "\n",
    "As with the earlier demo, we begin by defining the training, validation, and test sets."
   ]
  },
  {
   "cell_type": "code",
   "execution_count": 1,
   "id": "ca8b9722-9480-4771-850a-592ebe83687e",
   "metadata": {},
   "outputs": [
    {
     "name": "stdout",
     "output_type": "stream",
     "text": [
      "Training set size 4968\n",
      "Validation set size 1243\n",
      "Test set size 2662\n",
      "\n",
      "Features before preprocessing (14 total):\n",
      "['age', 'female', 'race', 'num.co', 'diabetes', 'dementia', 'ca', 'meanbp', 'hrt', 'resp', 'temp', 'wblc', 'sod', 'crea']\n",
      "\n",
      "Features after preprocessing (19 total):\n",
      "['age_std', 'female', 'num.co_norm', 'diabetes', 'dementia', 'ca_norm', 'meanbp_std', 'hrt_std', 'resp_std', 'temp_std', 'wblc_std', 'sod_std', 'crea_std', 'race_blank', 'race_asian', 'race_black', 'race_hispanic', 'race_other', 'race_white']\n",
      "\n",
      "Events: ['death']\n",
      "\n"
     ]
    }
   ],
   "source": [
    "from datasets import load_dataset\n",
    "from sklearn.model_selection import train_test_split\n",
    "\n",
    "X_full_train_raw_np, Y_full_train_raw_np, D_full_train_np, \\\n",
    "        X_test_raw_np, Y_test_raw_np, D_test_np, \\\n",
    "        features_before_preprocessing, features_after_preprocessing, \\\n",
    "        events, train_test_split_prespecified, \\\n",
    "        build_preprocessor_and_preprocess, apply_preprocessor = load_dataset('support')\n",
    "\n",
    "# split the \"full training set\" into the actual training set and a validation set (using a 80/20 split)\n",
    "X_train_raw_np, X_val_raw_np, Y_train_raw_np, Y_val_raw_np, D_train_np, D_val_np = \\\n",
    "    train_test_split(X_full_train_raw_np, Y_full_train_raw_np, D_full_train_np,\n",
    "                     test_size=.2, random_state=0)\n",
    "\n",
    "print(f'Training set size {X_train_raw_np.shape[0]}')\n",
    "print(f'Validation set size {X_val_raw_np.shape[0]}')\n",
    "print(f'Test set size {X_test_raw_np.shape[0]}')\n",
    "print()\n",
    "\n",
    "print(f'Features before preprocessing ({len(features_before_preprocessing)} total):')\n",
    "print(features_before_preprocessing)\n",
    "print()\n",
    "\n",
    "print(f'Features after preprocessing ({len(features_after_preprocessing)} total):')\n",
    "print(features_after_preprocessing)\n",
    "print()\n",
    "\n",
    "print('Events:', events)  # only one critical event for the standard time-to-event prediction setup\n",
    "print()"
   ]
  },
  {
   "cell_type": "markdown",
   "id": "c17484e8-156a-4724-a1e2-bd7f2025db68",
   "metadata": {},
   "source": [
    "We fit and apply a preprocessor to the training set. We apply (but do not re-fit) the preprocessor to the validation set."
   ]
  },
  {
   "cell_type": "code",
   "execution_count": 2,
   "id": "835b67c9-142f-47d8-82ee-e9d885e674f0",
   "metadata": {},
   "outputs": [],
   "source": [
    "X_train_np, preprocessor = build_preprocessor_and_preprocess(X_train_raw_np)\n",
    "X_val_np = apply_preprocessor(X_val_raw_np, preprocessor)"
   ]
  },
  {
   "cell_type": "markdown",
   "id": "77ffe5dc-1354-4ea1-bf3c-fea418cd9b0e",
   "metadata": {},
   "source": [
    "### Preparing training and validation sets for use with PyTorch\n",
    "\n",
    "Because time is treated as an additional input to the neural network later, how time is scaled now matters. PyCox comes with a way to standardize time."
   ]
  },
  {
   "cell_type": "code",
   "execution_count": 3,
   "id": "559dc917-0b7c-402f-ad66-fef766e9a87d",
   "metadata": {},
   "outputs": [],
   "source": [
    "import torch\n",
    "from pycox.models import CoxTime\n",
    "from pycox.models.data import CoxTimeDataset\n",
    "\n",
    "label_transform = CoxTime.label_transform()\n",
    "\n",
    "# the code is written so that the event indicators get transformed too but they\n",
    "# actually remain the same but are cast as float32\n",
    "Y_train_np, D_train_np = label_transform.fit_transform(Y_train_raw_np, D_train_np)\n",
    "Y_val_np, D_val_np = label_transform.transform(Y_val_raw_np, D_val_np)"
   ]
  },
  {
   "cell_type": "markdown",
   "id": "8c44b541-0932-4606-aac3-3429ab94f593",
   "metadata": {},
   "source": [
    "Currently, PyCox requires a more complicated way of loading in data for `CoxTime`. PyCox is written so that this part of the code is \"under the hood\" so to speak so that if one follows the conventions of PyCox, then this sort of code does not have to be written by the user. However, since we are trying to present PyTorch models in a unified way that follows standard PyTorch conventions, we will expose some of this \"under the hood\" code.\n",
    "\n",
    "To construct the dataset for use with PyTorch's DataLoader, we use the `CoxTimeDataset` class but using this requires first sorting the data by observed times. The reason why this sorting is needed by the code is that per data point (which we call the \"case\" point), we are going to randomly sample a \"control\" point (where the control point needs to have an observed time at least that of the case point). By sorting the data by observed times, it is computationally faster to figure out what are eligible control points per case point.\n",
    "\n",
    "This \"case-control\" idea is used in approximating the Cox-Time loss function. Because the validation set is used for setting hyperparameter(s), and in this demo, we use the same case-control loss on the validation set, as recommended in the original PyCox Cox-Time demo, we can simply replicate the validation data multiple times to reduce variance on the validation loss values (specifically, the variance that is introduced due to the randomly sampling of control points per case point).\n",
    "\n",
    "Note that there would be no need to use this replication strategy for the validation set if we used a different evaluation metric on the validation set that does not involve some approximation."
   ]
  },
  {
   "cell_type": "code",
   "execution_count": 4,
   "id": "b2971a2e-7d61-4491-aca3-b50b362e43d2",
   "metadata": {},
   "outputs": [],
   "source": [
    "import numpy as np\n",
    "\n",
    "np.random.seed(0)\n",
    "torch.manual_seed(0)\n",
    "\n",
    "train_sort_indices = np.argsort(Y_train_np)\n",
    "train_data = CoxTimeDataset(X_train_np[train_sort_indices].astype('float32'),\n",
    "                            Y_train_np[train_sort_indices].astype('float32'),\n",
    "                            D_train_np[train_sort_indices].astype('int32'))\n",
    "\n",
    "num_val_set_repeats = 5\n",
    "X_val_repeated_np = np.tile(X_val_np, (num_val_set_repeats, 1))\n",
    "Y_val_repeated_np = np.tile(Y_val_np, num_val_set_repeats)\n",
    "D_val_repeated_np = np.tile(D_val_np, num_val_set_repeats)\n",
    "\n",
    "val_sort_indices = np.argsort(Y_val_np)\n",
    "val_data = CoxTimeDataset(X_val_repeated_np[val_sort_indices].astype('float32'),\n",
    "                          Y_val_repeated_np[val_sort_indices].astype('float32'),\n",
    "                          D_val_repeated_np[val_sort_indices].astype('int32'))"
   ]
  },
  {
   "cell_type": "markdown",
   "id": "fd2ccef3-57ca-4c46-aef8-9747fe1b6338",
   "metadata": {},
   "source": [
    "### Setting up the Cox-Time model and loss"
   ]
  },
  {
   "cell_type": "code",
   "execution_count": 5,
   "id": "2d5d800a-893c-4342-a561-ca53ceee17b0",
   "metadata": {},
   "outputs": [],
   "source": [
    "import torch.nn as nn\n",
    "from pycox.models import CoxTime\n",
    "\n",
    "device = torch.device('cuda' if torch.cuda.is_available() else 'cpu')\n",
    "\n",
    "num_input_features = X_train_np.shape[1] + 1  # add 1 more for time\n",
    "base_neural_net = nn.Sequential(nn.Linear(num_input_features, 8),\n",
    "                                nn.ReLU(),\n",
    "                                nn.Linear(8, 1)).to(device)\n",
    "\n",
    "# PyCox's CoxTime expects the base neural net's forward function to take in two\n",
    "# separate inputs: the features and time (take a look at the forward function)\n",
    "class CoxTimeBaseNeuralNetWrapper(nn.Module):\n",
    "    def __init__(self, base_neural_net):\n",
    "        super(CoxTimeBaseNeuralNetWrapper, self).__init__()\n",
    "        self.net = base_neural_net\n",
    "\n",
    "    def forward(self, inputs_excluding_times, times):\n",
    "        inputs = torch.cat([inputs_excluding_times, times], dim=1)\n",
    "        return self.net(inputs)\n",
    "\n",
    "base_neural_net_wrapper = CoxTimeBaseNeuralNetWrapper(base_neural_net)\n",
    "\n",
    "# specifying the label transform is important since for prediction, we basically\n",
    "# need to be able to undo the standardization of time (this code is done under\n",
    "# the hood by PyCox so that we don't have to worry about it, but we do need to\n",
    "# specify the label transform!)\n",
    "coxtime_model = CoxTime(base_neural_net_wrapper, device=device, labtrans=label_transform)\n",
    "coxtime_loss = coxtime_model.loss"
   ]
  },
  {
   "cell_type": "markdown",
   "id": "c3c36bf4-fd91-4dd5-b997-481b1a8569e2",
   "metadata": {},
   "source": [
    "### Step 1 of the training procedure in Section 3.4 of the monograph: Training the log partial hazards model using minibatch gradient descent\n",
    "\n",
    "Just as in the exponential time-to-event prediction model demo, we use the validation set to decide on whether to use a previous epoch's learned model parameters."
   ]
  },
  {
   "cell_type": "code",
   "execution_count": 6,
   "id": "b33ace96-79ed-487a-a1f4-3dc12b33194e",
   "metadata": {},
   "outputs": [
    {
     "name": "stdout",
     "output_type": "stream",
     "text": [
      "Epoch 1 - train loss 0.6940743327140808 - val loss 0.6938080191612244\n",
      "Epoch 2 - train loss 0.6907305121421814 - val loss 0.6922503709793091\n",
      "Epoch 3 - train loss 0.6869921684265137 - val loss 0.693767249584198\n",
      "Epoch 4 - train loss 0.6828335523605347 - val loss 0.6869940161705017\n",
      "Epoch 5 - train loss 0.6803634166717529 - val loss 0.6863062381744385\n",
      "Epoch 6 - train loss 0.6770353317260742 - val loss 0.6803102493286133\n",
      "Epoch 7 - train loss 0.6748912334442139 - val loss 0.6831167340278625\n",
      "Epoch 8 - train loss 0.6687607765197754 - val loss 0.671286940574646\n",
      "Epoch 9 - train loss 0.6656661033630371 - val loss 0.6715031862258911\n",
      "Epoch 10 - train loss 0.6609587073326111 - val loss 0.6744487285614014\n",
      "Epoch 11 - train loss 0.6567094326019287 - val loss 0.6699622273445129\n",
      "Epoch 12 - train loss 0.6595966219902039 - val loss 0.6731348037719727\n",
      "Epoch 13 - train loss 0.6541621685028076 - val loss 0.6562591791152954\n",
      "Epoch 14 - train loss 0.6554439067840576 - val loss 0.6708393692970276\n",
      "Epoch 15 - train loss 0.6484745144844055 - val loss 0.6691111326217651\n",
      "Epoch 16 - train loss 0.6468505263328552 - val loss 0.6807848215103149\n",
      "Epoch 17 - train loss 0.6490553021430969 - val loss 0.6625896692276001\n",
      "Epoch 18 - train loss 0.6513371467590332 - val loss 0.6710602641105652\n",
      "Epoch 19 - train loss 0.6504676342010498 - val loss 0.6632587909698486\n",
      "Epoch 20 - train loss 0.6483914256095886 - val loss 0.657046377658844\n",
      "Epoch 21 - train loss 0.6424973607063293 - val loss 0.6566346883773804\n",
      "Epoch 22 - train loss 0.649013102054596 - val loss 0.6703767776489258\n",
      "Epoch 23 - train loss 0.6456493735313416 - val loss 0.6670909523963928\n",
      "Epoch 24 - train loss 0.6424568295478821 - val loss 0.6682819128036499\n",
      "Epoch 25 - train loss 0.6422964930534363 - val loss 0.6553574800491333\n",
      "Epoch 26 - train loss 0.6477296352386475 - val loss 0.6555744409561157\n",
      "Epoch 27 - train loss 0.637424886226654 - val loss 0.6526928544044495\n",
      "Epoch 28 - train loss 0.648923933506012 - val loss 0.6640077233314514\n",
      "Epoch 29 - train loss 0.6437592506408691 - val loss 0.6649770736694336\n",
      "Epoch 30 - train loss 0.6440168619155884 - val loss 0.6673573851585388\n",
      "Epoch 31 - train loss 0.644146740436554 - val loss 0.6576312780380249\n",
      "Epoch 32 - train loss 0.6409711837768555 - val loss 0.6747371554374695\n",
      "Epoch 33 - train loss 0.635321319103241 - val loss 0.667082667350769\n",
      "Epoch 34 - train loss 0.6468287706375122 - val loss 0.6694772839546204\n",
      "Epoch 35 - train loss 0.6365271806716919 - val loss 0.6675580143928528\n",
      "Epoch 36 - train loss 0.6421895027160645 - val loss 0.6728900671005249\n",
      "Epoch 37 - train loss 0.6394354104995728 - val loss 0.6571351885795593\n",
      "Epoch 38 - train loss 0.6450933814048767 - val loss 0.6675993204116821\n",
      "Epoch 39 - train loss 0.6402888298034668 - val loss 0.6610363721847534\n",
      "Epoch 40 - train loss 0.6437492370605469 - val loss 0.6651604175567627\n",
      "Epoch 41 - train loss 0.641883373260498 - val loss 0.6625896096229553\n",
      "Epoch 42 - train loss 0.6450374126434326 - val loss 0.6570140719413757\n",
      "Epoch 43 - train loss 0.6365420818328857 - val loss 0.6656628251075745\n",
      "Epoch 44 - train loss 0.6397988200187683 - val loss 0.6650643348693848\n",
      "Epoch 45 - train loss 0.6384007334709167 - val loss 0.6676210165023804\n",
      "Epoch 46 - train loss 0.6361008882522583 - val loss 0.6675025820732117\n",
      "Epoch 47 - train loss 0.6381313800811768 - val loss 0.6606106162071228\n",
      "Epoch 48 - train loss 0.6405169367790222 - val loss 0.6591706275939941\n",
      "Epoch 49 - train loss 0.6370473504066467 - val loss 0.6576326489448547\n",
      "Epoch 50 - train loss 0.6371682286262512 - val loss 0.6588414311408997\n",
      "Epoch 51 - train loss 0.6390924453735352 - val loss 0.6534518599510193\n",
      "Epoch 52 - train loss 0.635553777217865 - val loss 0.6505689024925232\n",
      "Epoch 53 - train loss 0.6311571002006531 - val loss 0.6502009630203247\n",
      "Epoch 54 - train loss 0.6349521279335022 - val loss 0.6617173552513123\n",
      "Epoch 55 - train loss 0.6345892548561096 - val loss 0.6556439995765686\n",
      "Epoch 56 - train loss 0.6343157887458801 - val loss 0.6627448201179504\n",
      "Epoch 57 - train loss 0.6364527940750122 - val loss 0.6573215126991272\n",
      "Epoch 58 - train loss 0.6373199820518494 - val loss 0.6559693813323975\n",
      "Epoch 59 - train loss 0.6351283192634583 - val loss 0.6552216410636902\n",
      "Epoch 60 - train loss 0.6343775987625122 - val loss 0.6671283841133118\n",
      "Epoch 61 - train loss 0.6310118436813354 - val loss 0.6681861877441406\n",
      "Epoch 62 - train loss 0.6311900615692139 - val loss 0.6648004055023193\n",
      "Epoch 63 - train loss 0.6354631781578064 - val loss 0.6585023403167725\n",
      "Epoch 64 - train loss 0.6391357183456421 - val loss 0.6548862457275391\n",
      "Epoch 65 - train loss 0.6344860792160034 - val loss 0.6623274087905884\n",
      "Epoch 66 - train loss 0.6323212385177612 - val loss 0.6484476327896118\n",
      "Epoch 67 - train loss 0.6365407705307007 - val loss 0.6555972099304199\n",
      "Epoch 68 - train loss 0.6374852061271667 - val loss 0.661899745464325\n",
      "Epoch 69 - train loss 0.6335528492927551 - val loss 0.6581187844276428\n",
      "Epoch 70 - train loss 0.6373740434646606 - val loss 0.6479626893997192\n",
      "Epoch 71 - train loss 0.6388900279998779 - val loss 0.6481624841690063\n",
      "Epoch 72 - train loss 0.6359393000602722 - val loss 0.6595856547355652\n",
      "Epoch 73 - train loss 0.6363977193832397 - val loss 0.6465584635734558\n",
      "Epoch 74 - train loss 0.6341941952705383 - val loss 0.6554559469223022\n",
      "Epoch 75 - train loss 0.6355761289596558 - val loss 0.6563725471496582\n",
      "Epoch 76 - train loss 0.630175769329071 - val loss 0.6564708352088928\n",
      "Epoch 77 - train loss 0.6267680525779724 - val loss 0.6537777185440063\n",
      "Epoch 78 - train loss 0.635440468788147 - val loss 0.652022123336792\n",
      "Epoch 79 - train loss 0.6347176432609558 - val loss 0.644545316696167\n",
      "Epoch 80 - train loss 0.6369246244430542 - val loss 0.6512993574142456\n",
      "Epoch 81 - train loss 0.6312829852104187 - val loss 0.6625933051109314\n",
      "Epoch 82 - train loss 0.6304093599319458 - val loss 0.6512366533279419\n",
      "Epoch 83 - train loss 0.6316479444503784 - val loss 0.6463518738746643\n",
      "Epoch 84 - train loss 0.6384356617927551 - val loss 0.6490869522094727\n",
      "Epoch 85 - train loss 0.6314086318016052 - val loss 0.6607927680015564\n",
      "Epoch 86 - train loss 0.6297394037246704 - val loss 0.6483387351036072\n",
      "Epoch 87 - train loss 0.63777095079422 - val loss 0.6465349793434143\n",
      "Epoch 88 - train loss 0.632254421710968 - val loss 0.6414701342582703\n",
      "Epoch 89 - train loss 0.6358380913734436 - val loss 0.6657111048698425\n",
      "Epoch 90 - train loss 0.6269607543945312 - val loss 0.6462348103523254\n",
      "Epoch 91 - train loss 0.6252246499061584 - val loss 0.6530613899230957\n",
      "Epoch 92 - train loss 0.6331451535224915 - val loss 0.6604227423667908\n",
      "Epoch 93 - train loss 0.6227772831916809 - val loss 0.6490796804428101\n",
      "Epoch 94 - train loss 0.6324950456619263 - val loss 0.6460250616073608\n",
      "Epoch 95 - train loss 0.6224746108055115 - val loss 0.648366391658783\n",
      "Epoch 96 - train loss 0.6266863346099854 - val loss 0.6597074866294861\n",
      "Epoch 97 - train loss 0.6314346790313721 - val loss 0.6765891909599304\n",
      "Epoch 98 - train loss 0.6345385313034058 - val loss 0.6496295928955078\n",
      "Epoch 99 - train loss 0.6266221404075623 - val loss 0.6572750210762024\n",
      "Epoch 100 - train loss 0.6273287534713745 - val loss 0.6611053347587585\n",
      "Best validation loss (0.6414701342582703) achieved at epoch 88\n"
     ]
    },
    {
     "data": {
      "text/plain": [
       "<All keys matched successfully>"
      ]
     },
     "execution_count": 6,
     "metadata": {},
     "output_type": "execute_result"
    }
   ],
   "source": [
    "from copy import deepcopy\n",
    "from torch.utils.data import DataLoader\n",
    "\n",
    "# minibatch gradient descent\n",
    "num_epochs = 100\n",
    "batch_size = 128\n",
    "learning_rate = 1e-3\n",
    "\n",
    "train_loader = DataLoader(train_data, batch_size, shuffle=True)  # shuffling for minibatch gradient descent\n",
    "val_loader = DataLoader(val_data, batch_size, shuffle=False)  # there is no need to shuffle the validation data\n",
    "\n",
    "optimizer = torch.optim.Adam(base_neural_net.parameters(), lr=learning_rate)\n",
    "train_epoch_losses = []\n",
    "val_epoch_losses = []\n",
    "best_val_loss = float('inf')\n",
    "best_params = None\n",
    "best_epoch_index = None\n",
    "for epoch_index in range(num_epochs):\n",
    "    base_neural_net.train()\n",
    "    for case, controls in train_loader:\n",
    "        case_X_batch = case[0].squeeze(1).to(device)\n",
    "        case_Y_batch = case[1].squeeze(1).to(device)\n",
    "        case_neural_net_output = base_neural_net_wrapper(case_X_batch, case_Y_batch)\n",
    "\n",
    "        control_X_batch = controls[0][0].squeeze(1).to(device)\n",
    "        control_Y_batch = controls[0][1].squeeze(1).to(device)\n",
    "        control_neural_net_output = base_neural_net_wrapper(control_X_batch, control_Y_batch)\n",
    "\n",
    "        loss_batch = coxtime_loss(case_neural_net_output,\n",
    "                                  control_neural_net_output)\n",
    "\n",
    "        optimizer.zero_grad()\n",
    "        loss_batch.backward()\n",
    "        optimizer.step()\n",
    "\n",
    "    # evaluate training and validation set losses\n",
    "    # (note that in practice, instead of evaluating the negative log likelihood loss,\n",
    "    # we could instead evaluate other metrics such as time-dependent concordance index,\n",
    "    # integrated Brier score, etc)\n",
    "    base_neural_net.eval()\n",
    "    with torch.no_grad():\n",
    "        train_loss = torch.tensor(0.0, dtype=torch.float, device=device)\n",
    "        num_points = 0\n",
    "        for case, controls in train_loader:\n",
    "            case_X_batch = case[0].squeeze(1).to(device)\n",
    "            case_Y_batch = case[1].squeeze(1).to(device)\n",
    "            case_neural_net_output = base_neural_net_wrapper(case_X_batch, case_Y_batch)\n",
    "\n",
    "            control_X_batch = controls[0][0].squeeze(1).to(device)\n",
    "            control_Y_batch = controls[0][1].squeeze(1).to(device)\n",
    "            control_neural_net_output = base_neural_net_wrapper(control_X_batch, control_Y_batch)\n",
    "\n",
    "            batch_num_points = case_X_batch.size(0)\n",
    "            train_loss += coxtime_loss(case_neural_net_output,\n",
    "                                       control_neural_net_output) * batch_num_points\n",
    "            num_points += batch_num_points\n",
    "        train_loss = float(train_loss / num_points)\n",
    "        train_epoch_losses.append(train_loss)\n",
    "        print(f'Epoch {epoch_index + 1} - train loss {train_loss}', end=' ', flush=True)\n",
    "\n",
    "        val_loss = torch.tensor(0.0, dtype=torch.float, device=device)\n",
    "        num_points = 0\n",
    "        for case, controls in val_loader:\n",
    "            case_X_batch = case[0].squeeze(1).to(device)\n",
    "            case_Y_batch = case[1].squeeze(1).to(device)\n",
    "            case_neural_net_output = base_neural_net_wrapper(case_X_batch, case_Y_batch)\n",
    "\n",
    "            control_X_batch = controls[0][0].squeeze(1).to(device)\n",
    "            control_Y_batch = controls[0][1].squeeze(1).to(device)\n",
    "            control_neural_net_output = base_neural_net_wrapper(control_X_batch, control_Y_batch)\n",
    "\n",
    "            batch_num_points = case_X_batch.size(0)\n",
    "            val_loss += coxtime_loss(case_neural_net_output,\n",
    "                                     control_neural_net_output) * batch_num_points\n",
    "            num_points += batch_num_points\n",
    "        val_loss = float(val_loss / num_points)\n",
    "        val_epoch_losses.append(val_loss)\n",
    "        print(f'- val loss {val_loss}', flush=True)\n",
    "\n",
    "        if val_loss < best_val_loss:\n",
    "            best_val_loss = val_loss\n",
    "            best_epoch_index = epoch_index\n",
    "            best_params = deepcopy(base_neural_net.state_dict())\n",
    "print(f'Best validation loss ({best_val_loss}) achieved at epoch {best_epoch_index + 1}')\n",
    "base_neural_net.load_state_dict(best_params)"
   ]
  },
  {
   "cell_type": "code",
   "execution_count": 7,
   "id": "7a414f54-28c2-44e6-b7ad-5574628b03a2",
   "metadata": {},
   "outputs": [
    {
     "data": {
      "text/plain": [
       "<matplotlib.legend.Legend at 0x74b17033a360>"
      ]
     },
     "execution_count": 7,
     "metadata": {},
     "output_type": "execute_result"
    },
    {
     "data": {
      "image/png": "[encoded data removed]",
      "text/plain": [
       "<Figure size 640x480 with 1 Axes>"
      ]
     },
     "metadata": {},
     "output_type": "display_data"
    }
   ],
   "source": [
    "%matplotlib inline\n",
    "import matplotlib.pyplot as plt\n",
    "\n",
    "plt.plot(range(1, num_epochs + 1), train_epoch_losses, label='Training')\n",
    "plt.plot(range(1, num_epochs + 1), val_epoch_losses, '--', label='Validation')\n",
    "plt.xlabel('Epoch')\n",
    "plt.ylabel('Loss')\n",
    "plt.legend()"
   ]
  },
  {
   "cell_type": "markdown",
   "id": "b677e277-e880-49a1-8fbd-2f737d317c67",
   "metadata": {},
   "source": [
    "### Step 2 of the training procedure in Section 3.3 of the monograph: Fitting the baseline hazard function"
   ]
  },
  {
   "cell_type": "code",
   "execution_count": 8,
   "id": "02c16b9d-5364-4f20-8865-8215be49e6c8",
   "metadata": {},
   "outputs": [
    {
     "data": {
      "text/plain": [
       "duration\n",
       "-0.849806    0.011853\n",
       "-0.848020    0.025289\n",
       "-0.846234    0.020463\n",
       "-0.844448    0.016839\n",
       "-0.842663    0.019238\n",
       "               ...   \n",
       " 2.759273    0.000000\n",
       " 2.762845    0.000000\n",
       " 2.764631    0.000000\n",
       " 2.766416    0.000000\n",
       " 2.768202    0.000000\n",
       "Name: baseline_hazards, Length: 1444, dtype: float64"
      ]
     },
     "execution_count": 8,
     "metadata": {},
     "output_type": "execute_result"
    }
   ],
   "source": [
    "coxtime_model.compute_baseline_hazards(input=X_train_np[train_sort_indices].astype('float32'),\n",
    "                                       target=(Y_train_np[train_sort_indices].astype('float32'),\n",
    "                                               D_train_np[train_sort_indices].astype('int32')))"
   ]
  },
  {
   "cell_type": "markdown",
   "id": "49807d51-72fb-42f3-a4a5-93c59657eb0a",
   "metadata": {},
   "source": [
    "### Predicting test set survival curves"
   ]
  },
  {
   "cell_type": "markdown",
   "id": "9fd16f73-ebe8-4caf-8e8f-31a2ff773547",
   "metadata": {},
   "source": [
    "We begin by preprocessing the test data using the preprocessor built using training data."
   ]
  },
  {
   "cell_type": "code",
   "execution_count": 9,
   "id": "fe28bba0-9ab4-4940-854d-54eec8eb9065",
   "metadata": {},
   "outputs": [],
   "source": [
    "X_test_np = apply_preprocessor(X_test_raw_np, preprocessor).astype('float32')"
   ]
  },
  {
   "cell_type": "markdown",
   "id": "e5e438a5-a175-4362-9bce-a4e84340e9f4",
   "metadata": {},
   "source": [
    "PyCox has built-in functionality for predicting survival functions:"
   ]
  },
  {
   "cell_type": "code",
   "execution_count": 10,
   "id": "22619341-969c-448c-98f8-804f3f14c3b0",
   "metadata": {},
   "outputs": [
    {
     "data": {
      "text/html": [
       "<div>\n",
       "<style scoped>\n",
       "    .dataframe tbody tr th:only-of-type {\n",
       "        vertical-align: middle;\n",
       "    }\n",
       "\n",
       "    .dataframe tbody tr th {\n",
       "        vertical-align: top;\n",
       "    }\n",
       "\n",
       "    .dataframe thead th {\n",
       "        text-align: right;\n",
       "    }\n",
       "</style>\n",
       "<table border=\"1\" class=\"dataframe\">\n",
       "  <thead>\n",
       "    <tr style=\"text-align: right;\">\n",
       "      <th></th>\n",
       "      <th>0</th>\n",
       "      <th>1</th>\n",
       "      <th>2</th>\n",
       "      <th>3</th>\n",
       "      <th>4</th>\n",
       "      <th>5</th>\n",
       "      <th>6</th>\n",
       "      <th>7</th>\n",
       "      <th>8</th>\n",
       "      <th>9</th>\n",
       "      <th>...</th>\n",
       "      <th>2652</th>\n",
       "      <th>2653</th>\n",
       "      <th>2654</th>\n",
       "      <th>2655</th>\n",
       "      <th>2656</th>\n",
       "      <th>2657</th>\n",
       "      <th>2658</th>\n",
       "      <th>2659</th>\n",
       "      <th>2660</th>\n",
       "      <th>2661</th>\n",
       "    </tr>\n",
       "  </thead>\n",
       "  <tbody>\n",
       "    <tr>\n",
       "      <th>3.0</th>\n",
       "      <td>0.975527</td>\n",
       "      <td>0.971226</td>\n",
       "      <td>0.986582</td>\n",
       "      <td>0.985967</td>\n",
       "      <td>0.992237</td>\n",
       "      <td>0.993656</td>\n",
       "      <td>0.987768</td>\n",
       "      <td>0.984490</td>\n",
       "      <td>0.983593</td>\n",
       "      <td>0.995660</td>\n",
       "      <td>...</td>\n",
       "      <td>0.993348</td>\n",
       "      <td>0.986660</td>\n",
       "      <td>0.985934</td>\n",
       "      <td>0.985451</td>\n",
       "      <td>0.992206</td>\n",
       "      <td>0.985539</td>\n",
       "      <td>0.982198</td>\n",
       "      <td>0.975042</td>\n",
       "      <td>0.980223</td>\n",
       "      <td>0.984665</td>\n",
       "    </tr>\n",
       "    <tr>\n",
       "      <th>4.0</th>\n",
       "      <td>0.925340</td>\n",
       "      <td>0.912610</td>\n",
       "      <td>0.958521</td>\n",
       "      <td>0.956666</td>\n",
       "      <td>0.975860</td>\n",
       "      <td>0.980268</td>\n",
       "      <td>0.962157</td>\n",
       "      <td>0.952160</td>\n",
       "      <td>0.949463</td>\n",
       "      <td>0.986470</td>\n",
       "      <td>...</td>\n",
       "      <td>0.979287</td>\n",
       "      <td>0.958791</td>\n",
       "      <td>0.956548</td>\n",
       "      <td>0.955115</td>\n",
       "      <td>0.975795</td>\n",
       "      <td>0.955372</td>\n",
       "      <td>0.945294</td>\n",
       "      <td>0.923868</td>\n",
       "      <td>0.939294</td>\n",
       "      <td>0.952692</td>\n",
       "    </tr>\n",
       "    <tr>\n",
       "      <th>5.0</th>\n",
       "      <td>0.886662</td>\n",
       "      <td>0.867809</td>\n",
       "      <td>0.936375</td>\n",
       "      <td>0.933581</td>\n",
       "      <td>0.962795</td>\n",
       "      <td>0.969577</td>\n",
       "      <td>0.941911</td>\n",
       "      <td>0.926751</td>\n",
       "      <td>0.922699</td>\n",
       "      <td>0.979101</td>\n",
       "      <td>...</td>\n",
       "      <td>0.968043</td>\n",
       "      <td>0.936816</td>\n",
       "      <td>0.933387</td>\n",
       "      <td>0.931256</td>\n",
       "      <td>0.962728</td>\n",
       "      <td>0.931631</td>\n",
       "      <td>0.916470</td>\n",
       "      <td>0.884443</td>\n",
       "      <td>0.907405</td>\n",
       "      <td>0.927554</td>\n",
       "    </tr>\n",
       "    <tr>\n",
       "      <th>6.0</th>\n",
       "      <td>0.856075</td>\n",
       "      <td>0.832620</td>\n",
       "      <td>0.918516</td>\n",
       "      <td>0.914992</td>\n",
       "      <td>0.952166</td>\n",
       "      <td>0.960874</td>\n",
       "      <td>0.925563</td>\n",
       "      <td>0.906328</td>\n",
       "      <td>0.901230</td>\n",
       "      <td>0.973082</td>\n",
       "      <td>...</td>\n",
       "      <td>0.958876</td>\n",
       "      <td>0.919111</td>\n",
       "      <td>0.914728</td>\n",
       "      <td>0.912071</td>\n",
       "      <td>0.952117</td>\n",
       "      <td>0.912532</td>\n",
       "      <td>0.893426</td>\n",
       "      <td>0.853274</td>\n",
       "      <td>0.881958</td>\n",
       "      <td>0.907343</td>\n",
       "    </tr>\n",
       "    <tr>\n",
       "      <th>7.0</th>\n",
       "      <td>0.822449</td>\n",
       "      <td>0.794184</td>\n",
       "      <td>0.898505</td>\n",
       "      <td>0.894195</td>\n",
       "      <td>0.940154</td>\n",
       "      <td>0.951036</td>\n",
       "      <td>0.907223</td>\n",
       "      <td>0.883519</td>\n",
       "      <td>0.877297</td>\n",
       "      <td>0.966256</td>\n",
       "      <td>...</td>\n",
       "      <td>0.948498</td>\n",
       "      <td>0.899292</td>\n",
       "      <td>0.893842</td>\n",
       "      <td>0.890637</td>\n",
       "      <td>0.940148</td>\n",
       "      <td>0.891182</td>\n",
       "      <td>0.867824</td>\n",
       "      <td>0.819015</td>\n",
       "      <td>0.853733</td>\n",
       "      <td>0.884766</td>\n",
       "    </tr>\n",
       "    <tr>\n",
       "      <th>...</th>\n",
       "      <td>...</td>\n",
       "      <td>...</td>\n",
       "      <td>...</td>\n",
       "      <td>...</td>\n",
       "      <td>...</td>\n",
       "      <td>...</td>\n",
       "      <td>...</td>\n",
       "      <td>...</td>\n",
       "      <td>...</td>\n",
       "      <td>...</td>\n",
       "      <td>...</td>\n",
       "      <td>...</td>\n",
       "      <td>...</td>\n",
       "      <td>...</td>\n",
       "      <td>...</td>\n",
       "      <td>...</td>\n",
       "      <td>...</td>\n",
       "      <td>...</td>\n",
       "      <td>...</td>\n",
       "      <td>...</td>\n",
       "      <td>...</td>\n",
       "    </tr>\n",
       "    <tr>\n",
       "      <th>2024.0</th>\n",
       "      <td>0.133155</td>\n",
       "      <td>0.067722</td>\n",
       "      <td>0.058571</td>\n",
       "      <td>0.067082</td>\n",
       "      <td>0.297822</td>\n",
       "      <td>0.555476</td>\n",
       "      <td>0.118620</td>\n",
       "      <td>0.043564</td>\n",
       "      <td>0.062233</td>\n",
       "      <td>0.682629</td>\n",
       "      <td>...</td>\n",
       "      <td>0.315506</td>\n",
       "      <td>0.234961</td>\n",
       "      <td>0.077004</td>\n",
       "      <td>0.073027</td>\n",
       "      <td>0.477943</td>\n",
       "      <td>0.100319</td>\n",
       "      <td>0.204064</td>\n",
       "      <td>0.073566</td>\n",
       "      <td>0.053128</td>\n",
       "      <td>0.056805</td>\n",
       "    </tr>\n",
       "    <tr>\n",
       "      <th>2026.0</th>\n",
       "      <td>0.133155</td>\n",
       "      <td>0.067722</td>\n",
       "      <td>0.058571</td>\n",
       "      <td>0.067082</td>\n",
       "      <td>0.297822</td>\n",
       "      <td>0.555476</td>\n",
       "      <td>0.118620</td>\n",
       "      <td>0.043564</td>\n",
       "      <td>0.062233</td>\n",
       "      <td>0.682629</td>\n",
       "      <td>...</td>\n",
       "      <td>0.315506</td>\n",
       "      <td>0.234961</td>\n",
       "      <td>0.077004</td>\n",
       "      <td>0.073027</td>\n",
       "      <td>0.477943</td>\n",
       "      <td>0.100319</td>\n",
       "      <td>0.204064</td>\n",
       "      <td>0.073566</td>\n",
       "      <td>0.053128</td>\n",
       "      <td>0.056805</td>\n",
       "    </tr>\n",
       "    <tr>\n",
       "      <th>2027.0</th>\n",
       "      <td>0.133155</td>\n",
       "      <td>0.067722</td>\n",
       "      <td>0.058571</td>\n",
       "      <td>0.067082</td>\n",
       "      <td>0.297822</td>\n",
       "      <td>0.555476</td>\n",
       "      <td>0.118620</td>\n",
       "      <td>0.043564</td>\n",
       "      <td>0.062233</td>\n",
       "      <td>0.682629</td>\n",
       "      <td>...</td>\n",
       "      <td>0.315506</td>\n",
       "      <td>0.234961</td>\n",
       "      <td>0.077004</td>\n",
       "      <td>0.073027</td>\n",
       "      <td>0.477943</td>\n",
       "      <td>0.100319</td>\n",
       "      <td>0.204064</td>\n",
       "      <td>0.073566</td>\n",
       "      <td>0.053128</td>\n",
       "      <td>0.056805</td>\n",
       "    </tr>\n",
       "    <tr>\n",
       "      <th>2028.0</th>\n",
       "      <td>0.133155</td>\n",
       "      <td>0.067722</td>\n",
       "      <td>0.058571</td>\n",
       "      <td>0.067082</td>\n",
       "      <td>0.297822</td>\n",
       "      <td>0.555476</td>\n",
       "      <td>0.118620</td>\n",
       "      <td>0.043564</td>\n",
       "      <td>0.062233</td>\n",
       "      <td>0.682629</td>\n",
       "      <td>...</td>\n",
       "      <td>0.315506</td>\n",
       "      <td>0.234961</td>\n",
       "      <td>0.077004</td>\n",
       "      <td>0.073027</td>\n",
       "      <td>0.477943</td>\n",
       "      <td>0.100319</td>\n",
       "      <td>0.204064</td>\n",
       "      <td>0.073566</td>\n",
       "      <td>0.053128</td>\n",
       "      <td>0.056805</td>\n",
       "    </tr>\n",
       "    <tr>\n",
       "      <th>2029.0</th>\n",
       "      <td>0.133155</td>\n",
       "      <td>0.067722</td>\n",
       "      <td>0.058571</td>\n",
       "      <td>0.067082</td>\n",
       "      <td>0.297822</td>\n",
       "      <td>0.555476</td>\n",
       "      <td>0.118620</td>\n",
       "      <td>0.043564</td>\n",
       "      <td>0.062233</td>\n",
       "      <td>0.682629</td>\n",
       "      <td>...</td>\n",
       "      <td>0.315506</td>\n",
       "      <td>0.234961</td>\n",
       "      <td>0.077004</td>\n",
       "      <td>0.073027</td>\n",
       "      <td>0.477943</td>\n",
       "      <td>0.100319</td>\n",
       "      <td>0.204064</td>\n",
       "      <td>0.073566</td>\n",
       "      <td>0.053128</td>\n",
       "      <td>0.056805</td>\n",
       "    </tr>\n",
       "  </tbody>\n",
       "</table>\n",
       "<p>1444 rows × 2662 columns</p>\n",
       "</div>"
      ],
      "text/plain": [
       "            0         1         2         3         4         5         6     \\\n",
       "3.0     0.975527  0.971226  0.986582  0.985967  0.992237  0.993656  0.987768   \n",
       "4.0     0.925340  0.912610  0.958521  0.956666  0.975860  0.980268  0.962157   \n",
       "5.0     0.886662  0.867809  0.936375  0.933581  0.962795  0.969577  0.941911   \n",
       "6.0     0.856075  0.832620  0.918516  0.914992  0.952166  0.960874  0.925563   \n",
       "7.0     0.822449  0.794184  0.898505  0.894195  0.940154  0.951036  0.907223   \n",
       "...          ...       ...       ...       ...       ...       ...       ...   \n",
       "2024.0  0.133155  0.067722  0.058571  0.067082  0.297822  0.555476  0.118620   \n",
       "2026.0  0.133155  0.067722  0.058571  0.067082  0.297822  0.555476  0.118620   \n",
       "2027.0  0.133155  0.067722  0.058571  0.067082  0.297822  0.555476  0.118620   \n",
       "2028.0  0.133155  0.067722  0.058571  0.067082  0.297822  0.555476  0.118620   \n",
       "2029.0  0.133155  0.067722  0.058571  0.067082  0.297822  0.555476  0.118620   \n",
       "\n",
       "            7         8         9     ...      2652      2653      2654  \\\n",
       "3.0     0.984490  0.983593  0.995660  ...  0.993348  0.986660  0.985934   \n",
       "4.0     0.952160  0.949463  0.986470  ...  0.979287  0.958791  0.956548   \n",
       "5.0     0.926751  0.922699  0.979101  ...  0.968043  0.936816  0.933387   \n",
       "6.0     0.906328  0.901230  0.973082  ...  0.958876  0.919111  0.914728   \n",
       "7.0     0.883519  0.877297  0.966256  ...  0.948498  0.899292  0.893842   \n",
       "...          ...       ...       ...  ...       ...       ...       ...   \n",
       "2024.0  0.043564  0.062233  0.682629  ...  0.315506  0.234961  0.077004   \n",
       "2026.0  0.043564  0.062233  0.682629  ...  0.315506  0.234961  0.077004   \n",
       "2027.0  0.043564  0.062233  0.682629  ...  0.315506  0.234961  0.077004   \n",
       "2028.0  0.043564  0.062233  0.682629  ...  0.315506  0.234961  0.077004   \n",
       "2029.0  0.043564  0.062233  0.682629  ...  0.315506  0.234961  0.077004   \n",
       "\n",
       "            2655      2656      2657      2658      2659      2660      2661  \n",
       "3.0     0.985451  0.992206  0.985539  0.982198  0.975042  0.980223  0.984665  \n",
       "4.0     0.955115  0.975795  0.955372  0.945294  0.923868  0.939294  0.952692  \n",
       "5.0     0.931256  0.962728  0.931631  0.916470  0.884443  0.907405  0.927554  \n",
       "6.0     0.912071  0.952117  0.912532  0.893426  0.853274  0.881958  0.907343  \n",
       "7.0     0.890637  0.940148  0.891182  0.867824  0.819015  0.853733  0.884766  \n",
       "...          ...       ...       ...       ...       ...       ...       ...  \n",
       "2024.0  0.073027  0.477943  0.100319  0.204064  0.073566  0.053128  0.056805  \n",
       "2026.0  0.073027  0.477943  0.100319  0.204064  0.073566  0.053128  0.056805  \n",
       "2027.0  0.073027  0.477943  0.100319  0.204064  0.073566  0.053128  0.056805  \n",
       "2028.0  0.073027  0.477943  0.100319  0.204064  0.073566  0.053128  0.056805  \n",
       "2029.0  0.073027  0.477943  0.100319  0.204064  0.073566  0.053128  0.056805  \n",
       "\n",
       "[1444 rows x 2662 columns]"
      ]
     },
     "execution_count": 10,
     "metadata": {},
     "output_type": "execute_result"
    }
   ],
   "source": [
    "# predict on the test data\n",
    "surv_test_df = coxtime_model.predict_surv_df(X_test_np, batch_size=batch_size)\n",
    "surv_test_df"
   ]
  },
  {
   "cell_type": "code",
   "execution_count": 11,
   "id": "86020067-4a3f-491a-936d-9ac148f5f591",
   "metadata": {},
   "outputs": [],
   "source": [
    "surv_test_np = surv_test_df.to_numpy().T\n",
    "time_grid_train_np = surv_test_df.index.to_numpy()"
   ]
  },
  {
   "cell_type": "markdown",
   "id": "639331f2-90fd-48ee-a96c-4f9fe03aeffc",
   "metadata": {},
   "source": [
    "Here's a plot of the predicted survival function for the 0th test data point:"
   ]
  },
  {
   "cell_type": "code",
   "execution_count": 12,
   "id": "e1bc9c26-471b-471d-8100-9f88af2c90bc",
   "metadata": {},
   "outputs": [
    {
     "data": {
      "text/plain": [
       "Text(0, 0.5, 'Survival probability')"
      ]
     },
     "execution_count": 12,
     "metadata": {},
     "output_type": "execute_result"
    },
    {
     "data": {
      "image/png": "[encoded data removed]",
      "text/plain": [
       "<Figure size 640x480 with 1 Axes>"
      ]
     },
     "metadata": {},
     "output_type": "display_data"
    }
   ],
   "source": [
    "plt.plot(time_grid_train_np, surv_test_np[0])\n",
    "plt.xlabel('Time')\n",
    "plt.ylabel('Survival probability')"
   ]
  },
  {
   "cell_type": "markdown",
   "id": "b3d9dda8-214c-4d57-afb3-60920423fe9e",
   "metadata": {},
   "source": [
    "### Computing test set evaluation metrics\n",
    "\n",
    "For choosing evaluation times, we use the test set's observed times."
   ]
  },
  {
   "cell_type": "code",
   "execution_count": 13,
   "id": "60cfabe1-2776-4a56-87d2-a0a26c58126a",
   "metadata": {},
   "outputs": [],
   "source": [
    "import numpy as np\n",
    "time_grid_test_np = np.unique(Y_test_raw_np)"
   ]
  },
  {
   "cell_type": "markdown",
   "id": "931e241e-7648-4d28-91c8-ffc5942a13c9",
   "metadata": {},
   "source": [
    "#### Time-dependent concordance index (Antolini et al., 2005) using the PyCox implementation (Kvamme et al., 2019)"
   ]
  },
  {
   "cell_type": "code",
   "execution_count": 14,
   "id": "4e93bae8-67f1-4b2b-ac35-41270d413fc9",
   "metadata": {},
   "outputs": [
    {
     "name": "stdout",
     "output_type": "stream",
     "text": [
      "Time-dependent concordance index: 0.6240042464655366\n"
     ]
    }
   ],
   "source": [
    "from pycox.evaluation import EvalSurv\n",
    "\n",
    "eval_pycox = EvalSurv(surv_test_df, Y_test_raw_np, D_test_np)\n",
    "C_td = eval_pycox.concordance_td('antolini')\n",
    "print(f'Time-dependent concordance index: {C_td}')"
   ]
  },
  {
   "cell_type": "markdown",
   "id": "d25beae8-6208-41b0-a7ed-20e0d6f10ad7",
   "metadata": {},
   "source": [
    "#### Truncated time-dependent concordance index (Uno et al., 2011) using the scikit-survival implementation (Pölsterl, 2020)"
   ]
  },
  {
   "cell_type": "code",
   "execution_count": 15,
   "id": "c2875af8-4377-4d2a-a05d-380b0de2f82b",
   "metadata": {},
   "outputs": [
    {
     "name": "stdout",
     "output_type": "stream",
     "text": [
      "Eval time 316.0 - truncated time-dependent concordance: 0.6189888690092046\n",
      "Eval time 693.0 - truncated time-dependent concordance: 0.6187114738437648\n",
      "Eval time 1291.0 - truncated time-dependent concordance: 0.6131850274105245\n"
     ]
    }
   ],
   "source": [
    "from sksurv.util import Surv\n",
    "from sksurv.metrics import concordance_index_ipcw\n",
    "\n",
    "# convert training and test labels into the structured array format used by scikit-survival\n",
    "labels_train_sksurv = Surv.from_arrays(D_train_np, Y_train_raw_np)\n",
    "labels_test_sksurv = Surv.from_arrays(D_test_np, Y_test_raw_np)\n",
    "\n",
    "# as an illustrative example, we evaluate the truncated time-dependent concordance index at\n",
    "# 25, 50, and 75 percentile values of the time grid we specified earlier\n",
    "eval_time_indices = [int(.25 * len(time_grid_test_np)),\n",
    "                     int(.5 * len(time_grid_test_np)),\n",
    "                     int(.75 * len(time_grid_test_np))]\n",
    "\n",
    "for eval_time_index in eval_time_indices:\n",
    "    eval_time = time_grid_test_np[eval_time_index]\n",
    "\n",
    "    # find the training time grid's time point closest to the evaluation time\n",
    "    interp_time_index = np.argmin(np.abs(eval_time - time_grid_train_np))\n",
    "    surv_values_at_eval_time_np = surv_test_np[:, interp_time_index]\n",
    "\n",
    "    estimated_risks_np = 1 - surv_values_at_eval_time_np\n",
    "    concordance = concordance_index_ipcw(labels_train_sksurv, labels_test_sksurv, estimated_risks_np, tau=eval_time)[0]\n",
    "    print(f'Eval time {eval_time} - truncated time-dependent concordance: {concordance}')"
   ]
  },
  {
   "cell_type": "markdown",
   "id": "b27d2851-845a-4d8a-a36e-faccc829b824",
   "metadata": {},
   "source": [
    "#### Time-dependent AUC (Uno et al., 2007; Hung and Chiang, 2010) using the scikit-survival implementation (Pölsterl, 2020)"
   ]
  },
  {
   "cell_type": "code",
   "execution_count": 16,
   "id": "fe777d9e-10e2-49d0-8563-5a7b9889d732",
   "metadata": {},
   "outputs": [
    {
     "name": "stdout",
     "output_type": "stream",
     "text": [
      "Eval time 316.0 - time-dependent AUC: 0.6773695695704807\n",
      "Eval time 693.0 - time-dependent AUC: 0.7078085799435507\n",
      "Eval time 1291.0 - time-dependent AUC: 0.7156318714962631\n"
     ]
    }
   ],
   "source": [
    "from sksurv.metrics import cumulative_dynamic_auc\n",
    "\n",
    "for eval_time_index in eval_time_indices:\n",
    "    eval_time = time_grid_test_np[eval_time_index]\n",
    "\n",
    "    # find the training time grid's time point closest to the evaluation time\n",
    "    interp_time_index = np.argmin(np.abs(eval_time - time_grid_train_np))\n",
    "    surv_values_at_eval_time_np = surv_test_np[:, interp_time_index]\n",
    "\n",
    "    estimated_risks_np = 1 - surv_values_at_eval_time_np\n",
    "    AUC = cumulative_dynamic_auc(labels_train_sksurv, labels_test_sksurv, estimated_risks_np, times=[eval_time])[0][0]\n",
    "    print(f'Eval time {eval_time} - time-dependent AUC: {AUC}')"
   ]
  },
  {
   "cell_type": "markdown",
   "id": "86d2ae6f-d8db-4bd5-93fd-6075bb478dd3",
   "metadata": {},
   "source": [
    "#### Brier score (Graf et al., 1999) using the SurvivalEVAL implementation (Qi et al., 2024)"
   ]
  },
  {
   "cell_type": "code",
   "execution_count": 17,
   "id": "594ed417-a759-4871-91fe-657e3d02f111",
   "metadata": {},
   "outputs": [
    {
     "name": "stdout",
     "output_type": "stream",
     "text": [
      "Eval time 316.0 - Brier score: 0.2251993309459064\n"
     ]
    },
    {
     "name": "stderr",
     "output_type": "stream",
     "text": [
      "/home/george/anaconda3/lib/python3.12/site-packages/SurvivalEVAL/Evaluator.py:59: UserWarning: The first time coordinate is not 0. A authentic survival curve should start from 0 with 100% survival probability. \\Adding 0 to the beginning of the time coordinates and 1 to the beginning of the predicted curves.\n",
      "  warnings.warn(\"The first time coordinate is not 0. \"\n"
     ]
    },
    {
     "name": "stdout",
     "output_type": "stream",
     "text": [
      "Eval time 693.0 - Brier score: 0.20330428701752654\n",
      "Eval time 1291.0 - Brier score: 0.1824185628210795\n",
      "Integrated Brier score: 0.1838463858192865\n"
     ]
    }
   ],
   "source": [
    "from SurvivalEVAL.Evaluator import SurvivalEvaluator\n",
    "\n",
    "eval = SurvivalEvaluator(surv_test_np, time_grid_train_np,\n",
    "                         Y_test_raw_np, D_test_np,\n",
    "                         Y_train_raw_np, D_train_np)  # note: training labels are also needed\n",
    "\n",
    "for eval_time_index in eval_time_indices:\n",
    "    eval_time = float(time_grid_test_np[eval_time_index])\n",
    "    print(f'Eval time {eval_time} - Brier score: {eval.brier_score(eval_time)}')\n",
    "\n",
    "IBS = eval.integrated_brier_score()\n",
    "print(f'Integrated Brier score: {IBS}')"
   ]
  },
  {
   "cell_type": "markdown",
   "id": "8d898890-64df-4aac-a27c-e0e33132a505",
   "metadata": {},
   "source": [
    "#### D-Calibration (Haider et al., 2020) using the SurvivalEVAL implementation (Qi et al., 2024)"
   ]
  },
  {
   "cell_type": "code",
   "execution_count": 18,
   "id": "d5281245-920b-4f82-941c-66e7d35d34c8",
   "metadata": {},
   "outputs": [
    {
     "name": "stdout",
     "output_type": "stream",
     "text": [
      "The model is D-calibrated.\n"
     ]
    }
   ],
   "source": [
    "p_value, bin_stats = eval.d_calibration()\n",
    "if p_value >= .05:\n",
    "    print('The model is D-calibrated.')\n",
    "else:\n",
    "    print('The model is not D-calibrated.')"
   ]
  },
  {
   "cell_type": "markdown",
   "id": "b2533edb-260c-4e16-9e09-b59954a9196f",
   "metadata": {},
   "source": [
    "#### Mean Absolute Error via the margin (Haider et al., 2020) and, separately, the Pseudo Observation approach (Qi et al., 2023) both using the SurvivalEVAL implementation (Qi et al., 2024)"
   ]
  },
  {
   "cell_type": "code",
   "execution_count": 19,
   "id": "94aac7b8-2d20-437a-9b5d-304db3971ae8",
   "metadata": {},
   "outputs": [
    {
     "name": "stdout",
     "output_type": "stream",
     "text": [
      "Weighted MAE-Margin: 623.4871936754847\n"
     ]
    }
   ],
   "source": [
    "weighted_MAE_margin = eval.mae(method='Margin', weighted=True)\n",
    "print(f'Weighted MAE-Margin: {weighted_MAE_margin}')"
   ]
  },
  {
   "cell_type": "code",
   "execution_count": 20,
   "id": "dc0f800a-a847-44f2-ac85-698c9f72a881",
   "metadata": {},
   "outputs": [
    {
     "name": "stdout",
     "output_type": "stream",
     "text": [
      "Weighted MAE-PO: 721.5713689377704\n"
     ]
    }
   ],
   "source": [
    "weighted_MAE_PO = eval.mae(method='Pseudo_obs', weighted=True)\n",
    "print(f'Weighted MAE-PO: {weighted_MAE_PO}')"
   ]
  }
 ],
 "metadata": {
  "kernelspec": {
   "display_name": "Python 3 (ipykernel)",
   "language": "python",
   "name": "python3"
  },
  "language_info": {
   "codemirror_mode": {
    "name": "ipython",
    "version": 3
   },
   "file_extension": ".py",
   "mimetype": "text/x-python",
   "name": "python",
   "nbconvert_exporter": "python",
   "pygments_lexer": "ipython3",
   "version": "3.12.4"
  }
 },
 "nbformat": 4,
 "nbformat_minor": 5
}
