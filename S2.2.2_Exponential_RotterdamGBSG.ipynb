{
 "cells": [
  {
   "cell_type": "markdown",
   "id": "b45f4951-fd8b-4829-a322-a0f08c3a421d",
   "metadata": {},
   "source": [
    "# Section 2.2.2: Exponential Time-to-Event Prediction Model Demo (Rotterdam/GBSG datasets)\n",
    "\n",
    "Author: George H. Chen (georgechen [at symbol] cmu.edu)\n",
    "\n",
    "This demo is nearly identical to the exponential time-to-event prediction model demo for the SUPPORT dataset (`S2.2.2_Exponential.ipynb`). The only difference is that this notebook instead applies the model to the Rotterdam tumor bank (Foekens et al., 2000) and GBSG datasets (Schumacher et al., 1994). These datasets are of breast cancer patients who are node-positive. The outcome of interest is recurrence-free survival time (namely, the number of months starting from primary surgery until death or disease recurrence--whichever happened sooner). Specifically, we train on the Rotterdam dataset and test on the GBSG dataset, as is done in the DeepSurv paper (Katzman et al., 2018).\n",
    "\n",
    "Importantly, the only change to the code is in loading in the data. The rest of the code in the notebook is actually the same as for the SUPPORT dataset!"
   ]
  },
  {
   "cell_type": "markdown",
   "id": "ed45bbae-a124-4865-afa0-d04f62b24610",
   "metadata": {},
   "source": [
    "### Loading in the Rotterdam/GBSG datasets\n",
    "\n",
    "We have written code already that loads in the Rotterdam/GBSG datasets. Note that unlike in the SUPPORT dataset, where the full training set and the test set are obtained via a random split, here we treat the Rotterdam dataset as the full training set and the GBSG dataset as the test set. In more detail, our data loading code does the following:\n",
    "\n",
    "- Randomly split the Rotterdam tumor bank dataset into 80%/20% train/validation sets.\n",
    "- Treat the GBSG data as the test set."
   ]
  },
  {
   "cell_type": "code",
   "execution_count": 1,
   "id": "ca8b9722-9480-4771-850a-592ebe83687e",
   "metadata": {},
   "outputs": [
    {
     "name": "stdout",
     "output_type": "stream",
     "text": [
      "Training set size 1236\n",
      "Validation set size 310\n",
      "Test set size 686\n",
      "\n",
      "Features before preprocessing (7 total):\n",
      "['horTh', 'tsize', 'menostat', 'age', 'pnodes', 'progrec', 'estrec']\n",
      "\n",
      "Features after preprocessing (7 total):\n",
      "['horTh', 'tsize_norm', 'menostat', 'age_std', 'pnodes_std', 'progrec_std', 'estrec_std']\n",
      "\n",
      "Events: ['death']\n",
      "\n"
     ]
    }
   ],
   "source": [
    "from datasets import load_dataset\n",
    "from sklearn.model_selection import train_test_split\n",
    "\n",
    "X_full_train_raw_np, Y_full_train_np, D_full_train_np, \\\n",
    "        X_test_raw_np, Y_test_np, D_test_np, \\\n",
    "        features_before_preprocessing, features_after_preprocessing, \\\n",
    "        events, train_test_split_prespecified, \\\n",
    "        build_preprocessor_and_preprocess, apply_preprocessor = load_dataset('rotterdam-gbsg')\n",
    "\n",
    "# split the \"full training set\" into the actual training set and a validation set (using a 80/20 split)\n",
    "X_train_raw_np, X_val_raw_np, Y_train_np, Y_val_np, D_train_np, D_val_np = \\\n",
    "    train_test_split(X_full_train_raw_np, Y_full_train_np, D_full_train_np,\n",
    "                     test_size=.2, random_state=0)\n",
    "\n",
    "print(f'Training set size {X_train_raw_np.shape[0]}')\n",
    "print(f'Validation set size {X_val_raw_np.shape[0]}')\n",
    "print(f'Test set size {X_test_raw_np.shape[0]}')\n",
    "print()\n",
    "\n",
    "print(f'Features before preprocessing ({len(features_before_preprocessing)} total):')\n",
    "print(features_before_preprocessing)\n",
    "print()\n",
    "\n",
    "print(f'Features after preprocessing ({len(features_after_preprocessing)} total):')\n",
    "print(features_after_preprocessing)\n",
    "print()\n",
    "\n",
    "print('Events:', events)  # only one critical event for the standard time-to-event prediction setup\n",
    "print()"
   ]
  },
  {
   "cell_type": "markdown",
   "id": "c17484e8-156a-4724-a1e2-bd7f2025db68",
   "metadata": {},
   "source": [
    "We fit and apply a preprocessor that we have written (see `datasets.py` for details on preprocessing) to get a \"standardized\" or \"normalized\" version of the training set."
   ]
  },
  {
   "cell_type": "code",
   "execution_count": 2,
   "id": "835b67c9-142f-47d8-82ee-e9d885e674f0",
   "metadata": {},
   "outputs": [
    {
     "name": "stdout",
     "output_type": "stream",
     "text": [
      "Number of features before preprocessing: 7\n",
      "Number of features after preprocessing: 7\n"
     ]
    }
   ],
   "source": [
    "X_train_np, preprocessor = build_preprocessor_and_preprocess(X_train_raw_np)\n",
    "print('Number of features before preprocessing:', X_train_raw_np.shape[1])\n",
    "print('Number of features after preprocessing:', X_train_np.shape[1])"
   ]
  },
  {
   "cell_type": "markdown",
   "id": "eb6cf989-c84f-4f7b-b507-466e9227d50c",
   "metadata": {},
   "source": [
    "Much like how we wouldn't learn the preprocessor function so that it peeks at the true test set, we don't learn the preprocessor function so that it peeks at the validation set either. For this reason, notice that earlier we constructed the `preprocessor` object only using the training set and *not* also the validation set. We can apply the already learned `preprocessor` object (fitted to the training set) now to the validation set."
   ]
  },
  {
   "cell_type": "code",
   "execution_count": 3,
   "id": "bb173142-d5ed-4a72-bb5b-7ecdb4f7d94d",
   "metadata": {},
   "outputs": [],
   "source": [
    "X_val_np = apply_preprocessor(X_val_raw_np, preprocessor)"
   ]
  },
  {
   "cell_type": "markdown",
   "id": "e6612c61-75dd-41b9-912a-dac85bc70485",
   "metadata": {},
   "source": [
    "### Quick display of what the tabular data look like before and after preprocessing"
   ]
  },
  {
   "cell_type": "markdown",
   "id": "b4dd4d82-b1f2-498d-9e6f-cb135a25c296",
   "metadata": {},
   "source": [
    "Here's what the raw features look like:"
   ]
  },
  {
   "cell_type": "code",
   "execution_count": 4,
   "id": "c74fbed9-5e68-4054-af4d-19ecf01c06c8",
   "metadata": {},
   "outputs": [
    {
     "data": {
      "text/html": [
       "<div>\n",
       "<style scoped>\n",
       "    .dataframe tbody tr th:only-of-type {\n",
       "        vertical-align: middle;\n",
       "    }\n",
       "\n",
       "    .dataframe tbody tr th {\n",
       "        vertical-align: top;\n",
       "    }\n",
       "\n",
       "    .dataframe thead th {\n",
       "        text-align: right;\n",
       "    }\n",
       "</style>\n",
       "<table border=\"1\" class=\"dataframe\">\n",
       "  <thead>\n",
       "    <tr style=\"text-align: right;\">\n",
       "      <th></th>\n",
       "      <th>horTh</th>\n",
       "      <th>tsize</th>\n",
       "      <th>menostat</th>\n",
       "      <th>age</th>\n",
       "      <th>pnodes</th>\n",
       "      <th>progrec</th>\n",
       "      <th>estrec</th>\n",
       "    </tr>\n",
       "  </thead>\n",
       "  <tbody>\n",
       "    <tr>\n",
       "      <th>0</th>\n",
       "      <td>0.0</td>\n",
       "      <td>0.0</td>\n",
       "      <td>0.0</td>\n",
       "      <td>48.0</td>\n",
       "      <td>1.0</td>\n",
       "      <td>805.0</td>\n",
       "      <td>198.0</td>\n",
       "    </tr>\n",
       "    <tr>\n",
       "      <th>1</th>\n",
       "      <td>0.0</td>\n",
       "      <td>1.0</td>\n",
       "      <td>1.0</td>\n",
       "      <td>74.0</td>\n",
       "      <td>1.0</td>\n",
       "      <td>166.0</td>\n",
       "      <td>382.0</td>\n",
       "    </tr>\n",
       "    <tr>\n",
       "      <th>2</th>\n",
       "      <td>1.0</td>\n",
       "      <td>0.0</td>\n",
       "      <td>1.0</td>\n",
       "      <td>67.0</td>\n",
       "      <td>6.0</td>\n",
       "      <td>92.0</td>\n",
       "      <td>339.0</td>\n",
       "    </tr>\n",
       "    <tr>\n",
       "      <th>3</th>\n",
       "      <td>0.0</td>\n",
       "      <td>1.0</td>\n",
       "      <td>0.0</td>\n",
       "      <td>48.0</td>\n",
       "      <td>1.0</td>\n",
       "      <td>635.0</td>\n",
       "      <td>411.0</td>\n",
       "    </tr>\n",
       "    <tr>\n",
       "      <th>4</th>\n",
       "      <td>0.0</td>\n",
       "      <td>1.0</td>\n",
       "      <td>0.0</td>\n",
       "      <td>57.0</td>\n",
       "      <td>2.0</td>\n",
       "      <td>23.0</td>\n",
       "      <td>0.0</td>\n",
       "    </tr>\n",
       "  </tbody>\n",
       "</table>\n",
       "</div>"
      ],
      "text/plain": [
       "   horTh  tsize  menostat   age  pnodes  progrec  estrec\n",
       "0    0.0    0.0       0.0  48.0     1.0    805.0   198.0\n",
       "1    0.0    1.0       1.0  74.0     1.0    166.0   382.0\n",
       "2    1.0    0.0       1.0  67.0     6.0     92.0   339.0\n",
       "3    0.0    1.0       0.0  48.0     1.0    635.0   411.0\n",
       "4    0.0    1.0       0.0  57.0     2.0     23.0     0.0"
      ]
     },
     "execution_count": 4,
     "metadata": {},
     "output_type": "execute_result"
    }
   ],
   "source": [
    "import pandas as pd\n",
    "X_train_raw_df = pd.DataFrame(X_train_raw_np, columns=features_before_preprocessing)\n",
    "X_train_raw_df.head()"
   ]
  },
  {
   "cell_type": "markdown",
   "id": "c67d3d8a-da93-48f4-94f2-54be73c22003",
   "metadata": {},
   "source": [
    "Here's what the features look like after preprocessing:"
   ]
  },
  {
   "cell_type": "code",
   "execution_count": 5,
   "id": "9d815dd6-f399-4721-9af1-fbe5edeee858",
   "metadata": {},
   "outputs": [
    {
     "data": {
      "text/html": [
       "<div>\n",
       "<style scoped>\n",
       "    .dataframe tbody tr th:only-of-type {\n",
       "        vertical-align: middle;\n",
       "    }\n",
       "\n",
       "    .dataframe tbody tr th {\n",
       "        vertical-align: top;\n",
       "    }\n",
       "\n",
       "    .dataframe thead th {\n",
       "        text-align: right;\n",
       "    }\n",
       "</style>\n",
       "<table border=\"1\" class=\"dataframe\">\n",
       "  <thead>\n",
       "    <tr style=\"text-align: right;\">\n",
       "      <th></th>\n",
       "      <th>horTh</th>\n",
       "      <th>tsize_norm</th>\n",
       "      <th>menostat</th>\n",
       "      <th>age_std</th>\n",
       "      <th>pnodes_std</th>\n",
       "      <th>progrec_std</th>\n",
       "      <th>estrec_std</th>\n",
       "    </tr>\n",
       "  </thead>\n",
       "  <tbody>\n",
       "    <tr>\n",
       "      <th>0</th>\n",
       "      <td>0.0</td>\n",
       "      <td>0.0</td>\n",
       "      <td>0.0</td>\n",
       "      <td>-0.631631</td>\n",
       "      <td>-0.855306</td>\n",
       "      <td>2.190318</td>\n",
       "      <td>0.152950</td>\n",
       "    </tr>\n",
       "    <tr>\n",
       "      <th>1</th>\n",
       "      <td>0.0</td>\n",
       "      <td>0.5</td>\n",
       "      <td>1.0</td>\n",
       "      <td>1.379873</td>\n",
       "      <td>-0.855306</td>\n",
       "      <td>0.046580</td>\n",
       "      <td>0.898470</td>\n",
       "    </tr>\n",
       "    <tr>\n",
       "      <th>2</th>\n",
       "      <td>1.0</td>\n",
       "      <td>0.0</td>\n",
       "      <td>1.0</td>\n",
       "      <td>0.838314</td>\n",
       "      <td>0.173659</td>\n",
       "      <td>-0.201678</td>\n",
       "      <td>0.724245</td>\n",
       "    </tr>\n",
       "    <tr>\n",
       "      <th>3</th>\n",
       "      <td>0.0</td>\n",
       "      <td>0.5</td>\n",
       "      <td>0.0</td>\n",
       "      <td>-0.631631</td>\n",
       "      <td>-0.855306</td>\n",
       "      <td>1.619996</td>\n",
       "      <td>1.015970</td>\n",
       "    </tr>\n",
       "    <tr>\n",
       "      <th>4</th>\n",
       "      <td>0.0</td>\n",
       "      <td>0.5</td>\n",
       "      <td>0.0</td>\n",
       "      <td>0.064659</td>\n",
       "      <td>-0.649513</td>\n",
       "      <td>-0.433162</td>\n",
       "      <td>-0.649294</td>\n",
       "    </tr>\n",
       "  </tbody>\n",
       "</table>\n",
       "</div>"
      ],
      "text/plain": [
       "   horTh  tsize_norm  menostat   age_std  pnodes_std  progrec_std  estrec_std\n",
       "0    0.0         0.0       0.0 -0.631631   -0.855306     2.190318    0.152950\n",
       "1    0.0         0.5       1.0  1.379873   -0.855306     0.046580    0.898470\n",
       "2    1.0         0.0       1.0  0.838314    0.173659    -0.201678    0.724245\n",
       "3    0.0         0.5       0.0 -0.631631   -0.855306     1.619996    1.015970\n",
       "4    0.0         0.5       0.0  0.064659   -0.649513    -0.433162   -0.649294"
      ]
     },
     "execution_count": 5,
     "metadata": {},
     "output_type": "execute_result"
    }
   ],
   "source": [
    "X_train_df = pd.DataFrame(X_train_np, columns=features_after_preprocessing)\n",
    "X_train_df.head()"
   ]
  },
  {
   "cell_type": "markdown",
   "id": "016bcd01-31f3-4b1b-91d2-270bb797d042",
   "metadata": {},
   "source": [
    "### Preparing training and validation sets for use with PyTorch\n",
    "\n",
    "Note that we use a CUDA GPU if it is available."
   ]
  },
  {
   "cell_type": "code",
   "execution_count": 6,
   "id": "98ce9011-b9e4-4d5a-b7d7-c16c6d60d3b1",
   "metadata": {},
   "outputs": [],
   "source": [
    "import torch\n",
    "\n",
    "device = torch.device('cuda' if torch.cuda.is_available() else 'cpu')\n",
    "\n",
    "X_train = torch.tensor(X_train_np, dtype=torch.float32, device=device)\n",
    "Y_train = torch.tensor(Y_train_np, dtype=torch.float32, device=device)\n",
    "D_train = torch.tensor(D_train_np, dtype=torch.int32, device=device)\n",
    "train_data = list(zip(X_train, Y_train, D_train))\n",
    "\n",
    "X_val = torch.tensor(X_val_np, dtype=torch.float32, device=device)\n",
    "Y_val = torch.tensor(Y_val_np, dtype=torch.float32, device=device)\n",
    "D_val = torch.tensor(D_val_np, dtype=torch.int32, device=device)\n",
    "val_data = list(zip(X_val, Y_val, D_val))"
   ]
  },
  {
   "cell_type": "markdown",
   "id": "3412a160-ce89-4ac6-ad4f-1f791a3ab3c1",
   "metadata": {},
   "source": [
    "### Setting up an exponential time-to-event prediction model\n",
    "\n",
    "In the monograph, specifically for equation (2.6), we set\n",
    "\n",
    "$$\\mathbf{h}(t|x;\\theta) := e^{\\beta^\\top x + \\psi}.$$\n",
    "\n",
    "How we implement this in code is that we actually model the *log* of $\\mathbf{h}(t|x;\\theta)$:\n",
    "\n",
    "$$\\log \\mathbf{h}(t|x;\\theta) = \\beta^\\top x + \\psi.$$\n",
    "\n",
    "As this just corresponds to a linear model, we can use PyTorch's `nn.Linear`, where the number of input features corresponds to the number of dimensions in $x$, the number of output features is 1, and--by default--`nn.Linear` includes a bias term (which will correspond to the $\\psi$ variable above). Note that the linear model's weights correspond to what we called $\\beta$."
   ]
  },
  {
   "cell_type": "code",
   "execution_count": 7,
   "id": "2d5d800a-893c-4342-a561-ca53ceee17b0",
   "metadata": {},
   "outputs": [],
   "source": [
    "import torch.nn as nn\n",
    "\n",
    "torch.manual_seed(0)\n",
    "\n",
    "num_input_features = X_train.size(1)\n",
    "\n",
    "# simple neural net model that just does an inner product + a bias\n",
    "# (note that constructing an nn.Linear object also does random\n",
    "# parameter initialization)\n",
    "log_hazards_model = nn.Linear(num_input_features, 1).to(device)"
   ]
  },
  {
   "cell_type": "markdown",
   "id": "db6a2494-982b-432d-8e5b-3db95353431d",
   "metadata": {},
   "source": [
    "Right now the parameters have been randomly initialized as follows:"
   ]
  },
  {
   "cell_type": "code",
   "execution_count": 8,
   "id": "7215a89c-9f20-43d3-84ef-0b29ee7a4fb0",
   "metadata": {},
   "outputs": [
    {
     "data": {
      "text/plain": [
       "Parameter containing:\n",
       "tensor([[-0.0028,  0.2028, -0.3111, -0.2782, -0.1456,  0.1014, -0.0075]],\n",
       "       device='cuda:0', requires_grad=True)"
      ]
     },
     "execution_count": 8,
     "metadata": {},
     "output_type": "execute_result"
    }
   ],
   "source": [
    "log_hazards_model.weight  # this is what is called beta in the monograph in equation (2.6)"
   ]
  },
  {
   "cell_type": "code",
   "execution_count": 9,
   "id": "c163b828-1dba-4af5-ae22-40a9aaefb7ac",
   "metadata": {},
   "outputs": [
    {
     "data": {
      "text/plain": [
       "Parameter containing:\n",
       "tensor([0.2997], device='cuda:0', requires_grad=True)"
      ]
     },
     "execution_count": 9,
     "metadata": {},
     "output_type": "execute_result"
    }
   ],
   "source": [
    "log_hazards_model.bias  # this is what is called psi in the monograph in equation (2.6)"
   ]
  },
  {
   "cell_type": "markdown",
   "id": "8409cb40-22fe-4121-8adb-2f13ee2bf5f5",
   "metadata": {},
   "source": [
    "### Specifying the training loss function"
   ]
  },
  {
   "cell_type": "code",
   "execution_count": 10,
   "id": "5bf5b1d8-c9a8-4768-a6e1-4beab01019df",
   "metadata": {},
   "outputs": [],
   "source": [
    "def exp_nll_loss(predicted_log_hazards, Y_true, D_true):\n",
    "    # the three inputs should all be 1D PyTorch tensors with the same number of entries\n",
    "\n",
    "    # the loss is precisely L_{Hazard-NLL} given in Example 2.2.2 of the monograph\n",
    "    return -(D_true * predicted_log_hazards - Y_true * (predicted_log_hazards.exp())).mean()"
   ]
  },
  {
   "cell_type": "markdown",
   "id": "c3c36bf4-fd91-4dd5-b997-481b1a8569e2",
   "metadata": {},
   "source": [
    "### Training the model using minibatch gradient descent\n",
    "\n",
    "As an illustrative example, in this code, we use the validation set to decide on whether to use a previous epoch's learned model parameters. This could be viewed as a form of hyperparameter tuning where we are effectively selecting how many epochs to train the model for based on whichever achieves the best validation set loss."
   ]
  },
  {
   "cell_type": "code",
   "execution_count": 11,
   "id": "b33ace96-79ed-487a-a1f4-3dc12b33194e",
   "metadata": {},
   "outputs": [
    {
     "name": "stdout",
     "output_type": "stream",
     "text": [
      "Epoch 1 - train loss 11.039381980895996 - val loss 10.920942306518555\n",
      "Epoch 2 - train loss 5.348545074462891 - val loss 5.13672399520874\n",
      "Epoch 3 - train loss 4.35257625579834 - val loss 4.1131510734558105\n",
      "Epoch 4 - train loss 4.071681976318359 - val loss 3.814147472381592\n",
      "Epoch 5 - train loss 3.9604241847991943 - val loss 3.6909306049346924\n",
      "Epoch 6 - train loss 3.9057838916778564 - val loss 3.630040168762207\n",
      "Epoch 7 - train loss 3.871673345565796 - val loss 3.5917775630950928\n",
      "Epoch 8 - train loss 3.8466556072235107 - val loss 3.564443588256836\n",
      "Epoch 9 - train loss 3.8259243965148926 - val loss 3.5412628650665283\n",
      "Epoch 10 - train loss 3.808465003967285 - val loss 3.5221967697143555\n",
      "Epoch 11 - train loss 3.7929275035858154 - val loss 3.504974126815796\n",
      "Epoch 12 - train loss 3.7787766456604004 - val loss 3.4900894165039062\n",
      "Epoch 13 - train loss 3.7653963565826416 - val loss 3.4756863117218018\n",
      "Epoch 14 - train loss 3.7532386779785156 - val loss 3.461940288543701\n",
      "Epoch 15 - train loss 3.742295503616333 - val loss 3.449885845184326\n",
      "Epoch 16 - train loss 3.7314367294311523 - val loss 3.437472105026245\n",
      "Epoch 17 - train loss 3.7213680744171143 - val loss 3.4269120693206787\n",
      "Epoch 18 - train loss 3.7112441062927246 - val loss 3.416590929031372\n",
      "Epoch 19 - train loss 3.7017056941986084 - val loss 3.406766653060913\n",
      "Epoch 20 - train loss 3.692589521408081 - val loss 3.3963677883148193\n",
      "Epoch 21 - train loss 3.683953285217285 - val loss 3.3885769844055176\n",
      "Epoch 22 - train loss 3.6754696369171143 - val loss 3.378984212875366\n",
      "Epoch 23 - train loss 3.6670563220977783 - val loss 3.369840383529663\n",
      "Epoch 24 - train loss 3.659003973007202 - val loss 3.3616206645965576\n",
      "Epoch 25 - train loss 3.65130615234375 - val loss 3.3544692993164062\n",
      "Epoch 26 - train loss 3.6436357498168945 - val loss 3.3454668521881104\n",
      "Epoch 27 - train loss 3.63666033744812 - val loss 3.338449001312256\n",
      "Epoch 28 - train loss 3.629807949066162 - val loss 3.331904411315918\n",
      "Epoch 29 - train loss 3.6233878135681152 - val loss 3.325594186782837\n",
      "Epoch 30 - train loss 3.617034673690796 - val loss 3.3190248012542725\n",
      "Epoch 31 - train loss 3.6107337474823 - val loss 3.3120625019073486\n",
      "Epoch 32 - train loss 3.6047024726867676 - val loss 3.306715488433838\n",
      "Epoch 33 - train loss 3.5990500450134277 - val loss 3.3007073402404785\n",
      "Epoch 34 - train loss 3.593309164047241 - val loss 3.2952511310577393\n",
      "Epoch 35 - train loss 3.58781099319458 - val loss 3.289304733276367\n",
      "Epoch 36 - train loss 3.582400321960449 - val loss 3.283719301223755\n",
      "Epoch 37 - train loss 3.5770623683929443 - val loss 3.2791194915771484\n",
      "Epoch 38 - train loss 3.5720760822296143 - val loss 3.2744219303131104\n",
      "Epoch 39 - train loss 3.5671870708465576 - val loss 3.2682902812957764\n",
      "Epoch 40 - train loss 3.562037467956543 - val loss 3.26367449760437\n",
      "Epoch 41 - train loss 3.5572052001953125 - val loss 3.2588281631469727\n",
      "Epoch 42 - train loss 3.552478075027466 - val loss 3.254563331604004\n",
      "Epoch 43 - train loss 3.547929525375366 - val loss 3.250168800354004\n",
      "Epoch 44 - train loss 3.543581247329712 - val loss 3.2459731101989746\n",
      "Epoch 45 - train loss 3.5390844345092773 - val loss 3.2411036491394043\n",
      "Epoch 46 - train loss 3.5348517894744873 - val loss 3.2372546195983887\n",
      "Epoch 47 - train loss 3.530548572540283 - val loss 3.233248472213745\n",
      "Epoch 48 - train loss 3.5264205932617188 - val loss 3.229698419570923\n",
      "Epoch 49 - train loss 3.522244930267334 - val loss 3.2258846759796143\n",
      "Epoch 50 - train loss 3.5181989669799805 - val loss 3.2218210697174072\n",
      "Epoch 51 - train loss 3.514265298843384 - val loss 3.217606544494629\n",
      "Epoch 52 - train loss 3.510505199432373 - val loss 3.2141973972320557\n",
      "Epoch 53 - train loss 3.5065701007843018 - val loss 3.211052894592285\n",
      "Epoch 54 - train loss 3.5028860569000244 - val loss 3.2073333263397217\n",
      "Epoch 55 - train loss 3.499293088912964 - val loss 3.2043142318725586\n",
      "Epoch 56 - train loss 3.495863199234009 - val loss 3.2003531455993652\n",
      "Epoch 57 - train loss 3.4923832416534424 - val loss 3.197422742843628\n",
      "Epoch 58 - train loss 3.4889745712280273 - val loss 3.1945035457611084\n",
      "Epoch 59 - train loss 3.4857265949249268 - val loss 3.1911892890930176\n",
      "Epoch 60 - train loss 3.482320547103882 - val loss 3.1881353855133057\n",
      "Epoch 61 - train loss 3.4792561531066895 - val loss 3.1852173805236816\n",
      "Epoch 62 - train loss 3.4762051105499268 - val loss 3.1830379962921143\n",
      "Epoch 63 - train loss 3.473024606704712 - val loss 3.1797382831573486\n",
      "Epoch 64 - train loss 3.4700541496276855 - val loss 3.1768624782562256\n",
      "Epoch 65 - train loss 3.4673233032226562 - val loss 3.175074577331543\n",
      "Epoch 66 - train loss 3.4645752906799316 - val loss 3.1715917587280273\n",
      "Epoch 67 - train loss 3.461794376373291 - val loss 3.1693994998931885\n",
      "Epoch 68 - train loss 3.4591779708862305 - val loss 3.167043447494507\n",
      "Epoch 69 - train loss 3.4566359519958496 - val loss 3.1646883487701416\n",
      "Epoch 70 - train loss 3.454037666320801 - val loss 3.162548303604126\n",
      "Epoch 71 - train loss 3.451604127883911 - val loss 3.159825563430786\n",
      "Epoch 72 - train loss 3.4493026733398438 - val loss 3.1581454277038574\n",
      "Epoch 73 - train loss 3.446943759918213 - val loss 3.1562740802764893\n",
      "Epoch 74 - train loss 3.4446730613708496 - val loss 3.153803825378418\n",
      "Epoch 75 - train loss 3.4424073696136475 - val loss 3.1521759033203125\n",
      "Epoch 76 - train loss 3.440302610397339 - val loss 3.1503443717956543\n",
      "Epoch 77 - train loss 3.438227415084839 - val loss 3.148566961288452\n",
      "Epoch 78 - train loss 3.436129570007324 - val loss 3.146703004837036\n",
      "Epoch 79 - train loss 3.434157609939575 - val loss 3.144807815551758\n",
      "Epoch 80 - train loss 3.4322621822357178 - val loss 3.143113374710083\n",
      "Epoch 81 - train loss 3.430461883544922 - val loss 3.141570806503296\n",
      "Epoch 82 - train loss 3.428767442703247 - val loss 3.140270471572876\n",
      "Epoch 83 - train loss 3.4269120693206787 - val loss 3.1384336948394775\n",
      "Epoch 84 - train loss 3.4254448413848877 - val loss 3.136983633041382\n",
      "Epoch 85 - train loss 3.4236414432525635 - val loss 3.135551929473877\n",
      "Epoch 86 - train loss 3.4220666885375977 - val loss 3.134357452392578\n",
      "Epoch 87 - train loss 3.420579433441162 - val loss 3.132978916168213\n",
      "Epoch 88 - train loss 3.419182538986206 - val loss 3.1322009563446045\n",
      "Epoch 89 - train loss 3.417705774307251 - val loss 3.13037371635437\n",
      "Epoch 90 - train loss 3.416306972503662 - val loss 3.129565477371216\n",
      "Epoch 91 - train loss 3.4149861335754395 - val loss 3.128347158432007\n",
      "Epoch 92 - train loss 3.4136250019073486 - val loss 3.1268136501312256\n",
      "Epoch 93 - train loss 3.4123666286468506 - val loss 3.125699996948242\n",
      "Epoch 94 - train loss 3.4111266136169434 - val loss 3.1248934268951416\n",
      "Epoch 95 - train loss 3.409933090209961 - val loss 3.123682975769043\n",
      "Epoch 96 - train loss 3.408834457397461 - val loss 3.1225509643554688\n",
      "Epoch 97 - train loss 3.407898187637329 - val loss 3.1216602325439453\n",
      "Epoch 98 - train loss 3.4067494869232178 - val loss 3.120872735977173\n",
      "Epoch 99 - train loss 3.4057424068450928 - val loss 3.120006799697876\n",
      "Epoch 100 - train loss 3.404771089553833 - val loss 3.119776964187622\n",
      "Best validation loss (3.119776964187622) achieved at epoch 100\n"
     ]
    },
    {
     "data": {
      "text/plain": [
       "<All keys matched successfully>"
      ]
     },
     "execution_count": 11,
     "metadata": {},
     "output_type": "execute_result"
    }
   ],
   "source": [
    "from copy import deepcopy\n",
    "from torch.utils.data import DataLoader\n",
    "\n",
    "# minibatch gradient descent\n",
    "num_epochs = 100\n",
    "batch_size = 128\n",
    "learning_rate = 1e-1\n",
    "\n",
    "train_loader = DataLoader(train_data, batch_size, shuffle=True)  # shuffling for minibatch gradient descent\n",
    "val_loader = DataLoader(val_data, batch_size, shuffle=False)  # there is no need to shuffle the validation data\n",
    "\n",
    "optimizer = torch.optim.Adam(log_hazards_model.parameters(), lr=learning_rate)\n",
    "train_epoch_losses = []\n",
    "val_epoch_losses = []\n",
    "best_val_loss = float('inf')\n",
    "best_params = None\n",
    "best_epoch_index = None\n",
    "for epoch_index in range(num_epochs):\n",
    "    log_hazards_model.train()\n",
    "    for X_batch, Y_batch, D_batch in train_loader:\n",
    "        log_hazards_batch = log_hazards_model(X_batch).view(-1)\n",
    "        loss_batch = exp_nll_loss(log_hazards_batch, Y_batch, D_batch)\n",
    "        optimizer.zero_grad()\n",
    "        loss_batch.backward()\n",
    "        optimizer.step()\n",
    "\n",
    "    # evaluate training and validation set losses\n",
    "    # (note that in practice, instead of evaluating the negative log likelihood loss,\n",
    "    # we could instead evaluate other metrics such as time-dependent concordance index,\n",
    "    # integrated Brier score, etc)\n",
    "    log_hazards_model.eval()\n",
    "    with torch.no_grad():\n",
    "        train_loss = torch.tensor(0.0, dtype=torch.float, device=device)\n",
    "        num_points = 0\n",
    "        for X_batch, Y_batch, D_batch in train_loader:\n",
    "            batch_num_points = X_batch.size(0)\n",
    "            log_hazards_batch = log_hazards_model(X_batch).view(-1)\n",
    "            train_loss += exp_nll_loss(log_hazards_batch, Y_batch, D_batch) * batch_num_points\n",
    "            num_points += batch_num_points\n",
    "        train_loss = float(train_loss / num_points)\n",
    "        train_epoch_losses.append(train_loss)\n",
    "        print(f'Epoch {epoch_index + 1} - train loss {train_loss}', end=' ', flush=True)\n",
    "\n",
    "        val_loss = torch.tensor(0.0, dtype=torch.float, device=device)\n",
    "        num_points = 0\n",
    "        for X_batch, Y_batch, D_batch in val_loader:\n",
    "            batch_num_points = X_batch.size(0)\n",
    "            log_hazards_batch = log_hazards_model(X_batch).view(-1)\n",
    "            val_loss += exp_nll_loss(log_hazards_batch, Y_batch, D_batch) * batch_num_points\n",
    "            num_points += batch_num_points\n",
    "        val_loss = float(val_loss / num_points)\n",
    "        val_epoch_losses.append(val_loss)\n",
    "        print(f'- val loss {val_loss}', flush=True)\n",
    "\n",
    "        if val_loss < best_val_loss:\n",
    "            best_val_loss = val_loss\n",
    "            best_epoch_index = epoch_index\n",
    "            best_params = deepcopy(log_hazards_model.state_dict())\n",
    "print(f'Best validation loss ({best_val_loss}) achieved at epoch {best_epoch_index + 1}')\n",
    "log_hazards_model.load_state_dict(best_params)"
   ]
  },
  {
   "cell_type": "code",
   "execution_count": 12,
   "id": "8d591b8f-de58-4e9c-9b6b-c7111ef86487",
   "metadata": {},
   "outputs": [
    {
     "data": {
      "text/plain": [
       "<matplotlib.legend.Legend at 0x79a9ebfa6900>"
      ]
     },
     "execution_count": 12,
     "metadata": {},
     "output_type": "execute_result"
    },
    {
     "data": {
      "image/png": "[encoded data removed]",
      "text/plain": [
       "<Figure size 640x480 with 1 Axes>"
      ]
     },
     "metadata": {},
     "output_type": "display_data"
    }
   ],
   "source": [
    "%matplotlib inline\n",
    "import matplotlib.pyplot as plt\n",
    "\n",
    "plt.plot(range(1, num_epochs + 1), train_epoch_losses, label='Training')\n",
    "plt.plot(range(1, num_epochs + 1), val_epoch_losses, '--', label='Validation')\n",
    "plt.xlabel('Epoch')\n",
    "plt.ylabel('Loss')\n",
    "plt.legend()"
   ]
  },
  {
   "cell_type": "markdown",
   "id": "79d47901-8f72-439e-838a-62847afec5b7",
   "metadata": {},
   "source": [
    "After training the model, the model parameters are as follows:"
   ]
  },
  {
   "cell_type": "code",
   "execution_count": 13,
   "id": "3e756210-e076-4fd3-a267-5aa43575ff17",
   "metadata": {},
   "outputs": [
    {
     "data": {
      "text/plain": [
       "Parameter containing:\n",
       "tensor([[-0.0490, -0.1835, -0.6231,  0.3290,  0.1977, -0.0458, -0.0363]],\n",
       "       device='cuda:0', requires_grad=True)"
      ]
     },
     "execution_count": 13,
     "metadata": {},
     "output_type": "execute_result"
    }
   ],
   "source": [
    "log_hazards_model.weight  # this is what is called beta in the monograph in equation (2.6)"
   ]
  },
  {
   "cell_type": "code",
   "execution_count": 14,
   "id": "55462f9c-44b8-493b-9547-912b991eb51d",
   "metadata": {},
   "outputs": [
    {
     "data": {
      "text/plain": [
       "Parameter containing:\n",
       "tensor([-3.8052], device='cuda:0', requires_grad=True)"
      ]
     },
     "execution_count": 14,
     "metadata": {},
     "output_type": "execute_result"
    }
   ],
   "source": [
    "log_hazards_model.bias  # this is what is called psi in the monograph in equation (2.6)"
   ]
  },
  {
   "cell_type": "markdown",
   "id": "49807d51-72fb-42f3-a4a5-93c59657eb0a",
   "metadata": {},
   "source": [
    "### Predicting test set survival curves"
   ]
  },
  {
   "cell_type": "markdown",
   "id": "9fd16f73-ebe8-4caf-8e8f-31a2ff773547",
   "metadata": {},
   "source": [
    "We begin by preprocessing the test data using the preprocessor built using training data."
   ]
  },
  {
   "cell_type": "code",
   "execution_count": 15,
   "id": "fe28bba0-9ab4-4940-854d-54eec8eb9065",
   "metadata": {},
   "outputs": [],
   "source": [
    "X_test_np = apply_preprocessor(X_test_raw_np, preprocessor)"
   ]
  },
  {
   "cell_type": "markdown",
   "id": "e5e438a5-a175-4362-9bce-a4e84340e9f4",
   "metadata": {},
   "source": [
    "Next, we apply the neural net model to the test data. We convert the resulting log hazard values to NumPy arrays since the plotting and evaluation code later on does not need nor use PyTorch."
   ]
  },
  {
   "cell_type": "code",
   "execution_count": 16,
   "id": "98225ec0-e2ee-4f64-beae-d4116d81ef60",
   "metadata": {},
   "outputs": [
    {
     "name": "stdout",
     "output_type": "stream",
     "text": [
      "(686, 1)\n"
     ]
    }
   ],
   "source": [
    "X_test = torch.tensor(X_test_np, dtype=torch.float, device=device)\n",
    "with torch.no_grad():\n",
    "    log_hazards_test = log_hazards_model(X_test)\n",
    "    log_hazards_test_np = log_hazards_test.cpu().numpy()\n",
    "print(log_hazards_test_np.shape)"
   ]
  },
  {
   "cell_type": "markdown",
   "id": "74038c31-0f7b-48bf-990f-81d4e9962f2f",
   "metadata": {},
   "source": [
    "To back out a survival curve, for simplicity we just use a time grid specified by the unique times in the test data (this is not the only way to specify a time grid; for examples of other ways, see Section 2.3.2 of the monograph)."
   ]
  },
  {
   "cell_type": "code",
   "execution_count": 17,
   "id": "1d8c75b9-e5a2-4ac9-b71b-7ae74b0ae101",
   "metadata": {},
   "outputs": [
    {
     "name": "stdout",
     "output_type": "stream",
     "text": [
      "(686, 574)\n"
     ]
    }
   ],
   "source": [
    "import numpy as np\n",
    "time_grid_test_np = np.unique(Y_test_np)\n",
    "surv_test_np = np.exp(-time_grid_test_np*np.exp(log_hazards_test_np))  # equation (2.8) of the monograph applied to every test point\n",
    "print(surv_test_np.shape)"
   ]
  },
  {
   "cell_type": "markdown",
   "id": "639331f2-90fd-48ee-a96c-4f9fe03aeffc",
   "metadata": {},
   "source": [
    "Here's a plot of the predicted survival function for the 0th test data point:"
   ]
  },
  {
   "cell_type": "code",
   "execution_count": 18,
   "id": "e1bc9c26-471b-471d-8100-9f88af2c90bc",
   "metadata": {},
   "outputs": [
    {
     "data": {
      "text/plain": [
       "Text(0, 0.5, 'Survival probability')"
      ]
     },
     "execution_count": 18,
     "metadata": {},
     "output_type": "execute_result"
    },
    {
     "data": {
      "image/png": "[encoded data removed]",
      "text/plain": [
       "<Figure size 640x480 with 1 Axes>"
      ]
     },
     "metadata": {},
     "output_type": "display_data"
    }
   ],
   "source": [
    "plt.plot(time_grid_test_np, surv_test_np[0])\n",
    "plt.xlabel('Time')\n",
    "plt.ylabel('Survival probability')"
   ]
  },
  {
   "cell_type": "markdown",
   "id": "b3d9dda8-214c-4d57-afb3-60920423fe9e",
   "metadata": {},
   "source": [
    "### Computing test set evaluation metrics"
   ]
  },
  {
   "cell_type": "markdown",
   "id": "433f5906-bead-4dee-afdb-67f81b50dfb8",
   "metadata": {},
   "source": [
    "#### Concordance index (Harrell et al., 1982) using the scikit-survival implementation (Pölsterl, 2020)"
   ]
  },
  {
   "cell_type": "code",
   "execution_count": 19,
   "id": "f25759e6-12b5-440c-ad5c-0333688ca4c5",
   "metadata": {},
   "outputs": [
    {
     "name": "stdout",
     "output_type": "stream",
     "text": [
      "Harrell's concordance index: 0.5766201755440664\n"
     ]
    }
   ],
   "source": [
    "from sksurv.metrics import concordance_index_censored\n",
    "\n",
    "C_index = concordance_index_censored(D_test_np.astype(bool), Y_test_np, log_hazards_test_np.flatten())[0]\n",
    "print(f\"Harrell's concordance index: {C_index}\")"
   ]
  },
  {
   "cell_type": "markdown",
   "id": "931e241e-7648-4d28-91c8-ffc5942a13c9",
   "metadata": {},
   "source": [
    "#### Time-dependent concordance index (Antolini et al., 2005) using the PyCox implementation (Kvamme et al., 2019)\n",
    "\n",
    "We had mentioned in the monograph that time-dependent concordance index (Antolini et al., 2005) becomes the same as Harrell's concordance index when the proportional hazards assumption holds, but we had mentioned this in the context where we do not treat ties (in predicted log hazards) in a special manner (i.e., we just apply Definitions 2.4.1 and 2.4.2 of the monograph). When there are ties, the code here handles ties a bit differently which is why it is possible for Harrell's concordance index to be close to but not identical to Antolini et al.'s time-dependent concordance index."
   ]
  },
  {
   "cell_type": "code",
   "execution_count": 20,
   "id": "4e93bae8-67f1-4b2b-ac35-41270d413fc9",
   "metadata": {},
   "outputs": [
    {
     "name": "stdout",
     "output_type": "stream",
     "text": [
      "Time-dependent concordance index: 0.5766126608151978\n"
     ]
    }
   ],
   "source": [
    "from pycox.evaluation import EvalSurv\n",
    "\n",
    "# PyCox's EvalSurv expects the predicted test data's survival functions to be in\n",
    "# a Pandas DataFrame where the rows index time, and the columns index data points\n",
    "surv_test_df = pd.DataFrame(surv_test_np.T, index=time_grid_test_np)\n",
    "eval_pycox = EvalSurv(surv_test_df, Y_test_np, D_test_np)\n",
    "C_td = eval_pycox.concordance_td('antolini')\n",
    "\n",
    "print(f'Time-dependent concordance index: {C_td}')"
   ]
  },
  {
   "cell_type": "markdown",
   "id": "d25beae8-6208-41b0-a7ed-20e0d6f10ad7",
   "metadata": {},
   "source": [
    "#### Truncated time-dependent concordance index (Uno et al., 2011) using the scikit-survival implementation (Pölsterl, 2020)\n",
    "\n",
    "The training data are used to estimate the inverse censoring probability weights (see Remark 2.4.1)."
   ]
  },
  {
   "cell_type": "code",
   "execution_count": 21,
   "id": "c2875af8-4377-4d2a-a05d-380b0de2f82b",
   "metadata": {},
   "outputs": [
    {
     "name": "stdout",
     "output_type": "stream",
     "text": [
      "Eval time 18.365503311157227 - truncated time-dependent concordance: 0.5907428144924503\n",
      "Eval time 34.891170501708984 - truncated time-dependent concordance: 0.5913295927370565\n",
      "Eval time 55.195072174072266 - truncated time-dependent concordance: 0.5703883230825377\n"
     ]
    }
   ],
   "source": [
    "from sksurv.util import Surv\n",
    "from sksurv.metrics import concordance_index_ipcw\n",
    "\n",
    "# convert training and test labels into the structured array format used by scikit-survival\n",
    "labels_train_sksurv = Surv.from_arrays(D_train_np, Y_train_np)\n",
    "labels_test_sksurv = Surv.from_arrays(D_test_np, Y_test_np)\n",
    "\n",
    "# as an illustrative example, we evaluate the truncated time-dependent concordance index at\n",
    "# 25, 50, and 75 percentile values of the time grid we specified earlier\n",
    "eval_time_indices = [int(.25 * len(time_grid_test_np)),\n",
    "                     int(.5 * len(time_grid_test_np)),\n",
    "                     int(.75 * len(time_grid_test_np))]\n",
    "\n",
    "for eval_time_index in eval_time_indices:\n",
    "    eval_time = time_grid_test_np[eval_time_index]\n",
    "    surv_values_at_eval_time_np = surv_test_np[:, eval_time_index]\n",
    "    estimated_risks_np = 1 - surv_values_at_eval_time_np\n",
    "    concordance = concordance_index_ipcw(labels_train_sksurv, labels_test_sksurv, estimated_risks_np, tau=eval_time)[0]\n",
    "    print(f'Eval time {eval_time} - truncated time-dependent concordance: {concordance}')"
   ]
  },
  {
   "cell_type": "markdown",
   "id": "b27d2851-845a-4d8a-a36e-faccc829b824",
   "metadata": {},
   "source": [
    "#### Time-dependent AUC (Uno et al., 2007; Hung and Chiang, 2010) using the scikit-survival implementation (Pölsterl, 2020)\n",
    "\n",
    "Again, the training data are used to estimate the inverse censoring probability weights (see Remark 2.4.1)."
   ]
  },
  {
   "cell_type": "code",
   "execution_count": 22,
   "id": "fe777d9e-10e2-49d0-8563-5a7b9889d732",
   "metadata": {},
   "outputs": [
    {
     "name": "stdout",
     "output_type": "stream",
     "text": [
      "Eval time 18.365503311157227 - time-dependent AUC: 0.5940699751073386\n",
      "Eval time 34.891170501708984 - time-dependent AUC: 0.6100096678341871\n",
      "Eval time 55.195072174072266 - time-dependent AUC: 0.5520558565050695\n"
     ]
    }
   ],
   "source": [
    "from sksurv.metrics import cumulative_dynamic_auc\n",
    "\n",
    "for eval_time_index in eval_time_indices:\n",
    "    eval_time = time_grid_test_np[eval_time_index]\n",
    "    surv_values_at_eval_time_np = surv_test_np[:, eval_time_index]\n",
    "    estimated_risks_np = 1 - surv_values_at_eval_time_np\n",
    "    AUC = cumulative_dynamic_auc(labels_train_sksurv, labels_test_sksurv, estimated_risks_np, times=[eval_time])[0][0]\n",
    "    print(f'Eval time {eval_time} - time-dependent AUC: {AUC}')"
   ]
  },
  {
   "cell_type": "markdown",
   "id": "86d2ae6f-d8db-4bd5-93fd-6075bb478dd3",
   "metadata": {},
   "source": [
    "#### Brier score (Graf et al., 1999) using the SurvivalEVAL implementation (Qi et al., 2024)\n",
    "\n",
    "Again, the training data are used to estimate the inverse censoring probability weights (see Remark 2.4.1)."
   ]
  },
  {
   "cell_type": "code",
   "execution_count": 23,
   "id": "594ed417-a759-4871-91fe-657e3d02f111",
   "metadata": {},
   "outputs": [
    {
     "name": "stdout",
     "output_type": "stream",
     "text": [
      "Eval time 18.365503311157227 - Brier score: 0.15754649136867882\n",
      "Eval time 34.891170501708984 - Brier score: 0.21402761630320982\n",
      "Eval time 55.195072174072266 - Brier score: 0.19387449415779673\n",
      "Integrated Brier score: 0.1391653176492881\n"
     ]
    },
    {
     "name": "stderr",
     "output_type": "stream",
     "text": [
      "/home/george/anaconda3/lib/python3.12/site-packages/SurvivalEVAL/Evaluator.py:59: UserWarning: The first time coordinate is not 0. A authentic survival curve should start from 0 with 100% survival probability. \\Adding 0 to the beginning of the time coordinates and 1 to the beginning of the predicted curves.\n",
      "  warnings.warn(\"The first time coordinate is not 0. \"\n"
     ]
    }
   ],
   "source": [
    "from SurvivalEVAL.Evaluator import SurvivalEvaluator\n",
    "\n",
    "eval = SurvivalEvaluator(surv_test_np, time_grid_test_np,\n",
    "                         Y_test_np, D_test_np,\n",
    "                         Y_train_np, D_train_np)  # note: training labels are also needed\n",
    "\n",
    "for eval_time_index in eval_time_indices:\n",
    "    eval_time = float(time_grid_test_np[eval_time_index])\n",
    "    print(f'Eval time {eval_time} - Brier score: {eval.brier_score(eval_time)}')\n",
    "\n",
    "IBS = eval.integrated_brier_score()\n",
    "print(f'Integrated Brier score: {IBS}')"
   ]
  },
  {
   "cell_type": "markdown",
   "id": "8d898890-64df-4aac-a27c-e0e33132a505",
   "metadata": {},
   "source": [
    "#### D-Calibration (Haider et al., 2020) using the SurvivalEVAL implementation (Qi et al., 2024)\n",
    "\n",
    "We reuse the `eval` object defined in the previous code cell. However, we point out that we actually do *not* need to provide training labels. In other words, the code cell below would still run if we started it by re-defining the `eval` object as follows:\n",
    "\n",
    "```\n",
    "eval = SurvivalEvaluator(surv_test_np, time_grid_test_np, Y_test_np, D_test_np)\n",
    "```"
   ]
  },
  {
   "cell_type": "code",
   "execution_count": 24,
   "id": "d5281245-920b-4f82-941c-66e7d35d34c8",
   "metadata": {},
   "outputs": [
    {
     "name": "stdout",
     "output_type": "stream",
     "text": [
      "The model is not D-calibrated.\n"
     ]
    }
   ],
   "source": [
    "p_value, bin_stats = eval.d_calibration()\n",
    "if p_value >= .05:\n",
    "    print('The model is D-calibrated.')\n",
    "else:\n",
    "    print('The model is not D-calibrated.')"
   ]
  },
  {
   "cell_type": "markdown",
   "id": "b2533edb-260c-4e16-9e09-b59954a9196f",
   "metadata": {},
   "source": [
    "#### Mean Absolute Error via the margin (Haider et al., 2020) and, separately, the Pseudo Observation approach (Qi et al., 2023) both using the SurvivalEVAL implementation (Qi et al., 2024)\n",
    "\n",
    "The training data are used to fit a Kaplan-Meier estimator (which is used in both the margin and PO approaches for getting a pseudo ground truth survival time for censored data; also, this Kaplan-Meier estimator is also used to compute weights for different censored evaluation data points)."
   ]
  },
  {
   "cell_type": "code",
   "execution_count": 25,
   "id": "94aac7b8-2d20-437a-9b5d-304db3971ae8",
   "metadata": {},
   "outputs": [
    {
     "name": "stdout",
     "output_type": "stream",
     "text": [
      "Weighted MAE-Margin: 27.93611640257301\n"
     ]
    }
   ],
   "source": [
    "weighted_MAE_margin = eval.mae(method='Margin', weighted=True)\n",
    "print(f'Weighted MAE-Margin: {weighted_MAE_margin}')"
   ]
  },
  {
   "cell_type": "code",
   "execution_count": 26,
   "id": "dc0f800a-a847-44f2-ac85-698c9f72a881",
   "metadata": {},
   "outputs": [
    {
     "name": "stdout",
     "output_type": "stream",
     "text": [
      "Weighted MAE-PO: 31.52283437264418\n"
     ]
    }
   ],
   "source": [
    "weighted_MAE_PO = eval.mae(method='Pseudo_obs', weighted=True)\n",
    "print(f'Weighted MAE-PO: {weighted_MAE_PO}')"
   ]
  }
 ],
 "metadata": {
  "kernelspec": {
   "display_name": "Python 3 (ipykernel)",
   "language": "python",
   "name": "python3"
  },
  "language_info": {
   "codemirror_mode": {
    "name": "ipython",
    "version": 3
   },
   "file_extension": ".py",
   "mimetype": "text/x-python",
   "name": "python",
   "nbconvert_exporter": "python",
   "pygments_lexer": "ipython3",
   "version": "3.12.4"
  }
 },
 "nbformat": 4,
 "nbformat_minor": 5
}
