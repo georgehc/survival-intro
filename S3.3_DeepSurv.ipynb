{
 "cells": [
  {
   "cell_type": "markdown",
   "id": "b45f4951-fd8b-4829-a322-a0f08c3a421d",
   "metadata": {},
   "source": [
    "# Section 3.3: DeepSurv Demo\n",
    "\n",
    "Author: George H. Chen (georgechen [at symbol] cmu.edu)\n",
    "\n",
    "This demo covers how to implement DeepSurv (Faraggi and Simon, 1995; Katzman et al., 2018) using PyCox and PyTorch. For an overview of how DeepSurv works, please see Section 3.3 in the monograph. This demo largely builds off the exponential time-to-event prediction model demo (`S2.2.2_Exponential.ipynb`), so please look at that first as it describes the different steps of the experimental setup in more detail. In this demo, we specifically use PyCox's `CoxPH` model (which is a Python class), which--despite its name seeming to mean the classical Cox proportional hazards model--actually implements DeepSurv.\n",
    "\n",
    "While this demo can be understood without first looking at the DeepHit demo (`S2.3.3_DeepHit_single.ipynb`), we think it could be helpful to also look at the DeepHit demo as a point of comparison--importantly, whereas DeepHit requires time to be discretized prior to model training, DeepSurv does not.\n",
    "\n",
    "*Disclaimer:* Note that PyCox actually uses various conventions that are not standard in terms of working with PyTorch (it relies heavily on another package `torchtuples` by the same author as PyCox). Our demo here intentionally tries to stick to what would be considered standard PyTorch conventions (so that as a warning up front, what we present here does *not* perfectly align with the demos that come with PyCox but will more closely resemble how PyTorch is commonly used in many other settings, including for instance how model training works in TorchSurv). The key reason why we stick to standard PyTorch conventions is so that the code makes various preprocessing and model training steps more transparent, so that if you want to modify any part of these, it should be easier to do so (for instance, if you want to introduce a specific learning rate schedule, if you want to add early stopping based on a validation set integrated Brier score, if you want to control for randomness in a particular way using your own data loaders or specific random number generators, etc)."
   ]
  },
  {
   "cell_type": "markdown",
   "id": "ed45bbae-a124-4865-afa0-d04f62b24610",
   "metadata": {},
   "source": [
    "### Loading in the SUPPORT dataset (Knaus et al., 1995)\n",
    "\n",
    "As with the earlier demo, we begin by defining the training, validation, and test sets."
   ]
  },
  {
   "cell_type": "code",
   "execution_count": 1,
   "id": "ca8b9722-9480-4771-850a-592ebe83687e",
   "metadata": {},
   "outputs": [
    {
     "name": "stdout",
     "output_type": "stream",
     "text": [
      "Training set size 4968\n",
      "Validation set size 1243\n",
      "Test set size 2662\n",
      "\n",
      "Features before preprocessing (14 total):\n",
      "['age', 'female', 'race', 'num.co', 'diabetes', 'dementia', 'ca', 'meanbp', 'hrt', 'resp', 'temp', 'wblc', 'sod', 'crea']\n",
      "\n",
      "Features after preprocessing (19 total):\n",
      "['age_std', 'female', 'num.co_norm', 'diabetes', 'dementia', 'ca_norm', 'meanbp_std', 'hrt_std', 'resp_std', 'temp_std', 'wblc_std', 'sod_std', 'crea_std', 'race_blank', 'race_asian', 'race_black', 'race_hispanic', 'race_other', 'race_white']\n",
      "\n",
      "Events: ['death']\n",
      "\n"
     ]
    }
   ],
   "source": [
    "from datasets import load_dataset\n",
    "from sklearn.model_selection import train_test_split\n",
    "\n",
    "X_full_train_raw_np, Y_full_train_np, D_full_train_np, \\\n",
    "        X_test_raw_np, Y_test_np, D_test_np, \\\n",
    "        features_before_preprocessing, features_after_preprocessing, \\\n",
    "        events, train_test_split_prespecified, \\\n",
    "        build_preprocessor_and_preprocess, apply_preprocessor = load_dataset('support')\n",
    "\n",
    "# split the \"full training set\" into the actual training set and a validation set (using a 80/20 split)\n",
    "X_train_raw_np, X_val_raw_np, Y_train_np, Y_val_np, D_train_np, D_val_np = \\\n",
    "    train_test_split(X_full_train_raw_np, Y_full_train_np, D_full_train_np,\n",
    "                     test_size=.2, random_state=0)\n",
    "\n",
    "print(f'Training set size {X_train_raw_np.shape[0]}')\n",
    "print(f'Validation set size {X_val_raw_np.shape[0]}')\n",
    "print(f'Test set size {X_test_raw_np.shape[0]}')\n",
    "print()\n",
    "\n",
    "print(f'Features before preprocessing ({len(features_before_preprocessing)} total):')\n",
    "print(features_before_preprocessing)\n",
    "print()\n",
    "\n",
    "print(f'Features after preprocessing ({len(features_after_preprocessing)} total):')\n",
    "print(features_after_preprocessing)\n",
    "print()\n",
    "\n",
    "print('Events:', events)  # only one critical event for the standard time-to-event prediction setup\n",
    "print()"
   ]
  },
  {
   "cell_type": "markdown",
   "id": "c17484e8-156a-4724-a1e2-bd7f2025db68",
   "metadata": {},
   "source": [
    "We fit and apply a preprocessor to the training set. We apply (but do not re-fit) the preprocessor to the validation set."
   ]
  },
  {
   "cell_type": "code",
   "execution_count": 2,
   "id": "835b67c9-142f-47d8-82ee-e9d885e674f0",
   "metadata": {},
   "outputs": [],
   "source": [
    "X_train_np, preprocessor = build_preprocessor_and_preprocess(X_train_raw_np)\n",
    "X_val_np = apply_preprocessor(X_val_raw_np, preprocessor)"
   ]
  },
  {
   "cell_type": "markdown",
   "id": "77ffe5dc-1354-4ea1-bf3c-fea418cd9b0e",
   "metadata": {},
   "source": [
    "### Preparing training and validation sets for use with PyTorch"
   ]
  },
  {
   "cell_type": "code",
   "execution_count": 3,
   "id": "559dc917-0b7c-402f-ad66-fef766e9a87d",
   "metadata": {},
   "outputs": [],
   "source": [
    "import torch\n",
    "\n",
    "device = torch.device('cuda' if torch.cuda.is_available() else 'cpu')\n",
    "\n",
    "X_train = torch.tensor(X_train_np, dtype=torch.float32, device=device)\n",
    "Y_train = torch.tensor(Y_train_np, dtype=torch.float32, device=device)\n",
    "D_train = torch.tensor(D_train_np, dtype=torch.int32, device=device)\n",
    "train_data = list(zip(X_train, Y_train, D_train))\n",
    "\n",
    "X_val = torch.tensor(X_val_np, dtype=torch.float32, device=device)\n",
    "Y_val = torch.tensor(Y_val_np, dtype=torch.float32, device=device)\n",
    "D_val = torch.tensor(D_val_np, dtype=torch.int32, device=device)\n",
    "val_data = list(zip(X_val, Y_val, D_val))"
   ]
  },
  {
   "cell_type": "markdown",
   "id": "e6dafa60-7d87-48d8-8d3b-418dc20bf13c",
   "metadata": {},
   "source": [
    "### Setting up the DeepSurv model and loss\n",
    "\n",
    "Note that the base neural net needs to output a single number corresponding to the log partial hazard function. There is no need to have a bias for the final linear layer since the bias would just get absorbed into the baseline hazard function."
   ]
  },
  {
   "cell_type": "code",
   "execution_count": 4,
   "id": "2d5d800a-893c-4342-a561-ca53ceee17b0",
   "metadata": {},
   "outputs": [],
   "source": [
    "import torch.nn as nn\n",
    "from pycox.models import CoxPH\n",
    "\n",
    "torch.manual_seed(0)\n",
    "\n",
    "num_input_features = X_train.size(1)\n",
    "\n",
    "base_neural_net = nn.Sequential(nn.Linear(num_input_features, 8),\n",
    "                                nn.ReLU(),\n",
    "                                nn.Linear(8, 1, bias=False)).to(device)\n",
    "\n",
    "deepsurv_model = CoxPH(base_neural_net, device=device)\n",
    "deepsurv_loss = deepsurv_model.loss"
   ]
  },
  {
   "cell_type": "markdown",
   "id": "c3c36bf4-fd91-4dd5-b997-481b1a8569e2",
   "metadata": {},
   "source": [
    "### Step 1 of the training procedure in Section 3.3 of the monograph: Training the log partial hazards model using minibatch gradient descent\n",
    "\n",
    "Just as in the exponential time-to-event prediction model demo, we use the validation set to decide on whether to use a previous epoch's learned model parameters."
   ]
  },
  {
   "cell_type": "code",
   "execution_count": 5,
   "id": "b33ace96-79ed-487a-a1f4-3dc12b33194e",
   "metadata": {},
   "outputs": [
    {
     "name": "stdout",
     "output_type": "stream",
     "text": [
      "Epoch 1 - train loss 4.232234954833984 - val loss 4.257750511169434\n",
      "Epoch 2 - train loss 4.221454620361328 - val loss 4.250138759613037\n",
      "Epoch 3 - train loss 4.219745635986328 - val loss 4.252907752990723\n",
      "Epoch 4 - train loss 4.217616081237793 - val loss 4.248834609985352\n",
      "Epoch 5 - train loss 4.2164740562438965 - val loss 4.2465410232543945\n",
      "Epoch 6 - train loss 4.214822769165039 - val loss 4.243216514587402\n",
      "Epoch 7 - train loss 4.215346336364746 - val loss 4.249841213226318\n",
      "Epoch 8 - train loss 4.210739612579346 - val loss 4.241546630859375\n",
      "Epoch 9 - train loss 4.209824562072754 - val loss 4.245884895324707\n",
      "Epoch 10 - train loss 4.208444118499756 - val loss 4.243304252624512\n",
      "Epoch 11 - train loss 4.208667278289795 - val loss 4.241664409637451\n",
      "Epoch 12 - train loss 4.20735502243042 - val loss 4.240788459777832\n",
      "Epoch 13 - train loss 4.206737518310547 - val loss 4.243132591247559\n",
      "Epoch 14 - train loss 4.205790996551514 - val loss 4.24213171005249\n",
      "Epoch 15 - train loss 4.204240322113037 - val loss 4.2437825202941895\n",
      "Epoch 16 - train loss 4.206949710845947 - val loss 4.245260238647461\n",
      "Epoch 17 - train loss 4.20374870300293 - val loss 4.2428107261657715\n",
      "Epoch 18 - train loss 4.2045769691467285 - val loss 4.240189075469971\n",
      "Epoch 19 - train loss 4.204405784606934 - val loss 4.245165824890137\n",
      "Epoch 20 - train loss 4.205117702484131 - val loss 4.2430548667907715\n",
      "Epoch 21 - train loss 4.2043280601501465 - val loss 4.240222930908203\n",
      "Epoch 22 - train loss 4.204081058502197 - val loss 4.241767406463623\n",
      "Epoch 23 - train loss 4.204268455505371 - val loss 4.243939399719238\n",
      "Epoch 24 - train loss 4.203121662139893 - val loss 4.2438530921936035\n",
      "Epoch 25 - train loss 4.208767414093018 - val loss 4.23990535736084\n",
      "Epoch 26 - train loss 4.202421188354492 - val loss 4.23622465133667\n",
      "Epoch 27 - train loss 4.201590061187744 - val loss 4.24351692199707\n",
      "Epoch 28 - train loss 4.201201438903809 - val loss 4.235263824462891\n",
      "Epoch 29 - train loss 4.197842597961426 - val loss 4.240860462188721\n",
      "Epoch 30 - train loss 4.200855255126953 - val loss 4.241469383239746\n",
      "Epoch 31 - train loss 4.199154376983643 - val loss 4.242853164672852\n",
      "Epoch 32 - train loss 4.201813697814941 - val loss 4.240450382232666\n",
      "Epoch 33 - train loss 4.199195384979248 - val loss 4.238533973693848\n",
      "Epoch 34 - train loss 4.199919700622559 - val loss 4.241240501403809\n",
      "Epoch 35 - train loss 4.200051784515381 - val loss 4.239672660827637\n",
      "Epoch 36 - train loss 4.200281620025635 - val loss 4.2433671951293945\n",
      "Epoch 37 - train loss 4.205354690551758 - val loss 4.247531414031982\n",
      "Epoch 38 - train loss 4.196040153503418 - val loss 4.246277809143066\n",
      "Epoch 39 - train loss 4.197779655456543 - val loss 4.244021415710449\n",
      "Epoch 40 - train loss 4.197084426879883 - val loss 4.243237018585205\n",
      "Epoch 41 - train loss 4.196924209594727 - val loss 4.240478515625\n",
      "Epoch 42 - train loss 4.195918560028076 - val loss 4.241661071777344\n",
      "Epoch 43 - train loss 4.1951584815979 - val loss 4.240871906280518\n",
      "Epoch 44 - train loss 4.195709228515625 - val loss 4.2398834228515625\n",
      "Epoch 45 - train loss 4.1975178718566895 - val loss 4.236217021942139\n",
      "Epoch 46 - train loss 4.196602821350098 - val loss 4.243290901184082\n",
      "Epoch 47 - train loss 4.198276519775391 - val loss 4.242555141448975\n",
      "Epoch 48 - train loss 4.194153785705566 - val loss 4.241386413574219\n",
      "Epoch 49 - train loss 4.194705963134766 - val loss 4.239752769470215\n",
      "Epoch 50 - train loss 4.1944169998168945 - val loss 4.241523265838623\n",
      "Epoch 51 - train loss 4.1937336921691895 - val loss 4.241349697113037\n",
      "Epoch 52 - train loss 4.197634696960449 - val loss 4.240710258483887\n",
      "Epoch 53 - train loss 4.1948628425598145 - val loss 4.2459259033203125\n",
      "Epoch 54 - train loss 4.195322513580322 - val loss 4.240684986114502\n",
      "Epoch 55 - train loss 4.193115711212158 - val loss 4.24520206451416\n",
      "Epoch 56 - train loss 4.190752983093262 - val loss 4.2445502281188965\n",
      "Epoch 57 - train loss 4.191339015960693 - val loss 4.242804050445557\n",
      "Epoch 58 - train loss 4.192371845245361 - val loss 4.2436842918396\n",
      "Epoch 59 - train loss 4.195013523101807 - val loss 4.245269775390625\n",
      "Epoch 60 - train loss 4.192907333374023 - val loss 4.244648456573486\n",
      "Epoch 61 - train loss 4.193999290466309 - val loss 4.249063014984131\n",
      "Epoch 62 - train loss 4.194377422332764 - val loss 4.244012832641602\n",
      "Epoch 63 - train loss 4.191770076751709 - val loss 4.244420051574707\n",
      "Epoch 64 - train loss 4.196540832519531 - val loss 4.247712135314941\n",
      "Epoch 65 - train loss 4.194912910461426 - val loss 4.247142314910889\n",
      "Epoch 66 - train loss 4.192286014556885 - val loss 4.249273777008057\n",
      "Epoch 67 - train loss 4.195064067840576 - val loss 4.245670318603516\n",
      "Epoch 68 - train loss 4.194001197814941 - val loss 4.245482444763184\n",
      "Epoch 69 - train loss 4.1949334144592285 - val loss 4.246567726135254\n",
      "Epoch 70 - train loss 4.193477630615234 - val loss 4.243964195251465\n",
      "Epoch 71 - train loss 4.191208362579346 - val loss 4.244237899780273\n",
      "Epoch 72 - train loss 4.191216468811035 - val loss 4.254732608795166\n",
      "Epoch 73 - train loss 4.19437837600708 - val loss 4.244487762451172\n",
      "Epoch 74 - train loss 4.192341327667236 - val loss 4.249755859375\n",
      "Epoch 75 - train loss 4.194303512573242 - val loss 4.244905948638916\n",
      "Epoch 76 - train loss 4.19359016418457 - val loss 4.245919227600098\n",
      "Epoch 77 - train loss 4.192065238952637 - val loss 4.247893810272217\n",
      "Epoch 78 - train loss 4.190780162811279 - val loss 4.24694299697876\n",
      "Epoch 79 - train loss 4.192730903625488 - val loss 4.2500481605529785\n",
      "Epoch 80 - train loss 4.192066192626953 - val loss 4.244261741638184\n",
      "Epoch 81 - train loss 4.1935715675354 - val loss 4.249393463134766\n",
      "Epoch 82 - train loss 4.1926398277282715 - val loss 4.246510982513428\n",
      "Epoch 83 - train loss 4.1937479972839355 - val loss 4.252400875091553\n",
      "Epoch 84 - train loss 4.196908473968506 - val loss 4.255180835723877\n",
      "Epoch 85 - train loss 4.191575527191162 - val loss 4.250186920166016\n",
      "Epoch 86 - train loss 4.190494537353516 - val loss 4.251458168029785\n",
      "Epoch 87 - train loss 4.190690040588379 - val loss 4.244385719299316\n",
      "Epoch 88 - train loss 4.195112228393555 - val loss 4.249032020568848\n",
      "Epoch 89 - train loss 4.193925380706787 - val loss 4.249819278717041\n",
      "Epoch 90 - train loss 4.19127082824707 - val loss 4.246281623840332\n",
      "Epoch 91 - train loss 4.189898490905762 - val loss 4.254638671875\n",
      "Epoch 92 - train loss 4.19003438949585 - val loss 4.246377944946289\n",
      "Epoch 93 - train loss 4.19207763671875 - val loss 4.251300811767578\n",
      "Epoch 94 - train loss 4.195772647857666 - val loss 4.248091220855713\n",
      "Epoch 95 - train loss 4.192380905151367 - val loss 4.2459235191345215\n",
      "Epoch 96 - train loss 4.1890997886657715 - val loss 4.250476360321045\n",
      "Epoch 97 - train loss 4.1919403076171875 - val loss 4.243841648101807\n",
      "Epoch 98 - train loss 4.191251754760742 - val loss 4.246033668518066\n",
      "Epoch 99 - train loss 4.193141460418701 - val loss 4.247833251953125\n",
      "Epoch 100 - train loss 4.189487934112549 - val loss 4.250149250030518\n",
      "Best validation loss (4.235263824462891) achieved at epoch 28\n"
     ]
    },
    {
     "data": {
      "text/plain": [
       "<All keys matched successfully>"
      ]
     },
     "execution_count": 5,
     "metadata": {},
     "output_type": "execute_result"
    }
   ],
   "source": [
    "from copy import deepcopy\n",
    "from torch.utils.data import DataLoader\n",
    "\n",
    "# minibatch gradient descent\n",
    "num_epochs = 100\n",
    "batch_size = 128\n",
    "learning_rate = 1e-2\n",
    "\n",
    "train_loader = DataLoader(train_data, batch_size, shuffle=True)  # shuffling for minibatch gradient descent\n",
    "val_loader = DataLoader(val_data, batch_size, shuffle=False)  # there is no need to shuffle the validation data\n",
    "\n",
    "optimizer = torch.optim.Adam(base_neural_net.parameters(), lr=learning_rate)\n",
    "train_epoch_losses = []\n",
    "val_epoch_losses = []\n",
    "best_val_loss = float('inf')\n",
    "best_params = None\n",
    "best_epoch_index = None\n",
    "for epoch_index in range(num_epochs):\n",
    "    base_neural_net.train()\n",
    "    for X_batch, Y_batch, D_batch in train_loader:\n",
    "        neural_net_output = base_neural_net(X_batch)\n",
    "        loss_batch = deepsurv_loss(neural_net_output, Y_batch, D_batch)\n",
    "\n",
    "        optimizer.zero_grad()\n",
    "        loss_batch.backward()\n",
    "        optimizer.step()\n",
    "\n",
    "    # evaluate training and validation set losses\n",
    "    # (note that in practice, instead of evaluating the negative log likelihood loss,\n",
    "    # we could instead evaluate other metrics such as time-dependent concordance index,\n",
    "    # integrated Brier score, etc)\n",
    "    base_neural_net.eval()\n",
    "    with torch.no_grad():\n",
    "        train_loss = torch.tensor(0.0, dtype=torch.float, device=device)\n",
    "        num_points = 0\n",
    "        for X_batch, Y_batch, D_batch in train_loader:\n",
    "            batch_num_points = X_batch.size(0)\n",
    "            neural_net_output = base_neural_net(X_batch)\n",
    "            train_loss += deepsurv_loss(neural_net_output, Y_batch, D_batch) * batch_num_points\n",
    "            num_points += batch_num_points\n",
    "        train_loss = float(train_loss / num_points)\n",
    "        train_epoch_losses.append(train_loss)\n",
    "        print(f'Epoch {epoch_index + 1} - train loss {train_loss}', end=' ', flush=True)\n",
    "\n",
    "        val_loss = torch.tensor(0.0, dtype=torch.float, device=device)\n",
    "        num_points = 0\n",
    "        for X_batch, Y_batch, D_batch in val_loader:\n",
    "            batch_num_points = X_batch.size(0)\n",
    "            neural_net_output = base_neural_net(X_batch)\n",
    "            val_loss += deepsurv_loss(neural_net_output, Y_batch, D_batch) * batch_num_points\n",
    "            num_points += batch_num_points\n",
    "        val_loss = float(val_loss / num_points)\n",
    "        val_epoch_losses.append(val_loss)\n",
    "        print(f'- val loss {val_loss}', flush=True)\n",
    "\n",
    "        if val_loss < best_val_loss:\n",
    "            best_val_loss = val_loss\n",
    "            best_epoch_index = epoch_index\n",
    "            best_params = deepcopy(base_neural_net.state_dict())\n",
    "print(f'Best validation loss ({best_val_loss}) achieved at epoch {best_epoch_index + 1}')\n",
    "base_neural_net.load_state_dict(best_params)"
   ]
  },
  {
   "cell_type": "code",
   "execution_count": 6,
   "id": "8d591b8f-de58-4e9c-9b6b-c7111ef86487",
   "metadata": {},
   "outputs": [
    {
     "data": {
      "text/plain": [
       "<matplotlib.legend.Legend at 0x702a0275ffe0>"
      ]
     },
     "execution_count": 6,
     "metadata": {},
     "output_type": "execute_result"
    },
    {
     "data": {
      "image/png": "[encoded data removed]",
      "text/plain": [
       "<Figure size 640x480 with 1 Axes>"
      ]
     },
     "metadata": {},
     "output_type": "display_data"
    }
   ],
   "source": [
    "%matplotlib inline\n",
    "import matplotlib.pyplot as plt\n",
    "\n",
    "plt.plot(range(1, num_epochs + 1), train_epoch_losses, label='Training')\n",
    "plt.plot(range(1, num_epochs + 1), val_epoch_losses, '--', label='Validation')\n",
    "plt.xlabel('Epoch')\n",
    "plt.ylabel('Loss')\n",
    "plt.legend()"
   ]
  },
  {
   "cell_type": "markdown",
   "id": "1727d1ba-9752-453d-8f59-0c6e6f2c34ac",
   "metadata": {},
   "source": [
    "### Step 2 of the training procedure in Section 3.3 of the monograph: Fitting the baseline hazard function\n",
    "\n",
    "Note that the discrete time grid used by PyCox is the unique times in `Y_train_np`."
   ]
  },
  {
   "cell_type": "code",
   "execution_count": 7,
   "id": "7d3e283e-da80-4054-9fa8-a81a12591272",
   "metadata": {},
   "outputs": [
    {
     "data": {
      "text/plain": [
       "duration\n",
       "3.0       0.025753\n",
       "4.0       0.054722\n",
       "5.0       0.044133\n",
       "6.0       0.036240\n",
       "7.0       0.041364\n",
       "            ...   \n",
       "2024.0    0.000000\n",
       "2026.0    0.000000\n",
       "2027.0    0.000000\n",
       "2028.0    0.000000\n",
       "2029.0    0.000000\n",
       "Name: baseline_hazards, Length: 1444, dtype: float64"
      ]
     },
     "execution_count": 7,
     "metadata": {},
     "output_type": "execute_result"
    }
   ],
   "source": [
    "deepsurv_model.compute_baseline_hazards(input=X_train_np.astype('float32'),\n",
    "                                        target=(Y_train_np.astype('float32'),\n",
    "                                                D_train_np.astype('int32')))"
   ]
  },
  {
   "cell_type": "markdown",
   "id": "49807d51-72fb-42f3-a4a5-93c59657eb0a",
   "metadata": {},
   "source": [
    "### Predicting test set survival curves"
   ]
  },
  {
   "cell_type": "markdown",
   "id": "9fd16f73-ebe8-4caf-8e8f-31a2ff773547",
   "metadata": {},
   "source": [
    "We begin by preprocessing the test data using the preprocessor built using training data."
   ]
  },
  {
   "cell_type": "code",
   "execution_count": 8,
   "id": "fe28bba0-9ab4-4940-854d-54eec8eb9065",
   "metadata": {},
   "outputs": [],
   "source": [
    "X_test_np = apply_preprocessor(X_test_raw_np, preprocessor).astype('float32')"
   ]
  },
  {
   "cell_type": "markdown",
   "id": "e5e438a5-a175-4362-9bce-a4e84340e9f4",
   "metadata": {},
   "source": [
    "PyCox has built-in functionality for predicting survival functions:"
   ]
  },
  {
   "cell_type": "code",
   "execution_count": 9,
   "id": "22619341-969c-448c-98f8-804f3f14c3b0",
   "metadata": {},
   "outputs": [
    {
     "data": {
      "text/html": [
       "<div>\n",
       "<style scoped>\n",
       "    .dataframe tbody tr th:only-of-type {\n",
       "        vertical-align: middle;\n",
       "    }\n",
       "\n",
       "    .dataframe tbody tr th {\n",
       "        vertical-align: top;\n",
       "    }\n",
       "\n",
       "    .dataframe thead th {\n",
       "        text-align: right;\n",
       "    }\n",
       "</style>\n",
       "<table border=\"1\" class=\"dataframe\">\n",
       "  <thead>\n",
       "    <tr style=\"text-align: right;\">\n",
       "      <th></th>\n",
       "      <th>0</th>\n",
       "      <th>1</th>\n",
       "      <th>2</th>\n",
       "      <th>3</th>\n",
       "      <th>4</th>\n",
       "      <th>5</th>\n",
       "      <th>6</th>\n",
       "      <th>7</th>\n",
       "      <th>8</th>\n",
       "      <th>9</th>\n",
       "      <th>...</th>\n",
       "      <th>2652</th>\n",
       "      <th>2653</th>\n",
       "      <th>2654</th>\n",
       "      <th>2655</th>\n",
       "      <th>2656</th>\n",
       "      <th>2657</th>\n",
       "      <th>2658</th>\n",
       "      <th>2659</th>\n",
       "      <th>2660</th>\n",
       "      <th>2661</th>\n",
       "    </tr>\n",
       "    <tr>\n",
       "      <th>duration</th>\n",
       "      <th></th>\n",
       "      <th></th>\n",
       "      <th></th>\n",
       "      <th></th>\n",
       "      <th></th>\n",
       "      <th></th>\n",
       "      <th></th>\n",
       "      <th></th>\n",
       "      <th></th>\n",
       "      <th></th>\n",
       "      <th></th>\n",
       "      <th></th>\n",
       "      <th></th>\n",
       "      <th></th>\n",
       "      <th></th>\n",
       "      <th></th>\n",
       "      <th></th>\n",
       "      <th></th>\n",
       "      <th></th>\n",
       "      <th></th>\n",
       "      <th></th>\n",
       "    </tr>\n",
       "  </thead>\n",
       "  <tbody>\n",
       "    <tr>\n",
       "      <th>3.0</th>\n",
       "      <td>0.973468</td>\n",
       "      <td>0.975779</td>\n",
       "      <td>0.987826</td>\n",
       "      <td>0.983264</td>\n",
       "      <td>0.987372</td>\n",
       "      <td>0.994474</td>\n",
       "      <td>0.986331</td>\n",
       "      <td>0.983465</td>\n",
       "      <td>0.986049</td>\n",
       "      <td>0.995728</td>\n",
       "      <td>...</td>\n",
       "      <td>0.989334</td>\n",
       "      <td>0.987810</td>\n",
       "      <td>0.983889</td>\n",
       "      <td>0.983533</td>\n",
       "      <td>0.992576</td>\n",
       "      <td>0.982749</td>\n",
       "      <td>0.983570</td>\n",
       "      <td>0.972109</td>\n",
       "      <td>0.982421</td>\n",
       "      <td>0.980892</td>\n",
       "    </tr>\n",
       "    <tr>\n",
       "      <th>4.0</th>\n",
       "      <td>0.919406</td>\n",
       "      <td>0.926243</td>\n",
       "      <td>0.962448</td>\n",
       "      <td>0.948626</td>\n",
       "      <td>0.961067</td>\n",
       "      <td>0.982834</td>\n",
       "      <td>0.957905</td>\n",
       "      <td>0.949234</td>\n",
       "      <td>0.957048</td>\n",
       "      <td>0.986711</td>\n",
       "      <td>...</td>\n",
       "      <td>0.967046</td>\n",
       "      <td>0.962399</td>\n",
       "      <td>0.950511</td>\n",
       "      <td>0.949436</td>\n",
       "      <td>0.976984</td>\n",
       "      <td>0.947074</td>\n",
       "      <td>0.949550</td>\n",
       "      <td>0.915399</td>\n",
       "      <td>0.946087</td>\n",
       "      <td>0.941492</td>\n",
       "    </tr>\n",
       "    <tr>\n",
       "      <th>5.0</th>\n",
       "      <td>0.878001</td>\n",
       "      <td>0.888131</td>\n",
       "      <td>0.942456</td>\n",
       "      <td>0.921581</td>\n",
       "      <td>0.940364</td>\n",
       "      <td>0.973546</td>\n",
       "      <td>0.935576</td>\n",
       "      <td>0.922496</td>\n",
       "      <td>0.934282</td>\n",
       "      <td>0.979498</td>\n",
       "      <td>...</td>\n",
       "      <td>0.949437</td>\n",
       "      <td>0.942382</td>\n",
       "      <td>0.924419</td>\n",
       "      <td>0.922801</td>\n",
       "      <td>0.964587</td>\n",
       "      <td>0.919249</td>\n",
       "      <td>0.922972</td>\n",
       "      <td>0.872082</td>\n",
       "      <td>0.917765</td>\n",
       "      <td>0.910873</td>\n",
       "    </tr>\n",
       "    <tr>\n",
       "      <th>6.0</th>\n",
       "      <td>0.845398</td>\n",
       "      <td>0.858010</td>\n",
       "      <td>0.926351</td>\n",
       "      <td>0.899951</td>\n",
       "      <td>0.923697</td>\n",
       "      <td>0.965985</td>\n",
       "      <td>0.917631</td>\n",
       "      <td>0.901105</td>\n",
       "      <td>0.915992</td>\n",
       "      <td>0.973614</td>\n",
       "      <td>...</td>\n",
       "      <td>0.935217</td>\n",
       "      <td>0.926257</td>\n",
       "      <td>0.903530</td>\n",
       "      <td>0.901489</td>\n",
       "      <td>0.954526</td>\n",
       "      <td>0.897012</td>\n",
       "      <td>0.901705</td>\n",
       "      <td>0.838050</td>\n",
       "      <td>0.895144</td>\n",
       "      <td>0.886476</td>\n",
       "    </tr>\n",
       "    <tr>\n",
       "      <th>7.0</th>\n",
       "      <td>0.809663</td>\n",
       "      <td>0.824876</td>\n",
       "      <td>0.908304</td>\n",
       "      <td>0.875882</td>\n",
       "      <td>0.905034</td>\n",
       "      <td>0.957426</td>\n",
       "      <td>0.897569</td>\n",
       "      <td>0.877294</td>\n",
       "      <td>0.895554</td>\n",
       "      <td>0.966942</td>\n",
       "      <td>...</td>\n",
       "      <td>0.919247</td>\n",
       "      <td>0.908188</td>\n",
       "      <td>0.880263</td>\n",
       "      <td>0.877764</td>\n",
       "      <td>0.943169</td>\n",
       "      <td>0.872287</td>\n",
       "      <td>0.878028</td>\n",
       "      <td>0.800825</td>\n",
       "      <td>0.870004</td>\n",
       "      <td>0.859426</td>\n",
       "    </tr>\n",
       "    <tr>\n",
       "      <th>...</th>\n",
       "      <td>...</td>\n",
       "      <td>...</td>\n",
       "      <td>...</td>\n",
       "      <td>...</td>\n",
       "      <td>...</td>\n",
       "      <td>...</td>\n",
       "      <td>...</td>\n",
       "      <td>...</td>\n",
       "      <td>...</td>\n",
       "      <td>...</td>\n",
       "      <td>...</td>\n",
       "      <td>...</td>\n",
       "      <td>...</td>\n",
       "      <td>...</td>\n",
       "      <td>...</td>\n",
       "      <td>...</td>\n",
       "      <td>...</td>\n",
       "      <td>...</td>\n",
       "      <td>...</td>\n",
       "      <td>...</td>\n",
       "      <td>...</td>\n",
       "    </tr>\n",
       "    <tr>\n",
       "      <th>2024.0</th>\n",
       "      <td>0.033594</td>\n",
       "      <td>0.045311</td>\n",
       "      <td>0.213152</td>\n",
       "      <td>0.118845</td>\n",
       "      <td>0.201149</td>\n",
       "      <td>0.496961</td>\n",
       "      <td>0.176077</td>\n",
       "      <td>0.121962</td>\n",
       "      <td>0.169831</td>\n",
       "      <td>0.582582</td>\n",
       "      <td>...</td>\n",
       "      <td>0.258394</td>\n",
       "      <td>0.212717</td>\n",
       "      <td>0.128769</td>\n",
       "      <td>0.123017</td>\n",
       "      <td>0.390486</td>\n",
       "      <td>0.111244</td>\n",
       "      <td>0.123614</td>\n",
       "      <td>0.028161</td>\n",
       "      <td>0.106656</td>\n",
       "      <td>0.087619</td>\n",
       "    </tr>\n",
       "    <tr>\n",
       "      <th>2026.0</th>\n",
       "      <td>0.033594</td>\n",
       "      <td>0.045311</td>\n",
       "      <td>0.213152</td>\n",
       "      <td>0.118845</td>\n",
       "      <td>0.201149</td>\n",
       "      <td>0.496961</td>\n",
       "      <td>0.176077</td>\n",
       "      <td>0.121962</td>\n",
       "      <td>0.169831</td>\n",
       "      <td>0.582582</td>\n",
       "      <td>...</td>\n",
       "      <td>0.258394</td>\n",
       "      <td>0.212717</td>\n",
       "      <td>0.128769</td>\n",
       "      <td>0.123017</td>\n",
       "      <td>0.390486</td>\n",
       "      <td>0.111244</td>\n",
       "      <td>0.123614</td>\n",
       "      <td>0.028161</td>\n",
       "      <td>0.106656</td>\n",
       "      <td>0.087619</td>\n",
       "    </tr>\n",
       "    <tr>\n",
       "      <th>2027.0</th>\n",
       "      <td>0.033594</td>\n",
       "      <td>0.045311</td>\n",
       "      <td>0.213152</td>\n",
       "      <td>0.118845</td>\n",
       "      <td>0.201149</td>\n",
       "      <td>0.496961</td>\n",
       "      <td>0.176077</td>\n",
       "      <td>0.121962</td>\n",
       "      <td>0.169831</td>\n",
       "      <td>0.582582</td>\n",
       "      <td>...</td>\n",
       "      <td>0.258394</td>\n",
       "      <td>0.212717</td>\n",
       "      <td>0.128769</td>\n",
       "      <td>0.123017</td>\n",
       "      <td>0.390486</td>\n",
       "      <td>0.111244</td>\n",
       "      <td>0.123614</td>\n",
       "      <td>0.028161</td>\n",
       "      <td>0.106656</td>\n",
       "      <td>0.087619</td>\n",
       "    </tr>\n",
       "    <tr>\n",
       "      <th>2028.0</th>\n",
       "      <td>0.033594</td>\n",
       "      <td>0.045311</td>\n",
       "      <td>0.213152</td>\n",
       "      <td>0.118845</td>\n",
       "      <td>0.201149</td>\n",
       "      <td>0.496961</td>\n",
       "      <td>0.176077</td>\n",
       "      <td>0.121962</td>\n",
       "      <td>0.169831</td>\n",
       "      <td>0.582582</td>\n",
       "      <td>...</td>\n",
       "      <td>0.258394</td>\n",
       "      <td>0.212717</td>\n",
       "      <td>0.128769</td>\n",
       "      <td>0.123017</td>\n",
       "      <td>0.390486</td>\n",
       "      <td>0.111244</td>\n",
       "      <td>0.123614</td>\n",
       "      <td>0.028161</td>\n",
       "      <td>0.106656</td>\n",
       "      <td>0.087619</td>\n",
       "    </tr>\n",
       "    <tr>\n",
       "      <th>2029.0</th>\n",
       "      <td>0.033594</td>\n",
       "      <td>0.045311</td>\n",
       "      <td>0.213152</td>\n",
       "      <td>0.118845</td>\n",
       "      <td>0.201149</td>\n",
       "      <td>0.496961</td>\n",
       "      <td>0.176077</td>\n",
       "      <td>0.121962</td>\n",
       "      <td>0.169831</td>\n",
       "      <td>0.582582</td>\n",
       "      <td>...</td>\n",
       "      <td>0.258394</td>\n",
       "      <td>0.212717</td>\n",
       "      <td>0.128769</td>\n",
       "      <td>0.123017</td>\n",
       "      <td>0.390486</td>\n",
       "      <td>0.111244</td>\n",
       "      <td>0.123614</td>\n",
       "      <td>0.028161</td>\n",
       "      <td>0.106656</td>\n",
       "      <td>0.087619</td>\n",
       "    </tr>\n",
       "  </tbody>\n",
       "</table>\n",
       "<p>1444 rows × 2662 columns</p>\n",
       "</div>"
      ],
      "text/plain": [
       "              0         1         2         3         4         5     \\\n",
       "duration                                                               \n",
       "3.0       0.973468  0.975779  0.987826  0.983264  0.987372  0.994474   \n",
       "4.0       0.919406  0.926243  0.962448  0.948626  0.961067  0.982834   \n",
       "5.0       0.878001  0.888131  0.942456  0.921581  0.940364  0.973546   \n",
       "6.0       0.845398  0.858010  0.926351  0.899951  0.923697  0.965985   \n",
       "7.0       0.809663  0.824876  0.908304  0.875882  0.905034  0.957426   \n",
       "...            ...       ...       ...       ...       ...       ...   \n",
       "2024.0    0.033594  0.045311  0.213152  0.118845  0.201149  0.496961   \n",
       "2026.0    0.033594  0.045311  0.213152  0.118845  0.201149  0.496961   \n",
       "2027.0    0.033594  0.045311  0.213152  0.118845  0.201149  0.496961   \n",
       "2028.0    0.033594  0.045311  0.213152  0.118845  0.201149  0.496961   \n",
       "2029.0    0.033594  0.045311  0.213152  0.118845  0.201149  0.496961   \n",
       "\n",
       "              6         7         8         9     ...      2652      2653  \\\n",
       "duration                                          ...                       \n",
       "3.0       0.986331  0.983465  0.986049  0.995728  ...  0.989334  0.987810   \n",
       "4.0       0.957905  0.949234  0.957048  0.986711  ...  0.967046  0.962399   \n",
       "5.0       0.935576  0.922496  0.934282  0.979498  ...  0.949437  0.942382   \n",
       "6.0       0.917631  0.901105  0.915992  0.973614  ...  0.935217  0.926257   \n",
       "7.0       0.897569  0.877294  0.895554  0.966942  ...  0.919247  0.908188   \n",
       "...            ...       ...       ...       ...  ...       ...       ...   \n",
       "2024.0    0.176077  0.121962  0.169831  0.582582  ...  0.258394  0.212717   \n",
       "2026.0    0.176077  0.121962  0.169831  0.582582  ...  0.258394  0.212717   \n",
       "2027.0    0.176077  0.121962  0.169831  0.582582  ...  0.258394  0.212717   \n",
       "2028.0    0.176077  0.121962  0.169831  0.582582  ...  0.258394  0.212717   \n",
       "2029.0    0.176077  0.121962  0.169831  0.582582  ...  0.258394  0.212717   \n",
       "\n",
       "              2654      2655      2656      2657      2658      2659  \\\n",
       "duration                                                               \n",
       "3.0       0.983889  0.983533  0.992576  0.982749  0.983570  0.972109   \n",
       "4.0       0.950511  0.949436  0.976984  0.947074  0.949550  0.915399   \n",
       "5.0       0.924419  0.922801  0.964587  0.919249  0.922972  0.872082   \n",
       "6.0       0.903530  0.901489  0.954526  0.897012  0.901705  0.838050   \n",
       "7.0       0.880263  0.877764  0.943169  0.872287  0.878028  0.800825   \n",
       "...            ...       ...       ...       ...       ...       ...   \n",
       "2024.0    0.128769  0.123017  0.390486  0.111244  0.123614  0.028161   \n",
       "2026.0    0.128769  0.123017  0.390486  0.111244  0.123614  0.028161   \n",
       "2027.0    0.128769  0.123017  0.390486  0.111244  0.123614  0.028161   \n",
       "2028.0    0.128769  0.123017  0.390486  0.111244  0.123614  0.028161   \n",
       "2029.0    0.128769  0.123017  0.390486  0.111244  0.123614  0.028161   \n",
       "\n",
       "              2660      2661  \n",
       "duration                      \n",
       "3.0       0.982421  0.980892  \n",
       "4.0       0.946087  0.941492  \n",
       "5.0       0.917765  0.910873  \n",
       "6.0       0.895144  0.886476  \n",
       "7.0       0.870004  0.859426  \n",
       "...            ...       ...  \n",
       "2024.0    0.106656  0.087619  \n",
       "2026.0    0.106656  0.087619  \n",
       "2027.0    0.106656  0.087619  \n",
       "2028.0    0.106656  0.087619  \n",
       "2029.0    0.106656  0.087619  \n",
       "\n",
       "[1444 rows x 2662 columns]"
      ]
     },
     "execution_count": 9,
     "metadata": {},
     "output_type": "execute_result"
    }
   ],
   "source": [
    "surv_test_df = deepsurv_model.predict_surv_df(X_test_np, batch_size=batch_size)\n",
    "surv_test_df"
   ]
  },
  {
   "cell_type": "code",
   "execution_count": 10,
   "id": "86020067-4a3f-491a-936d-9ac148f5f591",
   "metadata": {},
   "outputs": [],
   "source": [
    "surv_test_np = surv_test_df.to_numpy().T\n",
    "time_grid_train_np = surv_test_df.index.to_numpy()"
   ]
  },
  {
   "cell_type": "markdown",
   "id": "639331f2-90fd-48ee-a96c-4f9fe03aeffc",
   "metadata": {},
   "source": [
    "Here's a plot of the predicted survival function for the 0th test data point:"
   ]
  },
  {
   "cell_type": "code",
   "execution_count": 11,
   "id": "e1bc9c26-471b-471d-8100-9f88af2c90bc",
   "metadata": {},
   "outputs": [
    {
     "data": {
      "text/plain": [
       "Text(0, 0.5, 'Survival probability')"
      ]
     },
     "execution_count": 11,
     "metadata": {},
     "output_type": "execute_result"
    },
    {
     "data": {
      "image/png": "[encoded data removed]",
      "text/plain": [
       "<Figure size 640x480 with 1 Axes>"
      ]
     },
     "metadata": {},
     "output_type": "display_data"
    }
   ],
   "source": [
    "plt.plot(time_grid_train_np, surv_test_np[0])\n",
    "plt.xlabel('Time')\n",
    "plt.ylabel('Survival probability')"
   ]
  },
  {
   "cell_type": "markdown",
   "id": "b3d9dda8-214c-4d57-afb3-60920423fe9e",
   "metadata": {},
   "source": [
    "### Computing test set evaluation metrics\n",
    "\n",
    "For choosing evaluation times, we use the test set's observed times."
   ]
  },
  {
   "cell_type": "code",
   "execution_count": 12,
   "id": "60cfabe1-2776-4a56-87d2-a0a26c58126a",
   "metadata": {},
   "outputs": [],
   "source": [
    "import numpy as np\n",
    "time_grid_test_np = np.unique(Y_test_np)"
   ]
  },
  {
   "cell_type": "markdown",
   "id": "931e241e-7648-4d28-91c8-ffc5942a13c9",
   "metadata": {},
   "source": [
    "#### Time-dependent concordance index (Antolini et al., 2005) using the PyCox implementation (Kvamme et al., 2019)"
   ]
  },
  {
   "cell_type": "code",
   "execution_count": 13,
   "id": "4e93bae8-67f1-4b2b-ac35-41270d413fc9",
   "metadata": {},
   "outputs": [
    {
     "name": "stdout",
     "output_type": "stream",
     "text": [
      "Time-dependent concordance index: 0.610701496709868\n"
     ]
    }
   ],
   "source": [
    "from pycox.evaluation import EvalSurv\n",
    "\n",
    "eval_pycox = EvalSurv(surv_test_df, Y_test_np, D_test_np)\n",
    "C_td = eval_pycox.concordance_td('antolini')\n",
    "print(f'Time-dependent concordance index: {C_td}')"
   ]
  },
  {
   "cell_type": "markdown",
   "id": "d25beae8-6208-41b0-a7ed-20e0d6f10ad7",
   "metadata": {},
   "source": [
    "#### Truncated time-dependent concordance index (Uno et al., 2011) using the scikit-survival implementation (Pölsterl, 2020)"
   ]
  },
  {
   "cell_type": "code",
   "execution_count": 14,
   "id": "c2875af8-4377-4d2a-a05d-380b0de2f82b",
   "metadata": {},
   "outputs": [
    {
     "name": "stdout",
     "output_type": "stream",
     "text": [
      "Eval time 316.0 - truncated time-dependent concordance: 0.6061113486082409\n",
      "Eval time 693.0 - truncated time-dependent concordance: 0.6110931896771314\n",
      "Eval time 1291.0 - truncated time-dependent concordance: 0.6117946842068762\n"
     ]
    }
   ],
   "source": [
    "from sksurv.util import Surv\n",
    "from sksurv.metrics import concordance_index_ipcw\n",
    "\n",
    "# convert training and test labels into the structured array format used by scikit-survival\n",
    "labels_train_sksurv = Surv.from_arrays(D_train_np, Y_train_np)\n",
    "labels_test_sksurv = Surv.from_arrays(D_test_np, Y_test_np)\n",
    "\n",
    "# as an illustrative example, we evaluate the truncated time-dependent concordance index at\n",
    "# 25, 50, and 75 percentile values of the time grid we specified earlier\n",
    "eval_time_indices = [int(.25 * len(time_grid_test_np)),\n",
    "                     int(.5 * len(time_grid_test_np)),\n",
    "                     int(.75 * len(time_grid_test_np))]\n",
    "\n",
    "for eval_time_index in eval_time_indices:\n",
    "    eval_time = time_grid_test_np[eval_time_index]\n",
    "\n",
    "    # find the training time grid's time point closest to the evaluation time\n",
    "    interp_time_index = np.argmin(np.abs(eval_time - time_grid_train_np))\n",
    "    surv_values_at_eval_time_np = surv_test_np[:, interp_time_index]\n",
    "\n",
    "    estimated_risks_np = 1 - surv_values_at_eval_time_np\n",
    "    concordance = concordance_index_ipcw(labels_train_sksurv, labels_test_sksurv, estimated_risks_np, tau=eval_time)[0]\n",
    "    print(f'Eval time {eval_time} - truncated time-dependent concordance: {concordance}')"
   ]
  },
  {
   "cell_type": "markdown",
   "id": "b27d2851-845a-4d8a-a36e-faccc829b824",
   "metadata": {},
   "source": [
    "#### Time-dependent AUC (Uno et al., 2007; Hung and Chiang, 2010) using the scikit-survival implementation (Pölsterl, 2020)"
   ]
  },
  {
   "cell_type": "code",
   "execution_count": 15,
   "id": "fe777d9e-10e2-49d0-8563-5a7b9889d732",
   "metadata": {},
   "outputs": [
    {
     "name": "stdout",
     "output_type": "stream",
     "text": [
      "Eval time 316.0 - time-dependent AUC: 0.6653015691699965\n",
      "Eval time 693.0 - time-dependent AUC: 0.6999602190340523\n",
      "Eval time 1291.0 - time-dependent AUC: 0.7079045183054151\n"
     ]
    }
   ],
   "source": [
    "from sksurv.metrics import cumulative_dynamic_auc\n",
    "\n",
    "for eval_time_index in eval_time_indices:\n",
    "    eval_time = time_grid_test_np[eval_time_index]\n",
    "\n",
    "    # find the training time grid's time point closest to the evaluation time\n",
    "    interp_time_index = np.argmin(np.abs(eval_time - time_grid_train_np))\n",
    "    surv_values_at_eval_time_np = surv_test_np[:, interp_time_index]\n",
    "\n",
    "    estimated_risks_np = 1 - surv_values_at_eval_time_np\n",
    "    AUC = cumulative_dynamic_auc(labels_train_sksurv, labels_test_sksurv, estimated_risks_np, times=[eval_time])[0][0]\n",
    "    print(f'Eval time {eval_time} - time-dependent AUC: {AUC}')"
   ]
  },
  {
   "cell_type": "markdown",
   "id": "86d2ae6f-d8db-4bd5-93fd-6075bb478dd3",
   "metadata": {},
   "source": [
    "#### Brier score (Graf et al., 1999) using the SurvivalEVAL implementation (Qi et al., 2024)"
   ]
  },
  {
   "cell_type": "code",
   "execution_count": 16,
   "id": "594ed417-a759-4871-91fe-657e3d02f111",
   "metadata": {},
   "outputs": [
    {
     "name": "stdout",
     "output_type": "stream",
     "text": [
      "Eval time 316.0 - Brier score: 0.2280812189176826\n"
     ]
    },
    {
     "name": "stderr",
     "output_type": "stream",
     "text": [
      "/home/george/anaconda3/lib/python3.12/site-packages/SurvivalEVAL/Evaluator.py:59: UserWarning: The first time coordinate is not 0. A authentic survival curve should start from 0 with 100% survival probability. \\Adding 0 to the beginning of the time coordinates and 1 to the beginning of the predicted curves.\n",
      "  warnings.warn(\"The first time coordinate is not 0. \"\n"
     ]
    },
    {
     "name": "stdout",
     "output_type": "stream",
     "text": [
      "Eval time 693.0 - Brier score: 0.20567825100918427\n",
      "Eval time 1291.0 - Brier score: 0.18449317051788744\n",
      "Integrated Brier score: 0.1854886838100155\n"
     ]
    }
   ],
   "source": [
    "from SurvivalEVAL.Evaluator import SurvivalEvaluator\n",
    "\n",
    "eval = SurvivalEvaluator(surv_test_np, time_grid_train_np,\n",
    "                         Y_test_np, D_test_np,\n",
    "                         Y_train_np, D_train_np)  # note: training labels are also needed\n",
    "\n",
    "for eval_time_index in eval_time_indices:\n",
    "    eval_time = float(time_grid_test_np[eval_time_index])\n",
    "    print(f'Eval time {eval_time} - Brier score: {eval.brier_score(eval_time)}')\n",
    "\n",
    "IBS = eval.integrated_brier_score()\n",
    "print(f'Integrated Brier score: {IBS}')"
   ]
  },
  {
   "cell_type": "markdown",
   "id": "8d898890-64df-4aac-a27c-e0e33132a505",
   "metadata": {},
   "source": [
    "#### D-Calibration (Haider et al., 2020) using the SurvivalEVAL implementation (Qi et al., 2024)"
   ]
  },
  {
   "cell_type": "code",
   "execution_count": 17,
   "id": "d5281245-920b-4f82-941c-66e7d35d34c8",
   "metadata": {},
   "outputs": [
    {
     "name": "stdout",
     "output_type": "stream",
     "text": [
      "The model is not D-calibrated.\n"
     ]
    }
   ],
   "source": [
    "p_value, bin_stats = eval.d_calibration()\n",
    "if p_value >= .05:\n",
    "    print('The model is D-calibrated.')\n",
    "else:\n",
    "    print('The model is not D-calibrated.')"
   ]
  },
  {
   "cell_type": "markdown",
   "id": "b2533edb-260c-4e16-9e09-b59954a9196f",
   "metadata": {},
   "source": [
    "#### Mean Absolute Error via the margin (Haider et al., 2020) and, separately, the Pseudo Observation approach (Qi et al., 2023) both using the SurvivalEVAL implementation (Qi et al., 2024)"
   ]
  },
  {
   "cell_type": "code",
   "execution_count": 18,
   "id": "94aac7b8-2d20-437a-9b5d-304db3971ae8",
   "metadata": {},
   "outputs": [
    {
     "name": "stdout",
     "output_type": "stream",
     "text": [
      "Weighted MAE-Margin: 615.0655919527228\n"
     ]
    }
   ],
   "source": [
    "weighted_MAE_margin = eval.mae(method='Margin', weighted=True)\n",
    "print(f'Weighted MAE-Margin: {weighted_MAE_margin}')"
   ]
  },
  {
   "cell_type": "code",
   "execution_count": 19,
   "id": "dc0f800a-a847-44f2-ac85-698c9f72a881",
   "metadata": {},
   "outputs": [
    {
     "name": "stdout",
     "output_type": "stream",
     "text": [
      "Weighted MAE-PO: 720.8059698432095\n"
     ]
    }
   ],
   "source": [
    "weighted_MAE_PO = eval.mae(method='Pseudo_obs', weighted=True)\n",
    "print(f'Weighted MAE-PO: {weighted_MAE_PO}')"
   ]
  }
 ],
 "metadata": {
  "kernelspec": {
   "display_name": "Python 3 (ipykernel)",
   "language": "python",
   "name": "python3"
  },
  "language_info": {
   "codemirror_mode": {
    "name": "ipython",
    "version": 3
   },
   "file_extension": ".py",
   "mimetype": "text/x-python",
   "name": "python",
   "nbconvert_exporter": "python",
   "pygments_lexer": "ipython3",
   "version": "3.12.4"
  }
 },
 "nbformat": 4,
 "nbformat_minor": 5
}
