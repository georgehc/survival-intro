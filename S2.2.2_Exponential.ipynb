{
 "cells": [
  {
   "cell_type": "markdown",
   "id": "b45f4951-fd8b-4829-a322-a0f08c3a421d",
   "metadata": {},
   "source": [
    "# Section 2.2.2: Exponential Time-to-Event Prediction Model Demo\n",
    "\n",
    "Author: George H. Chen (georgechen [at symbol] cmu.edu)\n",
    "\n",
    "This demo covers how to implement the exponential time-to-event prediction model (Examples 2.2.1 and 2.2.2 in Section 2.2.2 of the monograph) as a PyTorch model. We specifically apply this model to the SUPPORT dataset (Knaus et al., 1995), which looks at the time until death (in days) of severely ill hospitalized patients with various diseases (where we treat the \"time origin\"---where we measure time until death from---to be when a patient first enters the study). We compute all the evaluation metrics of Section 2.4 that we discussed in detail."
   ]
  },
  {
   "cell_type": "markdown",
   "id": "ed45bbae-a124-4865-afa0-d04f62b24610",
   "metadata": {},
   "source": [
    "### Loading in the SUPPORT dataset\n",
    "\n",
    "We have written code already that loads in the SUPPORT dataset (using the same 14 features and the same number of patients as the DeepSurv paper (Katzman et al., 2018)) and splits it into training, validation, and test sets. We do this splitting in two steps:\n",
    "\n",
    "1. We first get a 70%/30% split of the data from a helper function we have written (the `load_dataset` function in `datasets.py`). The 70% part we refer to as the \"full training set\", whereas the 30% part is the test set.\n",
    "2. We then do a random 80%/20% split the full training set into the actual training set and a validation set.\n",
    "\n",
    "Thus, overall what we have done is taken the full dataset and split it into 56%/14%/30% training/validation/test sets.\n",
    "\n",
    "As we shall see shortly, the main neural network training procedure (minibatch gradient descent) uses the training set. The validation set is meant to simulate the true test set that we do not look at whatsoever during training. We use the validation set for tuning hyperparameters. For the simple exponential time-to-event prediction model, there are actually no hyperparameters of the model itself, but we could still tune on optimizer settings for minibatch gradient descent, such as the number of epochs, the batch size, the learning rate, or whether to stop training early (e.g., if there is no validation set loss error improvement after 10 training epochs, then stop training and return the model parameters to whatever their values were that achieved the best validation set loss). Later in this demo, as an illustrative example, we use the validation set to tune on the number of epochs used for training.\n",
    "\n",
    "Note that at times in the code, we add the suffix `_np` to a Python variable to indicate that it is a NumPy array, and `_df` to indicate that it is a Pandas DataFrame. For PyTorch tensors, we typically do not add a suffix. This is because often the most involved parts of our demo code are in PyTorch, and in these parts, we try to avoid having the variable names get unwieldy."
   ]
  },
  {
   "cell_type": "code",
   "execution_count": 1,
   "id": "ca8b9722-9480-4771-850a-592ebe83687e",
   "metadata": {},
   "outputs": [
    {
     "name": "stdout",
     "output_type": "stream",
     "text": [
      "Training set size 4968\n",
      "Validation set size 1243\n",
      "Test set size 2662\n",
      "\n",
      "Features before preprocessing (14 total):\n",
      "['age', 'female', 'race', 'num.co', 'diabetes', 'dementia', 'ca', 'meanbp', 'hrt', 'resp', 'temp', 'wblc', 'sod', 'crea']\n",
      "\n",
      "Features after preprocessing (19 total):\n",
      "['age_std', 'female', 'num.co_norm', 'diabetes', 'dementia', 'ca_norm', 'meanbp_std', 'hrt_std', 'resp_std', 'temp_std', 'wblc_std', 'sod_std', 'crea_std', 'race_blank', 'race_asian', 'race_black', 'race_hispanic', 'race_other', 'race_white']\n",
      "\n",
      "Events: ['death']\n",
      "\n"
     ]
    }
   ],
   "source": [
    "from datasets import load_dataset\n",
    "from sklearn.model_selection import train_test_split\n",
    "\n",
    "X_full_train_raw_np, Y_full_train_np, D_full_train_np, \\\n",
    "        X_test_raw_np, Y_test_np, D_test_np, \\\n",
    "        features_before_preprocessing, features_after_preprocessing, \\\n",
    "        events, train_test_split_prespecified, \\\n",
    "        build_preprocessor_and_preprocess, apply_preprocessor = load_dataset('support')\n",
    "\n",
    "# split the \"full training set\" into the actual training set and a validation set (using a 80/20 split)\n",
    "X_train_raw_np, X_val_raw_np, Y_train_np, Y_val_np, D_train_np, D_val_np = \\\n",
    "    train_test_split(X_full_train_raw_np, Y_full_train_np, D_full_train_np,\n",
    "                     test_size=.2, random_state=0)\n",
    "\n",
    "print(f'Training set size {X_train_raw_np.shape[0]}')\n",
    "print(f'Validation set size {X_val_raw_np.shape[0]}')\n",
    "print(f'Test set size {X_test_raw_np.shape[0]}')\n",
    "print()\n",
    "\n",
    "print(f'Features before preprocessing ({len(features_before_preprocessing)} total):')\n",
    "print(features_before_preprocessing)\n",
    "print()\n",
    "\n",
    "print(f'Features after preprocessing ({len(features_after_preprocessing)} total):')\n",
    "print(features_after_preprocessing)\n",
    "print()\n",
    "\n",
    "print('Events:', events)  # only one critical event for the standard time-to-event prediction setup\n",
    "print()"
   ]
  },
  {
   "cell_type": "markdown",
   "id": "c17484e8-156a-4724-a1e2-bd7f2025db68",
   "metadata": {},
   "source": [
    "We fit and apply a preprocessor that we have written (see `datasets.py` for details on preprocessing) to get a \"standardized\" or \"normalized\" version of the training set."
   ]
  },
  {
   "cell_type": "code",
   "execution_count": 2,
   "id": "835b67c9-142f-47d8-82ee-e9d885e674f0",
   "metadata": {},
   "outputs": [
    {
     "name": "stdout",
     "output_type": "stream",
     "text": [
      "Number of features before preprocessing: 14\n",
      "Number of features after preprocessing: 19\n"
     ]
    }
   ],
   "source": [
    "X_train_np, preprocessor = build_preprocessor_and_preprocess(X_train_raw_np)\n",
    "print('Number of features before preprocessing:', X_train_raw_np.shape[1])\n",
    "print('Number of features after preprocessing:', X_train_np.shape[1])"
   ]
  },
  {
   "cell_type": "markdown",
   "id": "eb6cf989-c84f-4f7b-b507-466e9227d50c",
   "metadata": {},
   "source": [
    "Much like how we wouldn't learn the preprocessor function so that it peeks at the true test set, we don't learn the preprocessor function so that it peeks at the validation set either. For this reason, notice that earlier we constructed the `preprocessor` object only using the training set and *not* also the validation set. We can apply the already learned `preprocessor` object (fitted to the training set) now to the validation set."
   ]
  },
  {
   "cell_type": "code",
   "execution_count": 3,
   "id": "bb173142-d5ed-4a72-bb5b-7ecdb4f7d94d",
   "metadata": {},
   "outputs": [],
   "source": [
    "X_val_np = apply_preprocessor(X_val_raw_np, preprocessor)"
   ]
  },
  {
   "cell_type": "markdown",
   "id": "e6612c61-75dd-41b9-912a-dac85bc70485",
   "metadata": {},
   "source": [
    "### Quick display of what the tabular data look like before and after preprocessing"
   ]
  },
  {
   "cell_type": "markdown",
   "id": "b4dd4d82-b1f2-498d-9e6f-cb135a25c296",
   "metadata": {},
   "source": [
    "Here's what the raw features look like:"
   ]
  },
  {
   "cell_type": "code",
   "execution_count": 4,
   "id": "c74fbed9-5e68-4054-af4d-19ecf01c06c8",
   "metadata": {},
   "outputs": [
    {
     "data": {
      "text/html": [
       "<div>\n",
       "<style scoped>\n",
       "    .dataframe tbody tr th:only-of-type {\n",
       "        vertical-align: middle;\n",
       "    }\n",
       "\n",
       "    .dataframe tbody tr th {\n",
       "        vertical-align: top;\n",
       "    }\n",
       "\n",
       "    .dataframe thead th {\n",
       "        text-align: right;\n",
       "    }\n",
       "</style>\n",
       "<table border=\"1\" class=\"dataframe\">\n",
       "  <thead>\n",
       "    <tr style=\"text-align: right;\">\n",
       "      <th></th>\n",
       "      <th>age</th>\n",
       "      <th>female</th>\n",
       "      <th>race</th>\n",
       "      <th>num.co</th>\n",
       "      <th>diabetes</th>\n",
       "      <th>dementia</th>\n",
       "      <th>ca</th>\n",
       "      <th>meanbp</th>\n",
       "      <th>hrt</th>\n",
       "      <th>resp</th>\n",
       "      <th>temp</th>\n",
       "      <th>wblc</th>\n",
       "      <th>sod</th>\n",
       "      <th>crea</th>\n",
       "    </tr>\n",
       "  </thead>\n",
       "  <tbody>\n",
       "    <tr>\n",
       "      <th>0</th>\n",
       "      <td>22.726990</td>\n",
       "      <td>1.0</td>\n",
       "      <td>2.0</td>\n",
       "      <td>0.0</td>\n",
       "      <td>0.0</td>\n",
       "      <td>0.0</td>\n",
       "      <td>0.0</td>\n",
       "      <td>99.0</td>\n",
       "      <td>112.0</td>\n",
       "      <td>40.0</td>\n",
       "      <td>38.500000</td>\n",
       "      <td>6.799805</td>\n",
       "      <td>134.0</td>\n",
       "      <td>0.799927</td>\n",
       "    </tr>\n",
       "    <tr>\n",
       "      <th>1</th>\n",
       "      <td>59.460999</td>\n",
       "      <td>1.0</td>\n",
       "      <td>5.0</td>\n",
       "      <td>1.0</td>\n",
       "      <td>0.0</td>\n",
       "      <td>0.0</td>\n",
       "      <td>2.0</td>\n",
       "      <td>52.0</td>\n",
       "      <td>175.0</td>\n",
       "      <td>26.0</td>\n",
       "      <td>38.898441</td>\n",
       "      <td>11.298828</td>\n",
       "      <td>131.0</td>\n",
       "      <td>1.000000</td>\n",
       "    </tr>\n",
       "    <tr>\n",
       "      <th>2</th>\n",
       "      <td>77.105957</td>\n",
       "      <td>0.0</td>\n",
       "      <td>5.0</td>\n",
       "      <td>1.0</td>\n",
       "      <td>0.0</td>\n",
       "      <td>0.0</td>\n",
       "      <td>1.0</td>\n",
       "      <td>103.0</td>\n",
       "      <td>112.0</td>\n",
       "      <td>9.0</td>\n",
       "      <td>37.593750</td>\n",
       "      <td>10.798828</td>\n",
       "      <td>143.0</td>\n",
       "      <td>0.799927</td>\n",
       "    </tr>\n",
       "    <tr>\n",
       "      <th>3</th>\n",
       "      <td>46.702000</td>\n",
       "      <td>0.0</td>\n",
       "      <td>5.0</td>\n",
       "      <td>1.0</td>\n",
       "      <td>0.0</td>\n",
       "      <td>0.0</td>\n",
       "      <td>0.0</td>\n",
       "      <td>71.0</td>\n",
       "      <td>71.0</td>\n",
       "      <td>24.0</td>\n",
       "      <td>36.398441</td>\n",
       "      <td>6.000000</td>\n",
       "      <td>141.0</td>\n",
       "      <td>0.799927</td>\n",
       "    </tr>\n",
       "    <tr>\n",
       "      <th>4</th>\n",
       "      <td>64.344971</td>\n",
       "      <td>1.0</td>\n",
       "      <td>5.0</td>\n",
       "      <td>5.0</td>\n",
       "      <td>0.0</td>\n",
       "      <td>0.0</td>\n",
       "      <td>2.0</td>\n",
       "      <td>65.0</td>\n",
       "      <td>114.0</td>\n",
       "      <td>12.0</td>\n",
       "      <td>36.500000</td>\n",
       "      <td>10.199219</td>\n",
       "      <td>138.0</td>\n",
       "      <td>1.599854</td>\n",
       "    </tr>\n",
       "  </tbody>\n",
       "</table>\n",
       "</div>"
      ],
      "text/plain": [
       "         age  female  race  num.co  diabetes  dementia   ca  meanbp    hrt  \\\n",
       "0  22.726990     1.0   2.0     0.0       0.0       0.0  0.0    99.0  112.0   \n",
       "1  59.460999     1.0   5.0     1.0       0.0       0.0  2.0    52.0  175.0   \n",
       "2  77.105957     0.0   5.0     1.0       0.0       0.0  1.0   103.0  112.0   \n",
       "3  46.702000     0.0   5.0     1.0       0.0       0.0  0.0    71.0   71.0   \n",
       "4  64.344971     1.0   5.0     5.0       0.0       0.0  2.0    65.0  114.0   \n",
       "\n",
       "   resp       temp       wblc    sod      crea  \n",
       "0  40.0  38.500000   6.799805  134.0  0.799927  \n",
       "1  26.0  38.898441  11.298828  131.0  1.000000  \n",
       "2   9.0  37.593750  10.798828  143.0  0.799927  \n",
       "3  24.0  36.398441   6.000000  141.0  0.799927  \n",
       "4  12.0  36.500000  10.199219  138.0  1.599854  "
      ]
     },
     "execution_count": 4,
     "metadata": {},
     "output_type": "execute_result"
    }
   ],
   "source": [
    "import pandas as pd\n",
    "X_train_raw_df = pd.DataFrame(X_train_raw_np, columns=features_before_preprocessing)\n",
    "X_train_raw_df.head()"
   ]
  },
  {
   "cell_type": "markdown",
   "id": "c67d3d8a-da93-48f4-94f2-54be73c22003",
   "metadata": {},
   "source": [
    "Here's what the features look like after preprocessing:"
   ]
  },
  {
   "cell_type": "code",
   "execution_count": 5,
   "id": "9d815dd6-f399-4721-9af1-fbe5edeee858",
   "metadata": {},
   "outputs": [
    {
     "data": {
      "text/html": [
       "<div>\n",
       "<style scoped>\n",
       "    .dataframe tbody tr th:only-of-type {\n",
       "        vertical-align: middle;\n",
       "    }\n",
       "\n",
       "    .dataframe tbody tr th {\n",
       "        vertical-align: top;\n",
       "    }\n",
       "\n",
       "    .dataframe thead th {\n",
       "        text-align: right;\n",
       "    }\n",
       "</style>\n",
       "<table border=\"1\" class=\"dataframe\">\n",
       "  <thead>\n",
       "    <tr style=\"text-align: right;\">\n",
       "      <th></th>\n",
       "      <th>age_std</th>\n",
       "      <th>female</th>\n",
       "      <th>num.co_norm</th>\n",
       "      <th>diabetes</th>\n",
       "      <th>dementia</th>\n",
       "      <th>ca_norm</th>\n",
       "      <th>meanbp_std</th>\n",
       "      <th>hrt_std</th>\n",
       "      <th>resp_std</th>\n",
       "      <th>temp_std</th>\n",
       "      <th>wblc_std</th>\n",
       "      <th>sod_std</th>\n",
       "      <th>crea_std</th>\n",
       "      <th>race_blank</th>\n",
       "      <th>race_asian</th>\n",
       "      <th>race_black</th>\n",
       "      <th>race_hispanic</th>\n",
       "      <th>race_other</th>\n",
       "      <th>race_white</th>\n",
       "    </tr>\n",
       "  </thead>\n",
       "  <tbody>\n",
       "    <tr>\n",
       "      <th>0</th>\n",
       "      <td>-2.549160</td>\n",
       "      <td>1.0</td>\n",
       "      <td>0.000000</td>\n",
       "      <td>0.0</td>\n",
       "      <td>0.0</td>\n",
       "      <td>0.0</td>\n",
       "      <td>0.522356</td>\n",
       "      <td>0.455188</td>\n",
       "      <td>1.725720</td>\n",
       "      <td>1.115397</td>\n",
       "      <td>-0.602325</td>\n",
       "      <td>-0.578792</td>\n",
       "      <td>-0.574456</td>\n",
       "      <td>0.0</td>\n",
       "      <td>0.0</td>\n",
       "      <td>1.0</td>\n",
       "      <td>0.0</td>\n",
       "      <td>0.0</td>\n",
       "      <td>0.0</td>\n",
       "    </tr>\n",
       "    <tr>\n",
       "      <th>1</th>\n",
       "      <td>-0.195510</td>\n",
       "      <td>1.0</td>\n",
       "      <td>0.111111</td>\n",
       "      <td>0.0</td>\n",
       "      <td>0.0</td>\n",
       "      <td>1.0</td>\n",
       "      <td>-1.185509</td>\n",
       "      <td>2.458527</td>\n",
       "      <td>0.260776</td>\n",
       "      <td>1.433982</td>\n",
       "      <td>-0.122097</td>\n",
       "      <td>-1.076014</td>\n",
       "      <td>-0.456761</td>\n",
       "      <td>0.0</td>\n",
       "      <td>0.0</td>\n",
       "      <td>0.0</td>\n",
       "      <td>0.0</td>\n",
       "      <td>0.0</td>\n",
       "      <td>1.0</td>\n",
       "    </tr>\n",
       "    <tr>\n",
       "      <th>2</th>\n",
       "      <td>0.935052</td>\n",
       "      <td>0.0</td>\n",
       "      <td>0.111111</td>\n",
       "      <td>0.0</td>\n",
       "      <td>0.0</td>\n",
       "      <td>0.5</td>\n",
       "      <td>0.667706</td>\n",
       "      <td>0.455188</td>\n",
       "      <td>-1.518085</td>\n",
       "      <td>0.390778</td>\n",
       "      <td>-0.175467</td>\n",
       "      <td>0.912876</td>\n",
       "      <td>-0.574456</td>\n",
       "      <td>0.0</td>\n",
       "      <td>0.0</td>\n",
       "      <td>0.0</td>\n",
       "      <td>0.0</td>\n",
       "      <td>0.0</td>\n",
       "      <td>1.0</td>\n",
       "    </tr>\n",
       "    <tr>\n",
       "      <th>3</th>\n",
       "      <td>-1.013014</td>\n",
       "      <td>0.0</td>\n",
       "      <td>0.111111</td>\n",
       "      <td>0.0</td>\n",
       "      <td>0.0</td>\n",
       "      <td>0.0</td>\n",
       "      <td>-0.495095</td>\n",
       "      <td>-0.848572</td>\n",
       "      <td>0.051498</td>\n",
       "      <td>-0.564965</td>\n",
       "      <td>-0.687697</td>\n",
       "      <td>0.581394</td>\n",
       "      <td>-0.574456</td>\n",
       "      <td>0.0</td>\n",
       "      <td>0.0</td>\n",
       "      <td>0.0</td>\n",
       "      <td>0.0</td>\n",
       "      <td>0.0</td>\n",
       "      <td>1.0</td>\n",
       "    </tr>\n",
       "    <tr>\n",
       "      <th>4</th>\n",
       "      <td>0.117420</td>\n",
       "      <td>1.0</td>\n",
       "      <td>0.555556</td>\n",
       "      <td>0.0</td>\n",
       "      <td>0.0</td>\n",
       "      <td>1.0</td>\n",
       "      <td>-0.713121</td>\n",
       "      <td>0.518786</td>\n",
       "      <td>-1.204169</td>\n",
       "      <td>-0.483761</td>\n",
       "      <td>-0.239470</td>\n",
       "      <td>0.084172</td>\n",
       "      <td>-0.103891</td>\n",
       "      <td>0.0</td>\n",
       "      <td>0.0</td>\n",
       "      <td>0.0</td>\n",
       "      <td>0.0</td>\n",
       "      <td>0.0</td>\n",
       "      <td>1.0</td>\n",
       "    </tr>\n",
       "  </tbody>\n",
       "</table>\n",
       "</div>"
      ],
      "text/plain": [
       "    age_std  female  num.co_norm  diabetes  dementia  ca_norm  meanbp_std  \\\n",
       "0 -2.549160     1.0     0.000000       0.0       0.0      0.0    0.522356   \n",
       "1 -0.195510     1.0     0.111111       0.0       0.0      1.0   -1.185509   \n",
       "2  0.935052     0.0     0.111111       0.0       0.0      0.5    0.667706   \n",
       "3 -1.013014     0.0     0.111111       0.0       0.0      0.0   -0.495095   \n",
       "4  0.117420     1.0     0.555556       0.0       0.0      1.0   -0.713121   \n",
       "\n",
       "    hrt_std  resp_std  temp_std  wblc_std   sod_std  crea_std  race_blank  \\\n",
       "0  0.455188  1.725720  1.115397 -0.602325 -0.578792 -0.574456         0.0   \n",
       "1  2.458527  0.260776  1.433982 -0.122097 -1.076014 -0.456761         0.0   \n",
       "2  0.455188 -1.518085  0.390778 -0.175467  0.912876 -0.574456         0.0   \n",
       "3 -0.848572  0.051498 -0.564965 -0.687697  0.581394 -0.574456         0.0   \n",
       "4  0.518786 -1.204169 -0.483761 -0.239470  0.084172 -0.103891         0.0   \n",
       "\n",
       "   race_asian  race_black  race_hispanic  race_other  race_white  \n",
       "0         0.0         1.0            0.0         0.0         0.0  \n",
       "1         0.0         0.0            0.0         0.0         1.0  \n",
       "2         0.0         0.0            0.0         0.0         1.0  \n",
       "3         0.0         0.0            0.0         0.0         1.0  \n",
       "4         0.0         0.0            0.0         0.0         1.0  "
      ]
     },
     "execution_count": 5,
     "metadata": {},
     "output_type": "execute_result"
    }
   ],
   "source": [
    "X_train_df = pd.DataFrame(X_train_np, columns=features_after_preprocessing)\n",
    "X_train_df.head()"
   ]
  },
  {
   "cell_type": "markdown",
   "id": "016bcd01-31f3-4b1b-91d2-270bb797d042",
   "metadata": {},
   "source": [
    "### Preparing training and validation sets for use with PyTorch\n",
    "\n",
    "Note that we use a CUDA GPU if it is available."
   ]
  },
  {
   "cell_type": "code",
   "execution_count": 6,
   "id": "98ce9011-b9e4-4d5a-b7d7-c16c6d60d3b1",
   "metadata": {},
   "outputs": [],
   "source": [
    "import torch\n",
    "\n",
    "device = torch.device('cuda' if torch.cuda.is_available() else 'cpu')\n",
    "\n",
    "X_train = torch.tensor(X_train_np, dtype=torch.float32, device=device)\n",
    "Y_train = torch.tensor(Y_train_np, dtype=torch.float32, device=device)\n",
    "D_train = torch.tensor(D_train_np, dtype=torch.int32, device=device)\n",
    "train_data = list(zip(X_train, Y_train, D_train))\n",
    "\n",
    "X_val = torch.tensor(X_val_np, dtype=torch.float32, device=device)\n",
    "Y_val = torch.tensor(Y_val_np, dtype=torch.float32, device=device)\n",
    "D_val = torch.tensor(D_val_np, dtype=torch.int32, device=device)\n",
    "val_data = list(zip(X_val, Y_val, D_val))"
   ]
  },
  {
   "cell_type": "markdown",
   "id": "3412a160-ce89-4ac6-ad4f-1f791a3ab3c1",
   "metadata": {},
   "source": [
    "### Setting up an exponential time-to-event prediction model\n",
    "\n",
    "In the monograph, specifically for equation (2.6), we set\n",
    "\n",
    "$$\\mathbf{h}(t|x;\\theta) := e^{\\beta^\\top x + \\psi}.$$\n",
    "\n",
    "How we implement this in code is that we actually model the *log* of $\\mathbf{h}(t|x;\\theta)$:\n",
    "\n",
    "$$\\log \\mathbf{h}(t|x;\\theta) = \\beta^\\top x + \\psi.$$\n",
    "\n",
    "As this just corresponds to a linear model, we can use PyTorch's `nn.Linear`, where the number of input features corresponds to the number of dimensions in $x$, the number of output features is 1, and--by default--`nn.Linear` includes a bias term (which will correspond to the $\\psi$ variable above). Note that the linear model's weights correspond to what we called $\\beta$."
   ]
  },
  {
   "cell_type": "code",
   "execution_count": 7,
   "id": "2d5d800a-893c-4342-a561-ca53ceee17b0",
   "metadata": {},
   "outputs": [],
   "source": [
    "import torch.nn as nn\n",
    "\n",
    "torch.manual_seed(0)\n",
    "\n",
    "num_input_features = X_train.size(1)\n",
    "\n",
    "# simple neural net model that just does an inner product + a bias\n",
    "# (note that constructing an nn.Linear object also does random\n",
    "# parameter initialization)\n",
    "log_hazards_model = nn.Linear(num_input_features, 1).to(device)"
   ]
  },
  {
   "cell_type": "markdown",
   "id": "db6a2494-982b-432d-8e5b-3db95353431d",
   "metadata": {},
   "source": [
    "Right now the parameters have been randomly initialized as follows:"
   ]
  },
  {
   "cell_type": "code",
   "execution_count": 8,
   "id": "7215a89c-9f20-43d3-84ef-0b29ee7a4fb0",
   "metadata": {},
   "outputs": [
    {
     "data": {
      "text/plain": [
       "Parameter containing:\n",
       "tensor([[-0.0017,  0.1231, -0.1888, -0.1688, -0.0884,  0.0615, -0.0045,  0.1819,\n",
       "         -0.0204,  0.0607, -0.0693, -0.0451, -0.2192, -0.1519, -0.0946,  0.0085,\n",
       "          0.0907,  0.1377, -0.1555]], device='cuda:0', requires_grad=True)"
      ]
     },
     "execution_count": 8,
     "metadata": {},
     "output_type": "execute_result"
    }
   ],
   "source": [
    "log_hazards_model.weight  # this is what is called beta in the monograph in equation (2.6)"
   ]
  },
  {
   "cell_type": "code",
   "execution_count": 9,
   "id": "c163b828-1dba-4af5-ae22-40a9aaefb7ac",
   "metadata": {},
   "outputs": [
    {
     "data": {
      "text/plain": [
       "Parameter containing:\n",
       "tensor([-0.0999], device='cuda:0', requires_grad=True)"
      ]
     },
     "execution_count": 9,
     "metadata": {},
     "output_type": "execute_result"
    }
   ],
   "source": [
    "log_hazards_model.bias  # this is what is called psi in the monograph in equation (2.6)"
   ]
  },
  {
   "cell_type": "markdown",
   "id": "8409cb40-22fe-4121-8adb-2f13ee2bf5f5",
   "metadata": {},
   "source": [
    "### Specifying the training loss function"
   ]
  },
  {
   "cell_type": "code",
   "execution_count": 10,
   "id": "5bf5b1d8-c9a8-4768-a6e1-4beab01019df",
   "metadata": {},
   "outputs": [],
   "source": [
    "def exp_nll_loss(predicted_log_hazards, Y_true, D_true):\n",
    "    # the three inputs should all be 1D PyTorch tensors with the same number of entries\n",
    "\n",
    "    # the loss is precisely L_{Hazard-NLL} given in Example 2.2.2 of the monograph\n",
    "    return -(D_true * predicted_log_hazards - Y_true * (predicted_log_hazards.exp())).mean()"
   ]
  },
  {
   "cell_type": "markdown",
   "id": "c3c36bf4-fd91-4dd5-b997-481b1a8569e2",
   "metadata": {},
   "source": [
    "### Training the model using minibatch gradient descent\n",
    "\n",
    "As an illustrative example, in this code, we use the validation set to decide on whether to use a previous epoch's learned model parameters. This could be viewed as a form of hyperparameter tuning where we are effectively selecting how many epochs to train the model for based on whichever achieves the best validation set loss."
   ]
  },
  {
   "cell_type": "code",
   "execution_count": 11,
   "id": "b33ace96-79ed-487a-a1f4-3dc12b33194e",
   "metadata": {},
   "outputs": [
    {
     "name": "stdout",
     "output_type": "stream",
     "text": [
      "Epoch 1 - train loss 8.074995994567871 - val loss 8.270499229431152\n",
      "Epoch 2 - train loss 6.748238563537598 - val loss 6.854441165924072\n",
      "Epoch 3 - train loss 6.300990104675293 - val loss 6.365610122680664\n",
      "Epoch 4 - train loss 6.040884971618652 - val loss 6.086954116821289\n",
      "Epoch 5 - train loss 5.875169277191162 - val loss 5.907680988311768\n",
      "Epoch 6 - train loss 5.7593255043029785 - val loss 5.784478187561035\n",
      "Epoch 7 - train loss 5.673421859741211 - val loss 5.696872234344482\n",
      "Epoch 8 - train loss 5.604191303253174 - val loss 5.623073577880859\n",
      "Epoch 9 - train loss 5.544813632965088 - val loss 5.562973976135254\n",
      "Epoch 10 - train loss 5.491061210632324 - val loss 5.5066986083984375\n",
      "Epoch 11 - train loss 5.442178726196289 - val loss 5.456383228302002\n",
      "Epoch 12 - train loss 5.396799564361572 - val loss 5.4111409187316895\n",
      "Epoch 13 - train loss 5.354944229125977 - val loss 5.370354175567627\n",
      "Epoch 14 - train loss 5.31557035446167 - val loss 5.331908226013184\n",
      "Epoch 15 - train loss 5.281093120574951 - val loss 5.298244953155518\n",
      "Epoch 16 - train loss 5.249537467956543 - val loss 5.266124248504639\n",
      "Epoch 17 - train loss 5.220363140106201 - val loss 5.2359232902526855\n",
      "Epoch 18 - train loss 5.19503116607666 - val loss 5.210279941558838\n",
      "Epoch 19 - train loss 5.173483371734619 - val loss 5.188014507293701\n",
      "Epoch 20 - train loss 5.154343128204346 - val loss 5.169508934020996\n",
      "Epoch 21 - train loss 5.137145519256592 - val loss 5.1502251625061035\n",
      "Epoch 22 - train loss 5.123162746429443 - val loss 5.134310245513916\n",
      "Epoch 23 - train loss 5.1107001304626465 - val loss 5.119307518005371\n",
      "Epoch 24 - train loss 5.099806308746338 - val loss 5.108283996582031\n",
      "Epoch 25 - train loss 5.0903215408325195 - val loss 5.098061561584473\n",
      "Epoch 26 - train loss 5.082292556762695 - val loss 5.087550640106201\n",
      "Epoch 27 - train loss 5.075444221496582 - val loss 5.080790042877197\n",
      "Epoch 28 - train loss 5.069224834442139 - val loss 5.071705341339111\n",
      "Epoch 29 - train loss 5.063961982727051 - val loss 5.066587924957275\n",
      "Epoch 30 - train loss 5.059383869171143 - val loss 5.059944152832031\n",
      "Epoch 31 - train loss 5.055527687072754 - val loss 5.0544657707214355\n",
      "Epoch 32 - train loss 5.0519633293151855 - val loss 5.050971031188965\n",
      "Epoch 33 - train loss 5.04882287979126 - val loss 5.04783296585083\n",
      "Epoch 34 - train loss 5.046176433563232 - val loss 5.042868614196777\n",
      "Epoch 35 - train loss 5.043576240539551 - val loss 5.040109157562256\n",
      "Epoch 36 - train loss 5.041518211364746 - val loss 5.037508010864258\n",
      "Epoch 37 - train loss 5.039567470550537 - val loss 5.035081386566162\n",
      "Epoch 38 - train loss 5.037802696228027 - val loss 5.031691551208496\n",
      "Epoch 39 - train loss 5.036374092102051 - val loss 5.030354022979736\n",
      "Epoch 40 - train loss 5.034933090209961 - val loss 5.029825687408447\n",
      "Epoch 41 - train loss 5.0334553718566895 - val loss 5.0280256271362305\n",
      "Epoch 42 - train loss 5.032196044921875 - val loss 5.025084495544434\n",
      "Epoch 43 - train loss 5.031062602996826 - val loss 5.022577285766602\n",
      "Epoch 44 - train loss 5.0299859046936035 - val loss 5.021360397338867\n",
      "Epoch 45 - train loss 5.029228687286377 - val loss 5.021907806396484\n",
      "Epoch 46 - train loss 5.027960777282715 - val loss 5.019016742706299\n",
      "Epoch 47 - train loss 5.027038097381592 - val loss 5.018737316131592\n",
      "Epoch 48 - train loss 5.026228904724121 - val loss 5.017484188079834\n",
      "Epoch 49 - train loss 5.0254340171813965 - val loss 5.0169997215271\n",
      "Epoch 50 - train loss 5.0249714851379395 - val loss 5.01485538482666\n",
      "Epoch 51 - train loss 5.024316310882568 - val loss 5.016489505767822\n",
      "Epoch 52 - train loss 5.023130893707275 - val loss 5.013792514801025\n",
      "Epoch 53 - train loss 5.022517204284668 - val loss 5.01298189163208\n",
      "Epoch 54 - train loss 5.021797180175781 - val loss 5.01209020614624\n",
      "Epoch 55 - train loss 5.021071434020996 - val loss 5.01125431060791\n",
      "Epoch 56 - train loss 5.020577907562256 - val loss 5.011018753051758\n",
      "Epoch 57 - train loss 5.020267009735107 - val loss 5.010959625244141\n",
      "Epoch 58 - train loss 5.019457817077637 - val loss 5.010206699371338\n",
      "Epoch 59 - train loss 5.019553184509277 - val loss 5.008869171142578\n",
      "Epoch 60 - train loss 5.018515586853027 - val loss 5.009664058685303\n",
      "Epoch 61 - train loss 5.017758846282959 - val loss 5.008681774139404\n",
      "Epoch 62 - train loss 5.017526626586914 - val loss 5.008123874664307\n",
      "Epoch 63 - train loss 5.017287254333496 - val loss 5.008524417877197\n",
      "Epoch 64 - train loss 5.017576694488525 - val loss 5.007885456085205\n",
      "Epoch 65 - train loss 5.016294002532959 - val loss 5.005997180938721\n",
      "Epoch 66 - train loss 5.015730857849121 - val loss 5.006168365478516\n",
      "Epoch 67 - train loss 5.015517711639404 - val loss 5.007856845855713\n",
      "Epoch 68 - train loss 5.015230178833008 - val loss 5.005237102508545\n",
      "Epoch 69 - train loss 5.014969825744629 - val loss 5.005263805389404\n",
      "Epoch 70 - train loss 5.014669895172119 - val loss 5.004940509796143\n",
      "Epoch 71 - train loss 5.014688014984131 - val loss 5.004119873046875\n",
      "Epoch 72 - train loss 5.014095306396484 - val loss 5.004976272583008\n",
      "Epoch 73 - train loss 5.014072895050049 - val loss 5.005972862243652\n",
      "Epoch 74 - train loss 5.0137810707092285 - val loss 5.004235744476318\n",
      "Epoch 75 - train loss 5.013526916503906 - val loss 5.004629135131836\n",
      "Epoch 76 - train loss 5.013767242431641 - val loss 5.0050530433654785\n",
      "Epoch 77 - train loss 5.01345157623291 - val loss 5.00291109085083\n",
      "Epoch 78 - train loss 5.013312816619873 - val loss 5.003061294555664\n",
      "Epoch 79 - train loss 5.013620376586914 - val loss 5.003579616546631\n",
      "Epoch 80 - train loss 5.012759685516357 - val loss 5.006087779998779\n",
      "Epoch 81 - train loss 5.012667655944824 - val loss 5.002751350402832\n",
      "Epoch 82 - train loss 5.012369632720947 - val loss 5.003535747528076\n",
      "Epoch 83 - train loss 5.012639999389648 - val loss 5.004708290100098\n",
      "Epoch 84 - train loss 5.012822151184082 - val loss 5.003114223480225\n",
      "Epoch 85 - train loss 5.0121259689331055 - val loss 5.0029215812683105\n",
      "Epoch 86 - train loss 5.0132951736450195 - val loss 5.004162311553955\n",
      "Epoch 87 - train loss 5.012837886810303 - val loss 5.00821590423584\n",
      "Epoch 88 - train loss 5.012031555175781 - val loss 5.004432201385498\n",
      "Epoch 89 - train loss 5.012991428375244 - val loss 5.005511283874512\n",
      "Epoch 90 - train loss 5.011977672576904 - val loss 5.001533031463623\n",
      "Epoch 91 - train loss 5.0136284828186035 - val loss 5.007612228393555\n",
      "Epoch 92 - train loss 5.012412071228027 - val loss 5.002847671508789\n",
      "Epoch 93 - train loss 5.012426853179932 - val loss 5.000522613525391\n",
      "Epoch 94 - train loss 5.012801170349121 - val loss 5.004390239715576\n",
      "Epoch 95 - train loss 5.013674259185791 - val loss 5.004183292388916\n",
      "Epoch 96 - train loss 5.013604640960693 - val loss 5.007107734680176\n",
      "Epoch 97 - train loss 5.011688709259033 - val loss 5.0028977394104\n",
      "Epoch 98 - train loss 5.013371467590332 - val loss 5.003523826599121\n",
      "Epoch 99 - train loss 5.0114874839782715 - val loss 5.002597332000732\n",
      "Epoch 100 - train loss 5.014096736907959 - val loss 5.0032572746276855\n",
      "Best validation loss (5.000522613525391) achieved at epoch 93\n"
     ]
    },
    {
     "data": {
      "text/plain": [
       "<All keys matched successfully>"
      ]
     },
     "execution_count": 11,
     "metadata": {},
     "output_type": "execute_result"
    }
   ],
   "source": [
    "from copy import deepcopy\n",
    "from torch.utils.data import DataLoader\n",
    "\n",
    "# minibatch gradient descent\n",
    "num_epochs = 100\n",
    "batch_size = 128\n",
    "learning_rate = 1e-1\n",
    "\n",
    "train_loader = DataLoader(train_data, batch_size, shuffle=True)  # shuffling for minibatch gradient descent\n",
    "val_loader = DataLoader(val_data, batch_size, shuffle=False)  # there is no need to shuffle the validation data\n",
    "\n",
    "optimizer = torch.optim.Adam(log_hazards_model.parameters(), lr=learning_rate)\n",
    "train_epoch_losses = []\n",
    "val_epoch_losses = []\n",
    "best_val_loss = float('inf')\n",
    "best_params = None\n",
    "best_epoch_index = None\n",
    "for epoch_index in range(num_epochs):\n",
    "    log_hazards_model.train()\n",
    "    for X_batch, Y_batch, D_batch in train_loader:\n",
    "        log_hazards_batch = log_hazards_model(X_batch).view(-1)\n",
    "        loss_batch = exp_nll_loss(log_hazards_batch, Y_batch, D_batch)\n",
    "        optimizer.zero_grad()\n",
    "        loss_batch.backward()\n",
    "        optimizer.step()\n",
    "\n",
    "    # evaluate training and validation set losses\n",
    "    # (note that in practice, instead of evaluating the negative log likelihood loss,\n",
    "    # we could instead evaluate other metrics such as time-dependent concordance index,\n",
    "    # integrated Brier score, etc)\n",
    "    log_hazards_model.eval()\n",
    "    with torch.no_grad():\n",
    "        train_loss = torch.tensor(0.0, dtype=torch.float, device=device)\n",
    "        num_points = 0\n",
    "        for X_batch, Y_batch, D_batch in train_loader:\n",
    "            batch_num_points = X_batch.size(0)\n",
    "            log_hazards_batch = log_hazards_model(X_batch).view(-1)\n",
    "            train_loss += exp_nll_loss(log_hazards_batch, Y_batch, D_batch) * batch_num_points\n",
    "            num_points += batch_num_points\n",
    "        train_loss = float(train_loss / num_points)\n",
    "        train_epoch_losses.append(train_loss)\n",
    "        print(f'Epoch {epoch_index + 1} - train loss {train_loss}', end=' ', flush=True)\n",
    "\n",
    "        val_loss = torch.tensor(0.0, dtype=torch.float, device=device)\n",
    "        num_points = 0\n",
    "        for X_batch, Y_batch, D_batch in val_loader:\n",
    "            batch_num_points = X_batch.size(0)\n",
    "            log_hazards_batch = log_hazards_model(X_batch).view(-1)\n",
    "            val_loss += exp_nll_loss(log_hazards_batch, Y_batch, D_batch) * batch_num_points\n",
    "            num_points += batch_num_points\n",
    "        val_loss = float(val_loss / num_points)\n",
    "        val_epoch_losses.append(val_loss)\n",
    "        print(f'- val loss {val_loss}', flush=True)\n",
    "\n",
    "        if val_loss < best_val_loss:\n",
    "            best_val_loss = val_loss\n",
    "            best_epoch_index = epoch_index\n",
    "            best_params = deepcopy(log_hazards_model.state_dict())\n",
    "print(f'Best validation loss ({best_val_loss}) achieved at epoch {best_epoch_index + 1}')\n",
    "log_hazards_model.load_state_dict(best_params)"
   ]
  },
  {
   "cell_type": "code",
   "execution_count": 12,
   "id": "8d591b8f-de58-4e9c-9b6b-c7111ef86487",
   "metadata": {},
   "outputs": [
    {
     "data": {
      "text/plain": [
       "<matplotlib.legend.Legend at 0x70cdd354ccb0>"
      ]
     },
     "execution_count": 12,
     "metadata": {},
     "output_type": "execute_result"
    },
    {
     "data": {
      "image/png": "[encoded data removed]",
      "text/plain": [
       "<Figure size 640x480 with 1 Axes>"
      ]
     },
     "metadata": {},
     "output_type": "display_data"
    }
   ],
   "source": [
    "%matplotlib inline\n",
    "import matplotlib.pyplot as plt\n",
    "\n",
    "plt.plot(range(1, num_epochs + 1), train_epoch_losses, label='Training')\n",
    "plt.plot(range(1, num_epochs + 1), val_epoch_losses, '--', label='Validation')\n",
    "plt.xlabel('Epoch')\n",
    "plt.ylabel('Loss')\n",
    "plt.legend()"
   ]
  },
  {
   "cell_type": "markdown",
   "id": "79d47901-8f72-439e-838a-62847afec5b7",
   "metadata": {},
   "source": [
    "After training the model, the model parameters are as follows:"
   ]
  },
  {
   "cell_type": "code",
   "execution_count": 13,
   "id": "3e756210-e076-4fd3-a267-5aa43575ff17",
   "metadata": {},
   "outputs": [
    {
     "data": {
      "text/plain": [
       "Parameter containing:\n",
       "tensor([[ 0.2851, -0.1580,  0.0786,  0.0160,  0.6156,  1.2009, -0.0991,  0.1658,\n",
       "         -0.0120, -0.0124,  0.0415, -0.0505,  0.0799, -2.8905, -3.3175, -3.2151,\n",
       "         -3.3408, -3.3896, -3.4003]], device='cuda:0', requires_grad=True)"
      ]
     },
     "execution_count": 13,
     "metadata": {},
     "output_type": "execute_result"
    }
   ],
   "source": [
    "log_hazards_model.weight  # this is what is called beta in the monograph in equation (2.6)"
   ]
  },
  {
   "cell_type": "code",
   "execution_count": 14,
   "id": "55462f9c-44b8-493b-9547-912b991eb51d",
   "metadata": {},
   "outputs": [
    {
     "data": {
      "text/plain": [
       "Parameter containing:\n",
       "tensor([-3.4692], device='cuda:0', requires_grad=True)"
      ]
     },
     "execution_count": 14,
     "metadata": {},
     "output_type": "execute_result"
    }
   ],
   "source": [
    "log_hazards_model.bias  # this is what is called psi in the monograph in equation (2.6)"
   ]
  },
  {
   "cell_type": "markdown",
   "id": "49807d51-72fb-42f3-a4a5-93c59657eb0a",
   "metadata": {},
   "source": [
    "### Predicting test set survival curves"
   ]
  },
  {
   "cell_type": "markdown",
   "id": "9fd16f73-ebe8-4caf-8e8f-31a2ff773547",
   "metadata": {},
   "source": [
    "We begin by preprocessing the test data using the preprocessor built using training data."
   ]
  },
  {
   "cell_type": "code",
   "execution_count": 15,
   "id": "fe28bba0-9ab4-4940-854d-54eec8eb9065",
   "metadata": {},
   "outputs": [],
   "source": [
    "X_test_np = apply_preprocessor(X_test_raw_np, preprocessor)"
   ]
  },
  {
   "cell_type": "markdown",
   "id": "e5e438a5-a175-4362-9bce-a4e84340e9f4",
   "metadata": {},
   "source": [
    "Next, we apply the neural net model to the test data. We convert the resulting log hazard values to NumPy arrays since the plotting and evaluation code later on does not need nor use PyTorch."
   ]
  },
  {
   "cell_type": "code",
   "execution_count": 16,
   "id": "98225ec0-e2ee-4f64-beae-d4116d81ef60",
   "metadata": {},
   "outputs": [
    {
     "name": "stdout",
     "output_type": "stream",
     "text": [
      "(2662, 1)\n"
     ]
    }
   ],
   "source": [
    "X_test = torch.tensor(X_test_np, dtype=torch.float, device=device)\n",
    "with torch.no_grad():\n",
    "    log_hazards_test = log_hazards_model(X_test)\n",
    "    log_hazards_test_np = log_hazards_test.cpu().numpy()\n",
    "print(log_hazards_test_np.shape)"
   ]
  },
  {
   "cell_type": "markdown",
   "id": "74038c31-0f7b-48bf-990f-81d4e9962f2f",
   "metadata": {},
   "source": [
    "To back out a survival curve, for simplicity we just use a time grid specified by the unique times in the test data (this is not the only way to specify a time grid; for examples of other ways, see Section 2.3.2 of the monograph)."
   ]
  },
  {
   "cell_type": "code",
   "execution_count": 17,
   "id": "1d8c75b9-e5a2-4ac9-b71b-7ae74b0ae101",
   "metadata": {},
   "outputs": [
    {
     "name": "stdout",
     "output_type": "stream",
     "text": [
      "(2662, 1061)\n"
     ]
    }
   ],
   "source": [
    "import numpy as np\n",
    "time_grid_test_np = np.unique(Y_test_np)\n",
    "surv_test_np = np.exp(-time_grid_test_np*np.exp(log_hazards_test_np))  # equation (2.8) of the monograph applied to every test point\n",
    "print(surv_test_np.shape)"
   ]
  },
  {
   "cell_type": "markdown",
   "id": "639331f2-90fd-48ee-a96c-4f9fe03aeffc",
   "metadata": {},
   "source": [
    "Here's a plot of the predicted survival function for the 0th test data point:"
   ]
  },
  {
   "cell_type": "code",
   "execution_count": 18,
   "id": "e1bc9c26-471b-471d-8100-9f88af2c90bc",
   "metadata": {},
   "outputs": [
    {
     "data": {
      "text/plain": [
       "Text(0, 0.5, 'Survival probability')"
      ]
     },
     "execution_count": 18,
     "metadata": {},
     "output_type": "execute_result"
    },
    {
     "data": {
      "image/png": "[encoded data removed]",
      "text/plain": [
       "<Figure size 640x480 with 1 Axes>"
      ]
     },
     "metadata": {},
     "output_type": "display_data"
    }
   ],
   "source": [
    "plt.plot(time_grid_test_np, surv_test_np[0])\n",
    "plt.xlabel('Time')\n",
    "plt.ylabel('Survival probability')"
   ]
  },
  {
   "cell_type": "markdown",
   "id": "b3d9dda8-214c-4d57-afb3-60920423fe9e",
   "metadata": {},
   "source": [
    "### Computing test set evaluation metrics"
   ]
  },
  {
   "cell_type": "markdown",
   "id": "433f5906-bead-4dee-afdb-67f81b50dfb8",
   "metadata": {},
   "source": [
    "#### Concordance index (Harrell et al., 1982) using the scikit-survival implementation (Pölsterl, 2020)"
   ]
  },
  {
   "cell_type": "code",
   "execution_count": 19,
   "id": "f25759e6-12b5-440c-ad5c-0333688ca4c5",
   "metadata": {},
   "outputs": [
    {
     "name": "stdout",
     "output_type": "stream",
     "text": [
      "Harrell's concordance index: 0.6015103136584986\n"
     ]
    }
   ],
   "source": [
    "from sksurv.metrics import concordance_index_censored\n",
    "\n",
    "C_index = concordance_index_censored(D_test_np.astype(bool), Y_test_np, log_hazards_test_np.flatten())[0]\n",
    "print(f\"Harrell's concordance index: {C_index}\")"
   ]
  },
  {
   "cell_type": "markdown",
   "id": "931e241e-7648-4d28-91c8-ffc5942a13c9",
   "metadata": {},
   "source": [
    "#### Time-dependent concordance index (Antolini et al., 2005) using the PyCox implementation (Kvamme et al., 2019)\n",
    "\n",
    "We had mentioned in the monograph that time-dependent concordance index (Antolini et al., 2005) becomes the same as Harrell's concordance index when the proportional hazards assumption holds, but we had mentioned this in the context where we do not treat ties (in predicted log hazards) in a special manner (i.e., we just apply Definitions 2.4.1 and 2.4.2 of the monograph). When there are ties, the code here handles ties a bit differently which is why it is possible for Harrell's concordance index to be close to but not identical to Antolini et al.'s time-dependent concordance index."
   ]
  },
  {
   "cell_type": "code",
   "execution_count": 20,
   "id": "4e93bae8-67f1-4b2b-ac35-41270d413fc9",
   "metadata": {},
   "outputs": [
    {
     "name": "stdout",
     "output_type": "stream",
     "text": [
      "Time-dependent concordance index: 0.6015091745851251\n"
     ]
    }
   ],
   "source": [
    "from pycox.evaluation import EvalSurv\n",
    "\n",
    "# PyCox's EvalSurv expects the predicted test data's survival functions to be in\n",
    "# a Pandas DataFrame where the rows index time, and the columns index data points\n",
    "surv_test_df = pd.DataFrame(surv_test_np.T, index=time_grid_test_np)\n",
    "eval_pycox = EvalSurv(surv_test_df, Y_test_np, D_test_np)\n",
    "C_td = eval_pycox.concordance_td('antolini')\n",
    "\n",
    "print(f'Time-dependent concordance index: {C_td}')"
   ]
  },
  {
   "cell_type": "markdown",
   "id": "d25beae8-6208-41b0-a7ed-20e0d6f10ad7",
   "metadata": {},
   "source": [
    "#### Truncated time-dependent concordance index (Uno et al., 2011) using the scikit-survival implementation (Pölsterl, 2020)\n",
    "\n",
    "The training data are used to estimate the inverse censoring probability weights (see Remark 2.4.1)."
   ]
  },
  {
   "cell_type": "code",
   "execution_count": 21,
   "id": "c2875af8-4377-4d2a-a05d-380b0de2f82b",
   "metadata": {},
   "outputs": [
    {
     "name": "stdout",
     "output_type": "stream",
     "text": [
      "Eval time 316.0 - truncated time-dependent concordance: 0.5953761399115698\n",
      "Eval time 693.0 - truncated time-dependent concordance: 0.6016806042300841\n",
      "Eval time 1291.0 - truncated time-dependent concordance: 0.6030430535603264\n"
     ]
    }
   ],
   "source": [
    "from sksurv.util import Surv\n",
    "from sksurv.metrics import concordance_index_ipcw\n",
    "\n",
    "# convert training and test labels into the structured array format used by scikit-survival\n",
    "labels_train_sksurv = Surv.from_arrays(D_train_np, Y_train_np)\n",
    "labels_test_sksurv = Surv.from_arrays(D_test_np, Y_test_np)\n",
    "\n",
    "# as an illustrative example, we evaluate the truncated time-dependent concordance index at\n",
    "# 25, 50, and 75 percentile values of the time grid we specified earlier\n",
    "eval_time_indices = [int(.25 * len(time_grid_test_np)),\n",
    "                     int(.5 * len(time_grid_test_np)),\n",
    "                     int(.75 * len(time_grid_test_np))]\n",
    "\n",
    "for eval_time_index in eval_time_indices:\n",
    "    eval_time = time_grid_test_np[eval_time_index]\n",
    "    surv_values_at_eval_time_np = surv_test_np[:, eval_time_index]\n",
    "    estimated_risks_np = 1 - surv_values_at_eval_time_np\n",
    "    concordance = concordance_index_ipcw(labels_train_sksurv, labels_test_sksurv, estimated_risks_np, tau=eval_time)[0]\n",
    "    print(f'Eval time {eval_time} - truncated time-dependent concordance: {concordance}')"
   ]
  },
  {
   "cell_type": "markdown",
   "id": "b27d2851-845a-4d8a-a36e-faccc829b824",
   "metadata": {},
   "source": [
    "#### Time-dependent AUC (Uno et al., 2007; Hung and Chiang, 2010) using the scikit-survival implementation (Pölsterl, 2020)\n",
    "\n",
    "Again, the training data are used to estimate the inverse censoring probability weights (see Remark 2.4.1)."
   ]
  },
  {
   "cell_type": "code",
   "execution_count": 22,
   "id": "fe777d9e-10e2-49d0-8563-5a7b9889d732",
   "metadata": {},
   "outputs": [
    {
     "name": "stdout",
     "output_type": "stream",
     "text": [
      "Eval time 316.0 - time-dependent AUC: 0.6615151728908589\n",
      "Eval time 693.0 - time-dependent AUC: 0.6973356286487862\n",
      "Eval time 1291.0 - time-dependent AUC: 0.7083580841311308\n"
     ]
    }
   ],
   "source": [
    "from sksurv.metrics import cumulative_dynamic_auc\n",
    "\n",
    "for eval_time_index in eval_time_indices:\n",
    "    eval_time = time_grid_test_np[eval_time_index]\n",
    "    surv_values_at_eval_time_np = surv_test_np[:, eval_time_index]\n",
    "    estimated_risks_np = 1 - surv_values_at_eval_time_np\n",
    "    AUC = cumulative_dynamic_auc(labels_train_sksurv, labels_test_sksurv, estimated_risks_np, times=[eval_time])[0][0]\n",
    "    print(f'Eval time {eval_time} - time-dependent AUC: {AUC}')"
   ]
  },
  {
   "cell_type": "markdown",
   "id": "86d2ae6f-d8db-4bd5-93fd-6075bb478dd3",
   "metadata": {},
   "source": [
    "#### Brier score (Graf et al., 1999) using the SurvivalEVAL implementation (Qi et al., 2024)\n",
    "\n",
    "Again, the training data are used to estimate the inverse censoring probability weights (see Remark 2.4.1)."
   ]
  },
  {
   "cell_type": "code",
   "execution_count": 23,
   "id": "594ed417-a759-4871-91fe-657e3d02f111",
   "metadata": {},
   "outputs": [
    {
     "name": "stdout",
     "output_type": "stream",
     "text": [
      "Eval time 316.0 - Brier score: 0.25470911933258444\n"
     ]
    },
    {
     "name": "stderr",
     "output_type": "stream",
     "text": [
      "/home/george/anaconda3/lib/python3.12/site-packages/SurvivalEVAL/Evaluator.py:59: UserWarning: The first time coordinate is not 0. A authentic survival curve should start from 0 with 100% survival probability. \\Adding 0 to the beginning of the time coordinates and 1 to the beginning of the predicted curves.\n",
      "  warnings.warn(\"The first time coordinate is not 0. \"\n"
     ]
    },
    {
     "name": "stdout",
     "output_type": "stream",
     "text": [
      "Eval time 693.0 - Brier score: 0.2068126005344934\n",
      "Eval time 1291.0 - Brier score: 0.19407589412033474\n",
      "Integrated Brier score: 0.19434097601763511\n"
     ]
    }
   ],
   "source": [
    "from SurvivalEVAL.Evaluator import SurvivalEvaluator\n",
    "\n",
    "eval = SurvivalEvaluator(surv_test_np, time_grid_test_np,\n",
    "                         Y_test_np, D_test_np,\n",
    "                         Y_train_np, D_train_np)  # note: training labels are also needed\n",
    "\n",
    "for eval_time_index in eval_time_indices:\n",
    "    eval_time = float(time_grid_test_np[eval_time_index])\n",
    "    print(f'Eval time {eval_time} - Brier score: {eval.brier_score(eval_time)}')\n",
    "\n",
    "IBS = eval.integrated_brier_score()\n",
    "print(f'Integrated Brier score: {IBS}')"
   ]
  },
  {
   "cell_type": "markdown",
   "id": "8d898890-64df-4aac-a27c-e0e33132a505",
   "metadata": {},
   "source": [
    "#### D-Calibration (Haider et al., 2020) using the SurvivalEVAL implementation (Qi et al., 2024)\n",
    "\n",
    "We reuse the `eval` object defined in the previous code cell. However, we point out that we actually do *not* need to provide training labels. In other words, the code cell below would still run if we started it by re-defining the `eval` object as follows:\n",
    "\n",
    "```\n",
    "eval = SurvivalEvaluator(surv_test_np, time_grid_test_np, Y_test_np, D_test_np)\n",
    "```"
   ]
  },
  {
   "cell_type": "code",
   "execution_count": 24,
   "id": "d5281245-920b-4f82-941c-66e7d35d34c8",
   "metadata": {},
   "outputs": [
    {
     "name": "stdout",
     "output_type": "stream",
     "text": [
      "The model is not D-calibrated.\n"
     ]
    }
   ],
   "source": [
    "p_value, bin_stats = eval.d_calibration()\n",
    "if p_value >= .05:\n",
    "    print('The model is D-calibrated.')\n",
    "else:\n",
    "    print('The model is not D-calibrated.')"
   ]
  },
  {
   "cell_type": "markdown",
   "id": "b2533edb-260c-4e16-9e09-b59954a9196f",
   "metadata": {},
   "source": [
    "#### Mean Absolute Error via the margin (Haider et al., 2020) and, separately, the Pseudo Observation approach (Qi et al., 2023) both using the SurvivalEVAL implementation (Qi et al., 2024)\n",
    "\n",
    "The training data are used to fit a Kaplan-Meier estimator (which is used in both the margin and PO approaches for getting a pseudo ground truth survival time for censored data; also, this Kaplan-Meier estimator is also used to compute weights for different censored evaluation data points)."
   ]
  },
  {
   "cell_type": "code",
   "execution_count": 25,
   "id": "94aac7b8-2d20-437a-9b5d-304db3971ae8",
   "metadata": {},
   "outputs": [
    {
     "name": "stdout",
     "output_type": "stream",
     "text": [
      "Weighted MAE-Margin: 640.1538552007486\n"
     ]
    }
   ],
   "source": [
    "weighted_MAE_margin = eval.mae(method='Margin', weighted=True)\n",
    "print(f'Weighted MAE-Margin: {weighted_MAE_margin}')"
   ]
  },
  {
   "cell_type": "code",
   "execution_count": 26,
   "id": "dc0f800a-a847-44f2-ac85-698c9f72a881",
   "metadata": {},
   "outputs": [
    {
     "name": "stdout",
     "output_type": "stream",
     "text": [
      "Weighted MAE-PO: 758.3064709270622\n"
     ]
    }
   ],
   "source": [
    "weighted_MAE_PO = eval.mae(method='Pseudo_obs', weighted=True)\n",
    "print(f'Weighted MAE-PO: {weighted_MAE_PO}')"
   ]
  }
 ],
 "metadata": {
  "kernelspec": {
   "display_name": "Python 3 (ipykernel)",
   "language": "python",
   "name": "python3"
  },
  "language_info": {
   "codemirror_mode": {
    "name": "ipython",
    "version": 3
   },
   "file_extension": ".py",
   "mimetype": "text/x-python",
   "name": "python",
   "nbconvert_exporter": "python",
   "pygments_lexer": "ipython3",
   "version": "3.12.4"
  }
 },
 "nbformat": 4,
 "nbformat_minor": 5
}
