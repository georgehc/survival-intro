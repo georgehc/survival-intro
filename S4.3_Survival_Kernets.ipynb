{
 "cells": [
  {
   "cell_type": "markdown",
   "id": "b45f4951-fd8b-4829-a322-a0f08c3a421d",
   "metadata": {},
   "source": [
    "# Section 4.3: Survival Kernets Demo\n",
    "\n",
    "Author: George H. Chen (georgechen [at symbol] cmu.edu)\n",
    "\n",
    "This demo covers how to implement survival kernets (Chen, 2024) using PyTorch and PyCox (Chen's original code is written based on existing PyCox code). For an overview of survival kernets, please see Section 4.3 in the monograph. This demo is very similar to the DeepHit demo (`S2.3.3_DeepHit_single.ipynb`). Please look at the DeepHit demo first.\n",
    "\n",
    "Note that the code for survival kernets in some sense supersedes the earlier deep kernel survival analysis (DKSA) model by Chen (2020)--covered in Section 4.2 of the monograph--since it is possible to set hyperparameters for survival kernets and set up the warm-start in a way that we recover the original DKSA approach.\n",
    "\n",
    "The base neural network in this case is used to help compute a kernel function (i.e., a function that gives a similarity score between 0 and 1 for any two pairs of data points; a higher similarity score means that the two points are considered more similar).\n",
    "\n",
    "Model training works as follows:\n",
    "\n",
    "1. We first train an XGBoost model. The XGBoost model's predicted leaves for the data points are then used to warm-start base neural network training. Chen (2024) refers to this step as the \"Tree ensemble Under a Neural Approximation\" (TUNA) warm-start.\n",
    "2. We then continue to train the base neural network using a negative log likelihood loss + a ranking loss (similar to DeepHit).\n",
    "3. Finally, treating the base neural network as fixed (so that the kernel function is treated as fixed), we now treat the different exemplar/cluster summary functions as parameters that can be optimized (rather than having them be determined based on a Kaplan-Meier calculation). Chen (2024) refers to this step as \"summary fine-tuning\"."
   ]
  },
  {
   "cell_type": "markdown",
   "id": "ed45bbae-a124-4865-afa0-d04f62b24610",
   "metadata": {},
   "source": [
    "### Loading in the SUPPORT dataset (Knaus et al., 1995)\n",
    "\n",
    "As with the earlier demo, we begin by defining the training, validation, and test sets."
   ]
  },
  {
   "cell_type": "code",
   "execution_count": 1,
   "id": "ca8b9722-9480-4771-850a-592ebe83687e",
   "metadata": {},
   "outputs": [
    {
     "name": "stdout",
     "output_type": "stream",
     "text": [
      "Training set size 4968\n",
      "Validation set size 1243\n",
      "Test set size 2662\n",
      "\n",
      "Features before preprocessing (14 total):\n",
      "['age', 'female', 'race', 'num.co', 'diabetes', 'dementia', 'ca', 'meanbp', 'hrt', 'resp', 'temp', 'wblc', 'sod', 'crea']\n",
      "\n",
      "Features after preprocessing (19 total):\n",
      "['age_std', 'female', 'num.co_norm', 'diabetes', 'dementia', 'ca_norm', 'meanbp_std', 'hrt_std', 'resp_std', 'temp_std', 'wblc_std', 'sod_std', 'crea_std', 'race_blank', 'race_asian', 'race_black', 'race_hispanic', 'race_other', 'race_white']\n",
      "\n",
      "Events: ['death']\n",
      "\n"
     ]
    }
   ],
   "source": [
    "from datasets import load_dataset\n",
    "from sklearn.model_selection import train_test_split\n",
    "\n",
    "X_full_train_raw_np, Y_full_train_np, D_full_train_np, \\\n",
    "        X_test_raw_np, Y_test_np, D_test_np, \\\n",
    "        features_before_preprocessing, features_after_preprocessing, \\\n",
    "        events, train_test_split_prespecified, \\\n",
    "        build_preprocessor_and_preprocess, apply_preprocessor = load_dataset('support')\n",
    "\n",
    "# split the \"full training set\" into the actual training set and a validation set (using a 80/20 split)\n",
    "X_train_raw_np, X_val_raw_np, Y_train_np, Y_val_np, D_train_np, D_val_np = \\\n",
    "    train_test_split(X_full_train_raw_np, Y_full_train_np, D_full_train_np,\n",
    "                     test_size=.2, random_state=0)\n",
    "\n",
    "print(f'Training set size {X_train_raw_np.shape[0]}')\n",
    "print(f'Validation set size {X_val_raw_np.shape[0]}')\n",
    "print(f'Test set size {X_test_raw_np.shape[0]}')\n",
    "print()\n",
    "\n",
    "print(f'Features before preprocessing ({len(features_before_preprocessing)} total):')\n",
    "print(features_before_preprocessing)\n",
    "print()\n",
    "\n",
    "print(f'Features after preprocessing ({len(features_after_preprocessing)} total):')\n",
    "print(features_after_preprocessing)\n",
    "print()\n",
    "\n",
    "print('Events:', events)  # only one critical event for the standard time-to-event prediction setup\n",
    "print()"
   ]
  },
  {
   "cell_type": "markdown",
   "id": "c17484e8-156a-4724-a1e2-bd7f2025db68",
   "metadata": {},
   "source": [
    "We fit and apply a preprocessor to the training set. We apply (but do not re-fit) the preprocessor to the validation set."
   ]
  },
  {
   "cell_type": "code",
   "execution_count": 2,
   "id": "835b67c9-142f-47d8-82ee-e9d885e674f0",
   "metadata": {},
   "outputs": [],
   "source": [
    "X_train_np, preprocessor = build_preprocessor_and_preprocess(X_train_raw_np)\n",
    "X_val_np = apply_preprocessor(X_val_raw_np, preprocessor)"
   ]
  },
  {
   "cell_type": "markdown",
   "id": "b84e562b-bfc3-41f9-9766-5d39eb134548",
   "metadata": {},
   "source": [
    "### Warm-start: Tree ensemble Under a Neural Approximation (TUNA)\n",
    "\n",
    "The original deep kernel survival analysis paper (Chen, 2020) found warm-starting neural net training with random survival forests (Ishwaran et al., 2008) to be helpful (typically better than using standard neural net random parameter initialization). The problem is that random survival forests do not scale well to very large datasets. Chen (2024) subsequently showed how to instead use XGBoost (Chen and Guestrin, 2016) to warm-start neural net training. Note that XGBoost scales to very large datasets and also supports survival analysis.\n",
    "\n",
    "#### Training an XGBoost model to help with warm-starting base neural net training\n",
    "\n",
    "We begin by training an XGBoost model. For simplicity, we do not tune the hyperparameters of this XGBoost model aside from the number of rounds/trees used (where we use XGBoost's built-in early stopping functionality). In practice, one should try to tune this XGBoost model to make it as good as possible by, for instance, tuning hyperparameters using the validation set &mdash; no peeking at the test set of course. XGBoost's built-in early-stopping just uses whichever loss function we ask it to use, in this case the Cox loss. In practice, one could instead use a different validation set loss (for instance, Chen's XGBoost demo code evaluates Harrell's concordance index on the validation set to decide on how many iterations/trees to use: https://github.com/georgehc/survival-kernets/blob/main/demo_xgb.py)."
   ]
  },
  {
   "cell_type": "code",
   "execution_count": 3,
   "id": "29d0d37a-e6a5-492a-a251-73a0746efe1d",
   "metadata": {},
   "outputs": [
    {
     "name": "stdout",
     "output_type": "stream",
     "text": [
      "[0]\tval-cox-nloglik:6.59471\n",
      "[1]\tval-cox-nloglik:6.58534\n",
      "[2]\tval-cox-nloglik:6.57637\n",
      "[3]\tval-cox-nloglik:6.57156\n",
      "[4]\tval-cox-nloglik:6.56784\n",
      "[5]\tval-cox-nloglik:6.56498\n",
      "[6]\tval-cox-nloglik:6.56092\n",
      "[7]\tval-cox-nloglik:6.55869\n",
      "[8]\tval-cox-nloglik:6.56051\n",
      "[9]\tval-cox-nloglik:6.55782\n",
      "[10]\tval-cox-nloglik:6.55753\n",
      "[11]\tval-cox-nloglik:6.55430\n",
      "[12]\tval-cox-nloglik:6.55883\n",
      "[13]\tval-cox-nloglik:6.55797\n",
      "[14]\tval-cox-nloglik:6.55716\n",
      "[15]\tval-cox-nloglik:6.55791\n",
      "[16]\tval-cox-nloglik:6.55852\n",
      "[17]\tval-cox-nloglik:6.56349\n",
      "[18]\tval-cox-nloglik:6.56910\n",
      "[19]\tval-cox-nloglik:6.57237\n",
      "[20]\tval-cox-nloglik:6.58053\n",
      "[21]\tval-cox-nloglik:6.58216\n"
     ]
    }
   ],
   "source": [
    "import xgboost as xgb\n",
    "\n",
    "# for the Cox model, XGBoost expects censored observations to be specified as negative\n",
    "train_data_xgb = xgb.DMatrix(X_train_np,\n",
    "                             label=Y_train_np * (2*(D_train_np - 0.5)))\n",
    "val_data_xgb = xgb.DMatrix(X_val_np,\n",
    "                           label=Y_val_np * (2*(D_val_np - 0.5)))\n",
    "\n",
    "# note that there are many other hyperparameters that can be tuned -- see the XGBoost documentation for details\n",
    "xgb_params = {'seed': 0,\n",
    "              'eta': .1,\n",
    "              'objective': 'survival:cox'}\n",
    "max_num_rounds = 100\n",
    "early_stopping = 10\n",
    "\n",
    "xgb_model = xgb.train(xgb_params, train_data_xgb, max_num_rounds,\n",
    "                      early_stopping_rounds=early_stopping,\n",
    "                      evals=[(val_data_xgb, 'val')])"
   ]
  },
  {
   "cell_type": "markdown",
   "id": "401e2cb3-87bd-4e84-8b7d-22483d96282c",
   "metadata": {},
   "source": [
    "To use the warm-start approach by Chen (2024), we need to know which tree leaves the different training and validation points get predicted to be in. XGBoost provides this functionality as follows:"
   ]
  },
  {
   "cell_type": "code",
   "execution_count": 4,
   "id": "f72c1450-a4d1-4290-9c6c-2ac1ac09eec2",
   "metadata": {},
   "outputs": [],
   "source": [
    "xgb_leaves_train = xgb_model.predict(train_data_xgb,\n",
    "                                     iteration_range=(0, xgb_model.best_iteration + 1),\n",
    "                                     pred_leaf=True)\n",
    "xgb_leaves_val = xgb_model.predict(val_data_xgb,\n",
    "                                   iteration_range=(0, xgb_model.best_iteration + 1),\n",
    "                                   pred_leaf=True)"
   ]
  },
  {
   "cell_type": "markdown",
   "id": "6a2d66d7-047d-4ec2-a942-6a8cdce1338c",
   "metadata": {},
   "source": [
    "We'll see how these leaves are used next."
   ]
  },
  {
   "cell_type": "markdown",
   "id": "e690bcbf-3b52-4896-b15a-0d70f82294ec",
   "metadata": {},
   "source": [
    "#### Prepare training and validation data for TUNA"
   ]
  },
  {
   "cell_type": "code",
   "execution_count": 5,
   "id": "97942c8d-9ba4-4f76-8312-1cf97dfb3942",
   "metadata": {},
   "outputs": [],
   "source": [
    "import torch\n",
    "\n",
    "device = torch.device('cuda' if torch.cuda.is_available() else 'cpu')\n",
    "\n",
    "X_train = torch.tensor(X_train_np, dtype=torch.float32, device=device)\n",
    "leaves_train = torch.tensor(xgb_leaves_train, dtype=torch.float32, device=device)\n",
    "tuna_train_data = list(zip(X_train, leaves_train))\n",
    "\n",
    "X_val = torch.tensor(X_val_np, dtype=torch.float32, device=device)\n",
    "leaves_val = torch.tensor(xgb_leaves_val, dtype=torch.float32, device=device)\n",
    "tuna_val_data = list(zip(X_val, leaves_val))"
   ]
  },
  {
   "cell_type": "markdown",
   "id": "88616fc7-274d-4dc0-bc91-a619672295ba",
   "metadata": {},
   "source": [
    "#### Set up the base neural net (not just for the TUNA warm-start---we keep training it after the warm-start)"
   ]
  },
  {
   "cell_type": "code",
   "execution_count": 6,
   "id": "535066b0-2ee8-441d-8037-ca3586efa311",
   "metadata": {},
   "outputs": [],
   "source": [
    "import torch.nn as nn\n",
    "from survival_kernets.models import Hypersphere\n",
    "\n",
    "torch.manual_seed(0)\n",
    "\n",
    "num_input_features = X_train.size(1)\n",
    "base_neural_net = nn.Sequential(nn.Linear(num_input_features, 16),\n",
    "                                nn.ReLU(),\n",
    "                                nn.Linear(16, 16),\n",
    "                                Hypersphere(squared_radius=0.1)).to(device)"
   ]
  },
  {
   "cell_type": "markdown",
   "id": "beb59f11-63c1-4209-acfe-7972b4345823",
   "metadata": {},
   "source": [
    "#### Set up the TUNA loss\n",
    "\n",
    "Which leaves the data points are predicted to be in are used to compute a target kernel matrix.\n",
    "\n",
    "The neural net's output could also be used to generate a predicted kernel matrix.\n",
    "\n",
    "We simply ask that the predicted and target kernel matrices are close in terms of MSE loss."
   ]
  },
  {
   "cell_type": "code",
   "execution_count": 7,
   "id": "979b7e54-3fe6-4def-9009-19e1d3e71830",
   "metadata": {},
   "outputs": [],
   "source": [
    "import torch.nn.functional as F\n",
    "from survival_kernets.models import symmetric_squared_pairwise_distances\n",
    "\n",
    "def tuna_loss(neural_net_output, leaves_batch):\n",
    "    predicted_kernel_matrix = \\\n",
    "        (-symmetric_squared_pairwise_distances(neural_net_output)).exp() \\\n",
    "         - torch.eye(neural_net_output.size(0), device=device)\n",
    "    target_kernel_matrix = \\\n",
    "        (1. - torch.cdist(leaves_batch, leaves_batch, 0) / leaves_batch.size(1)).view(-1)\n",
    "    return F.mse_loss(predicted_kernel_matrix.view(-1), target_kernel_matrix.view(-1))"
   ]
  },
  {
   "cell_type": "markdown",
   "id": "abcfaf8d-f01e-47a0-9cb6-e61135e673e2",
   "metadata": {},
   "source": [
    "#### TUNA minibatch gradient descent"
   ]
  },
  {
   "cell_type": "code",
   "execution_count": 8,
   "id": "13b4e735-b5ba-47b7-8ad3-e07cf037b061",
   "metadata": {},
   "outputs": [
    {
     "name": "stdout",
     "output_type": "stream",
     "text": [
      "Epoch 1 - train loss 0.020665979012846947 - val loss 0.021243002265691757\n",
      "Epoch 2 - train loss 0.018862249329686165 - val loss 0.01920282654464245\n",
      "Epoch 3 - train loss 0.01741189695894718 - val loss 0.017763640731573105\n",
      "Epoch 4 - train loss 0.017038807272911072 - val loss 0.017298027873039246\n",
      "Epoch 5 - train loss 0.01647206023335457 - val loss 0.016931984573602676\n",
      "Epoch 6 - train loss 0.016326095908880234 - val loss 0.01659383624792099\n",
      "Epoch 7 - train loss 0.016163984313607216 - val loss 0.016638632863759995\n",
      "Epoch 8 - train loss 0.016125136986374855 - val loss 0.016618166118860245\n",
      "Epoch 9 - train loss 0.015812942758202553 - val loss 0.016302917152643204\n",
      "Epoch 10 - train loss 0.01581600308418274 - val loss 0.01629641093313694\n",
      "Epoch 11 - train loss 0.01570870541036129 - val loss 0.016079997643828392\n",
      "Epoch 12 - train loss 0.015451312065124512 - val loss 0.015938090160489082\n",
      "Epoch 13 - train loss 0.015308879315853119 - val loss 0.015848958864808083\n",
      "Epoch 14 - train loss 0.01537502370774746 - val loss 0.015957098454236984\n",
      "Epoch 15 - train loss 0.015375842340290546 - val loss 0.015819748863577843\n",
      "Epoch 16 - train loss 0.015175800770521164 - val loss 0.015499685890972614\n",
      "Epoch 17 - train loss 0.0155350212007761 - val loss 0.01613089069724083\n",
      "Epoch 18 - train loss 0.015095767565071583 - val loss 0.015656569972634315\n",
      "Epoch 19 - train loss 0.014960454776883125 - val loss 0.015530203469097614\n",
      "Epoch 20 - train loss 0.01522697415202856 - val loss 0.01572582498192787\n",
      "Epoch 21 - train loss 0.014990106225013733 - val loss 0.015525461174547672\n",
      "Epoch 22 - train loss 0.01502311322838068 - val loss 0.015531586483120918\n",
      "Epoch 23 - train loss 0.015079567208886147 - val loss 0.01559921633452177\n",
      "Epoch 24 - train loss 0.014893238432705402 - val loss 0.015455191023647785\n",
      "Epoch 25 - train loss 0.015091458335518837 - val loss 0.015515615232288837\n",
      "Epoch 26 - train loss 0.015086774714291096 - val loss 0.015684248879551888\n",
      "Epoch 27 - train loss 0.01481973472982645 - val loss 0.015452982857823372\n",
      "Epoch 28 - train loss 0.014819744043052197 - val loss 0.015346691943705082\n",
      "Epoch 29 - train loss 0.01496877521276474 - val loss 0.015550483018159866\n",
      "Epoch 30 - train loss 0.014884947799146175 - val loss 0.015538642182946205\n",
      "Epoch 31 - train loss 0.014909199438989162 - val loss 0.015495505183935165\n",
      "Epoch 32 - train loss 0.014941664412617683 - val loss 0.015446118079125881\n",
      "Epoch 33 - train loss 0.014940510503947735 - val loss 0.015387370251119137\n",
      "Epoch 34 - train loss 0.014855017885565758 - val loss 0.015226844698190689\n",
      "Epoch 35 - train loss 0.015059856697916985 - val loss 0.01549362950026989\n",
      "Epoch 36 - train loss 0.014710565097630024 - val loss 0.015259596519172192\n",
      "Epoch 37 - train loss 0.01488410122692585 - val loss 0.01545293815433979\n",
      "Epoch 38 - train loss 0.014778544194996357 - val loss 0.015260454267263412\n",
      "Epoch 39 - train loss 0.014682307839393616 - val loss 0.015240682289004326\n",
      "Epoch 40 - train loss 0.014736892655491829 - val loss 0.01532663032412529\n",
      "Epoch 41 - train loss 0.014757842756807804 - val loss 0.015415096655488014\n",
      "Epoch 42 - train loss 0.014810717664659023 - val loss 0.01532800029963255\n",
      "Epoch 43 - train loss 0.014660608023405075 - val loss 0.01507941260933876\n",
      "Epoch 44 - train loss 0.014650290831923485 - val loss 0.015218478627502918\n",
      "Epoch 45 - train loss 0.014640473760664463 - val loss 0.015177726745605469\n",
      "Epoch 46 - train loss 0.014750161208212376 - val loss 0.015323794446885586\n",
      "Epoch 47 - train loss 0.01479477807879448 - val loss 0.015206892043352127\n",
      "Epoch 48 - train loss 0.014599411748349667 - val loss 0.015079215168952942\n",
      "Epoch 49 - train loss 0.014697997830808163 - val loss 0.015189995989203453\n",
      "Epoch 50 - train loss 0.01463627815246582 - val loss 0.015242510475218296\n",
      "Epoch 51 - train loss 0.014685079455375671 - val loss 0.01512319315224886\n",
      "Epoch 52 - train loss 0.014591273851692677 - val loss 0.015235021710395813\n",
      "Epoch 53 - train loss 0.014717144891619682 - val loss 0.015171976760029793\n",
      "Epoch 54 - train loss 0.014571757055819035 - val loss 0.015153607353568077\n",
      "Epoch 55 - train loss 0.014675126411020756 - val loss 0.015222122892737389\n",
      "Epoch 56 - train loss 0.014649661257863045 - val loss 0.015374435111880302\n",
      "Epoch 57 - train loss 0.014637298882007599 - val loss 0.015121512115001678\n",
      "Epoch 58 - train loss 0.014637740328907967 - val loss 0.01521430816501379\n",
      "Epoch 59 - train loss 0.014738356694579124 - val loss 0.015296561643481255\n",
      "Epoch 60 - train loss 0.014535117894411087 - val loss 0.015153429470956326\n",
      "Epoch 61 - train loss 0.01463848166167736 - val loss 0.015195842832326889\n",
      "Epoch 62 - train loss 0.014703887514770031 - val loss 0.015161950141191483\n",
      "Epoch 63 - train loss 0.014770545065402985 - val loss 0.015337579883635044\n",
      "Epoch 64 - train loss 0.014498916454613209 - val loss 0.015106020495295525\n",
      "Epoch 65 - train loss 0.014599772170186043 - val loss 0.015170908533036709\n",
      "Epoch 66 - train loss 0.014702576212584972 - val loss 0.015225136652588844\n",
      "Epoch 67 - train loss 0.014549690298736095 - val loss 0.01512388326227665\n",
      "Epoch 68 - train loss 0.014553707093000412 - val loss 0.015146835707128048\n",
      "Epoch 69 - train loss 0.014668431133031845 - val loss 0.015318365767598152\n",
      "Epoch 70 - train loss 0.014784888364374638 - val loss 0.015332161448895931\n",
      "Epoch 71 - train loss 0.014463594183325768 - val loss 0.015029489062726498\n",
      "Epoch 72 - train loss 0.014707262627780437 - val loss 0.01539110392332077\n",
      "Epoch 73 - train loss 0.014808915555477142 - val loss 0.015174634754657745\n",
      "Epoch 74 - train loss 0.01464959979057312 - val loss 0.015099204145371914\n",
      "Epoch 75 - train loss 0.014476777985692024 - val loss 0.015078687109053135\n",
      "Epoch 76 - train loss 0.01463371142745018 - val loss 0.015267455019056797\n",
      "Epoch 77 - train loss 0.014646300114691257 - val loss 0.015237202867865562\n",
      "Epoch 78 - train loss 0.014473093673586845 - val loss 0.015046145766973495\n",
      "Epoch 79 - train loss 0.014566352590918541 - val loss 0.015218517743051052\n",
      "Epoch 80 - train loss 0.014456036500632763 - val loss 0.015086712315678596\n",
      "Epoch 81 - train loss 0.014614707790315151 - val loss 0.015149486251175404\n",
      "Epoch 82 - train loss 0.014520499855279922 - val loss 0.015073365531861782\n",
      "Epoch 83 - train loss 0.01454966515302658 - val loss 0.015103919431567192\n",
      "Epoch 84 - train loss 0.014523489400744438 - val loss 0.015054747462272644\n",
      "Epoch 85 - train loss 0.01443383190780878 - val loss 0.01496330089867115\n",
      "Epoch 86 - train loss 0.014512108638882637 - val loss 0.015122953802347183\n",
      "Epoch 87 - train loss 0.014540554024279118 - val loss 0.015088943764567375\n",
      "Epoch 88 - train loss 0.01456158235669136 - val loss 0.015242057852447033\n",
      "Epoch 89 - train loss 0.014376763254404068 - val loss 0.015066354535520077\n",
      "Epoch 90 - train loss 0.014559109695255756 - val loss 0.015163992531597614\n",
      "Epoch 91 - train loss 0.014630679041147232 - val loss 0.015230192802846432\n",
      "Epoch 92 - train loss 0.014495416544377804 - val loss 0.015240756794810295\n",
      "Epoch 93 - train loss 0.014567810110747814 - val loss 0.015070531517267227\n",
      "Epoch 94 - train loss 0.014521402306854725 - val loss 0.015044721774756908\n",
      "Epoch 95 - train loss 0.01449901144951582 - val loss 0.01507862750440836\n",
      "Epoch 96 - train loss 0.014473538845777512 - val loss 0.015070204623043537\n",
      "Epoch 97 - train loss 0.014502768404781818 - val loss 0.015107306651771069\n",
      "Epoch 98 - train loss 0.014538654126226902 - val loss 0.015122771263122559\n",
      "Epoch 99 - train loss 0.014497414231300354 - val loss 0.015038914978504181\n",
      "Epoch 100 - train loss 0.014445425011217594 - val loss 0.01502600684762001\n",
      "Best validation loss (0.01496330089867115) achieved at epoch 85\n"
     ]
    },
    {
     "data": {
      "text/plain": [
       "<All keys matched successfully>"
      ]
     },
     "execution_count": 8,
     "metadata": {},
     "output_type": "execute_result"
    }
   ],
   "source": [
    "from copy import deepcopy\n",
    "from torch.utils.data import DataLoader\n",
    "\n",
    "# minibatch gradient descent\n",
    "num_epochs = 100\n",
    "batch_size = 128\n",
    "learning_rate = 1e-1\n",
    "\n",
    "tuna_train_loader = DataLoader(tuna_train_data, batch_size, shuffle=True)  # shuffling for minibatch gradient descent\n",
    "tuna_val_loader = DataLoader(tuna_val_data, batch_size, shuffle=False)  # there is no need to shuffle the validation data\n",
    "\n",
    "optimizer = torch.optim.Adam(base_neural_net.parameters(), lr=learning_rate)\n",
    "train_epoch_losses = []\n",
    "val_epoch_losses = []\n",
    "best_val_loss = float('inf')\n",
    "best_params = None\n",
    "best_epoch_index = None\n",
    "for epoch_index in range(num_epochs):\n",
    "    base_neural_net.train()\n",
    "    for X_batch, leaves_batch in tuna_train_loader:\n",
    "        neural_net_output = base_neural_net(X_batch)\n",
    "        loss_batch = tuna_loss(neural_net_output, leaves_batch)\n",
    "\n",
    "        optimizer.zero_grad()\n",
    "        loss_batch.backward()\n",
    "        optimizer.step()\n",
    "\n",
    "    # evaluate training and validation set losses\n",
    "    # (note that in practice, instead of evaluating the negative log likelihood loss,\n",
    "    # we could instead evaluate other metrics such as time-dependent concordance index,\n",
    "    # integrated Brier score, etc)\n",
    "    base_neural_net.eval()\n",
    "    with torch.no_grad():\n",
    "        train_loss = torch.tensor(0.0, dtype=torch.float, device=device)\n",
    "        num_points = 0\n",
    "        for X_batch, leaves_batch in tuna_train_loader:\n",
    "            batch_num_points = X_batch.size(0)\n",
    "            neural_net_output = base_neural_net(X_batch)\n",
    "            train_loss += tuna_loss(neural_net_output, leaves_batch) * batch_num_points\n",
    "            num_points += batch_num_points\n",
    "        train_loss = float(train_loss / num_points)\n",
    "        train_epoch_losses.append(train_loss)\n",
    "        print(f'Epoch {epoch_index + 1} - train loss {train_loss}', end=' ', flush=True)\n",
    "\n",
    "        val_loss = torch.tensor(0.0, dtype=torch.float, device=device)\n",
    "        num_points = 0\n",
    "        for X_batch, leaves_batch in tuna_val_loader:\n",
    "            batch_num_points = X_batch.size(0)\n",
    "            neural_net_output = base_neural_net(X_batch)\n",
    "            val_loss += tuna_loss(neural_net_output, leaves_batch) * batch_num_points\n",
    "            num_points += batch_num_points\n",
    "        val_loss = float(val_loss / num_points)\n",
    "        val_epoch_losses.append(val_loss)\n",
    "        print(f'- val loss {val_loss}', flush=True)\n",
    "\n",
    "        if val_loss < best_val_loss:\n",
    "            best_val_loss = val_loss\n",
    "            best_epoch_index = epoch_index\n",
    "            best_params = deepcopy(base_neural_net.state_dict())\n",
    "print(f'Best validation loss ({best_val_loss}) achieved at epoch {best_epoch_index + 1}')\n",
    "base_neural_net.load_state_dict(best_params)"
   ]
  },
  {
   "cell_type": "code",
   "execution_count": 9,
   "id": "4469a1db-924a-4d10-9099-fce1270cade0",
   "metadata": {},
   "outputs": [
    {
     "data": {
      "text/plain": [
       "<matplotlib.legend.Legend at 0x7e203fe4e9c0>"
      ]
     },
     "execution_count": 9,
     "metadata": {},
     "output_type": "execute_result"
    },
    {
     "data": {
      "image/png": "[encoded data removed]",
      "text/plain": [
       "<Figure size 640x480 with 1 Axes>"
      ]
     },
     "metadata": {},
     "output_type": "display_data"
    }
   ],
   "source": [
    "%matplotlib inline\n",
    "import matplotlib.pyplot as plt\n",
    "\n",
    "plt.plot(range(1, num_epochs + 1), train_epoch_losses, label='Training')\n",
    "plt.plot(range(1, num_epochs + 1), val_epoch_losses, '--', label='Validation')\n",
    "plt.xlabel('Epoch')\n",
    "plt.ylabel('Loss')\n",
    "plt.legend()"
   ]
  },
  {
   "cell_type": "markdown",
   "id": "1ffec595-d947-40ab-90f8-c6aea573a309",
   "metadata": {},
   "source": [
    "At this point, we're done with the warm-starting portion of base neural net training."
   ]
  },
  {
   "cell_type": "markdown",
   "id": "3412a160-ce89-4ac6-ad4f-1f791a3ab3c1",
   "metadata": {},
   "source": [
    "### Discretizing time\n",
    "\n",
    "Before continuing to train the base neural net with a survival loss in PyTorch, we now discrete time just like in the DeepHit demo."
   ]
  },
  {
   "cell_type": "code",
   "execution_count": 10,
   "id": "3483ac40-4542-41cf-8108-8e56a06cd68e",
   "metadata": {},
   "outputs": [
    {
     "name": "stdout",
     "output_type": "stream",
     "text": [
      "Number of time steps to be used with DeepHit: 109\n",
      "Time grid: [   0.    3.    4.    5.    6.    7.    8.    9.   10.   11.   12.   13.\n",
      "   14.   15.   16.   17.   18.   19.   20.   21.   22.   23.   24.   26.\n",
      "   27.   28.   30.   31.   33.   35.   37.   39.   41.   43.   45.   48.\n",
      "   51.   54.   57.   59.   63.   66.   68.   73.   76.   82.   88.   92.\n",
      "   97.  102.  108.  115.  120.  127.  135.  143.  151.  160.  167.  178.\n",
      "  186.  198.  206.  217.  227.  236.  247.  261.  275.  292.  307.  328.\n",
      "  344.  368.  384.  399.  417.  436.  452.  475.  496.  518.  539.  564.\n",
      "  592.  624.  656.  678.  715.  757.  799.  827.  871.  923.  974. 1027.\n",
      " 1085. 1131. 1184. 1228. 1258. 1345. 1415. 1530. 1599. 1690. 1760. 1813.\n",
      " 2029.]\n"
     ]
    },
    {
     "name": "stderr",
     "output_type": "stream",
     "text": [
      "/home/george/Projects/survival-tutorial/pycox/preprocessing/discretization.py:37: UserWarning: cuts are not unique, continue with 109 cuts instead of 128\n",
      "  warnings.warn(f\"cuts are not unique, continue with {len(cuts)} cuts instead of {num}\")\n"
     ]
    }
   ],
   "source": [
    "import numpy as np\n",
    "from pycox.preprocessing.label_transforms import LabTransDiscreteTime\n",
    "\n",
    "num_time_steps = 128  # set this to 0 to use all unique times of death\n",
    "\n",
    "if num_time_steps == 0:\n",
    "    mask = (D_train_np == 1)  # boolean mask specifying which training patients experienced death\n",
    "    label_transform = LabTransDiscreteTime(np.unique(Y_train_np[mask]))\n",
    "else:\n",
    "    # use a quantile based discretization, which could possibly end up using fewer than the\n",
    "    # number of time steps requested (if it turns out that in the dataset, there are many\n",
    "    # duplicate observed times)\n",
    "    label_transform = LabTransDiscreteTime(num_time_steps, scheme='quantiles')\n",
    "\n",
    "Y_train_discrete_np, D_train_discrete_np = label_transform.fit_transform(Y_train_np, D_train_np)\n",
    "Y_val_discrete_np, D_val_discrete_np = label_transform.transform(Y_val_np, D_val_np)\n",
    "# note: PyCox's discretization code allows for the possibility that the event indicator changes\n",
    "# (if a patient's survival time is known so that the event indicator is 1, but the survival time\n",
    "# is after the maximum discrete time grid time, then the patient's event indicator is changed to\n",
    "# being censored)\n",
    "\n",
    "time_grid_train_np = label_transform.cuts\n",
    "output_num_time_steps = len(time_grid_train_np)\n",
    "print(f'Number of time steps to be used with DeepHit: {output_num_time_steps}')\n",
    "print('Time grid:', time_grid_train_np)"
   ]
  },
  {
   "cell_type": "markdown",
   "id": "77ffe5dc-1354-4ea1-bf3c-fea418cd9b0e",
   "metadata": {},
   "source": [
    "### Preparing training and validation sets for use with PyTorch\n",
    "\n",
    "Note that at this point the observed times have been converted into discrete indices. Note that at the time of writing, the code is a bit picky about the data types used. When evaluating the loss later, the underlying PyCox code needs the event indicators to be cast as float32 (unlike in the DeepHit demo)."
   ]
  },
  {
   "cell_type": "code",
   "execution_count": 11,
   "id": "559dc917-0b7c-402f-ad66-fef766e9a87d",
   "metadata": {},
   "outputs": [],
   "source": [
    "import torch\n",
    "\n",
    "device = torch.device('cuda' if torch.cuda.is_available() else 'cpu')\n",
    "\n",
    "X_train = torch.tensor(X_train_np, dtype=torch.float32, device=device)\n",
    "Y_train = torch.tensor(Y_train_discrete_np, dtype=torch.int64, device=device)\n",
    "D_train = torch.tensor(D_train_discrete_np, dtype=torch.int32, device=device)\n",
    "train_data = list(zip(X_train, Y_train, D_train))\n",
    "\n",
    "X_val = torch.tensor(X_val_np, dtype=torch.float32, device=device)\n",
    "Y_val = torch.tensor(Y_val_discrete_np, dtype=torch.int64, device=device)\n",
    "D_val = torch.tensor(D_val_discrete_np, dtype=torch.int32, device=device)\n",
    "val_data = list(zip(X_val, Y_val, D_val))"
   ]
  },
  {
   "cell_type": "markdown",
   "id": "5aef6a07-d3c1-4241-a1d1-ded281c25858",
   "metadata": {},
   "source": [
    "### Setting up the survival kernets model and loss"
   ]
  },
  {
   "cell_type": "code",
   "execution_count": 12,
   "id": "09b06954-d853-45c1-8392-e7019f1595f5",
   "metadata": {},
   "outputs": [],
   "source": [
    "from survival_kernets.models import NKS\n",
    "\n",
    "# - alpha and sigma hyperparameters mean the same as what they mean for the DeepHit loss\n",
    "# - tau refers to the distance threshold in the embedding space\n",
    "# - beta indicates how much compression to use for the training data\n",
    "#   (beta = 0 means no compression, which corresponds to the original deep kernel\n",
    "#    survival analysis method by Chen (2020) with the only difference being the\n",
    "#    distance thresholding by tau, and the use of XGBoost instead of a random\n",
    "#    survival forest warm start; as beta gets larger, we compress more so that\n",
    "#    there are fewer and fewer exemplars/clusters)\n",
    "min_kernel_weight = 1e-2  # only points with at least this kernel weight contribute to prediction\n",
    "alpha = .9\n",
    "sigma = .1\n",
    "beta = .125\n",
    "survival_kernets_model = NKS(base_neural_net, device=device,\n",
    "                             alpha=alpha, sigma=sigma,\n",
    "                             beta=beta, tau=np.sqrt(-np.log(min_kernel_weight)))\n",
    "survival_kernets_loss = survival_kernets_model.loss"
   ]
  },
  {
   "cell_type": "markdown",
   "id": "c3c36bf4-fd91-4dd5-b997-481b1a8569e2",
   "metadata": {},
   "source": [
    "### Training the model using minibatch gradient descent\n",
    "\n",
    "Just as in the exponential time-to-event prediction model demo, we use the validation set to decide on whether to use a previous epoch's learned model parameters."
   ]
  },
  {
   "cell_type": "code",
   "execution_count": 13,
   "id": "b33ace96-79ed-487a-a1f4-3dc12b33194e",
   "metadata": {},
   "outputs": [
    {
     "name": "stdout",
     "output_type": "stream",
     "text": [
      "Epoch 1 - train loss 9.426963806152344 - val loss 8.931456565856934\n",
      "Epoch 2 - train loss 9.372712135314941 - val loss 8.700265884399414\n",
      "Epoch 3 - train loss 9.118008613586426 - val loss 8.655265808105469\n",
      "Epoch 4 - train loss 9.197836875915527 - val loss 8.636664390563965\n",
      "Epoch 5 - train loss 8.98835563659668 - val loss 8.618515968322754\n",
      "Epoch 6 - train loss 8.948002815246582 - val loss 8.605165481567383\n",
      "Epoch 7 - train loss 9.083422660827637 - val loss 8.592860221862793\n",
      "Epoch 8 - train loss 9.373239517211914 - val loss 8.581548690795898\n",
      "Epoch 9 - train loss 9.086657524108887 - val loss 8.572205543518066\n",
      "Epoch 10 - train loss 9.317073822021484 - val loss 8.563173294067383\n",
      "Epoch 11 - train loss 9.187955856323242 - val loss 8.59142780303955\n",
      "Epoch 12 - train loss 9.163077354431152 - val loss 8.589274406433105\n",
      "Epoch 13 - train loss 9.084207534790039 - val loss 8.586626052856445\n",
      "Epoch 14 - train loss 9.103545188903809 - val loss 8.582315444946289\n",
      "Epoch 15 - train loss 9.025680541992188 - val loss 8.579943656921387\n",
      "Epoch 16 - train loss 9.063962936401367 - val loss 8.577752113342285\n",
      "Epoch 17 - train loss 8.943644523620605 - val loss 8.575738906860352\n",
      "Epoch 18 - train loss 9.087257385253906 - val loss 8.573755264282227\n",
      "Epoch 19 - train loss 8.966599464416504 - val loss 8.571868896484375\n",
      "Epoch 20 - train loss 9.184630393981934 - val loss 8.570052146911621\n",
      "Epoch 21 - train loss 9.117947578430176 - val loss 8.568135261535645\n",
      "Epoch 22 - train loss 8.939859390258789 - val loss 8.566387176513672\n",
      "Epoch 23 - train loss 8.907829284667969 - val loss 8.564847946166992\n",
      "Epoch 24 - train loss 9.254724502563477 - val loss 8.563319206237793\n",
      "Epoch 25 - train loss 8.930679321289062 - val loss 8.561678886413574\n",
      "Epoch 26 - train loss 8.866100311279297 - val loss 8.56032943725586\n",
      "Epoch 27 - train loss 8.893597602844238 - val loss 8.558795928955078\n",
      "Epoch 28 - train loss 9.337624549865723 - val loss 8.557056427001953\n",
      "Epoch 29 - train loss 9.082351684570312 - val loss 8.555413246154785\n",
      "Epoch 30 - train loss 9.024243354797363 - val loss 8.546874046325684\n",
      "Epoch 31 - train loss 9.13481330871582 - val loss 8.54360294342041\n",
      "Epoch 32 - train loss 8.927534103393555 - val loss 8.542769432067871\n",
      "Epoch 33 - train loss 9.087920188903809 - val loss 8.542084693908691\n",
      "Epoch 34 - train loss 9.178775787353516 - val loss 8.541291236877441\n",
      "Epoch 35 - train loss 9.137799263000488 - val loss 8.54061222076416\n",
      "Epoch 36 - train loss 8.953014373779297 - val loss 8.540030479431152\n",
      "Epoch 37 - train loss 9.042418479919434 - val loss 8.539311408996582\n",
      "Epoch 38 - train loss 9.058073043823242 - val loss 8.5386962890625\n",
      "Epoch 39 - train loss 8.934951782226562 - val loss 8.538132667541504\n",
      "Epoch 40 - train loss 8.886829376220703 - val loss 8.537577629089355\n",
      "Epoch 41 - train loss 9.053790092468262 - val loss 8.536968231201172\n",
      "Epoch 42 - train loss 8.850098609924316 - val loss 8.536345481872559\n",
      "Epoch 43 - train loss 8.880452156066895 - val loss 8.535665512084961\n",
      "Epoch 44 - train loss 8.920316696166992 - val loss 8.535046577453613\n",
      "Epoch 45 - train loss 8.926200866699219 - val loss 8.534201622009277\n",
      "Epoch 46 - train loss 9.163992881774902 - val loss 8.533576965332031\n",
      "Epoch 47 - train loss 9.218721389770508 - val loss 8.532853126525879\n",
      "Epoch 48 - train loss 8.950993537902832 - val loss 8.532254219055176\n",
      "Epoch 49 - train loss 9.106788635253906 - val loss 8.53169059753418\n",
      "Epoch 50 - train loss 9.083761215209961 - val loss 8.531018257141113\n",
      "Epoch 51 - train loss 9.064042091369629 - val loss 8.53039264678955\n",
      "Epoch 52 - train loss 9.043249130249023 - val loss 8.560526847839355\n",
      "Epoch 53 - train loss 9.038430213928223 - val loss 8.560667037963867\n",
      "Epoch 54 - train loss 9.200106620788574 - val loss 8.55975341796875\n",
      "Epoch 55 - train loss 8.941349983215332 - val loss 8.560564041137695\n",
      "Epoch 56 - train loss 9.073980331420898 - val loss 8.56761360168457\n",
      "Epoch 57 - train loss 9.149449348449707 - val loss 8.566861152648926\n",
      "Epoch 58 - train loss 9.416646003723145 - val loss 8.565933227539062\n",
      "Epoch 59 - train loss 9.19433307647705 - val loss 8.565069198608398\n",
      "Epoch 60 - train loss 9.097962379455566 - val loss 8.564132690429688\n",
      "Epoch 61 - train loss 8.931018829345703 - val loss 8.563288688659668\n",
      "Epoch 62 - train loss 9.118829727172852 - val loss 8.562488555908203\n",
      "Epoch 63 - train loss 9.099732398986816 - val loss 8.561509132385254\n",
      "Epoch 64 - train loss 9.049755096435547 - val loss 8.56066608428955\n",
      "Epoch 65 - train loss 9.249346733093262 - val loss 8.559821128845215\n",
      "Epoch 66 - train loss 9.263895034790039 - val loss 8.559039115905762\n",
      "Epoch 67 - train loss 9.102322578430176 - val loss 8.558289527893066\n",
      "Epoch 68 - train loss 8.806415557861328 - val loss 8.557599067687988\n",
      "Epoch 69 - train loss 9.20949935913086 - val loss 8.556840896606445\n",
      "Epoch 70 - train loss 9.106151580810547 - val loss 8.556122779846191\n",
      "Epoch 71 - train loss 9.186042785644531 - val loss 8.55529499053955\n",
      "Epoch 72 - train loss 9.102761268615723 - val loss 8.554604530334473\n",
      "Epoch 73 - train loss 9.166685104370117 - val loss 8.553908348083496\n",
      "Epoch 74 - train loss 9.17485523223877 - val loss 8.553153038024902\n",
      "Epoch 75 - train loss 9.083072662353516 - val loss 8.552412033081055\n",
      "Epoch 76 - train loss 9.08664321899414 - val loss 8.551721572875977\n",
      "Epoch 77 - train loss 9.12000846862793 - val loss 8.551122665405273\n",
      "Epoch 78 - train loss 9.016423225402832 - val loss 8.550450325012207\n",
      "Epoch 79 - train loss 9.074109077453613 - val loss 8.549781799316406\n",
      "Epoch 80 - train loss 9.098057746887207 - val loss 8.549131393432617\n",
      "Epoch 81 - train loss 9.043719291687012 - val loss 8.548443794250488\n",
      "Epoch 82 - train loss 8.99312973022461 - val loss 8.547829627990723\n",
      "Epoch 83 - train loss 8.910056114196777 - val loss 8.547123908996582\n",
      "Epoch 84 - train loss 9.107295036315918 - val loss 8.54642105102539\n",
      "Epoch 85 - train loss 9.046967506408691 - val loss 8.54883861541748\n",
      "Epoch 86 - train loss 9.069726943969727 - val loss 8.559511184692383\n",
      "Epoch 87 - train loss 9.235580444335938 - val loss 8.55897045135498\n",
      "Epoch 88 - train loss 9.253668785095215 - val loss 8.558302879333496\n",
      "Epoch 89 - train loss 8.825322151184082 - val loss 8.559181213378906\n",
      "Epoch 90 - train loss 9.24487590789795 - val loss 8.566218376159668\n",
      "Epoch 91 - train loss 9.253360748291016 - val loss 8.565446853637695\n",
      "Epoch 92 - train loss 8.953174591064453 - val loss 8.564589500427246\n",
      "Epoch 93 - train loss 9.13248348236084 - val loss 8.563722610473633\n",
      "Epoch 94 - train loss 8.996659278869629 - val loss 8.562817573547363\n",
      "Epoch 95 - train loss 9.111387252807617 - val loss 8.561864852905273\n",
      "Epoch 96 - train loss 9.37153148651123 - val loss 8.56093978881836\n",
      "Epoch 97 - train loss 9.024940490722656 - val loss 8.56005859375\n",
      "Epoch 98 - train loss 9.177957534790039 - val loss 8.559134483337402\n",
      "Epoch 99 - train loss 9.257490158081055 - val loss 8.558286666870117\n",
      "Epoch 100 - train loss 9.231852531433105 - val loss 8.557394027709961\n",
      "Best validation loss (8.53039264678955) achieved at epoch 51\n"
     ]
    },
    {
     "data": {
      "text/plain": [
       "<All keys matched successfully>"
      ]
     },
     "execution_count": 13,
     "metadata": {},
     "output_type": "execute_result"
    }
   ],
   "source": [
    "from copy import deepcopy\n",
    "from torch.utils.data import DataLoader\n",
    "\n",
    "# minibatch gradient descent\n",
    "num_epochs = 100\n",
    "batch_size = 128\n",
    "learning_rate = 0.005\n",
    "\n",
    "train_loader = DataLoader(train_data, batch_size, shuffle=True)  # shuffling for minibatch gradient descent\n",
    "val_loader = DataLoader(val_data, batch_size, shuffle=False)  # there is no need to shuffle the validation data\n",
    "\n",
    "optimizer = torch.optim.Adam(base_neural_net.parameters(), lr=learning_rate)\n",
    "train_epoch_losses = []\n",
    "val_epoch_losses = []\n",
    "best_val_loss = float('inf')\n",
    "best_params = None\n",
    "best_epoch_index = None\n",
    "for epoch_index in range(num_epochs):\n",
    "    base_neural_net.train()\n",
    "    for X_batch, Y_batch, D_batch in train_loader:\n",
    "        neural_net_output = base_neural_net(X_batch)\n",
    "        loss_batch = survival_kernets_loss(neural_net_output, Y_batch, D_batch)\n",
    "\n",
    "        optimizer.zero_grad()\n",
    "        loss_batch.backward()\n",
    "        optimizer.step()\n",
    "\n",
    "    # evaluate training and validation set losses\n",
    "    # (note that in practice, instead of evaluating the negative log likelihood loss,\n",
    "    # we could instead evaluate other metrics such as time-dependent concordance index,\n",
    "    # integrated Brier score, etc)\n",
    "    base_neural_net.eval()\n",
    "    with torch.no_grad():\n",
    "        train_loss = torch.tensor(0.0, dtype=torch.float, device=device)\n",
    "        num_points = 0\n",
    "        for X_batch, Y_batch, D_batch in train_loader:\n",
    "            batch_num_points = X_batch.size(0)\n",
    "            neural_net_output = base_neural_net(X_batch)\n",
    "            train_loss += survival_kernets_loss(neural_net_output, Y_batch, D_batch) * batch_num_points\n",
    "            num_points += batch_num_points\n",
    "        train_loss = float(train_loss / num_points)\n",
    "        train_epoch_losses.append(train_loss)\n",
    "        print(f'Epoch {epoch_index + 1} - train loss {train_loss}', end=' ', flush=True)\n",
    "\n",
    "        val_loss = torch.tensor(0.0, dtype=torch.float, device=device)\n",
    "        num_points = 0\n",
    "        for X_batch, Y_batch, D_batch in val_loader:\n",
    "            batch_num_points = X_batch.size(0)\n",
    "            neural_net_output = base_neural_net(X_batch)\n",
    "            val_loss += survival_kernets_loss(neural_net_output, Y_batch, D_batch) * batch_num_points\n",
    "            num_points += batch_num_points\n",
    "        val_loss = float(val_loss / num_points)\n",
    "        val_epoch_losses.append(val_loss)\n",
    "        print(f'- val loss {val_loss}', flush=True)\n",
    "\n",
    "        if val_loss < best_val_loss:\n",
    "            best_val_loss = val_loss\n",
    "            best_epoch_index = epoch_index\n",
    "            best_params = deepcopy(base_neural_net.state_dict())\n",
    "print(f'Best validation loss ({best_val_loss}) achieved at epoch {best_epoch_index + 1}')\n",
    "base_neural_net.load_state_dict(best_params)"
   ]
  },
  {
   "cell_type": "code",
   "execution_count": 14,
   "id": "8d591b8f-de58-4e9c-9b6b-c7111ef86487",
   "metadata": {},
   "outputs": [
    {
     "data": {
      "text/plain": [
       "<matplotlib.legend.Legend at 0x7e20302b4a70>"
      ]
     },
     "execution_count": 14,
     "metadata": {},
     "output_type": "execute_result"
    },
    {
     "data": {
      "image/png": "[encoded data removed]",
      "text/plain": [
       "<Figure size 640x480 with 1 Axes>"
      ]
     },
     "metadata": {},
     "output_type": "display_data"
    }
   ],
   "source": [
    "%matplotlib inline\n",
    "import matplotlib.pyplot as plt\n",
    "\n",
    "plt.plot(range(1, num_epochs + 1), train_epoch_losses, label='Training')\n",
    "plt.plot(range(1, num_epochs + 1), val_epoch_losses, '--', label='Validation')\n",
    "plt.xlabel('Epoch')\n",
    "plt.ylabel('Loss')\n",
    "plt.legend()"
   ]
  },
  {
   "cell_type": "markdown",
   "id": "225a7f80-4e76-425f-b900-f6a6af333481",
   "metadata": {},
   "source": [
    "After training the base neural net, we construct the test-time predictor:"
   ]
  },
  {
   "cell_type": "code",
   "execution_count": 15,
   "id": "88598503-8efb-4e32-b4d5-597d87e651ae",
   "metadata": {},
   "outputs": [],
   "source": [
    "survival_kernets_model.training_data = (X_train_np.astype('float32'),\n",
    "                                        (Y_train_discrete_np, D_train_discrete_np))\n",
    "survival_kernets_model.train_embeddings = survival_kernets_model.predict(X_train_np.astype('float32'),\n",
    "                                                                         batch_size=batch_size)\n",
    "survival_kernets_model.duration_index = time_grid_train_np\n",
    "survival_kernets_model.build_ANN_index()"
   ]
  },
  {
   "cell_type": "markdown",
   "id": "c3709f7c-4c24-48f3-84e1-a1c451bf70e3",
   "metadata": {},
   "source": [
    "### Summary function fine-tuning\n",
    "\n",
    "We begin by making a backup copy of the summary functions (these are the death counts and at risk counts over time for the different exemplars). In case summary fine-tuning does not yield an improvement in a validation set evaluation metric of our choosing, then we could restore the summary functions (to what they were prior to summary function fine-tuning)."
   ]
  },
  {
   "cell_type": "code",
   "execution_count": 16,
   "id": "54b91a49-a2f3-4c86-b00f-4ca66674885d",
   "metadata": {},
   "outputs": [],
   "source": [
    "init_summary_functions = survival_kernets_model.get_summary_functions()\n",
    "\n",
    "best_val_loss_no_summary_finetune = best_val_loss"
   ]
  },
  {
   "cell_type": "markdown",
   "id": "34456b08-f9a4-413c-abbc-3358814f2586",
   "metadata": {},
   "source": [
    "Now we construct a new PyTorch model that views the kernel function as fixed and where we only optimize over the summary functions."
   ]
  },
  {
   "cell_type": "code",
   "execution_count": 17,
   "id": "e3f676b9-664d-41a2-98d0-ddd99589d7c2",
   "metadata": {},
   "outputs": [],
   "source": [
    "from survival_kernets.models import NKSSummary, NKSSummaryLoss\n",
    "\n",
    "summary_finetune_net = NKSSummary(survival_kernets_model, init_summary_functions)\n",
    "summary_finetune_loss = NKSSummaryLoss(alpha, sigma)"
   ]
  },
  {
   "cell_type": "markdown",
   "id": "ac319df7-5f74-402e-85bd-744a118d4c3f",
   "metadata": {},
   "source": [
    "Next, we proceed with minibatch gradient descent."
   ]
  },
  {
   "cell_type": "code",
   "execution_count": 18,
   "id": "71488d7b-a277-4be5-9a0b-51fb7b405435",
   "metadata": {},
   "outputs": [
    {
     "name": "stdout",
     "output_type": "stream",
     "text": [
      "Epoch 1 - train loss 3.40061092376709 - val loss 3.3848989009857178\n",
      "Epoch 2 - train loss 3.3637495040893555 - val loss 3.34053373336792\n",
      "Epoch 3 - train loss 3.3443050384521484 - val loss 3.3154454231262207\n",
      "Epoch 4 - train loss 3.334946870803833 - val loss 3.3029391765594482\n",
      "Epoch 5 - train loss 3.330038547515869 - val loss 3.2950143814086914\n",
      "Epoch 6 - train loss 3.32812237739563 - val loss 3.2921862602233887\n",
      "Epoch 7 - train loss 3.327270269393921 - val loss 3.2899551391601562\n",
      "Epoch 8 - train loss 3.3267364501953125 - val loss 3.2887532711029053\n",
      "Epoch 9 - train loss 3.3264400959014893 - val loss 3.2874505519866943\n",
      "Epoch 10 - train loss 3.326303720474243 - val loss 3.286989212036133\n",
      "Epoch 11 - train loss 3.326160430908203 - val loss 3.2866296768188477\n",
      "Epoch 12 - train loss 3.326157331466675 - val loss 3.2869176864624023\n",
      "Epoch 13 - train loss 3.3261287212371826 - val loss 3.286989688873291\n",
      "Epoch 14 - train loss 3.3261051177978516 - val loss 3.2878472805023193\n",
      "Epoch 15 - train loss 3.3260464668273926 - val loss 3.286613941192627\n",
      "Epoch 16 - train loss 3.3260319232940674 - val loss 3.2863991260528564\n",
      "Epoch 17 - train loss 3.3259856700897217 - val loss 3.287249803543091\n",
      "Epoch 18 - train loss 3.326007127761841 - val loss 3.2872583866119385\n",
      "Epoch 19 - train loss 3.326014995574951 - val loss 3.28730845451355\n",
      "Epoch 20 - train loss 3.326014280319214 - val loss 3.2871339321136475\n",
      "Best validation loss (3.2863991260528564) achieved at epoch 16\n"
     ]
    },
    {
     "data": {
      "text/plain": [
       "<All keys matched successfully>"
      ]
     },
     "execution_count": 18,
     "metadata": {},
     "output_type": "execute_result"
    }
   ],
   "source": [
    "summary_finetune_learning_rate = 0.01\n",
    "summary_finetune_num_epochs = 20\n",
    "\n",
    "optimizer = torch.optim.Adam(summary_finetune_net.parameters(),\n",
    "                             lr=summary_finetune_learning_rate)\n",
    "train_epoch_losses = []\n",
    "val_epoch_losses = []\n",
    "best_val_loss = float('inf')\n",
    "best_params = None\n",
    "best_epoch_index = None\n",
    "for epoch_index in range(summary_finetune_num_epochs):\n",
    "    summary_finetune_net.train()\n",
    "    for X_batch, Y_batch, D_batch in train_loader:\n",
    "        neural_net_output = summary_finetune_net(X_batch)\n",
    "        loss_batch = summary_finetune_loss(neural_net_output, Y_batch, D_batch)\n",
    "\n",
    "        optimizer.zero_grad()\n",
    "        loss_batch.backward()\n",
    "        optimizer.step()\n",
    "\n",
    "    # evaluate training and validation set losses\n",
    "    # (note that in practice, instead of evaluating the negative log likelihood loss,\n",
    "    # we could instead evaluate other metrics such as time-dependent concordance index,\n",
    "    # integrated Brier score, etc)\n",
    "    summary_finetune_net.eval()\n",
    "    with torch.no_grad():\n",
    "        train_loss = torch.tensor(0.0, dtype=torch.float, device=device)\n",
    "        num_points = 0\n",
    "        for X_batch, Y_batch, D_batch in train_loader:\n",
    "            batch_num_points = X_batch.size(0)\n",
    "            neural_net_output = summary_finetune_net(X_batch)\n",
    "            train_loss += summary_finetune_loss(neural_net_output, Y_batch, D_batch) * batch_num_points\n",
    "            num_points += batch_num_points\n",
    "        train_loss = float(train_loss / num_points)\n",
    "        train_epoch_losses.append(train_loss)\n",
    "        print(f'Epoch {epoch_index + 1} - train loss {train_loss}', end=' ', flush=True)\n",
    "\n",
    "        val_loss = torch.tensor(0.0, dtype=torch.float, device=device)\n",
    "        num_points = 0\n",
    "        for X_batch, Y_batch, D_batch in val_loader:\n",
    "            batch_num_points = X_batch.size(0)\n",
    "            neural_net_output = summary_finetune_net(X_batch)\n",
    "            val_loss += summary_finetune_loss(neural_net_output, Y_batch, D_batch) * batch_num_points\n",
    "            num_points += batch_num_points\n",
    "        val_loss = float(val_loss / num_points)\n",
    "        val_epoch_losses.append(val_loss)\n",
    "        print(f'- val loss {val_loss}', flush=True)\n",
    "\n",
    "        if val_loss < best_val_loss:\n",
    "            best_val_loss = val_loss\n",
    "            best_epoch_index = epoch_index\n",
    "            best_params = deepcopy(summary_finetune_net.state_dict())\n",
    "print(f'Best validation loss ({best_val_loss}) achieved at epoch {best_epoch_index + 1}')\n",
    "summary_finetune_net.load_state_dict(best_params)"
   ]
  },
  {
   "cell_type": "code",
   "execution_count": 19,
   "id": "eadefd10-11f0-4821-a8be-08b11b0464f0",
   "metadata": {},
   "outputs": [
    {
     "data": {
      "text/plain": [
       "<matplotlib.legend.Legend at 0x7e20302a1250>"
      ]
     },
     "execution_count": 19,
     "metadata": {},
     "output_type": "execute_result"
    },
    {
     "data": {
      "image/png": "[encoded data removed]",
      "text/plain": [
       "<Figure size 640x480 with 1 Axes>"
      ]
     },
     "metadata": {},
     "output_type": "display_data"
    }
   ],
   "source": [
    "%matplotlib inline\n",
    "import matplotlib.pyplot as plt\n",
    "\n",
    "plt.plot(range(1, summary_finetune_num_epochs + 1), train_epoch_losses, label='Training')\n",
    "plt.plot(range(1, summary_finetune_num_epochs + 1), val_epoch_losses, '--', label='Validation')\n",
    "plt.xlabel('Epoch')\n",
    "plt.ylabel('Loss')\n",
    "plt.legend()"
   ]
  },
  {
   "cell_type": "markdown",
   "id": "04bb27f1-183b-4945-b592-7f326cb8784b",
   "metadata": {},
   "source": [
    "We use the validation set loss to decide on whether to use summary fine-tuning. To reiterate, it is possible to use other evaluation metrics on the validation set (e.g., validation set time-dependent concordance index, validation set integrated Brier score, etc) to decide on whether to use summary fine-tuning."
   ]
  },
  {
   "cell_type": "code",
   "execution_count": 20,
   "id": "f44e7e51-84f5-4ff0-9a80-fa0989e0f6c7",
   "metadata": {},
   "outputs": [],
   "source": [
    "if best_val_loss < best_val_loss_no_summary_finetune:\n",
    "    summary_functions, baseline_event_counts, baseline_at_risk_counts = \\\n",
    "        summary_finetune_net.get_exemplar_summary_functions_baseline_event_at_risk_counts()\n",
    "    survival_kernets_model.load_summary_functions(summary_functions,\n",
    "                                                  baseline_event_counts,\n",
    "                                                  baseline_at_risk_counts)\n",
    "else:\n",
    "    survival_kernets_model.load_summary_functions(init_summary_functions)"
   ]
  },
  {
   "cell_type": "markdown",
   "id": "49807d51-72fb-42f3-a4a5-93c59657eb0a",
   "metadata": {},
   "source": [
    "### Predicting survival curves on the test set"
   ]
  },
  {
   "cell_type": "markdown",
   "id": "9fd16f73-ebe8-4caf-8e8f-31a2ff773547",
   "metadata": {},
   "source": [
    "We begin by preprocessing the test data using the preprocessor built using training data."
   ]
  },
  {
   "cell_type": "code",
   "execution_count": 21,
   "id": "fe28bba0-9ab4-4940-854d-54eec8eb9065",
   "metadata": {},
   "outputs": [],
   "source": [
    "X_test_np = apply_preprocessor(X_test_raw_np, preprocessor).astype('float32')"
   ]
  },
  {
   "cell_type": "markdown",
   "id": "f6a6175b-2ebc-4af4-b6f1-a567f9bf079e",
   "metadata": {},
   "source": [
    "Interpolation works the same way as in the DeepHit demo:"
   ]
  },
  {
   "cell_type": "code",
   "execution_count": 22,
   "id": "2444a50e-7836-4a05-b011-a3b7d0b5029f",
   "metadata": {},
   "outputs": [],
   "source": [
    "# here we interpolate by a factor of 10 (so that if we initially had m time steps, we would now have (m-1)*10 + 1 time steps)\n",
    "interpolation_factor = 10\n",
    "surv_test_interp_df = survival_kernets_model.interpolate(interpolation_factor).predict_surv_df(X_test_np, batch_size=batch_size)\n",
    "time_grid_train_interp_np = surv_test_interp_df.index.to_numpy()  # the interpolated time grid is an interpolated version of the *training*  time grid\n",
    "surv_test_interp_np = surv_test_interp_df.to_numpy().T"
   ]
  },
  {
   "cell_type": "markdown",
   "id": "639331f2-90fd-48ee-a96c-4f9fe03aeffc",
   "metadata": {},
   "source": [
    "Here's a plot of the predicted survival function for the 0th test data point:"
   ]
  },
  {
   "cell_type": "code",
   "execution_count": 23,
   "id": "e1bc9c26-471b-471d-8100-9f88af2c90bc",
   "metadata": {},
   "outputs": [
    {
     "data": {
      "text/plain": [
       "Text(0, 0.5, 'Survival probability')"
      ]
     },
     "execution_count": 23,
     "metadata": {},
     "output_type": "execute_result"
    },
    {
     "data": {
      "image/png": "[encoded data removed]",
      "text/plain": [
       "<Figure size 640x480 with 1 Axes>"
      ]
     },
     "metadata": {},
     "output_type": "display_data"
    }
   ],
   "source": [
    "plt.plot(time_grid_train_interp_np, surv_test_interp_np[0])\n",
    "plt.xlabel('Time')\n",
    "plt.ylabel('Survival probability')"
   ]
  },
  {
   "cell_type": "markdown",
   "id": "b3d9dda8-214c-4d57-afb3-60920423fe9e",
   "metadata": {},
   "source": [
    "### Computing evaluation metrics on the test set\n",
    "\n",
    "Here, we use the interpolated survival functions (along with their corresponding interpolated time grid).\n",
    "\n",
    "As for choosing evaluation times, we still pick these based on the test set's observed times."
   ]
  },
  {
   "cell_type": "code",
   "execution_count": 24,
   "id": "60cfabe1-2776-4a56-87d2-a0a26c58126a",
   "metadata": {},
   "outputs": [],
   "source": [
    "test_time_grid_np = np.unique(Y_test_np)"
   ]
  },
  {
   "cell_type": "markdown",
   "id": "931e241e-7648-4d28-91c8-ffc5942a13c9",
   "metadata": {},
   "source": [
    "#### Time-dependent concordance index (Antolini et al., 2005) using the PyCox implementation (Kvamme et al., 2019)"
   ]
  },
  {
   "cell_type": "code",
   "execution_count": 25,
   "id": "4e93bae8-67f1-4b2b-ac35-41270d413fc9",
   "metadata": {},
   "outputs": [
    {
     "name": "stdout",
     "output_type": "stream",
     "text": [
      "Time-dependent concordance index: 0.6302629664790234\n"
     ]
    }
   ],
   "source": [
    "from pycox.evaluation import EvalSurv\n",
    "\n",
    "eval_pycox = EvalSurv(surv_test_interp_df, Y_test_np, D_test_np)\n",
    "C_td = eval_pycox.concordance_td('antolini')\n",
    "print(f'Time-dependent concordance index: {C_td}')"
   ]
  },
  {
   "cell_type": "markdown",
   "id": "d25beae8-6208-41b0-a7ed-20e0d6f10ad7",
   "metadata": {},
   "source": [
    "#### Truncated time-dependent concordance index (Uno et al., 2011) using the scikit-survival implementation (Pölsterl, 2020)"
   ]
  },
  {
   "cell_type": "code",
   "execution_count": 26,
   "id": "c2875af8-4377-4d2a-a05d-380b0de2f82b",
   "metadata": {},
   "outputs": [
    {
     "name": "stdout",
     "output_type": "stream",
     "text": [
      "Eval time 316.0 - truncated time-dependent concordance: 0.603267594207427\n",
      "Eval time 693.0 - truncated time-dependent concordance: 0.6026857087924367\n",
      "Eval time 1291.0 - truncated time-dependent concordance: 0.6050356864762562\n"
     ]
    }
   ],
   "source": [
    "from sksurv.util import Surv\n",
    "from sksurv.metrics import concordance_index_ipcw\n",
    "\n",
    "# convert training and test labels into the structured array format used by scikit-survival\n",
    "labels_train_sksurv = Surv.from_arrays(D_train_np, Y_train_np)\n",
    "labels_test_sksurv = Surv.from_arrays(D_test_np, Y_test_np)\n",
    "\n",
    "# as an illustrative example, we evaluate the truncated time-dependent concordance index at\n",
    "# 25, 50, and 75 percentile values of the time grid we specified earlier\n",
    "eval_time_indices = [int(.25 * len(test_time_grid_np)),\n",
    "                     int(.5 * len(test_time_grid_np)),\n",
    "                     int(.75 * len(test_time_grid_np))]\n",
    "\n",
    "for eval_time_index in eval_time_indices:\n",
    "    eval_time = test_time_grid_np[eval_time_index]\n",
    "\n",
    "    # find the interpolated time grid's time point closest to the evaluation time\n",
    "    interp_time_index = np.argmin(np.abs(eval_time - time_grid_train_interp_np))\n",
    "    surv_values_at_eval_time_np = surv_test_interp_np[:, interp_time_index]\n",
    "\n",
    "    estimated_risks_np = 1 - surv_values_at_eval_time_np\n",
    "    concordance = concordance_index_ipcw(labels_train_sksurv, labels_test_sksurv, estimated_risks_np, tau=eval_time)[0]\n",
    "    print(f'Eval time {eval_time} - truncated time-dependent concordance: {concordance}')"
   ]
  },
  {
   "cell_type": "markdown",
   "id": "b27d2851-845a-4d8a-a36e-faccc829b824",
   "metadata": {},
   "source": [
    "#### Time-dependent AUC (Uno et al., 2007; Hung and Chiang, 2010) using the scikit-survival implementation (Pölsterl, 2020)"
   ]
  },
  {
   "cell_type": "code",
   "execution_count": 27,
   "id": "fe777d9e-10e2-49d0-8563-5a7b9889d732",
   "metadata": {},
   "outputs": [
    {
     "name": "stdout",
     "output_type": "stream",
     "text": [
      "Eval time 316.0 - time-dependent AUC: 0.6679672922715647\n",
      "Eval time 693.0 - time-dependent AUC: 0.7015429586503577\n",
      "Eval time 1291.0 - time-dependent AUC: 0.7184124172219045\n"
     ]
    }
   ],
   "source": [
    "from sksurv.metrics import cumulative_dynamic_auc\n",
    "\n",
    "for eval_time_index in eval_time_indices:\n",
    "    eval_time = test_time_grid_np[eval_time_index]\n",
    "\n",
    "    # find the interpolated time grid's time point closest to the evaluation time\n",
    "    interp_time_index = np.argmin(np.abs(eval_time - time_grid_train_interp_np))\n",
    "    surv_values_at_eval_time_np = surv_test_interp_np[:, interp_time_index]\n",
    "\n",
    "    estimated_risks_np = 1 - surv_values_at_eval_time_np\n",
    "    AUC = cumulative_dynamic_auc(labels_train_sksurv, labels_test_sksurv, estimated_risks_np, times=[eval_time])[0][0]\n",
    "    print(f'Eval time {eval_time} - time-dependent AUC: {AUC}')"
   ]
  },
  {
   "cell_type": "markdown",
   "id": "86d2ae6f-d8db-4bd5-93fd-6075bb478dd3",
   "metadata": {},
   "source": [
    "#### Brier score (Graf et al., 1999) using the SurvivalEVAL implementation (Qi et al., 2024)"
   ]
  },
  {
   "cell_type": "code",
   "execution_count": 28,
   "id": "594ed417-a759-4871-91fe-657e3d02f111",
   "metadata": {},
   "outputs": [
    {
     "name": "stdout",
     "output_type": "stream",
     "text": [
      "Eval time 316.0 - Brier score: 0.22805261301844926\n",
      "Eval time 693.0 - Brier score: 0.20452402754000482\n",
      "Eval time 1291.0 - Brier score: 0.18135020466774765\n",
      "Integrated Brier score: 0.1842808943367774\n"
     ]
    }
   ],
   "source": [
    "from SurvivalEVAL.Evaluator import SurvivalEvaluator\n",
    "\n",
    "eval = SurvivalEvaluator(surv_test_interp_np, time_grid_train_interp_np,\n",
    "                         Y_test_np, D_test_np,\n",
    "                         Y_train_np, D_train_np)  # note: training labels are also needed\n",
    "\n",
    "for eval_time_index in eval_time_indices:\n",
    "    eval_time = float(test_time_grid_np[eval_time_index])\n",
    "    print(f'Eval time {eval_time} - Brier score: {eval.brier_score(eval_time)}')\n",
    "\n",
    "IBS = eval.integrated_brier_score()\n",
    "print(f'Integrated Brier score: {IBS}')"
   ]
  },
  {
   "cell_type": "markdown",
   "id": "8d898890-64df-4aac-a27c-e0e33132a505",
   "metadata": {},
   "source": [
    "#### D-Calibration (Haider et al., 2020) using the SurvivalEVAL implementation (Qi et al., 2024)"
   ]
  },
  {
   "cell_type": "code",
   "execution_count": 29,
   "id": "d5281245-920b-4f82-941c-66e7d35d34c8",
   "metadata": {},
   "outputs": [
    {
     "name": "stdout",
     "output_type": "stream",
     "text": [
      "The model is not D-calibrated.\n"
     ]
    }
   ],
   "source": [
    "p_value, bin_stats = eval.d_calibration()\n",
    "if p_value >= .05:\n",
    "    print('The model is D-calibrated.')\n",
    "else:\n",
    "    print('The model is not D-calibrated.')"
   ]
  },
  {
   "cell_type": "markdown",
   "id": "b2533edb-260c-4e16-9e09-b59954a9196f",
   "metadata": {},
   "source": [
    "#### Mean Absolute Error via the margin (Haider et al., 2020) and, separately, the Pseudo Observation approach (Qi et al., 2023) both using the SurvivalEVAL implementation (Qi et al., 2024)"
   ]
  },
  {
   "cell_type": "code",
   "execution_count": 30,
   "id": "94aac7b8-2d20-437a-9b5d-304db3971ae8",
   "metadata": {},
   "outputs": [
    {
     "name": "stdout",
     "output_type": "stream",
     "text": [
      "Weighted MAE-Margin: 604.3373353081078\n"
     ]
    }
   ],
   "source": [
    "weighted_MAE_margin = eval.mae(method='Margin', weighted=True)\n",
    "print(f'Weighted MAE-Margin: {weighted_MAE_margin}')"
   ]
  },
  {
   "cell_type": "code",
   "execution_count": 31,
   "id": "dc0f800a-a847-44f2-ac85-698c9f72a881",
   "metadata": {},
   "outputs": [
    {
     "name": "stdout",
     "output_type": "stream",
     "text": [
      "Weighted MAE-PO: 721.5767421764164\n"
     ]
    }
   ],
   "source": [
    "weighted_MAE_PO = eval.mae(method='Pseudo_obs', weighted=True)\n",
    "print(f'Weighted MAE-PO: {weighted_MAE_PO}')"
   ]
  }
 ],
 "metadata": {
  "kernelspec": {
   "display_name": "Python 3 (ipykernel)",
   "language": "python",
   "name": "python3"
  },
  "language_info": {
   "codemirror_mode": {
    "name": "ipython",
    "version": 3
   },
   "file_extension": ".py",
   "mimetype": "text/x-python",
   "name": "python",
   "nbconvert_exporter": "python",
   "pygments_lexer": "ipython3",
   "version": "3.12.4"
  }
 },
 "nbformat": 4,
 "nbformat_minor": 5
}
