{
 "cells": [
  {
   "cell_type": "markdown",
   "id": "b45f4951-fd8b-4829-a322-a0f08c3a421d",
   "metadata": {},
   "source": [
    "# Section 6.2.3: Dynamic-DeepHit Demo\n",
    "\n",
    "Author: George H. Chen (georgechen [at symbol] cmu.edu)\n",
    "\n",
    "This demo coves how to implement Dynamic-DeepHit with competing risks (Lee et al., 2019) using PyTorch (based on code by Vincent Jeanselme: https://github.com/Jeanselme/DynamicDeepHit). For an overview of how Dynamic-DeepHit works, please see Section 6.2.3 of the monograph. This demo builds off the DeepHit (competing events) demo (`S6.1.4_DeepHit_competing.ipynb`), so please look at that first. We again use the PBC dataset (Fleming and Harrington, 1991), for which the first event is \"death\" and the second is \"transplanted\". We now treat the PBC dataset as a variable-length time series dataset.\n",
    "\n",
    "**Important**: In this demo, to avoid confusion in terminology, we use \"time\" to refer to different points in time of a time series, whereas we use \"duration\" to refer to the time-to-event outcome of interest, measured starting from the last time step per time series (refer to Sections 6.2.1 and 6.2.2 in the monograph for details). Note that for simplicity, we do *not* implement any of the strategies mentioned in \"Practical considerations\" at the end of Section 6.2.3 of the monograph.\n",
    "\n",
    "*Disclaimer*: Note that Jeanselme's code uses various conventions specific to the `auton-survival` package. Our demo here intentionally tries to stick to what would be considered standard PyTorch conventions (so that as a warning up front, what we present here does not perfectly align with `auton-survival` demos but will more closely resemble how PyTorch is commonly used in many other settings, including for instance how model training works in TorchSurv). In particular, our demo here will expose some of the under the hood code logic as to make some preprocessing and model training steps more transparent (so that making modifications to any part of these should be more straightforward)."
   ]
  },
  {
   "cell_type": "markdown",
   "id": "ed45bbae-a124-4865-afa0-d04f62b24610",
   "metadata": {},
   "source": [
    "### Loading in the PBC dataset (Fleming and Harrington, 1991)\n",
    "\n",
    "We begin by defining the training, validation, and test sets. Note that many variables are initially stored as Python lists to accommodate time series having varying lengths."
   ]
  },
  {
   "cell_type": "code",
   "execution_count": 1,
   "id": "ca8b9722-9480-4771-850a-592ebe83687e",
   "metadata": {},
   "outputs": [
    {
     "name": "stdout",
     "output_type": "stream",
     "text": [
      "Training set size 174\n",
      "Validation set size 44\n",
      "Test set size 94\n",
      "\n",
      "Features before preprocessing (15 total):\n",
      "['D-penicil', 'female', 'ascites', 'hepatomegaly', 'spiders', 'edema', 'histologic', 'serBilir', 'serChol', 'albumin', 'alkaline', 'SGOT', 'platelets', 'prothrombin', 'age']\n",
      "\n",
      "Features after preprocessing (17 total):\n",
      "['D-penicil', 'female', 'ascites', 'hepatomegaly', 'spiders', 'histologic_norm', 'serBilir_std', 'serChol_std', 'albumin_std', 'alkaline_std', 'SGOT_std', 'platelets_std', 'prothrombin_std', 'age_std', 'edema_no', 'edema_yes_despite_diuretics', 'edema_yes_without_diuretics']\n",
      "\n",
      "Events: ['death', 'transplanted']\n",
      "\n"
     ]
    }
   ],
   "source": [
    "from datasets import load_dataset\n",
    "from sklearn.model_selection import train_test_split\n",
    "\n",
    "X_full_train_raw_list, Y_full_train_list, D_full_train_list, \\\n",
    "        X_test_raw_list, Y_test_list, D_test_list, \\\n",
    "        features_before_preprocessing, features_after_preprocessing, \\\n",
    "        events, train_test_split_prespecified, \\\n",
    "        build_preprocessor_and_preprocess, apply_preprocessor = load_dataset('pbc', competing=True,\n",
    "                                                                             time_series=True)\n",
    "\n",
    "# split the \"full training set\" into the actual training set and a validation set (using a 80/20 split)\n",
    "X_train_raw_list, X_val_raw_list, Y_train_list, Y_val_list, D_train_list, D_val_list = \\\n",
    "    train_test_split(X_full_train_raw_list, Y_full_train_list, D_full_train_list,\n",
    "                     test_size=.2, random_state=0)\n",
    "\n",
    "print(f'Training set size {len(X_train_raw_list)}')\n",
    "print(f'Validation set size {len(X_val_raw_list)}')\n",
    "print(f'Test set size {len(X_test_raw_list)}')\n",
    "print()\n",
    "\n",
    "print(f'Features before preprocessing ({len(features_before_preprocessing)} total):')\n",
    "print(features_before_preprocessing)\n",
    "print()\n",
    "\n",
    "print(f'Features after preprocessing ({len(features_after_preprocessing)} total):')\n",
    "print(features_after_preprocessing)\n",
    "print()\n",
    "\n",
    "print('Events:', events)  # only one critical event for the standard time-to-event prediction setup\n",
    "print()"
   ]
  },
  {
   "cell_type": "markdown",
   "id": "c17484e8-156a-4724-a1e2-bd7f2025db68",
   "metadata": {},
   "source": [
    "We fit and apply a preprocessor to the training set. We apply (but do not re-fit) the preprocessor to the validation set."
   ]
  },
  {
   "cell_type": "code",
   "execution_count": 2,
   "id": "835b67c9-142f-47d8-82ee-e9d885e674f0",
   "metadata": {},
   "outputs": [],
   "source": [
    "X_train_list, preprocessor = build_preprocessor_and_preprocess(X_train_raw_list)\n",
    "X_val_list = apply_preprocessor(X_val_raw_list, preprocessor)"
   ]
  },
  {
   "cell_type": "markdown",
   "id": "3412a160-ce89-4ac6-ad4f-1f791a3ab3c1",
   "metadata": {},
   "source": [
    "### Discretizing *durations* (i.e., discretizing time-to-event outcomes)\n",
    "\n",
    "Recall that in earlier demos in which we discretized the time-to-event outcome, we had used PyCox's discretization code. Although we could reuse PyCox's discretization code here as well, instead we shall use discretization code from Jeanselme's `DynamicDeepHit` GitHub repository."
   ]
  },
  {
   "cell_type": "code",
   "execution_count": 3,
   "id": "3483ac40-4542-41cf-8108-8e56a06cd68e",
   "metadata": {},
   "outputs": [
    {
     "name": "stdout",
     "output_type": "stream",
     "text": [
      "Number of discretized durations to be used with Dynamic-DeepHit: 16\n",
      "Duration grid: [2.73792585e-03 9.56266224e-01 1.90979445e+00 2.86332273e+00\n",
      " 3.81685114e+00 4.77037954e+00 5.72390747e+00 6.67743587e+00\n",
      " 7.63096428e+00 8.58449268e+00 9.53802109e+00 1.04915495e+01\n",
      " 1.14450769e+01 1.23986053e+01 1.33521338e+01 1.43056622e+01]\n"
     ]
    }
   ],
   "source": [
    "import numpy as np\n",
    "\n",
    "# ----------------------------------------------------------------------\n",
    "# This snippet of code is taken from the `discretize` function (inside\n",
    "# the DynamicDeepHit class) from here (where we have removed `self`\n",
    "# since we now define this function outside of a Python class):\n",
    "# https://github.com/Jeanselme/DynamicDeepHit/blob/main/ddh/ddh_api.py\n",
    "def discretize(t, split, split_time=None):\n",
    "    \"\"\"\n",
    "        Discretize the survival horizon\n",
    "\n",
    "        Args:\n",
    "            t (List of Array): Time of events\n",
    "            split (int): Number of bins\n",
    "            split_time (List, optional): List of bins (must be same length than split). Defaults to None.\n",
    "\n",
    "        Returns:\n",
    "            List of Array: Disretized events time\n",
    "    \"\"\"\n",
    "    if split_time is None:\n",
    "        _, split_time = np.histogram(np.concatenate(t), split - 1)\n",
    "    t_discretized = np.array([np.digitize(t_, split_time, right = True) - 1 for t_ in t], dtype = object)\n",
    "    return t_discretized, split_time\n",
    "# ----------------------------------------------------------------------\n",
    "\n",
    "num_durations = 16  # set this to 0 to use all unique durations in which any critical event happens\n",
    "\n",
    "# discretize training durations\n",
    "if num_durations == 0:\n",
    "    # manually specify the duration grid\n",
    "    Y_train_stacked_np = np.concatenate(Y_train_list)\n",
    "    D_train_stacked_np = np.concatenate(D_train_list)\n",
    "    mask = (D_train_stacked_np >= 1)  # boolean mask specifying which training points were not censored\n",
    "    duration_grid_train_np = np.unique(Y_train_stacked_np[:, 0][mask])\n",
    "\n",
    "    # the `discretize` function allows us to supply it with a pre-specified grid\n",
    "    Y_train_discrete_np, _ = \\\n",
    "        discretize(Y_train_list,\n",
    "                   len(duration_grid_train_np) - 1,\n",
    "                   duration_grid_train_np)\n",
    "else:\n",
    "    Y_train_discrete_np, duration_grid_train_np \\\n",
    "        = discretize(Y_train_list, num_durations)\n",
    "\n",
    "# discretize validation observed durations using the grid obtained based on training data\n",
    "Y_val_discrete_np, _ = discretize(Y_val_list,\n",
    "                                  len(duration_grid_train_np) - 1,\n",
    "                                  duration_grid_train_np)\n",
    "\n",
    "output_num_durations = len(duration_grid_train_np)\n",
    "print(f'Number of discretized durations to be used with Dynamic-DeepHit: {output_num_durations}')\n",
    "print('Duration grid:', duration_grid_train_np)"
   ]
  },
  {
   "cell_type": "markdown",
   "id": "77ffe5dc-1354-4ea1-bf3c-fea418cd9b0e",
   "metadata": {},
   "source": [
    "### Preparing training and validation sets for use with PyTorch\n",
    "\n",
    "Since the different time series can vary in length, we use a standard approach for converting these to PyTorch tensors, which is to pad them so that they are the same length. Specifically, we first figure out what the maximum length is across training time series. Then for any training time series that is shorter than the maximum length, we add time steps at the end of them (so that there's a new feature vector full of NaNs for each of these new time steps) as to make sure that all training time series have the exact same length."
   ]
  },
  {
   "cell_type": "code",
   "execution_count": 4,
   "id": "a7fcf0cc-da71-4d32-9305-d015b67d0113",
   "metadata": {},
   "outputs": [],
   "source": [
    "# ----------------------------------------------------------------------\n",
    "# This snippet of code is taken from:\n",
    "# https://github.com/autonlab/DeepSurvivalMachines/blob/c454774199c389e7bb9fa3077f153cdf4f1e7696/dsm/utilities.py\n",
    "def _get_padded_features(x):\n",
    "    \"\"\"Helper function to pad variable length RNN inputs with nans.\"\"\"\n",
    "    d = max([len(x_) for x_ in x])\n",
    "    padx = []\n",
    "    for i in range(len(x)):\n",
    "        pads = np.nan*np.ones((d - len(x[i]),) + x[i].shape[1:])\n",
    "        padx.append(np.concatenate([x[i], pads]))\n",
    "    return np.array(padx)\n",
    "# ----------------------------------------------------------------------"
   ]
  },
  {
   "cell_type": "code",
   "execution_count": 5,
   "id": "81d4ee1f-a740-45b5-8c6e-26a674369a9e",
   "metadata": {},
   "outputs": [
    {
     "data": {
      "text/plain": [
       "torch.Size([174, 16, 17])"
      ]
     },
     "execution_count": 5,
     "metadata": {},
     "output_type": "execute_result"
    }
   ],
   "source": [
    "import torch\n",
    "\n",
    "device = torch.device('cuda' if torch.cuda.is_available() else 'cpu')\n",
    "\n",
    "X_train_padded = torch.from_numpy(_get_padded_features(X_train_list)).type(torch.float32).to(device)\n",
    "X_train_padded.size()  # shape = (number of data points, max number of time steps, number of features per time step)"
   ]
  },
  {
   "cell_type": "markdown",
   "id": "90b1e25e-d602-4663-bbc2-4c3df272134e",
   "metadata": {},
   "source": [
    "Per data point, we only use the last time step's target label information (i.e., the last time step's duration (discretized already) and event indicator):"
   ]
  },
  {
   "cell_type": "code",
   "execution_count": 6,
   "id": "35e3e99e-9ea6-44a3-bd80-0152fd16a6ce",
   "metadata": {},
   "outputs": [],
   "source": [
    "last_Y_train = torch.tensor([_[-1] for _ in Y_train_discrete_np]).type(torch.float32).to(device)\n",
    "D_train = torch.tensor([_[-1] for _ in D_train_list]).type(torch.float32).to(device)\n",
    "# each of these will be a 1D table with number of entries given by the number of data points"
   ]
  },
  {
   "cell_type": "markdown",
   "id": "0b02a6a8-a34e-4681-a21b-05199b4419ab",
   "metadata": {},
   "source": [
    "Now we put together the dataset that we will construct a PyTorch DataLoader object with:"
   ]
  },
  {
   "cell_type": "code",
   "execution_count": 7,
   "id": "c0c7a49c-a6d1-429c-a8bf-b85d8453c898",
   "metadata": {},
   "outputs": [],
   "source": [
    "train_data = list(zip(X_train_padded, last_Y_train, D_train))"
   ]
  },
  {
   "cell_type": "markdown",
   "id": "b5207414-1424-4caa-be80-7f323e0a7b99",
   "metadata": {},
   "source": [
    "Here's the code for prepping the validation data the same way:"
   ]
  },
  {
   "cell_type": "code",
   "execution_count": 8,
   "id": "2210ea0c-994b-41d0-bed6-bd839f0e702b",
   "metadata": {},
   "outputs": [],
   "source": [
    "X_val_padded = torch.from_numpy(_get_padded_features(X_val_list)).type(torch.float32).to(device)\n",
    "last_Y_val = torch.tensor([_[-1] for _ in Y_val_discrete_np]).type(torch.float32).to(device)\n",
    "D_val = torch.tensor([_[-1] for _ in D_val_list]).type(torch.float32).to(device)\n",
    "val_data = list(zip(X_val_padded, last_Y_val, D_val))"
   ]
  },
  {
   "cell_type": "markdown",
   "id": "5345064a-44b9-4334-80d3-1409dbd5a9aa",
   "metadata": {},
   "source": [
    "### Setting up the Dynamic-DeepHit model and loss\n",
    "\n",
    "We now set up a Dynamic-DeepHit model using Jeanselme's `DynamicDeepHitTorch` class."
   ]
  },
  {
   "cell_type": "code",
   "execution_count": 9,
   "id": "2d5d800a-893c-4342-a561-ca53ceee17b0",
   "metadata": {},
   "outputs": [],
   "source": [
    "import torch.nn as nn\n",
    "from pycox.models import DeepHit\n",
    "\n",
    "torch.manual_seed(0)\n",
    "\n",
    "from ddh.ddh_torch import DynamicDeepHitTorch\n",
    "from ddh.losses import total_loss\n",
    "\n",
    "dropout = .3\n",
    "rnn_type = 'LSTM'  # Jeanselme's code supports the options of 'RNN', 'LSTM', and 'GRU'\n",
    "num_rnn_layers = 2\n",
    "num_hidden = 8  # RNN hidden layer number of nodes (i.e., dimension of RNN hidden layer)\n",
    "\n",
    "# number of nodes for different hidden layers in f_{next_time_step}\n",
    "# (this is the neural net for predicting the next time step's feature vector\n",
    "# as stated in Section 6.2.3 in the monograph; in Jeanselme's code, this\n",
    "# neural net is called the \"longitudinal network\"\n",
    "layers_for_predicting_next_time_step = [32, 32]\n",
    "\n",
    "# number of nodes for different hidden layers in f_{attention}\n",
    "# (this is the neural net for determining attention weights that are used\n",
    "# in computing a summary vector from the RNN as described in Section 6.2.3\n",
    "# in the monograph; in Jeanselme's code, this neural net is also called the\n",
    "# attention network)\n",
    "layers_for_attention = [8, 8]\n",
    "\n",
    "# number of nodes for different hidden layers in each critical event's\n",
    "# original DeepHit MLP (see the bottom right of Figure 6.1 in the\n",
    "# monograph); in Jeanselme's code, these MLPs are called the cause-specific\n",
    "# networks (where each critical event is thought of as a \"cause\")\n",
    "layers_for_each_deephit_event = [8]\n",
    "\n",
    "num_input_features = X_train_padded.size(2)\n",
    "dynamic_deephit_model = \\\n",
    "    DynamicDeepHitTorch(num_input_features,\n",
    "                        output_num_durations,\n",
    "                        num_rnn_layers,\n",
    "                        num_hidden,\n",
    "                        long_param={'layers': layers_for_predicting_next_time_step,\n",
    "                                    'dropout': dropout},\n",
    "                        att_param={'layers': layers_for_attention,\n",
    "                                   'dropout': dropout},\n",
    "                        cs_param={'layers': layers_for_each_deephit_event,\n",
    "                                  'dropout': dropout},\n",
    "                        typ=rnn_type,\n",
    "                        risks=len(events)).to(device)\n",
    "dynamic_deephit_loss = total_loss"
   ]
  },
  {
   "cell_type": "markdown",
   "id": "c3c36bf4-fd91-4dd5-b997-481b1a8569e2",
   "metadata": {},
   "source": [
    "### Training the model using minibatch gradient descent\n",
    "\n",
    "Just as in the exponential time-to-event prediction model demo, we use the validation set to decide on whether to use a previous epoch's learned model parameters.\n",
    "\n",
    "Jeanselme's Dynamic-DeepHit `total_loss` function views the loss function as:\n",
    "\n",
    "$ \\alpha\\times\\text{ranking loss} + \\beta \\times \\text{negative log likelihood} + (1 - \\alpha - \\beta) \\times \\text{loss of prediction of next time steps' feature vectors}$,\n",
    "\n",
    "where as a reminder, the ranking loss for DeepHit (and also Dynamic-DeepHit) has a hyperparameter $\\sigma$ (see the loss function $L_{\\text{DeepHit-ranking}}$ in Section 6.1.4 of the monograph; note that in the monograph, there is an additional hyperparameter $\\eta$ that we are just treating as all ones).\n",
    "\n",
    "The hyperparameters $\\alpha$, $\\beta$, and $\\sigma$ are set below."
   ]
  },
  {
   "cell_type": "code",
   "execution_count": 10,
   "id": "b33ace96-79ed-487a-a1f4-3dc12b33194e",
   "metadata": {},
   "outputs": [
    {
     "name": "stdout",
     "output_type": "stream",
     "text": [
      "Epoch 1 - train loss 247.502685546875 - val loss 82.81333923339844\n",
      "Epoch 2 - train loss 250.00718688964844 - val loss 81.73088073730469\n",
      "Epoch 3 - train loss 231.67796325683594 - val loss 80.12406158447266\n",
      "Epoch 4 - train loss 225.209716796875 - val loss 77.67256164550781\n",
      "Epoch 5 - train loss 212.74322509765625 - val loss 74.32438659667969\n",
      "Epoch 6 - train loss 204.90618896484375 - val loss 70.28517150878906\n",
      "Epoch 7 - train loss 193.29736328125 - val loss 65.89212799072266\n",
      "Epoch 8 - train loss 184.64059448242188 - val loss 61.572078704833984\n",
      "Epoch 9 - train loss 182.98582458496094 - val loss 57.86710739135742\n",
      "Epoch 10 - train loss 178.58316040039062 - val loss 55.17209243774414\n",
      "Epoch 11 - train loss 186.2574920654297 - val loss 53.3787841796875\n",
      "Epoch 12 - train loss 173.02078247070312 - val loss 52.15653610229492\n",
      "Epoch 13 - train loss 178.71426391601562 - val loss 51.44504165649414\n",
      "Epoch 14 - train loss 169.9193878173828 - val loss 51.14988708496094\n",
      "Epoch 15 - train loss 174.98081970214844 - val loss 51.01127624511719\n",
      "Epoch 16 - train loss 173.99111938476562 - val loss 50.91960144042969\n",
      "Epoch 17 - train loss 168.30197143554688 - val loss 51.0220832824707\n",
      "Epoch 18 - train loss 160.3619384765625 - val loss 50.857418060302734\n",
      "Epoch 19 - train loss 163.73431396484375 - val loss 50.846588134765625\n",
      "Epoch 20 - train loss 163.70004272460938 - val loss 51.1681022644043\n",
      "Epoch 21 - train loss 158.4809112548828 - val loss 51.46074295043945\n",
      "Epoch 22 - train loss 158.8608856201172 - val loss 51.55567169189453\n",
      "Epoch 23 - train loss 156.14541625976562 - val loss 51.52769088745117\n",
      "Epoch 24 - train loss 156.45916748046875 - val loss 51.449607849121094\n",
      "Epoch 25 - train loss 154.55406188964844 - val loss 51.813262939453125\n",
      "Epoch 26 - train loss 151.2171630859375 - val loss 52.070091247558594\n",
      "Epoch 27 - train loss 150.4154052734375 - val loss 51.8067626953125\n",
      "Epoch 28 - train loss 144.4893798828125 - val loss 51.658992767333984\n",
      "Epoch 29 - train loss 151.7709503173828 - val loss 51.603267669677734\n",
      "Epoch 30 - train loss 145.9487762451172 - val loss 51.544158935546875\n",
      "Epoch 31 - train loss 146.33717346191406 - val loss 51.21649932861328\n",
      "Epoch 32 - train loss 147.16201782226562 - val loss 51.00294876098633\n",
      "Epoch 33 - train loss 135.68988037109375 - val loss 50.82269287109375\n",
      "Epoch 34 - train loss 143.03668212890625 - val loss 50.85523223876953\n",
      "Epoch 35 - train loss 140.56996154785156 - val loss 50.94318389892578\n",
      "Epoch 36 - train loss 137.71502685546875 - val loss 51.177364349365234\n",
      "Epoch 37 - train loss 135.51058959960938 - val loss 51.30698013305664\n",
      "Epoch 38 - train loss 134.99838256835938 - val loss 50.82805252075195\n",
      "Epoch 39 - train loss 137.0081024169922 - val loss 49.97703552246094\n",
      "Epoch 40 - train loss 143.08018493652344 - val loss 49.3142204284668\n",
      "Epoch 41 - train loss 130.47825622558594 - val loss 49.099937438964844\n",
      "Epoch 42 - train loss 137.31015014648438 - val loss 48.99146270751953\n",
      "Epoch 43 - train loss 134.68052673339844 - val loss 49.390960693359375\n",
      "Epoch 44 - train loss 134.50535583496094 - val loss 50.58197021484375\n",
      "Epoch 45 - train loss 121.17784881591797 - val loss 51.54545974731445\n",
      "Epoch 46 - train loss 132.0485076904297 - val loss 51.969417572021484\n",
      "Epoch 47 - train loss 125.90879821777344 - val loss 52.019134521484375\n",
      "Epoch 48 - train loss 131.0279998779297 - val loss 52.12534713745117\n",
      "Epoch 49 - train loss 130.7926788330078 - val loss 52.22736740112305\n",
      "Epoch 50 - train loss 128.67713928222656 - val loss 52.052452087402344\n",
      "Epoch 51 - train loss 125.25847625732422 - val loss 51.425323486328125\n",
      "Epoch 52 - train loss 127.57233428955078 - val loss 51.45933532714844\n",
      "Epoch 53 - train loss 125.0344009399414 - val loss 51.516597747802734\n",
      "Epoch 54 - train loss 126.2233657836914 - val loss 51.82571792602539\n",
      "Epoch 55 - train loss 123.4748764038086 - val loss 52.203521728515625\n",
      "Epoch 56 - train loss 127.1989974975586 - val loss 52.16315460205078\n",
      "Epoch 57 - train loss 130.2139892578125 - val loss 52.28335952758789\n",
      "Epoch 58 - train loss 124.69890594482422 - val loss 52.32218933105469\n",
      "Epoch 59 - train loss 125.28015899658203 - val loss 52.494686126708984\n",
      "Epoch 60 - train loss 120.35037994384766 - val loss 52.91299819946289\n",
      "Epoch 61 - train loss 120.7801742553711 - val loss 53.13750457763672\n",
      "Epoch 62 - train loss 116.90863037109375 - val loss 53.332332611083984\n",
      "Epoch 63 - train loss 126.04013061523438 - val loss 53.42292022705078\n",
      "Epoch 64 - train loss 121.50324249267578 - val loss 53.346519470214844\n",
      "Epoch 65 - train loss 129.54541015625 - val loss 53.27948760986328\n",
      "Epoch 66 - train loss 123.38541412353516 - val loss 53.23953628540039\n",
      "Epoch 67 - train loss 124.61621856689453 - val loss 53.37663269042969\n",
      "Epoch 68 - train loss 122.81490325927734 - val loss 53.22081756591797\n",
      "Epoch 69 - train loss 123.12047576904297 - val loss 52.97676467895508\n",
      "Epoch 70 - train loss 122.36653900146484 - val loss 52.785125732421875\n",
      "Epoch 71 - train loss 118.82347869873047 - val loss 52.456478118896484\n",
      "Epoch 72 - train loss 123.75555419921875 - val loss 52.295772552490234\n",
      "Epoch 73 - train loss 122.2314453125 - val loss 52.38199234008789\n",
      "Epoch 74 - train loss 126.0091781616211 - val loss 52.63777542114258\n",
      "Epoch 75 - train loss 119.8395767211914 - val loss 52.834320068359375\n",
      "Epoch 76 - train loss 124.55476379394531 - val loss 52.93576431274414\n",
      "Epoch 77 - train loss 118.92343139648438 - val loss 53.20048522949219\n",
      "Epoch 78 - train loss 120.27306365966797 - val loss 53.50544357299805\n",
      "Epoch 79 - train loss 124.18366241455078 - val loss 53.82429885864258\n",
      "Epoch 80 - train loss 118.07426452636719 - val loss 53.98332214355469\n",
      "Epoch 81 - train loss 116.40536499023438 - val loss 54.065818786621094\n",
      "Epoch 82 - train loss 114.0892333984375 - val loss 54.039546966552734\n",
      "Epoch 83 - train loss 120.03416442871094 - val loss 53.77899932861328\n",
      "Epoch 84 - train loss 122.76541137695312 - val loss 53.51095962524414\n",
      "Epoch 85 - train loss 122.83883666992188 - val loss 53.309783935546875\n",
      "Epoch 86 - train loss 118.4433822631836 - val loss 53.393428802490234\n",
      "Epoch 87 - train loss 123.61106872558594 - val loss 53.59037780761719\n",
      "Epoch 88 - train loss 129.86740112304688 - val loss 53.81529235839844\n",
      "Epoch 89 - train loss 119.60428619384766 - val loss 54.09117889404297\n",
      "Epoch 90 - train loss 121.31373596191406 - val loss 54.38848114013672\n",
      "Epoch 91 - train loss 119.13279724121094 - val loss 54.69841003417969\n",
      "Epoch 92 - train loss 115.5548324584961 - val loss 55.12854766845703\n",
      "Epoch 93 - train loss 120.73619079589844 - val loss 55.07535171508789\n",
      "Epoch 94 - train loss 111.32669067382812 - val loss 54.694183349609375\n",
      "Epoch 95 - train loss 114.86678314208984 - val loss 54.12560272216797\n",
      "Epoch 96 - train loss 120.5051498413086 - val loss 54.27281951904297\n",
      "Epoch 97 - train loss 119.46219635009766 - val loss 54.843074798583984\n",
      "Epoch 98 - train loss 125.07400512695312 - val loss 56.343441009521484\n",
      "Epoch 99 - train loss 125.92837524414062 - val loss 57.16343307495117\n",
      "Epoch 100 - train loss 121.1745834350586 - val loss 57.01531219482422\n",
      "Best validation loss (48.99146270751953) achieved at epoch 42\n"
     ]
    },
    {
     "data": {
      "text/plain": [
       "<All keys matched successfully>"
      ]
     },
     "execution_count": 10,
     "metadata": {},
     "output_type": "execute_result"
    }
   ],
   "source": [
    "from copy import deepcopy\n",
    "from torch.utils.data import DataLoader\n",
    "\n",
    "# minibatch gradient descent\n",
    "num_epochs = 100\n",
    "batch_size = 128\n",
    "learning_rate = 1e-2\n",
    "\n",
    "# Dynamic-DeepHit loss function hyperparameters\n",
    "alpha = .8\n",
    "beta = .1\n",
    "sigma = .1\n",
    "\n",
    "train_loader = DataLoader(train_data, batch_size, shuffle=True)  # shuffling for minibatch gradient descent\n",
    "val_loader = DataLoader(val_data, batch_size, shuffle=False)  # there is no need to shuffle the validation data\n",
    "\n",
    "optimizer = torch.optim.Adam(dynamic_deephit_model.parameters(), lr=learning_rate)\n",
    "train_epoch_losses = []\n",
    "val_epoch_losses = []\n",
    "best_val_loss = float('inf')\n",
    "best_params = None\n",
    "best_epoch_index = None\n",
    "for epoch_index in range(num_epochs):\n",
    "    dynamic_deephit_model.train()\n",
    "    for X_batch, Y_batch, D_batch in train_loader:\n",
    "        X_batch = X_batch.to(device)\n",
    "        # the `total_loss` function has been written so that it evalutes the model\n",
    "        # for you, so there is no need to evaluate it ourselves prior to sending\n",
    "        # the neural net's output to the loss function\n",
    "        loss_batch = \\\n",
    "            total_loss(dynamic_deephit_model,\n",
    "                       X_batch,\n",
    "                       Y_batch,\n",
    "                       D_batch,\n",
    "                       alpha,\n",
    "                       beta,\n",
    "                       sigma)\n",
    "\n",
    "        optimizer.zero_grad()\n",
    "        loss_batch.backward()\n",
    "        optimizer.step()\n",
    "\n",
    "    # evaluate training and validation set losses\n",
    "    # (note that in practice, instead of evaluating the negative log likelihood loss,\n",
    "    # we could instead evaluate other metrics such as time-dependent concordance index,\n",
    "    # integrated Brier score, etc)\n",
    "    dynamic_deephit_model.eval()\n",
    "    with torch.no_grad():\n",
    "        train_loss = torch.tensor(0.0, dtype=torch.float, device=device)\n",
    "        num_points = 0\n",
    "        for X_batch, Y_batch, D_batch in train_loader:\n",
    "            X_batch = X_batch.to(device)\n",
    "            batch_num_points = X_batch.size(0)\n",
    "            train_loss += total_loss(dynamic_deephit_model,\n",
    "                                     X_batch,\n",
    "                                     Y_batch,\n",
    "                                     D_batch,\n",
    "                                     alpha,\n",
    "                                     beta,\n",
    "                                     sigma) * batch_num_points\n",
    "            num_points += batch_num_points\n",
    "        train_loss = float(train_loss / num_points)\n",
    "        train_epoch_losses.append(train_loss)\n",
    "        print(f'Epoch {epoch_index + 1} - train loss {train_loss}', end=' ', flush=True)\n",
    "\n",
    "        val_loss = torch.tensor(0.0, dtype=torch.float, device=device)\n",
    "        num_points = 0\n",
    "        for X_batch, Y_batch, D_batch in val_loader:\n",
    "            X_batch = X_batch.to(device)\n",
    "            batch_num_points = X_batch.size(0)\n",
    "            val_loss += total_loss(dynamic_deephit_model,\n",
    "                                   X_batch,\n",
    "                                   Y_batch,\n",
    "                                   D_batch,\n",
    "                                   alpha,\n",
    "                                   beta,\n",
    "                                   sigma) * batch_num_points\n",
    "            num_points += batch_num_points\n",
    "        val_loss = float(val_loss / num_points)\n",
    "        val_epoch_losses.append(val_loss)\n",
    "        print(f'- val loss {val_loss}', flush=True)\n",
    "\n",
    "        if val_loss < best_val_loss:\n",
    "            best_val_loss = val_loss\n",
    "            best_epoch_index = epoch_index\n",
    "            best_params = deepcopy(dynamic_deephit_model.state_dict())\n",
    "print(f'Best validation loss ({best_val_loss}) achieved at epoch {best_epoch_index + 1}')\n",
    "dynamic_deephit_model.load_state_dict(best_params)"
   ]
  },
  {
   "cell_type": "code",
   "execution_count": 11,
   "id": "8d591b8f-de58-4e9c-9b6b-c7111ef86487",
   "metadata": {},
   "outputs": [
    {
     "data": {
      "text/plain": [
       "<matplotlib.legend.Legend at 0x74b07c2d9310>"
      ]
     },
     "execution_count": 11,
     "metadata": {},
     "output_type": "execute_result"
    },
    {
     "data": {
      "image/png": "[encoded data removed]",
      "text/plain": [
       "<Figure size 640x480 with 1 Axes>"
      ]
     },
     "metadata": {},
     "output_type": "display_data"
    }
   ],
   "source": [
    "%matplotlib inline\n",
    "import matplotlib.pyplot as plt\n",
    "\n",
    "plt.plot(range(1, num_epochs + 1), train_epoch_losses, label='Training')\n",
    "plt.plot(range(1, num_epochs + 1), val_epoch_losses, '--', label='Validation')\n",
    "plt.xlabel('Epoch')\n",
    "plt.ylabel('Loss')\n",
    "plt.legend()"
   ]
  },
  {
   "cell_type": "markdown",
   "id": "49807d51-72fb-42f3-a4a5-93c59657eb0a",
   "metadata": {},
   "source": [
    "### Predicting cumulative incidence functions (CIFs) on the test set"
   ]
  },
  {
   "cell_type": "markdown",
   "id": "9fd16f73-ebe8-4caf-8e8f-31a2ff773547",
   "metadata": {},
   "source": [
    "We begin by preprocessing the test data using the preprocessor built using training data."
   ]
  },
  {
   "cell_type": "code",
   "execution_count": 12,
   "id": "fe28bba0-9ab4-4940-854d-54eec8eb9065",
   "metadata": {},
   "outputs": [
    {
     "data": {
      "text/plain": [
       "torch.Size([94, 16, 17])"
      ]
     },
     "execution_count": 12,
     "metadata": {},
     "output_type": "execute_result"
    }
   ],
   "source": [
    "X_test_list = apply_preprocessor(X_test_raw_list, preprocessor)\n",
    "X_test_padded = torch.from_numpy(_get_padded_features(X_test_list)).type(torch.float32).to(device)\n",
    "X_test_padded.size()"
   ]
  },
  {
   "cell_type": "markdown",
   "id": "2be39258-27e3-4d71-9af4-182dda7694ed",
   "metadata": {},
   "source": [
    "We now get the neural net's output:"
   ]
  },
  {
   "cell_type": "code",
   "execution_count": 13,
   "id": "517e3219-7934-4503-b504-fe8cd6381820",
   "metadata": {},
   "outputs": [],
   "source": [
    "with torch.no_grad():\n",
    "    # we ignore the 0th output, which contains predictions of next time steps' feature vectors\n",
    "    _, pmf_test = dynamic_deephit_model(X_test_padded)\n",
    "    # note that what comes out of the model is *not* the CIFs but instead the PMFs\n",
    "    # (we can back out the CIFs from the PMFs)\n",
    "# `pmf_test` will be a list with length given by the number of critical events (2 in this case)"
   ]
  },
  {
   "cell_type": "markdown",
   "id": "5a8a78c9-f04a-4082-a2d9-0f454f493628",
   "metadata": {},
   "source": [
    "Each event's predicted PMFs is stored as a 2D table with shape (number of test points, number of discrete durations)"
   ]
  },
  {
   "cell_type": "code",
   "execution_count": 14,
   "id": "dc27b2a8-fcd3-43e9-9cfb-d7ff4e820bae",
   "metadata": {},
   "outputs": [
    {
     "data": {
      "text/plain": [
       "torch.Size([94, 16])"
      ]
     },
     "execution_count": 14,
     "metadata": {},
     "output_type": "execute_result"
    }
   ],
   "source": [
    "pmf_test[0].size()"
   ]
  },
  {
   "cell_type": "code",
   "execution_count": 15,
   "id": "998947bf-c698-47e6-8779-9cb8b0cd2d8c",
   "metadata": {},
   "outputs": [],
   "source": [
    "cifs = []\n",
    "for event_idx_minus_one in range(len(pmf_test)):\n",
    "    cifs.append(pmf_test[event_idx_minus_one].cumsum(1))"
   ]
  },
  {
   "cell_type": "markdown",
   "id": "9407df72-e0c7-499c-aef0-78922f774dc3",
   "metadata": {},
   "source": [
    "Importantly, the code is written so that it only makes a prediction at the very last time step per test time series. If you wanted to have a prediction as you saw more and more of a time series, you would have to write additional code (this would be straightforward in that you just give the model a truncated version of a test time series such as only the first time step of it, and then only the first two time steps of it, etc).\n",
    "\n",
    "Note that given this setup where we only predict at the last time step per test time series, if we believe that having time 0 correspond to the last time step makes sense for this setup, then we could compute evaluation metrics the same way as we did for the DeepHit competing risks demo. We illustrate this below. Note that for simplicity, we rearrange `cifs` into the same format as what gets outputted by PyCox's DeepHit model; namely, we create a Python variable `cif_test_np` that is a Numpy array with shape (number of critical events, number of time steps in `duration_grid_train_np`, number of test points)."
   ]
  },
  {
   "cell_type": "code",
   "execution_count": 16,
   "id": "1d5cca5b-582e-4f26-8cb7-c96ef721e515",
   "metadata": {},
   "outputs": [
    {
     "data": {
      "text/plain": [
       "(2, 16, 94)"
      ]
     },
     "execution_count": 16,
     "metadata": {},
     "output_type": "execute_result"
    }
   ],
   "source": [
    "cif_test_np = np.array([cifs[event_idx_minus_one].cpu().numpy().T for event_idx_minus_one in range(len(events))])\n",
    "cif_test_np.shape"
   ]
  },
  {
   "cell_type": "markdown",
   "id": "432bb9e7-6e55-44a2-9850-9d9f6f617a3b",
   "metadata": {},
   "source": [
    "Now we could reuse code from our earlier DeepHit (with competing risks) demo (although we now use the variable `duration_grid_train_np` instead of `time_grid_train_np`). For example, we plot test subject 0's CIFs for the two events:"
   ]
  },
  {
   "cell_type": "code",
   "execution_count": 17,
   "id": "339799a9-6c1d-474a-97e7-d1f777b7ad36",
   "metadata": {},
   "outputs": [
    {
     "data": {
      "text/plain": [
       "<matplotlib.legend.Legend at 0x74b07c19a2d0>"
      ]
     },
     "execution_count": 17,
     "metadata": {},
     "output_type": "execute_result"
    },
    {
     "data": {
      "image/png": "[encoded data removed]",
      "text/plain": [
       "<Figure size 640x480 with 1 Axes>"
      ]
     },
     "metadata": {},
     "output_type": "display_data"
    }
   ],
   "source": [
    "for event_idx_minus_one, event in enumerate(events):\n",
    "    plt.plot(duration_grid_train_np, cif_test_np[event_idx_minus_one, :, 0], label=event)\n",
    "plt.xlabel('Duration')\n",
    "plt.ylabel('CIF')\n",
    "plt.legend()"
   ]
  },
  {
   "cell_type": "markdown",
   "id": "b3d9dda8-214c-4d57-afb3-60920423fe9e",
   "metadata": {},
   "source": [
    "### Computing evaluation metrics on the test set\n",
    "\n",
    "We take the ground truth information from the last time step per training and test point."
   ]
  },
  {
   "cell_type": "code",
   "execution_count": 18,
   "id": "60cfabe1-2776-4a56-87d2-a0a26c58126a",
   "metadata": {},
   "outputs": [],
   "source": [
    "Y_train_np = np.array([_[-1] for _ in Y_train_list])\n",
    "D_train_np = np.array([_[-1] for _ in D_train_list])\n",
    "Y_test_np = np.array([_[-1] for _ in Y_test_list])\n",
    "D_test_np = np.array([_[-1] for _ in D_test_list])\n",
    "duration_grid_test_np = np.unique(Y_test_np)"
   ]
  },
  {
   "cell_type": "markdown",
   "id": "931e241e-7648-4d28-91c8-ffc5942a13c9",
   "metadata": {},
   "source": [
    "#### Time-dependent concordance index (Antolini et al., 2005) using the PyCox implementation (Kvamme et al., 2019)"
   ]
  },
  {
   "cell_type": "code",
   "execution_count": 19,
   "id": "4e93bae8-67f1-4b2b-ac35-41270d413fc9",
   "metadata": {},
   "outputs": [
    {
     "name": "stdout",
     "output_type": "stream",
     "text": [
      "Event \"death\" - time-dependent concordance index: 0.8275480059084195\n",
      "Event \"transplanted\" - time-dependent concordance index: 0.5833333333333334\n"
     ]
    }
   ],
   "source": [
    "import pandas as pd\n",
    "from pycox.evaluation import EvalSurv\n",
    "\n",
    "for event_idx_minus_one, event in enumerate(events):\n",
    "    one_minus_cif_df = pd.DataFrame(1 - cif_test_np[event_idx_minus_one, :, :],\n",
    "                                    index=duration_grid_train_np)\n",
    "\n",
    "    # remember that in `Y_test_np`, the critical events are numbered starting from 1 and not 0\n",
    "    eval_pycox = EvalSurv(one_minus_cif_df, Y_test_np, 1*(D_test_np == (event_idx_minus_one + 1)))\n",
    "\n",
    "    C_td = eval_pycox.concordance_td('antolini')\n",
    "    print(f'Event \"{event}\" - time-dependent concordance index: {C_td}')"
   ]
  },
  {
   "cell_type": "markdown",
   "id": "d25beae8-6208-41b0-a7ed-20e0d6f10ad7",
   "metadata": {},
   "source": [
    "#### Truncated time-dependent concordance index (Uno et al., 2011) using the scikit-survival implementation (Pölsterl, 2020)\n",
    "\n",
    "Note that the training data are specifically used to estimate the censoring distribution (for inverse probability of censoring weights -- the $w_i$ weights in equation (6.8) of the monograph), so it suffices to set the training event indicators to be 1 if *any* of the competing critical events happen, and 0 if censoring happens."
   ]
  },
  {
   "cell_type": "code",
   "execution_count": 20,
   "id": "c2875af8-4377-4d2a-a05d-380b0de2f82b",
   "metadata": {},
   "outputs": [
    {
     "name": "stdout",
     "output_type": "stream",
     "text": [
      "Event \"death\" - eval time 0.27926841378211975 - truncated time-dependent concordance: 0.8213490371924643\n",
      "Event \"death\" - eval time 0.8159018754959106 - truncated time-dependent concordance: 0.8173471650865896\n",
      "Event \"death\" - eval time 2.17391300201416 - truncated time-dependent concordance: 0.8221068712460827\n",
      "Event \"transplanted\" - eval time 0.27926841378211975 - truncated time-dependent concordance: 0.7607712261789206\n",
      "Event \"transplanted\" - eval time 0.8159018754959106 - truncated time-dependent concordance: 0.5796577279937458\n",
      "Event \"transplanted\" - eval time 2.17391300201416 - truncated time-dependent concordance: 0.5471388396655726\n"
     ]
    }
   ],
   "source": [
    "from sksurv.util import Surv\n",
    "from sksurv.metrics import concordance_index_ipcw\n",
    "\n",
    "# convert training labels into the structured array format used by scikit-survival\n",
    "labels_train_sksurv = Surv.from_arrays(1*(D_train_np >= 1), Y_train_np)\n",
    "\n",
    "# as an illustrative example, we evaluate the truncated time-dependent concordance index at\n",
    "# 25, 50, and 75 percentile values of the time grid we specified earlier\n",
    "eval_duration_indices = [int(.25 * len(duration_grid_test_np)),\n",
    "                         int(.5 * len(duration_grid_test_np)),\n",
    "                         int(.75 * len(duration_grid_test_np))]\n",
    "\n",
    "for event_idx_minus_one, event in enumerate(events):\n",
    "    # convert test labels into the structured array format used by scikit-survival\n",
    "    labels_test_sksurv = Surv.from_arrays(1*(D_test_np == (event_idx_minus_one + 1)), Y_test_np)\n",
    "\n",
    "    for eval_duration_index in eval_duration_indices:\n",
    "        eval_duration = duration_grid_test_np[eval_duration_index]\n",
    "\n",
    "        # find the training time grid's time point closest to the evaluation time\n",
    "        interp_time_index = np.argmin(np.abs(eval_duration - duration_grid_train_np))\n",
    "        cif_values_at_eval_duration_np = cif_test_np[event_idx_minus_one, interp_time_index, :].T\n",
    "\n",
    "        concordance = concordance_index_ipcw(labels_train_sksurv, labels_test_sksurv, cif_values_at_eval_duration_np, tau=eval_duration)[0]\n",
    "        print(f'Event \"{event}\" - eval time {eval_duration} - truncated time-dependent concordance: {concordance}')"
   ]
  },
  {
   "cell_type": "markdown",
   "id": "86d2ae6f-d8db-4bd5-93fd-6075bb478dd3",
   "metadata": {},
   "source": [
    "#### Brier score (Graf et al., 1999) generalized to competing risks"
   ]
  },
  {
   "cell_type": "code",
   "execution_count": 21,
   "id": "594ed417-a759-4871-91fe-657e3d02f111",
   "metadata": {},
   "outputs": [
    {
     "name": "stdout",
     "output_type": "stream",
     "text": [
      "Event \"death\" - eval time 0.27926841378211975 - Brier score: 0.3206562259142652\n",
      "Event \"death\" - eval time 0.8159018754959106 - Brier score: 0.22173445175171386\n",
      "Event \"death\" - eval time 2.17391300201416 - Brier score: 0.1322642842322594\n",
      "Event \"transplanted\" - eval time 0.27926841378211975 - Brier score: 0.0908043482623298\n",
      "Event \"transplanted\" - eval time 0.8159018754959106 - Brier score: 0.11615339725288878\n",
      "Event \"transplanted\" - eval time 2.17391300201416 - Brier score: 0.10071478281278182\n"
     ]
    }
   ],
   "source": [
    "def compute_brier_competing(cif_values_at_time_horizon, censoring_kmf,\n",
    "                            Y_test, D_test, event_of_interest, time_horizon):\n",
    "    n = len(Y_test)\n",
    "    assert len(D_test) == n\n",
    "\n",
    "    residuals = np.zeros(n)\n",
    "    for idx in range(n):\n",
    "        observed_time = Y_test[idx]\n",
    "        event_indicator = D_test[idx]\n",
    "        if observed_time > time_horizon:\n",
    "            weight = censoring_kmf.predict(time_horizon)\n",
    "            residuals[idx] = (cif_values_at_time_horizon[idx])**2 / weight\n",
    "        else:\n",
    "            weight = censoring_kmf.predict(observed_time)\n",
    "            if event_indicator == event_of_interest:\n",
    "                residuals[idx] = (1 - cif_values_at_time_horizon[idx])**2 / weight\n",
    "            elif event_indicator != event_of_interest and event_indicator != 0:\n",
    "                residuals[idx] = (cif_values_at_time_horizon[idx])**2 / weight\n",
    "    return residuals.mean()\n",
    "\n",
    "import lifelines\n",
    "censoring_kmf = lifelines.KaplanMeierFitter()\n",
    "censoring_kmf.fit(Y_train_np, 1 * (D_train_np == 0))\n",
    "\n",
    "for event_idx_minus_one, event in enumerate(events):\n",
    "    for eval_duration_index in eval_duration_indices:\n",
    "        eval_duration = duration_grid_test_np[eval_duration_index]\n",
    "\n",
    "        # find the training time grid's time point closest to the evaluation time\n",
    "        interp_time_index = np.argmin(np.abs(eval_duration - duration_grid_train_np))\n",
    "        cif_values_at_eval_duration_np = cif_test_np[event_idx_minus_one, interp_time_index, :].T\n",
    "\n",
    "        brier = \\\n",
    "            compute_brier_competing(cif_values_at_eval_duration_np, censoring_kmf,\n",
    "                                    Y_test_np, D_test_np, event_idx_minus_one + 1, eval_duration)\n",
    "        print(f'Event \"{event}\" - eval time {eval_duration} - Brier score: {brier}')"
   ]
  }
 ],
 "metadata": {
  "kernelspec": {
   "display_name": "Python 3 (ipykernel)",
   "language": "python",
   "name": "python3"
  },
  "language_info": {
   "codemirror_mode": {
    "name": "ipython",
    "version": 3
   },
   "file_extension": ".py",
   "mimetype": "text/x-python",
   "name": "python",
   "nbconvert_exporter": "python",
   "pygments_lexer": "ipython3",
   "version": "3.12.4"
  }
 },
 "nbformat": 4,
 "nbformat_minor": 5
}
