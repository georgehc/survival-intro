{
 "cells": [
  {
   "cell_type": "markdown",
   "id": "b45f4951-fd8b-4829-a322-a0f08c3a421d",
   "metadata": {},
   "source": [
    "# Section 6.1.4: DeepHit (Competing Events) Demo\n",
    "\n",
    "Author: George H. Chen (georgechen [at symbol] cmu.edu)\n",
    "\n",
    "This demo covers how to implement DeepHit with competing risks (Lee et al., 2018) using PyCox and PyTorch. For an overview of how the DeepHit model works, please see Section 6.1.4 of the monograph. This demo builds off the DeepHit (single event) demo (`S2.3.3_DeepHit_single.ipynb`), so please look at that first. We now consider a setting where there are two competing events. We specifically use the PBC dataset (Fleming and Harrington, 1991), for which the first event is \"death\" and the second is \"transplanted\". Note that the PBC dataset is actually a time series dataset but per data point, we only consider the initial time step, so that we reduce it to a tabular dataset. Now that we consider two competing events, we use PyCox's `DeepHit` model (instead of `DeepHitSingle` as in the earlier demo)."
   ]
  },
  {
   "cell_type": "markdown",
   "id": "ed45bbae-a124-4865-afa0-d04f62b24610",
   "metadata": {},
   "source": [
    "### Loading in the PBC dataset (Fleming and Harrington, 1991)\n",
    "\n",
    "We begin by defining the training, validation, and test sets."
   ]
  },
  {
   "cell_type": "code",
   "execution_count": 1,
   "id": "ca8b9722-9480-4771-850a-592ebe83687e",
   "metadata": {},
   "outputs": [
    {
     "name": "stdout",
     "output_type": "stream",
     "text": [
      "Training set size 1088\n",
      "Validation set size 273\n",
      "Test set size 584\n",
      "\n",
      "Features before preprocessing (15 total):\n",
      "['D-penicil', 'female', 'ascites', 'hepatomegaly', 'spiders', 'edema', 'histologic', 'serBilir', 'serChol', 'albumin', 'alkaline', 'SGOT', 'platelets', 'prothrombin', 'age']\n",
      "\n",
      "Features after preprocessing (17 total):\n",
      "['D-penicil', 'female', 'ascites', 'hepatomegaly', 'spiders', 'histologic_norm', 'serBilir_std', 'serChol_std', 'albumin_std', 'alkaline_std', 'SGOT_std', 'platelets_std', 'prothrombin_std', 'age_std', 'edema_no', 'edema_yes_despite_diuretics', 'edema_yes_without_diuretics']\n",
      "\n",
      "Events: ['death', 'transplanted']\n",
      "\n"
     ]
    }
   ],
   "source": [
    "from datasets import load_dataset\n",
    "from sklearn.model_selection import train_test_split\n",
    "\n",
    "X_full_train_raw_np, Y_full_train_np, D_full_train_np, \\\n",
    "        X_test_raw_np, Y_test_np, D_test_np, \\\n",
    "        features_before_preprocessing, features_after_preprocessing, \\\n",
    "        events, train_test_split_prespecified, \\\n",
    "        build_preprocessor_and_preprocess, apply_preprocessor = load_dataset('pbc', competing=True)\n",
    "\n",
    "# split the \"full training set\" into the actual training set and a validation set (using a 80/20 split)\n",
    "X_train_raw_np, X_val_raw_np, Y_train_np, Y_val_np, D_train_np, D_val_np = \\\n",
    "    train_test_split(X_full_train_raw_np, Y_full_train_np, D_full_train_np,\n",
    "                     test_size=.2, random_state=0)\n",
    "\n",
    "print(f'Training set size {X_train_raw_np.shape[0]}')\n",
    "print(f'Validation set size {X_val_raw_np.shape[0]}')\n",
    "print(f'Test set size {X_test_raw_np.shape[0]}')\n",
    "print()\n",
    "\n",
    "print(f'Features before preprocessing ({len(features_before_preprocessing)} total):')\n",
    "print(features_before_preprocessing)\n",
    "print()\n",
    "\n",
    "print(f'Features after preprocessing ({len(features_after_preprocessing)} total):')\n",
    "print(features_after_preprocessing)\n",
    "print()\n",
    "\n",
    "print('Events:', events)  # only one critical event for the standard time-to-event prediction setup\n",
    "print()"
   ]
  },
  {
   "cell_type": "markdown",
   "id": "c17484e8-156a-4724-a1e2-bd7f2025db68",
   "metadata": {},
   "source": [
    "We fit and apply a preprocessor to the training set. We apply (but do not re-fit) the preprocessor to the validation set."
   ]
  },
  {
   "cell_type": "code",
   "execution_count": 2,
   "id": "835b67c9-142f-47d8-82ee-e9d885e674f0",
   "metadata": {},
   "outputs": [],
   "source": [
    "X_train_np, preprocessor = build_preprocessor_and_preprocess(X_train_raw_np)\n",
    "X_val_np = apply_preprocessor(X_val_raw_np, preprocessor)"
   ]
  },
  {
   "cell_type": "markdown",
   "id": "3412a160-ce89-4ac6-ad4f-1f791a3ab3c1",
   "metadata": {},
   "source": [
    "### Discretizing time\n",
    "\n",
    "We use PyCox's provided `LabTransDiscreteTime` class that helps with discretizing time."
   ]
  },
  {
   "cell_type": "code",
   "execution_count": 3,
   "id": "3483ac40-4542-41cf-8108-8e56a06cd68e",
   "metadata": {},
   "outputs": [
    {
     "name": "stdout",
     "output_type": "stream",
     "text": [
      "Number of time steps to be used with DeepHit: 16\n",
      "Time grid: [ 0.          0.2765305   0.86518455  1.5660936   2.1602235   2.883036\n",
      "  3.5593035   4.205454    5.013142    5.790713    6.6203046   7.90713\n",
      "  9.114554   10.510897   13.782719   14.152338  ]\n"
     ]
    }
   ],
   "source": [
    "import numpy as np\n",
    "from pycox.preprocessing.label_transforms import LabTransDiscreteTime\n",
    "\n",
    "# ----------------------------------------------------------------------\n",
    "# as pointed out in PyCox's DeepHit for competing risks demo, we need a\n",
    "# custom label transformer to support multiple critical events\n",
    "# https://github.com/havakv/pycox/blob/master/examples/deephit_competing_risks.ipynb\n",
    "class LabTransform(LabTransDiscreteTime):\n",
    "    def transform(self, durations, events):\n",
    "        durations, is_event = super().transform(durations, events > 0)\n",
    "        events[is_event == 0] = 0\n",
    "        return durations, events.astype('int64')\n",
    "# ----------------------------------------------------------------------\n",
    "\n",
    "num_time_steps = 16  # set this to 0 to use all unique times in which any critical event happens\n",
    "\n",
    "if num_time_steps == 0:\n",
    "    mask = (D_train_np >= 1)  # boolean mask specifying which training points were not censored\n",
    "    label_transform = LabTransform(np.unique(Y_train_np[mask]))\n",
    "else:\n",
    "    # use a quantile based discretization, which could possibly end up using fewer than the\n",
    "    # number of time steps requested (if it turns out that in the dataset, there are many\n",
    "    # duplicate observed times)\n",
    "    label_transform = LabTransform(num_time_steps, scheme='quantiles')\n",
    "\n",
    "Y_train_discrete_np, D_train_discrete_np = label_transform.fit_transform(Y_train_np, D_train_np)\n",
    "Y_val_discrete_np, D_val_discrete_np = label_transform.transform(Y_val_np, D_val_np)\n",
    "# note: PyCox's discretization code allows for the possibility that the event indicator changes\n",
    "# (if a patient's survival time is known so that the event indicator is 1, but the survival time\n",
    "# is after the maximum discrete time grid time, then the patient's event indicator is changed to\n",
    "# being censored)\n",
    "\n",
    "time_grid_train_np = label_transform.cuts\n",
    "output_num_time_steps = len(time_grid_train_np)\n",
    "print(f'Number of time steps to be used with DeepHit: {output_num_time_steps}')\n",
    "print('Time grid:', time_grid_train_np)"
   ]
  },
  {
   "cell_type": "markdown",
   "id": "77ffe5dc-1354-4ea1-bf3c-fea418cd9b0e",
   "metadata": {},
   "source": [
    "### Preparing training and validation sets for use with PyTorch\n",
    "\n",
    "Note that at this point the observed times have been converted into discrete indices. Note that at the time of writing, the code is a bit picky about the data types used."
   ]
  },
  {
   "cell_type": "code",
   "execution_count": 4,
   "id": "559dc917-0b7c-402f-ad66-fef766e9a87d",
   "metadata": {},
   "outputs": [],
   "source": [
    "import torch\n",
    "\n",
    "device = torch.device('cuda' if torch.cuda.is_available() else 'cpu')\n",
    "\n",
    "X_train = torch.tensor(X_train_np, dtype=torch.float32, device=device)\n",
    "Y_train = torch.tensor(Y_train_discrete_np, dtype=torch.int64, device=device)\n",
    "D_train = torch.tensor(D_train_discrete_np, dtype=torch.int32, device=device)\n",
    "train_data = list(zip(X_train, Y_train, D_train))\n",
    "\n",
    "X_val = torch.tensor(X_val_np, dtype=torch.float32, device=device)\n",
    "Y_val = torch.tensor(Y_val_discrete_np, dtype=torch.int64, device=device)\n",
    "D_val = torch.tensor(D_val_discrete_np, dtype=torch.int32, device=device)\n",
    "val_data = list(zip(X_val, Y_val, D_val))"
   ]
  },
  {
   "cell_type": "markdown",
   "id": "5345064a-44b9-4334-80d3-1409dbd5a9aa",
   "metadata": {},
   "source": [
    "### Setting up the DeepHit model and loss\n",
    "\n",
    "We are now ready to set up the DeepHit model using PyCox's `DeepHit` class. The main difference between this class and the `DeepHitSingle` class in the earlier DeepHit (single event) demo is that the base neural net's output needs to be of the shape (batch size, number of critical events, number of discrete time steps)."
   ]
  },
  {
   "cell_type": "code",
   "execution_count": 5,
   "id": "2d5d800a-893c-4342-a561-ca53ceee17b0",
   "metadata": {},
   "outputs": [],
   "source": [
    "import torch.nn as nn\n",
    "from pycox.models import DeepHit\n",
    "\n",
    "torch.manual_seed(0)\n",
    "\n",
    "class BasicMLPForDeepHit(nn.Module):\n",
    "    def __init__(self, num_input_features, num_critical_events, num_hidden):\n",
    "        super(BasicMLPForDeepHit, self).__init__()\n",
    "\n",
    "        self.num_critical_events = num_critical_events\n",
    "        self.mlp = nn.Sequential(\n",
    "            nn.Linear(num_input_features, num_hidden),\n",
    "            nn.ReLU(),\n",
    "            nn.Linear(num_hidden,\n",
    "                      num_critical_events * output_num_time_steps)).to(device)\n",
    "\n",
    "    def forward(self, inputs):\n",
    "        mlp_output = self.mlp(inputs)\n",
    "        return mlp_output.view(inputs.size(0), self.num_critical_events, -1)\n",
    "\n",
    "num_input_features = X_train.size(1)\n",
    "\n",
    "base_neural_net = BasicMLPForDeepHit(num_input_features, 2, 8).to(device)\n",
    "\n",
    "deephit_model = DeepHit(base_neural_net, alpha=0.9, sigma=0.1, device=device,\n",
    "                        duration_index=time_grid_train_np)\n",
    "deephit_loss = deephit_model.loss  # we'll see how to use this loss function in the next code cell"
   ]
  },
  {
   "cell_type": "markdown",
   "id": "c3c36bf4-fd91-4dd5-b997-481b1a8569e2",
   "metadata": {},
   "source": [
    "### Training the model using minibatch gradient descent\n",
    "\n",
    "Just as in the exponential time-to-event prediction model demo, we use the validation set to decide on whether to use a previous epoch's learned model parameters."
   ]
  },
  {
   "cell_type": "code",
   "execution_count": 6,
   "id": "b33ace96-79ed-487a-a1f4-3dc12b33194e",
   "metadata": {},
   "outputs": [
    {
     "name": "stdout",
     "output_type": "stream",
     "text": [
      "Epoch 1 - train loss 1.8580601215362549 - val loss 1.9956085681915283\n",
      "Epoch 2 - train loss 1.779083490371704 - val loss 1.9252431392669678\n",
      "Epoch 3 - train loss 1.6905831098556519 - val loss 1.848314881324768\n",
      "Epoch 4 - train loss 1.6160452365875244 - val loss 1.7816944122314453\n",
      "Epoch 5 - train loss 1.5563222169876099 - val loss 1.728129506111145\n",
      "Epoch 6 - train loss 1.508585810661316 - val loss 1.6877520084381104\n",
      "Epoch 7 - train loss 1.473837971687317 - val loss 1.6661206483840942\n",
      "Epoch 8 - train loss 1.4473427534103394 - val loss 1.6554330587387085\n",
      "Epoch 9 - train loss 1.4248652458190918 - val loss 1.6356233358383179\n",
      "Epoch 10 - train loss 1.406496286392212 - val loss 1.6300891637802124\n",
      "Epoch 11 - train loss 1.393070936203003 - val loss 1.6284443140029907\n",
      "Epoch 12 - train loss 1.3795939683914185 - val loss 1.623216986656189\n",
      "Epoch 13 - train loss 1.3689498901367188 - val loss 1.6208003759384155\n",
      "Epoch 14 - train loss 1.3580920696258545 - val loss 1.6169861555099487\n",
      "Epoch 15 - train loss 1.3473385572433472 - val loss 1.6097713708877563\n",
      "Epoch 16 - train loss 1.339964509010315 - val loss 1.5992153882980347\n",
      "Epoch 17 - train loss 1.3312426805496216 - val loss 1.5823733806610107\n",
      "Epoch 18 - train loss 1.323252558708191 - val loss 1.5789494514465332\n",
      "Epoch 19 - train loss 1.316042423248291 - val loss 1.5764080286026\n",
      "Epoch 20 - train loss 1.310720682144165 - val loss 1.5810320377349854\n",
      "Epoch 21 - train loss 1.3026453256607056 - val loss 1.572967290878296\n",
      "Epoch 22 - train loss 1.298935055732727 - val loss 1.5581605434417725\n",
      "Epoch 23 - train loss 1.2942144870758057 - val loss 1.5678836107254028\n",
      "Epoch 24 - train loss 1.2881650924682617 - val loss 1.5662935972213745\n",
      "Epoch 25 - train loss 1.2843818664550781 - val loss 1.5483572483062744\n",
      "Epoch 26 - train loss 1.2798722982406616 - val loss 1.5546724796295166\n",
      "Epoch 27 - train loss 1.276734471321106 - val loss 1.530635118484497\n",
      "Epoch 28 - train loss 1.270654559135437 - val loss 1.529218316078186\n",
      "Epoch 29 - train loss 1.26810884475708 - val loss 1.5372207164764404\n",
      "Epoch 30 - train loss 1.2637219429016113 - val loss 1.537339687347412\n",
      "Epoch 31 - train loss 1.2597358226776123 - val loss 1.536354660987854\n",
      "Epoch 32 - train loss 1.2579880952835083 - val loss 1.5551648139953613\n",
      "Epoch 33 - train loss 1.2517064809799194 - val loss 1.546588659286499\n",
      "Epoch 34 - train loss 1.248563289642334 - val loss 1.538934588432312\n",
      "Epoch 35 - train loss 1.2453858852386475 - val loss 1.5412880182266235\n",
      "Epoch 36 - train loss 1.2436792850494385 - val loss 1.540492296218872\n",
      "Epoch 37 - train loss 1.2410249710083008 - val loss 1.551557183265686\n",
      "Epoch 38 - train loss 1.236354112625122 - val loss 1.5506898164749146\n",
      "Epoch 39 - train loss 1.2339173555374146 - val loss 1.5549647808074951\n",
      "Epoch 40 - train loss 1.2313268184661865 - val loss 1.5520151853561401\n",
      "Epoch 41 - train loss 1.2285301685333252 - val loss 1.549262523651123\n",
      "Epoch 42 - train loss 1.2247651815414429 - val loss 1.5500426292419434\n",
      "Epoch 43 - train loss 1.2215832471847534 - val loss 1.5518749952316284\n",
      "Epoch 44 - train loss 1.219085931777954 - val loss 1.5610395669937134\n",
      "Epoch 45 - train loss 1.2190625667572021 - val loss 1.556066870689392\n",
      "Epoch 46 - train loss 1.2165353298187256 - val loss 1.5565202236175537\n",
      "Epoch 47 - train loss 1.2099498510360718 - val loss 1.5635377168655396\n",
      "Epoch 48 - train loss 1.2094746828079224 - val loss 1.570310354232788\n",
      "Epoch 49 - train loss 1.2069653272628784 - val loss 1.569104790687561\n",
      "Epoch 50 - train loss 1.2055987119674683 - val loss 1.5703235864639282\n",
      "Epoch 51 - train loss 1.2048414945602417 - val loss 1.564210057258606\n",
      "Epoch 52 - train loss 1.2010809183120728 - val loss 1.5666346549987793\n",
      "Epoch 53 - train loss 1.1992241144180298 - val loss 1.5994164943695068\n",
      "Epoch 54 - train loss 1.198884129524231 - val loss 1.5870453119277954\n",
      "Epoch 55 - train loss 1.194736361503601 - val loss 1.5899137258529663\n",
      "Epoch 56 - train loss 1.1909942626953125 - val loss 1.5905916690826416\n",
      "Epoch 57 - train loss 1.1906908750534058 - val loss 1.598299264907837\n",
      "Epoch 58 - train loss 1.1896110773086548 - val loss 1.596847414970398\n",
      "Epoch 59 - train loss 1.185122013092041 - val loss 1.595054030418396\n",
      "Epoch 60 - train loss 1.1830545663833618 - val loss 1.5830069780349731\n",
      "Epoch 61 - train loss 1.1828700304031372 - val loss 1.6032365560531616\n",
      "Epoch 62 - train loss 1.181783676147461 - val loss 1.5912524461746216\n",
      "Epoch 63 - train loss 1.179686427116394 - val loss 1.6088271141052246\n",
      "Epoch 64 - train loss 1.1781758069992065 - val loss 1.6019337177276611\n",
      "Epoch 65 - train loss 1.178857684135437 - val loss 1.6118733882904053\n",
      "Epoch 66 - train loss 1.1746348142623901 - val loss 1.6076291799545288\n",
      "Epoch 67 - train loss 1.173093318939209 - val loss 1.615689754486084\n",
      "Epoch 68 - train loss 1.1693590879440308 - val loss 1.6072686910629272\n",
      "Epoch 69 - train loss 1.1711751222610474 - val loss 1.6118597984313965\n",
      "Epoch 70 - train loss 1.168663501739502 - val loss 1.6174778938293457\n",
      "Epoch 71 - train loss 1.170591950416565 - val loss 1.6148477792739868\n",
      "Epoch 72 - train loss 1.167060136795044 - val loss 1.6107832193374634\n",
      "Epoch 73 - train loss 1.1633809804916382 - val loss 1.6085188388824463\n",
      "Epoch 74 - train loss 1.1646054983139038 - val loss 1.6144362688064575\n",
      "Epoch 75 - train loss 1.161476492881775 - val loss 1.6175751686096191\n",
      "Epoch 76 - train loss 1.1626240015029907 - val loss 1.6208416223526\n",
      "Epoch 77 - train loss 1.1604949235916138 - val loss 1.6272598505020142\n",
      "Epoch 78 - train loss 1.1583529710769653 - val loss 1.626511812210083\n",
      "Epoch 79 - train loss 1.1567542552947998 - val loss 1.6172086000442505\n",
      "Epoch 80 - train loss 1.1569290161132812 - val loss 1.6179943084716797\n",
      "Epoch 81 - train loss 1.154297113418579 - val loss 1.6279228925704956\n",
      "Epoch 82 - train loss 1.153158187866211 - val loss 1.617192268371582\n",
      "Epoch 83 - train loss 1.1523932218551636 - val loss 1.6262133121490479\n",
      "Epoch 84 - train loss 1.1508843898773193 - val loss 1.6258022785186768\n",
      "Epoch 85 - train loss 1.148929476737976 - val loss 1.627994418144226\n",
      "Epoch 86 - train loss 1.1507911682128906 - val loss 1.6437805891036987\n",
      "Epoch 87 - train loss 1.1481950283050537 - val loss 1.6434582471847534\n",
      "Epoch 88 - train loss 1.147283911705017 - val loss 1.6323940753936768\n",
      "Epoch 89 - train loss 1.1429229974746704 - val loss 1.635871171951294\n",
      "Epoch 90 - train loss 1.1443753242492676 - val loss 1.6366677284240723\n",
      "Epoch 91 - train loss 1.143954873085022 - val loss 1.6370069980621338\n",
      "Epoch 92 - train loss 1.1425731182098389 - val loss 1.6402428150177002\n",
      "Epoch 93 - train loss 1.141173005104065 - val loss 1.6493195295333862\n",
      "Epoch 94 - train loss 1.1405335664749146 - val loss 1.6592212915420532\n",
      "Epoch 95 - train loss 1.1393357515335083 - val loss 1.6466763019561768\n",
      "Epoch 96 - train loss 1.1391268968582153 - val loss 1.6560529470443726\n",
      "Epoch 97 - train loss 1.1369611024856567 - val loss 1.6483222246170044\n",
      "Epoch 98 - train loss 1.134195327758789 - val loss 1.6712228059768677\n",
      "Epoch 99 - train loss 1.1364325284957886 - val loss 1.6915405988693237\n",
      "Epoch 100 - train loss 1.1338374614715576 - val loss 1.6640894412994385\n",
      "Best validation loss (1.529218316078186) achieved at epoch 28\n"
     ]
    },
    {
     "data": {
      "text/plain": [
       "<All keys matched successfully>"
      ]
     },
     "execution_count": 6,
     "metadata": {},
     "output_type": "execute_result"
    }
   ],
   "source": [
    "from copy import deepcopy\n",
    "from torch.utils.data import DataLoader\n",
    "from pycox.models.data import pair_rank_mat\n",
    "\n",
    "# minibatch gradient descent\n",
    "num_epochs = 100\n",
    "batch_size = 128\n",
    "learning_rate = 0.005\n",
    "\n",
    "train_loader = DataLoader(train_data, batch_size, shuffle=True)  # shuffling for minibatch gradient descent\n",
    "val_loader = DataLoader(val_data, batch_size, shuffle=False)  # there is no need to shuffle the validation data\n",
    "\n",
    "optimizer = torch.optim.Adam(base_neural_net.parameters(), lr=learning_rate)\n",
    "train_epoch_losses = []\n",
    "val_epoch_losses = []\n",
    "best_val_loss = float('inf')\n",
    "best_params = None\n",
    "best_epoch_index = None\n",
    "for epoch_index in range(num_epochs):\n",
    "    base_neural_net.train()\n",
    "    for X_batch, Y_batch, D_batch in train_loader:\n",
    "        neural_net_output = base_neural_net(X_batch)\n",
    "\n",
    "        rank_mat = pair_rank_mat(Y_batch.cpu().numpy(), D_batch.cpu().numpy())\n",
    "        rank_mat = torch.tensor(rank_mat, dtype=torch.int, device=device)\n",
    "\n",
    "        loss_batch = deephit_loss(neural_net_output, Y_batch, D_batch, rank_mat)\n",
    "\n",
    "        optimizer.zero_grad()\n",
    "        loss_batch.backward()\n",
    "        optimizer.step()\n",
    "\n",
    "    # evaluate training and validation set losses\n",
    "    # (note that in practice, instead of evaluating the negative log likelihood loss,\n",
    "    # we could instead evaluate other metrics such as time-dependent concordance index,\n",
    "    # integrated Brier score, etc)\n",
    "    base_neural_net.eval()\n",
    "    with torch.no_grad():\n",
    "        train_loss = torch.tensor(0.0, dtype=torch.float, device=device)\n",
    "        num_points = 0\n",
    "        for X_batch, Y_batch, D_batch in train_loader:\n",
    "            batch_num_points = X_batch.size(0)\n",
    "            neural_net_output = base_neural_net(X_batch)\n",
    "            rank_mat = pair_rank_mat(Y_batch.cpu().numpy(), D_batch.cpu().numpy())\n",
    "            rank_mat = torch.tensor(rank_mat, dtype=torch.int, device=device)\n",
    "            train_loss += deephit_loss(neural_net_output, Y_batch, D_batch, rank_mat) * batch_num_points\n",
    "            num_points += batch_num_points\n",
    "        train_loss = float(train_loss / num_points)\n",
    "        train_epoch_losses.append(train_loss)\n",
    "        print(f'Epoch {epoch_index + 1} - train loss {train_loss}', end=' ', flush=True)\n",
    "\n",
    "        val_loss = torch.tensor(0.0, dtype=torch.float, device=device)\n",
    "        num_points = 0\n",
    "        for X_batch, Y_batch, D_batch in val_loader:\n",
    "            batch_num_points = X_batch.size(0)\n",
    "            neural_net_output = base_neural_net(X_batch)\n",
    "            rank_mat = pair_rank_mat(Y_batch.cpu().numpy(), D_batch.cpu().numpy())\n",
    "            rank_mat = torch.tensor(rank_mat, dtype=torch.int, device=device)\n",
    "            val_loss += deephit_loss(neural_net_output, Y_batch, D_batch, rank_mat) * batch_num_points\n",
    "            num_points += batch_num_points\n",
    "        val_loss = float(val_loss / num_points)\n",
    "        val_epoch_losses.append(val_loss)\n",
    "        print(f'- val loss {val_loss}', flush=True)\n",
    "\n",
    "        if val_loss < best_val_loss:\n",
    "            best_val_loss = val_loss\n",
    "            best_epoch_index = epoch_index\n",
    "            best_params = deepcopy(base_neural_net.state_dict())\n",
    "print(f'Best validation loss ({best_val_loss}) achieved at epoch {best_epoch_index + 1}')\n",
    "base_neural_net.load_state_dict(best_params)"
   ]
  },
  {
   "cell_type": "code",
   "execution_count": 7,
   "id": "8d591b8f-de58-4e9c-9b6b-c7111ef86487",
   "metadata": {},
   "outputs": [
    {
     "data": {
      "text/plain": [
       "<matplotlib.legend.Legend at 0x72ac1f325d30>"
      ]
     },
     "execution_count": 7,
     "metadata": {},
     "output_type": "execute_result"
    },
    {
     "data": {
      "image/png": "[encoded data removed]",
      "text/plain": [
       "<Figure size 640x480 with 1 Axes>"
      ]
     },
     "metadata": {},
     "output_type": "display_data"
    }
   ],
   "source": [
    "%matplotlib inline\n",
    "import matplotlib.pyplot as plt\n",
    "\n",
    "plt.plot(range(1, num_epochs + 1), train_epoch_losses, label='Training')\n",
    "plt.plot(range(1, num_epochs + 1), val_epoch_losses, '--', label='Validation')\n",
    "plt.xlabel('Epoch')\n",
    "plt.ylabel('Loss')\n",
    "plt.legend()"
   ]
  },
  {
   "cell_type": "markdown",
   "id": "49807d51-72fb-42f3-a4a5-93c59657eb0a",
   "metadata": {},
   "source": [
    "### Predicting test set cumulative incidence functions (CIFs)"
   ]
  },
  {
   "cell_type": "markdown",
   "id": "9fd16f73-ebe8-4caf-8e8f-31a2ff773547",
   "metadata": {},
   "source": [
    "We begin by preprocessing the test data using the preprocessor built using training data."
   ]
  },
  {
   "cell_type": "code",
   "execution_count": 8,
   "id": "fe28bba0-9ab4-4940-854d-54eec8eb9065",
   "metadata": {},
   "outputs": [
    {
     "data": {
      "text/plain": [
       "(584, 17)"
      ]
     },
     "execution_count": 8,
     "metadata": {},
     "output_type": "execute_result"
    }
   ],
   "source": [
    "X_test_np = apply_preprocessor(X_test_raw_np, preprocessor).astype('float32')\n",
    "X_test_np.shape"
   ]
  },
  {
   "cell_type": "markdown",
   "id": "e5e438a5-a175-4362-9bce-a4e84340e9f4",
   "metadata": {},
   "source": [
    "PyCox has built-in functionality for predicting cumulative incidence functions (CIFs):"
   ]
  },
  {
   "cell_type": "code",
   "execution_count": 9,
   "id": "cfbfc717-2254-4609-841a-626c48529dfd",
   "metadata": {},
   "outputs": [
    {
     "data": {
      "text/plain": [
       "(2, 16, 584)"
      ]
     },
     "execution_count": 9,
     "metadata": {},
     "output_type": "execute_result"
    }
   ],
   "source": [
    "cif_test_np = deephit_model.predict_cif(X_test_np, batch_size=batch_size, to_cpu=True, numpy=True)\n",
    "cif_test_np.shape  # shape: (number of critical events, number of time steps in `time_grid_train_np`, number of test points)"
   ]
  },
  {
   "cell_type": "markdown",
   "id": "432bb9e7-6e55-44a2-9850-9d9f6f617a3b",
   "metadata": {},
   "source": [
    "Here, we plot test subject 0's CIFs for the two events:"
   ]
  },
  {
   "cell_type": "code",
   "execution_count": 10,
   "id": "339799a9-6c1d-474a-97e7-d1f777b7ad36",
   "metadata": {},
   "outputs": [
    {
     "data": {
      "text/plain": [
       "<matplotlib.legend.Legend at 0x72ac33990170>"
      ]
     },
     "execution_count": 10,
     "metadata": {},
     "output_type": "execute_result"
    },
    {
     "data": {
      "image/png": "[encoded data removed]",
      "text/plain": [
       "<Figure size 640x480 with 1 Axes>"
      ]
     },
     "metadata": {},
     "output_type": "display_data"
    }
   ],
   "source": [
    "for event_idx, event in enumerate(events):\n",
    "    plt.plot(time_grid_train_np, cif_test_np[event_idx, :, 0], label=event)\n",
    "plt.xlabel('Time')\n",
    "plt.ylabel('CIF')\n",
    "plt.legend()"
   ]
  },
  {
   "cell_type": "markdown",
   "id": "b3d9dda8-214c-4d57-afb3-60920423fe9e",
   "metadata": {},
   "source": [
    "### Computing test set evaluation metrics\n",
    "\n",
    "At the time of writing, survival analysis evaluation metrics that have been implemented in Python typically do not handle the competing risks setup. However, by carefully setting up the inputs to these evaluation metrics, we can evaluate CIFs using the evaluation metrics described in Section 6.1.5 of the monograph.\n",
    "\n",
    "Some metrics depend on evaluation times, which we pick based on the test set's observed times."
   ]
  },
  {
   "cell_type": "code",
   "execution_count": 11,
   "id": "60cfabe1-2776-4a56-87d2-a0a26c58126a",
   "metadata": {},
   "outputs": [],
   "source": [
    "time_grid_test_np = np.unique(Y_test_np)"
   ]
  },
  {
   "cell_type": "markdown",
   "id": "931e241e-7648-4d28-91c8-ffc5942a13c9",
   "metadata": {},
   "source": [
    "#### Time-dependent concordance index (Antolini et al., 2005) using the PyCox implementation (Kvamme et al., 2019)"
   ]
  },
  {
   "cell_type": "code",
   "execution_count": 12,
   "id": "4e93bae8-67f1-4b2b-ac35-41270d413fc9",
   "metadata": {},
   "outputs": [
    {
     "name": "stdout",
     "output_type": "stream",
     "text": [
      "Event \"death\" - time-dependent concordance index: 0.8273025466191436\n",
      "Event \"transplanted\" - time-dependent concordance index: 0.8393383674937073\n"
     ]
    }
   ],
   "source": [
    "import pandas as pd\n",
    "from pycox.evaluation import EvalSurv\n",
    "\n",
    "for event_idx_minus_one, event in enumerate(events):\n",
    "    one_minus_cif_df = pd.DataFrame(1 - cif_test_np[event_idx_minus_one, :, :], index=time_grid_train_np)\n",
    "\n",
    "    # remember that in `Y_test_np`, the critical events are numbered starting from 1 and not 0\n",
    "    eval_pycox = EvalSurv(one_minus_cif_df, Y_test_np, 1*(D_test_np == (event_idx_minus_one + 1)))\n",
    "\n",
    "    C_td = eval_pycox.concordance_td('antolini')\n",
    "    print(f'Event \"{event}\" - time-dependent concordance index: {C_td}')"
   ]
  },
  {
   "cell_type": "markdown",
   "id": "d25beae8-6208-41b0-a7ed-20e0d6f10ad7",
   "metadata": {},
   "source": [
    "#### Truncated time-dependent concordance index (Uno et al., 2011) using the scikit-survival implementation (Pölsterl, 2020)\n",
    "\n",
    "Note that the training data are specifically used to estimate the censoring distribution (for inverse probability of censoring weights -- the $w_i$ weights in equation (6.8) of the monograph), so it suffices to set the training event indicators to be 1 if *any* of the competing critical events happen, and 0 if censoring happens."
   ]
  },
  {
   "cell_type": "code",
   "execution_count": 13,
   "id": "c2875af8-4377-4d2a-a05d-380b0de2f82b",
   "metadata": {},
   "outputs": [
    {
     "name": "stdout",
     "output_type": "stream",
     "text": [
      "Event \"death\" - eval time 2.261526584625244 - truncated time-dependent concordance: 0.8872911850728724\n",
      "Event \"death\" - eval time 4.591501712799072 - truncated time-dependent concordance: 0.8472873120646975\n",
      "Event \"death\" - eval time 7.365020275115967 - truncated time-dependent concordance: 0.799431264382065\n",
      "Event \"transplanted\" - eval time 2.261526584625244 - truncated time-dependent concordance: 0.8963368951719595\n",
      "Event \"transplanted\" - eval time 4.591501712799072 - truncated time-dependent concordance: 0.8631724433225237\n",
      "Event \"transplanted\" - eval time 7.365020275115967 - truncated time-dependent concordance: 0.8526024563183686\n"
     ]
    }
   ],
   "source": [
    "from sksurv.util import Surv\n",
    "from sksurv.metrics import concordance_index_ipcw\n",
    "\n",
    "# convert training labels into the structured array format used by scikit-survival\n",
    "labels_train_sksurv = Surv.from_arrays(1*(D_train_np >= 1), Y_train_np)\n",
    "\n",
    "# as an illustrative example, we evaluate the truncated time-dependent concordance index at\n",
    "# 25, 50, and 75 percentile values of the time grid we specified earlier\n",
    "eval_time_indices = [int(.25 * len(time_grid_test_np)),\n",
    "                     int(.5 * len(time_grid_test_np)),\n",
    "                     int(.75 * len(time_grid_test_np))]\n",
    "\n",
    "for event_idx_minus_one, event in enumerate(events):\n",
    "    # convert test labels into the structured array format used by scikit-survival\n",
    "    labels_test_sksurv = Surv.from_arrays(1*(D_test_np == (event_idx_minus_one + 1)), Y_test_np)\n",
    "\n",
    "    for eval_time_index in eval_time_indices:\n",
    "        eval_time = time_grid_test_np[eval_time_index]\n",
    "\n",
    "        # find the training time grid's time point closest to the evaluation time\n",
    "        interp_time_index = np.argmin(np.abs(eval_time - time_grid_train_np))\n",
    "        cif_values_at_eval_time_np = cif_test_np[event_idx_minus_one, interp_time_index, :].T\n",
    "\n",
    "        concordance = concordance_index_ipcw(labels_train_sksurv, labels_test_sksurv, cif_values_at_eval_time_np, tau=eval_time)[0]\n",
    "        print(f'Event \"{event}\" - eval time {eval_time} - truncated time-dependent concordance: {concordance}')"
   ]
  },
  {
   "cell_type": "markdown",
   "id": "86d2ae6f-d8db-4bd5-93fd-6075bb478dd3",
   "metadata": {},
   "source": [
    "#### Brier score (Graf et al., 1999) generalized to competing risks"
   ]
  },
  {
   "cell_type": "code",
   "execution_count": 14,
   "id": "594ed417-a759-4871-91fe-657e3d02f111",
   "metadata": {},
   "outputs": [
    {
     "name": "stdout",
     "output_type": "stream",
     "text": [
      "Event \"death\" - eval time 2.261526584625244 - Brier score: 0.09193675186594207\n",
      "Event \"death\" - eval time 4.591501712799072 - Brier score: 0.13306850304409157\n",
      "Event \"death\" - eval time 7.365020275115967 - Brier score: 0.16196698633091045\n",
      "Event \"transplanted\" - eval time 2.261526584625244 - Brier score: 0.021615843493337165\n",
      "Event \"transplanted\" - eval time 4.591501712799072 - Brier score: 0.04634493540063809\n",
      "Event \"transplanted\" - eval time 7.365020275115967 - Brier score: 0.061358183370050765\n"
     ]
    }
   ],
   "source": [
    "def compute_brier_competing(cif_values_at_time_horizon, censoring_kmf,\n",
    "                            Y_test, D_test, event_of_interest, time_horizon):\n",
    "    n = len(Y_test)\n",
    "    assert len(D_test) == n\n",
    "\n",
    "    residuals = np.zeros(n)\n",
    "    for idx in range(n):\n",
    "        observed_time = Y_test[idx]\n",
    "        event_indicator = D_test[idx]\n",
    "        if observed_time > time_horizon:\n",
    "            weight = censoring_kmf.predict(time_horizon)\n",
    "            residuals[idx] = (cif_values_at_time_horizon[idx])**2 / weight\n",
    "        else:\n",
    "            weight = censoring_kmf.predict(observed_time)\n",
    "            if event_indicator == event_of_interest:\n",
    "                residuals[idx] = (1 - cif_values_at_time_horizon[idx])**2 / weight\n",
    "            elif event_indicator != event_of_interest and event_indicator != 0:\n",
    "                residuals[idx] = (cif_values_at_time_horizon[idx])**2 / weight\n",
    "    return residuals.mean()\n",
    "\n",
    "import lifelines\n",
    "censoring_kmf = lifelines.KaplanMeierFitter()\n",
    "censoring_kmf.fit(Y_train_np, 1 * (D_train_np == 0))\n",
    "\n",
    "for event_idx_minus_one, event in enumerate(events):\n",
    "    for eval_time_index in eval_time_indices:\n",
    "        eval_time = time_grid_test_np[eval_time_index]\n",
    "\n",
    "        # find the training time grid's time point closest to the evaluation time\n",
    "        interp_time_index = np.argmin(np.abs(eval_time - time_grid_train_np))\n",
    "        cif_values_at_eval_time_np = cif_test_np[event_idx_minus_one, interp_time_index, :].T\n",
    "\n",
    "        brier = \\\n",
    "            compute_brier_competing(cif_values_at_eval_time_np, censoring_kmf,\n",
    "                                    Y_test_np, D_test_np, event_idx_minus_one + 1, eval_time)\n",
    "        print(f'Event \"{event}\" - eval time {eval_time} - Brier score: {brier}')"
   ]
  }
 ],
 "metadata": {
  "kernelspec": {
   "display_name": "Python 3 (ipykernel)",
   "language": "python",
   "name": "python3"
  },
  "language_info": {
   "codemirror_mode": {
    "name": "ipython",
    "version": 3
   },
   "file_extension": ".py",
   "mimetype": "text/x-python",
   "name": "python",
   "nbconvert_exporter": "python",
   "pygments_lexer": "ipython3",
   "version": "3.12.4"
  }
 },
 "nbformat": 4,
 "nbformat_minor": 5
}
