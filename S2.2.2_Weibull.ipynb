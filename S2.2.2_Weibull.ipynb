{
 "cells": [
  {
   "cell_type": "markdown",
   "id": "b45f4951-fd8b-4829-a322-a0f08c3a421d",
   "metadata": {},
   "source": [
    "# Section 2.2.2: Weibull Time-to-Event Prediction Model Demo\n",
    "\n",
    "Author: George H. Chen (georgechen [at symbol] cmu.edu)\n",
    "\n",
    "This demo covers how to implement the Weibull time-to-event prediction model (Example 2.2.3 in Section 2.2.2 of the monograph) as a PyTorch model. This demo largely builds off the exponential time-to-event prediction model demo (`S2.2.2_Exponential.ipynb`), so please look at that first as it describes the different steps of the experimental setup in more detail. In this follow-up Weibull time-to-event prediction model demo, we mainly only explain steps that are different from the earlier exponential time-to-event prediction model demo."
   ]
  },
  {
   "cell_type": "markdown",
   "id": "ed45bbae-a124-4865-afa0-d04f62b24610",
   "metadata": {},
   "source": [
    "### Loading in the SUPPORT dataset (Knaus et al., 1995)\n",
    "\n",
    "As with the earlier demo, we begin by defining the training, validation, and test sets."
   ]
  },
  {
   "cell_type": "code",
   "execution_count": 1,
   "id": "ca8b9722-9480-4771-850a-592ebe83687e",
   "metadata": {},
   "outputs": [
    {
     "name": "stdout",
     "output_type": "stream",
     "text": [
      "Training set size 4968\n",
      "Validation set size 1243\n",
      "Test set size 2662\n",
      "\n",
      "Features before preprocessing (14 total):\n",
      "['age', 'female', 'race', 'num.co', 'diabetes', 'dementia', 'ca', 'meanbp', 'hrt', 'resp', 'temp', 'wblc', 'sod', 'crea']\n",
      "\n",
      "Features after preprocessing (19 total):\n",
      "['age_std', 'female', 'num.co_norm', 'diabetes', 'dementia', 'ca_norm', 'meanbp_std', 'hrt_std', 'resp_std', 'temp_std', 'wblc_std', 'sod_std', 'crea_std', 'race_blank', 'race_asian', 'race_black', 'race_hispanic', 'race_other', 'race_white']\n",
      "\n",
      "Events: ['death']\n",
      "\n"
     ]
    }
   ],
   "source": [
    "from datasets import load_dataset\n",
    "from sklearn.model_selection import train_test_split\n",
    "\n",
    "X_full_train_raw_np, Y_full_train_np, D_full_train_np, \\\n",
    "        X_test_raw_np, Y_test_np, D_test_np, \\\n",
    "        features_before_preprocessing, features_after_preprocessing, \\\n",
    "        events, train_test_split_prespecified, \\\n",
    "        build_preprocessor_and_preprocess, apply_preprocessor = load_dataset('support')\n",
    "\n",
    "# split the \"full training set\" into the actual training set and a validation set (using a 80/20 split)\n",
    "X_train_raw_np, X_val_raw_np, Y_train_np, Y_val_np, D_train_np, D_val_np = \\\n",
    "    train_test_split(X_full_train_raw_np, Y_full_train_np, D_full_train_np,\n",
    "                     test_size=.2, random_state=0)\n",
    "\n",
    "print(f'Training set size {X_train_raw_np.shape[0]}')\n",
    "print(f'Validation set size {X_val_raw_np.shape[0]}')\n",
    "print(f'Test set size {X_test_raw_np.shape[0]}')\n",
    "print()\n",
    "\n",
    "print(f'Features before preprocessing ({len(features_before_preprocessing)} total):')\n",
    "print(features_before_preprocessing)\n",
    "print()\n",
    "\n",
    "print(f'Features after preprocessing ({len(features_after_preprocessing)} total):')\n",
    "print(features_after_preprocessing)\n",
    "print()\n",
    "\n",
    "print('Events:', events)  # only one critical event for the standard time-to-event prediction setup\n",
    "print()"
   ]
  },
  {
   "cell_type": "markdown",
   "id": "c17484e8-156a-4724-a1e2-bd7f2025db68",
   "metadata": {},
   "source": [
    "We fit and apply a preprocessor to the training set. We apply (but do not re-fit) the preprocessor to the validation set."
   ]
  },
  {
   "cell_type": "code",
   "execution_count": 2,
   "id": "835b67c9-142f-47d8-82ee-e9d885e674f0",
   "metadata": {},
   "outputs": [],
   "source": [
    "X_train_np, preprocessor = build_preprocessor_and_preprocess(X_train_raw_np)\n",
    "X_val_np = apply_preprocessor(X_val_raw_np, preprocessor)"
   ]
  },
  {
   "cell_type": "markdown",
   "id": "f6687650-9ca0-4498-ad21-7d4bc91b02f7",
   "metadata": {},
   "source": [
    "### Preparing training and validation sets for use with PyTorch"
   ]
  },
  {
   "cell_type": "code",
   "execution_count": 3,
   "id": "98ce9011-b9e4-4d5a-b7d7-c16c6d60d3b1",
   "metadata": {},
   "outputs": [],
   "source": [
    "import torch\n",
    "\n",
    "device = torch.device('cuda' if torch.cuda.is_available() else 'cpu')\n",
    "\n",
    "X_train = torch.tensor(X_train_np, dtype=torch.float32, device=device)\n",
    "Y_train = torch.tensor(Y_train_np, dtype=torch.float32, device=device)\n",
    "D_train = torch.tensor(D_train_np, dtype=torch.int32, device=device)\n",
    "train_data = list(zip(X_train, Y_train, D_train))\n",
    "\n",
    "X_val = torch.tensor(X_val_np, dtype=torch.float32, device=device)\n",
    "Y_val = torch.tensor(Y_val_np, dtype=torch.float32, device=device)\n",
    "D_val = torch.tensor(D_val_np, dtype=torch.int32, device=device)\n",
    "val_data = list(zip(X_val, Y_val, D_val))"
   ]
  },
  {
   "cell_type": "markdown",
   "id": "3412a160-ce89-4ac6-ad4f-1f791a3ab3c1",
   "metadata": {},
   "source": [
    "### Setting up a Weibull time-to-event prediction model\n",
    "\n",
    "In the monograph, right after equation (2.14), we state that the Weibull model corresponds to having shape parameter $e^\\phi$ and scale parameter $\\exp(-\\beta^\\top x - \\psi e^{-\\phi})$. In other words:\n",
    "\n",
    "- The log shape is given by $\\phi$.\n",
    "- The log scale is given by $-\\beta^\\top x - \\psi e^{-\\phi}$.\n",
    "\n",
    "We shall implement the Weibull model using `nn.Module`, where the `forward` function outputs a 2D table (rows correspond to different data points, and there are two columns where column 0 stores log scale, and column 1 stores log shape). The reason that we specify the `forward` function in this manner is that we will use the built-in `torchsurv` Weibull loss function, which expects the output of the neural network (i.e., the output of the `forward` function) to be of the format we just stated."
   ]
  },
  {
   "cell_type": "code",
   "execution_count": 4,
   "id": "2d5d800a-893c-4342-a561-ca53ceee17b0",
   "metadata": {},
   "outputs": [],
   "source": [
    "import torch.nn as nn\n",
    "\n",
    "torch.manual_seed(0)\n",
    "\n",
    "class WeibullTimeToEventModel(nn.Module):\n",
    "    def __init__(self, num_input_features):\n",
    "        super(WeibullTimeToEventModel, self).__init__()\n",
    "\n",
    "        # randomly initialize parameters phi and psi to be close to 0\n",
    "        self.phi = nn.Parameter(.01*torch.randn(1, dtype=torch.float))\n",
    "        self.psi = nn.Parameter(.01*torch.randn(1, dtype=torch.float))\n",
    "\n",
    "        # to randomly initialize the inner product weights (called beta in the\n",
    "        # monograph), we just construct a nn.Linear object as to output a single\n",
    "        # real number and we do not use a bias\n",
    "        self.linear = nn.Linear(num_input_features, 1, bias=False)\n",
    "\n",
    "    def forward(self, inputs):\n",
    "        # we output log scale and log shape values since these are what torchsurv's\n",
    "        # Weibull negative log likelihood loss function expects as the output of the\n",
    "        # base neural network\n",
    "\n",
    "        batch_size = inputs.size(0)\n",
    "\n",
    "        # column 0 stores log scale, column 1 stores log shape\n",
    "        log_params = torch.zeros(batch_size, 2, dtype=torch.float, device=inputs.device)\n",
    "\n",
    "        log_params[:, 1] = self.phi  # set all log shape values to be the same\n",
    "        log_params[:, 0] = (-self.linear(inputs) - self.psi*((-self.phi).exp())).view(-1)\n",
    "        return log_params\n",
    "\n",
    "num_input_features = X_train.size(1)\n",
    "weibull_model = WeibullTimeToEventModel(num_input_features).to(device)"
   ]
  },
  {
   "cell_type": "markdown",
   "id": "db6a2494-982b-432d-8e5b-3db95353431d",
   "metadata": {},
   "source": [
    "Right now the parameters have been randomly initialized as follows:"
   ]
  },
  {
   "cell_type": "code",
   "execution_count": 5,
   "id": "7215a89c-9f20-43d3-84ef-0b29ee7a4fb0",
   "metadata": {},
   "outputs": [
    {
     "data": {
      "text/plain": [
       "Parameter containing:\n",
       "tensor([[-0.0884,  0.0615, -0.0045,  0.1819, -0.0204,  0.0607, -0.0693, -0.0451,\n",
       "         -0.2192, -0.1519, -0.0946,  0.0085,  0.0907,  0.1377, -0.1555, -0.0999,\n",
       "          0.0833,  0.1905, -0.0472]], device='cuda:0', requires_grad=True)"
      ]
     },
     "execution_count": 5,
     "metadata": {},
     "output_type": "execute_result"
    }
   ],
   "source": [
    "weibull_model.linear.weight  # this is what is called beta in the monograph in equation (2.12)"
   ]
  },
  {
   "cell_type": "code",
   "execution_count": 6,
   "id": "c163b828-1dba-4af5-ae22-40a9aaefb7ac",
   "metadata": {},
   "outputs": [
    {
     "data": {
      "text/plain": [
       "Parameter containing:\n",
       "tensor([0.0154], device='cuda:0', requires_grad=True)"
      ]
     },
     "execution_count": 6,
     "metadata": {},
     "output_type": "execute_result"
    }
   ],
   "source": [
    "weibull_model.phi  # this is what is called phi in the monograph in equation (2.12)"
   ]
  },
  {
   "cell_type": "code",
   "execution_count": 7,
   "id": "b9e8d245-e9c9-494f-af0b-7b83afaf3f28",
   "metadata": {},
   "outputs": [
    {
     "data": {
      "text/plain": [
       "Parameter containing:\n",
       "tensor([-0.0029], device='cuda:0', requires_grad=True)"
      ]
     },
     "execution_count": 7,
     "metadata": {},
     "output_type": "execute_result"
    }
   ],
   "source": [
    "weibull_model.psi  # this is what is called psi in the monograph in equation (2.12)"
   ]
  },
  {
   "cell_type": "markdown",
   "id": "c3c36bf4-fd91-4dd5-b997-481b1a8569e2",
   "metadata": {},
   "source": [
    "### Training the model using minibatch gradient descent\n",
    "\n",
    "Just as in the exponential time-to-event prediction model demo, we use the validation set to decide on whether to use a previous epoch's learned model parameters."
   ]
  },
  {
   "cell_type": "code",
   "execution_count": 8,
   "id": "b33ace96-79ed-487a-a1f4-3dc12b33194e",
   "metadata": {},
   "outputs": [
    {
     "name": "stdout",
     "output_type": "stream",
     "text": [
      "Epoch 1 - train loss 5.28985595703125 - val loss 5.249753475189209\n",
      "Epoch 2 - train loss 5.090078353881836 - val loss 5.026221752166748\n",
      "Epoch 3 - train loss 5.007582664489746 - val loss 4.933909893035889\n",
      "Epoch 4 - train loss 4.948873043060303 - val loss 4.869334697723389\n",
      "Epoch 5 - train loss 4.906196594238281 - val loss 4.823058605194092\n",
      "Epoch 6 - train loss 4.875294208526611 - val loss 4.789720058441162\n",
      "Epoch 7 - train loss 4.853026390075684 - val loss 4.76551628112793\n",
      "Epoch 8 - train loss 4.837011337280273 - val loss 4.748401165008545\n",
      "Epoch 9 - train loss 4.825368881225586 - val loss 4.735917568206787\n",
      "Epoch 10 - train loss 4.816295146942139 - val loss 4.726292610168457\n",
      "Epoch 11 - train loss 4.8099493980407715 - val loss 4.7195634841918945\n",
      "Epoch 12 - train loss 4.804684638977051 - val loss 4.713958263397217\n",
      "Epoch 13 - train loss 4.800281524658203 - val loss 4.709559440612793\n",
      "Epoch 14 - train loss 4.796895980834961 - val loss 4.706185817718506\n",
      "Epoch 15 - train loss 4.793860912322998 - val loss 4.7032470703125\n",
      "Epoch 16 - train loss 4.791019439697266 - val loss 4.700619697570801\n",
      "Epoch 17 - train loss 4.788348197937012 - val loss 4.697972297668457\n",
      "Epoch 18 - train loss 4.785813331604004 - val loss 4.695666790008545\n",
      "Epoch 19 - train loss 4.783320426940918 - val loss 4.693378925323486\n",
      "Epoch 20 - train loss 4.780878067016602 - val loss 4.69120979309082\n",
      "Epoch 21 - train loss 4.778361797332764 - val loss 4.689096450805664\n",
      "Epoch 22 - train loss 4.7758378982543945 - val loss 4.686792373657227\n",
      "Epoch 23 - train loss 4.773387908935547 - val loss 4.684840202331543\n",
      "Epoch 24 - train loss 4.770800590515137 - val loss 4.682458400726318\n",
      "Epoch 25 - train loss 4.768260478973389 - val loss 4.680264472961426\n",
      "Epoch 26 - train loss 4.765729904174805 - val loss 4.678164958953857\n",
      "Epoch 27 - train loss 4.763101577758789 - val loss 4.675704479217529\n",
      "Epoch 28 - train loss 4.760566711425781 - val loss 4.673734188079834\n",
      "Epoch 29 - train loss 4.7579665184021 - val loss 4.671733856201172\n",
      "Epoch 30 - train loss 4.755367755889893 - val loss 4.669355392456055\n",
      "Epoch 31 - train loss 4.7527689933776855 - val loss 4.6672587394714355\n",
      "Epoch 32 - train loss 4.750179767608643 - val loss 4.664990425109863\n",
      "Epoch 33 - train loss 4.747620582580566 - val loss 4.662709712982178\n",
      "Epoch 34 - train loss 4.745008945465088 - val loss 4.660802841186523\n",
      "Epoch 35 - train loss 4.742486953735352 - val loss 4.6586594581604\n",
      "Epoch 36 - train loss 4.74003791809082 - val loss 4.656252384185791\n",
      "Epoch 37 - train loss 4.737563610076904 - val loss 4.654325485229492\n",
      "Epoch 38 - train loss 4.735169410705566 - val loss 4.652337551116943\n",
      "Epoch 39 - train loss 4.73274564743042 - val loss 4.650379180908203\n",
      "Epoch 40 - train loss 4.730412006378174 - val loss 4.648624420166016\n",
      "Epoch 41 - train loss 4.728060245513916 - val loss 4.646604061126709\n",
      "Epoch 42 - train loss 4.725852012634277 - val loss 4.6445746421813965\n",
      "Epoch 43 - train loss 4.723662853240967 - val loss 4.64314603805542\n",
      "Epoch 44 - train loss 4.7215447425842285 - val loss 4.641313076019287\n",
      "Epoch 45 - train loss 4.719461441040039 - val loss 4.639233112335205\n",
      "Epoch 46 - train loss 4.717503547668457 - val loss 4.637906551361084\n",
      "Epoch 47 - train loss 4.715561389923096 - val loss 4.636465072631836\n",
      "Epoch 48 - train loss 4.71370267868042 - val loss 4.635238170623779\n",
      "Epoch 49 - train loss 4.711894989013672 - val loss 4.633527755737305\n",
      "Epoch 50 - train loss 4.710132598876953 - val loss 4.632027626037598\n",
      "Epoch 51 - train loss 4.708529949188232 - val loss 4.630825042724609\n",
      "Epoch 52 - train loss 4.706991195678711 - val loss 4.629849433898926\n",
      "Epoch 53 - train loss 4.705504894256592 - val loss 4.628235816955566\n",
      "Epoch 54 - train loss 4.704030990600586 - val loss 4.627077579498291\n",
      "Epoch 55 - train loss 4.702719211578369 - val loss 4.626070499420166\n",
      "Epoch 56 - train loss 4.701385021209717 - val loss 4.625237941741943\n",
      "Epoch 57 - train loss 4.700145721435547 - val loss 4.624141216278076\n",
      "Epoch 58 - train loss 4.698996067047119 - val loss 4.623376369476318\n",
      "Epoch 59 - train loss 4.69789457321167 - val loss 4.622264385223389\n",
      "Epoch 60 - train loss 4.696922302246094 - val loss 4.621707439422607\n",
      "Epoch 61 - train loss 4.695960521697998 - val loss 4.621279239654541\n",
      "Epoch 62 - train loss 4.695029258728027 - val loss 4.620414733886719\n",
      "Epoch 63 - train loss 4.6941986083984375 - val loss 4.619838237762451\n",
      "Epoch 64 - train loss 4.693437099456787 - val loss 4.618810176849365\n",
      "Epoch 65 - train loss 4.692678451538086 - val loss 4.618038654327393\n",
      "Epoch 66 - train loss 4.69198751449585 - val loss 4.6182708740234375\n",
      "Epoch 67 - train loss 4.69145393371582 - val loss 4.617685317993164\n",
      "Epoch 68 - train loss 4.690766334533691 - val loss 4.617048740386963\n",
      "Epoch 69 - train loss 4.690240859985352 - val loss 4.616621017456055\n",
      "Epoch 70 - train loss 4.689748287200928 - val loss 4.6160688400268555\n",
      "Epoch 71 - train loss 4.689260482788086 - val loss 4.615647792816162\n",
      "Epoch 72 - train loss 4.688816070556641 - val loss 4.615301132202148\n",
      "Epoch 73 - train loss 4.688461780548096 - val loss 4.61570930480957\n",
      "Epoch 74 - train loss 4.688045024871826 - val loss 4.615381240844727\n",
      "Epoch 75 - train loss 4.687736511230469 - val loss 4.614546298980713\n",
      "Epoch 76 - train loss 4.687517166137695 - val loss 4.615151405334473\n",
      "Epoch 77 - train loss 4.687096118927002 - val loss 4.614597797393799\n",
      "Epoch 78 - train loss 4.686869144439697 - val loss 4.614049911499023\n",
      "Epoch 79 - train loss 4.686617374420166 - val loss 4.61456823348999\n",
      "Epoch 80 - train loss 4.686416149139404 - val loss 4.6143622398376465\n",
      "Epoch 81 - train loss 4.686244487762451 - val loss 4.613499164581299\n",
      "Epoch 82 - train loss 4.686074256896973 - val loss 4.613835334777832\n",
      "Epoch 83 - train loss 4.68584680557251 - val loss 4.613376617431641\n",
      "Epoch 84 - train loss 4.685745716094971 - val loss 4.6135125160217285\n",
      "Epoch 85 - train loss 4.685534477233887 - val loss 4.613124847412109\n",
      "Epoch 86 - train loss 4.685396671295166 - val loss 4.6134514808654785\n",
      "Epoch 87 - train loss 4.685542106628418 - val loss 4.614259719848633\n",
      "Epoch 88 - train loss 4.685370922088623 - val loss 4.612496852874756\n",
      "Epoch 89 - train loss 4.685126781463623 - val loss 4.612902641296387\n",
      "Epoch 90 - train loss 4.685019493103027 - val loss 4.613514423370361\n",
      "Epoch 91 - train loss 4.684946537017822 - val loss 4.612446308135986\n",
      "Epoch 92 - train loss 4.684830188751221 - val loss 4.613378047943115\n",
      "Epoch 93 - train loss 4.6846723556518555 - val loss 4.613150119781494\n",
      "Epoch 94 - train loss 4.684907913208008 - val loss 4.613622188568115\n",
      "Epoch 95 - train loss 4.684667587280273 - val loss 4.613112926483154\n",
      "Epoch 96 - train loss 4.684730052947998 - val loss 4.6137003898620605\n",
      "Epoch 97 - train loss 4.684477806091309 - val loss 4.613559722900391\n",
      "Epoch 98 - train loss 4.684647083282471 - val loss 4.613189697265625\n",
      "Epoch 99 - train loss 4.684391498565674 - val loss 4.612239837646484\n",
      "Epoch 100 - train loss 4.684432506561279 - val loss 4.612562656402588\n",
      "Best validation loss (4.612239837646484) achieved at epoch 99\n"
     ]
    },
    {
     "data": {
      "text/plain": [
       "<All keys matched successfully>"
      ]
     },
     "execution_count": 8,
     "metadata": {},
     "output_type": "execute_result"
    }
   ],
   "source": [
    "from copy import deepcopy\n",
    "from torch.utils.data import DataLoader\n",
    "from torchsurv.loss.weibull import neg_log_likelihood\n",
    "\n",
    "# minibatch gradient descent\n",
    "num_epochs = 100\n",
    "batch_size = 128\n",
    "learning_rate = 1e-1\n",
    "\n",
    "train_loader = DataLoader(train_data, batch_size, shuffle=True)  # shuffling for minibatch gradient descent\n",
    "val_loader = DataLoader(val_data, batch_size, shuffle=False)  # there is no need to shuffle the validation data\n",
    "\n",
    "optimizer = torch.optim.Adam(weibull_model.parameters(), lr=learning_rate)\n",
    "train_epoch_losses = []\n",
    "val_epoch_losses = []\n",
    "best_val_loss = float('inf')\n",
    "best_params = None\n",
    "best_epoch_index = None\n",
    "for epoch_index in range(num_epochs):\n",
    "    weibull_model.train()\n",
    "    for X_batch, Y_batch, D_batch in train_loader:\n",
    "        log_hazards_batch = weibull_model(X_batch)\n",
    "        loss_batch = neg_log_likelihood(log_hazards_batch, D_batch, Y_batch)\n",
    "        optimizer.zero_grad()\n",
    "        loss_batch.backward()\n",
    "        optimizer.step()\n",
    "\n",
    "    # evaluate training and validation set losses\n",
    "    # (note that in practice, instead of evaluating the negative log likelihood loss,\n",
    "    # we could instead evaluate other metrics such as time-dependent concordance index,\n",
    "    # integrated Brier score, etc)\n",
    "    weibull_model.eval()\n",
    "    with torch.no_grad():\n",
    "        train_loss = torch.tensor(0.0, dtype=torch.float, device=device)\n",
    "        num_points = 0\n",
    "        for X_batch, Y_batch, D_batch in train_loader:\n",
    "            log_hazards_batch = weibull_model(X_batch)\n",
    "\n",
    "            # some loss functions have a reduction argument that can be set to 'sum'\n",
    "            # to sum instead of taking a mean\n",
    "            train_loss += neg_log_likelihood(log_hazards_batch, D_batch, Y_batch,\n",
    "                                             reduction='sum')\n",
    "\n",
    "            num_points += X_batch.size(0)\n",
    "        train_loss = float(train_loss / num_points)\n",
    "        train_epoch_losses.append(train_loss)\n",
    "        print(f'Epoch {epoch_index + 1} - train loss {train_loss}', end=' ', flush=True)\n",
    "\n",
    "        val_loss = torch.tensor(0.0, dtype=torch.float, device=device)\n",
    "        num_points = 0\n",
    "        for X_batch, Y_batch, D_batch in val_loader:\n",
    "            log_hazards_batch = weibull_model(X_batch)\n",
    "            val_loss += neg_log_likelihood(log_hazards_batch, D_batch, Y_batch,\n",
    "                                           reduction='sum')\n",
    "            num_points += X_batch.size(0)\n",
    "        val_loss = float(val_loss / num_points)\n",
    "        val_epoch_losses.append(val_loss)\n",
    "        print(f'- val loss {val_loss}', flush=True)\n",
    "\n",
    "        if val_loss < best_val_loss:\n",
    "            best_val_loss = val_loss\n",
    "            best_epoch_index = epoch_index\n",
    "            best_params = deepcopy(weibull_model.state_dict())\n",
    "print(f'Best validation loss ({best_val_loss}) achieved at epoch {best_epoch_index + 1}')\n",
    "weibull_model.load_state_dict(best_params)"
   ]
  },
  {
   "cell_type": "code",
   "execution_count": 9,
   "id": "8d591b8f-de58-4e9c-9b6b-c7111ef86487",
   "metadata": {},
   "outputs": [
    {
     "data": {
      "text/plain": [
       "<matplotlib.legend.Legend at 0x75baf4158c50>"
      ]
     },
     "execution_count": 9,
     "metadata": {},
     "output_type": "execute_result"
    },
    {
     "data": {
      "image/png": "[encoded data removed]",
      "text/plain": [
       "<Figure size 640x480 with 1 Axes>"
      ]
     },
     "metadata": {},
     "output_type": "display_data"
    }
   ],
   "source": [
    "%matplotlib inline\n",
    "import matplotlib.pyplot as plt\n",
    "\n",
    "plt.plot(range(1, num_epochs + 1), train_epoch_losses, label='Training')\n",
    "plt.plot(range(1, num_epochs + 1), val_epoch_losses, '--', label='Validation')\n",
    "plt.xlabel('Epoch')\n",
    "plt.ylabel('Loss')\n",
    "plt.legend()"
   ]
  },
  {
   "cell_type": "markdown",
   "id": "79d47901-8f72-439e-838a-62847afec5b7",
   "metadata": {},
   "source": [
    "After training the model, the model parameters are as follows:"
   ]
  },
  {
   "cell_type": "code",
   "execution_count": 10,
   "id": "3e756210-e076-4fd3-a267-5aa43575ff17",
   "metadata": {},
   "outputs": [
    {
     "data": {
      "text/plain": [
       "Parameter containing:\n",
       "tensor([[ 0.4742, -0.2208, -0.5639,  0.0936,  0.9127,  1.7130, -0.1796,  0.2298,\n",
       "          0.0212, -0.0430,  0.0728, -0.0385,  0.1541, -0.7690, -1.4771, -1.3496,\n",
       "         -1.5624, -1.3379, -1.6424]], device='cuda:0', requires_grad=True)"
      ]
     },
     "execution_count": 10,
     "metadata": {},
     "output_type": "execute_result"
    }
   ],
   "source": [
    "weibull_model.linear.weight  # this is what is called beta in the monograph in equation (2.12)"
   ]
  },
  {
   "cell_type": "code",
   "execution_count": 11,
   "id": "55462f9c-44b8-493b-9547-912b991eb51d",
   "metadata": {},
   "outputs": [
    {
     "data": {
      "text/plain": [
       "Parameter containing:\n",
       "tensor([-0.7233], device='cuda:0', requires_grad=True)"
      ]
     },
     "execution_count": 11,
     "metadata": {},
     "output_type": "execute_result"
    }
   ],
   "source": [
    "weibull_model.phi  # this is what is called phi in the monograph in equation (2.12)"
   ]
  },
  {
   "cell_type": "code",
   "execution_count": 12,
   "id": "da149c33-9c2c-4f0b-9822-96523f1f69e0",
   "metadata": {},
   "outputs": [
    {
     "data": {
      "text/plain": [
       "Parameter containing:\n",
       "tensor([-2.5321], device='cuda:0', requires_grad=True)"
      ]
     },
     "execution_count": 12,
     "metadata": {},
     "output_type": "execute_result"
    }
   ],
   "source": [
    "weibull_model.psi  # this is what is called psi in the monograph in equation (2.12)"
   ]
  },
  {
   "cell_type": "markdown",
   "id": "49807d51-72fb-42f3-a4a5-93c59657eb0a",
   "metadata": {},
   "source": [
    "### Predicting test set survival curves"
   ]
  },
  {
   "cell_type": "markdown",
   "id": "9fd16f73-ebe8-4caf-8e8f-31a2ff773547",
   "metadata": {},
   "source": [
    "We begin by preprocessing the test data using the preprocessor built using training data."
   ]
  },
  {
   "cell_type": "code",
   "execution_count": 13,
   "id": "fe28bba0-9ab4-4940-854d-54eec8eb9065",
   "metadata": {},
   "outputs": [],
   "source": [
    "X_test_np = apply_preprocessor(X_test_raw_np, preprocessor)"
   ]
  },
  {
   "cell_type": "markdown",
   "id": "e5e438a5-a175-4362-9bce-a4e84340e9f4",
   "metadata": {},
   "source": [
    "Next, we apply the neural net model to the test data. We convert the resulting log parameter values to NumPy arrays since the plotting and evaluation code later on does not need nor use PyTorch."
   ]
  },
  {
   "cell_type": "code",
   "execution_count": 14,
   "id": "98225ec0-e2ee-4f64-beae-d4116d81ef60",
   "metadata": {},
   "outputs": [],
   "source": [
    "X_test = torch.tensor(X_test_np, dtype=torch.float, device=device)\n",
    "with torch.no_grad():\n",
    "    log_params_test = weibull_model(X_test)\n",
    "    log_params_test_np = log_params_test.cpu().numpy()"
   ]
  },
  {
   "cell_type": "markdown",
   "id": "74038c31-0f7b-48bf-990f-81d4e9962f2f",
   "metadata": {},
   "source": [
    "To back out a survival curve, for simplicity we just use a time grid specified by the unique times in the test data (this is not the only way to specify a time grid; for examples of other ways, see Section 2.3.2 of the monograph)."
   ]
  },
  {
   "cell_type": "code",
   "execution_count": 15,
   "id": "1d8c75b9-e5a2-4ac9-b71b-7ae74b0ae101",
   "metadata": {},
   "outputs": [],
   "source": [
    "import numpy as np\n",
    "time_grid_test_np = np.unique(Y_test_np)\n",
    "\n",
    "# we now use equation (2.14) of the monograph applied to every test point\n",
    "# (note that np.newaxis is used to replicate the time grid across data points\n",
    "# and separately to replicate estimates parameters across time)\n",
    "log_scales_test_np = log_params_test_np[:, 0]\n",
    "log_shapes_test_np = log_params_test_np[:, 1]\n",
    "surv_test_np = np.exp(-(time_grid_test_np[np.newaxis, :]\n",
    "                        / log_scales_test_np[:, np.newaxis])**(np.exp(log_shapes_test_np)[:, np.newaxis]))"
   ]
  },
  {
   "cell_type": "markdown",
   "id": "639331f2-90fd-48ee-a96c-4f9fe03aeffc",
   "metadata": {},
   "source": [
    "Here's a plot of the predicted survival function for the 0th test data point:"
   ]
  },
  {
   "cell_type": "code",
   "execution_count": 16,
   "id": "e1bc9c26-471b-471d-8100-9f88af2c90bc",
   "metadata": {},
   "outputs": [
    {
     "data": {
      "text/plain": [
       "Text(0, 0.5, 'Survival probability')"
      ]
     },
     "execution_count": 16,
     "metadata": {},
     "output_type": "execute_result"
    },
    {
     "data": {
      "image/png": "[encoded data removed]",
      "text/plain": [
       "<Figure size 640x480 with 1 Axes>"
      ]
     },
     "metadata": {},
     "output_type": "display_data"
    }
   ],
   "source": [
    "plt.plot(time_grid_test_np, surv_test_np[0])\n",
    "plt.xlabel('Time')\n",
    "plt.ylabel('Survival probability')"
   ]
  },
  {
   "cell_type": "markdown",
   "id": "b3d9dda8-214c-4d57-afb3-60920423fe9e",
   "metadata": {},
   "source": [
    "### Computing test set evaluation metrics"
   ]
  },
  {
   "cell_type": "markdown",
   "id": "9c19fa87-34db-4659-9c55-e1b3acdea365",
   "metadata": {},
   "source": [
    "#### Concordance index (Harrell et al., 1982) using the scikit-survival implementation (Pölsterl, 2020)\n",
    "\n",
    "Notice from equation (2.12) of the monograph that the Weibull time-to-event prediction model is a proportional hazards model, where the log partial hazard is precisely the negative log of the scale parameter. Thus, for Harrell's concordance index, we can treat the predicted negative log scales of the test data as the risk score estimates to rank the test data by."
   ]
  },
  {
   "cell_type": "code",
   "execution_count": 17,
   "id": "05c2ac56-9993-43af-820c-4ca60872d528",
   "metadata": {},
   "outputs": [
    {
     "name": "stdout",
     "output_type": "stream",
     "text": [
      "Harrell's concordance index: 0.6030088460438192\n"
     ]
    }
   ],
   "source": [
    "from sksurv.metrics import concordance_index_censored\n",
    "\n",
    "C_index = concordance_index_censored(D_test_np.astype(bool), Y_test_np, -log_scales_test_np.flatten())[0]\n",
    "print(f\"Harrell's concordance index: {C_index}\")"
   ]
  },
  {
   "cell_type": "markdown",
   "id": "931e241e-7648-4d28-91c8-ffc5942a13c9",
   "metadata": {},
   "source": [
    "#### Time-dependent concordance index (Antolini et al., 2005) using the PyCox implementation (Kvamme et al., 2019)"
   ]
  },
  {
   "cell_type": "code",
   "execution_count": 18,
   "id": "4e93bae8-67f1-4b2b-ac35-41270d413fc9",
   "metadata": {},
   "outputs": [
    {
     "name": "stdout",
     "output_type": "stream",
     "text": [
      "Time-dependent concordance index: 0.6030088460438192\n"
     ]
    }
   ],
   "source": [
    "import pandas as pd\n",
    "from pycox.evaluation import EvalSurv\n",
    "\n",
    "# PyCox's EvalSurv expects the predicted test data's survival functions to be in\n",
    "# a Pandas DataFrame where the rows index time, and the columns index data points\n",
    "surv_test_df = pd.DataFrame(surv_test_np.T, index=time_grid_test_np)\n",
    "eval_pycox = EvalSurv(surv_test_df, Y_test_np, D_test_np)\n",
    "C_td = eval_pycox.concordance_td('antolini')\n",
    "\n",
    "print(f'Time-dependent concordance index: {C_td}')"
   ]
  },
  {
   "cell_type": "markdown",
   "id": "d25beae8-6208-41b0-a7ed-20e0d6f10ad7",
   "metadata": {},
   "source": [
    "#### Truncated time-dependent concordance index (Uno et al., 2011) using the scikit-survival implementation (Pölsterl, 2020)"
   ]
  },
  {
   "cell_type": "code",
   "execution_count": 19,
   "id": "c2875af8-4377-4d2a-a05d-380b0de2f82b",
   "metadata": {},
   "outputs": [
    {
     "name": "stdout",
     "output_type": "stream",
     "text": [
      "Eval time 316.0 - truncated time-dependent concordance: 0.5980416221583508\n",
      "Eval time 693.0 - truncated time-dependent concordance: 0.603517430263355\n",
      "Eval time 1291.0 - truncated time-dependent concordance: 0.6038200719271364\n"
     ]
    }
   ],
   "source": [
    "from sksurv.util import Surv\n",
    "from sksurv.metrics import concordance_index_ipcw\n",
    "\n",
    "# convert training and test labels into the structured array format used by scikit-survival\n",
    "labels_train_sksurv = Surv.from_arrays(D_train_np, Y_train_np)\n",
    "labels_test_sksurv = Surv.from_arrays(D_test_np, Y_test_np)\n",
    "\n",
    "# as an illustrative example, we evaluate the truncated time-dependent concordance index at\n",
    "# 25, 50, and 75 percentile values of the time grid we specified earlier\n",
    "eval_time_indices = [int(.25 * len(time_grid_test_np)),\n",
    "                     int(.5 * len(time_grid_test_np)),\n",
    "                     int(.75 * len(time_grid_test_np))]\n",
    "\n",
    "for eval_time_index in eval_time_indices:\n",
    "    eval_time = time_grid_test_np[eval_time_index]\n",
    "    surv_values_at_eval_time_np = surv_test_np[:, eval_time_index]\n",
    "    estimated_risks_np = 1 - surv_values_at_eval_time_np\n",
    "    concordance = concordance_index_ipcw(labels_train_sksurv, labels_test_sksurv, estimated_risks_np, tau=eval_time)[0]\n",
    "    print(f'Eval time {eval_time} - truncated time-dependent concordance: {concordance}')"
   ]
  },
  {
   "cell_type": "markdown",
   "id": "b27d2851-845a-4d8a-a36e-faccc829b824",
   "metadata": {},
   "source": [
    "#### Time-dependent AUC (Uno et al., 2007; Hung and Chiang, 2010) using the scikit-survival implementation (Pölsterl, 2020)"
   ]
  },
  {
   "cell_type": "code",
   "execution_count": 20,
   "id": "fe777d9e-10e2-49d0-8563-5a7b9889d732",
   "metadata": {},
   "outputs": [
    {
     "name": "stdout",
     "output_type": "stream",
     "text": [
      "Eval time 316.0 - time-dependent AUC: 0.6604852344197985\n",
      "Eval time 693.0 - time-dependent AUC: 0.6929115660412561\n",
      "Eval time 1291.0 - time-dependent AUC: 0.69878806226306\n"
     ]
    }
   ],
   "source": [
    "from sksurv.metrics import cumulative_dynamic_auc\n",
    "\n",
    "for eval_time_index in eval_time_indices:\n",
    "    eval_time = time_grid_test_np[eval_time_index]\n",
    "    surv_values_at_eval_time_np = surv_test_np[:, eval_time_index]\n",
    "    estimated_risks_np = 1 - surv_values_at_eval_time_np\n",
    "    AUC = cumulative_dynamic_auc(labels_train_sksurv, labels_test_sksurv, estimated_risks_np, times=[eval_time])[0][0]\n",
    "    print(f'Eval time {eval_time} - time-dependent AUC: {AUC}')"
   ]
  },
  {
   "cell_type": "markdown",
   "id": "86d2ae6f-d8db-4bd5-93fd-6075bb478dd3",
   "metadata": {},
   "source": [
    "#### Brier score (Graf et al., 1999) using the SurvivalEVAL implementation (Qi et al., 2024)"
   ]
  },
  {
   "cell_type": "code",
   "execution_count": 21,
   "id": "594ed417-a759-4871-91fe-657e3d02f111",
   "metadata": {},
   "outputs": [
    {
     "name": "stdout",
     "output_type": "stream",
     "text": [
      "Eval time 316.0 - Brier score: 0.45454610237192405\n"
     ]
    },
    {
     "name": "stderr",
     "output_type": "stream",
     "text": [
      "/home/george/anaconda3/lib/python3.12/site-packages/SurvivalEVAL/Evaluator.py:59: UserWarning: The first time coordinate is not 0. A authentic survival curve should start from 0 with 100% survival probability. \\Adding 0 to the beginning of the time coordinates and 1 to the beginning of the predicted curves.\n",
      "  warnings.warn(\"The first time coordinate is not 0. \"\n"
     ]
    },
    {
     "name": "stdout",
     "output_type": "stream",
     "text": [
      "Eval time 693.0 - Brier score: 0.36637116974695916\n",
      "Eval time 1291.0 - Brier score: 0.29045614884455423\n",
      "Integrated Brier score: 0.3053999453582976\n"
     ]
    }
   ],
   "source": [
    "from SurvivalEVAL.Evaluator import SurvivalEvaluator\n",
    "\n",
    "eval = SurvivalEvaluator(surv_test_np, time_grid_test_np,\n",
    "                         Y_test_np, D_test_np,\n",
    "                         Y_train_np, D_train_np)  # note: training labels are also needed\n",
    "\n",
    "for eval_time_index in eval_time_indices:\n",
    "    eval_time = float(time_grid_test_np[eval_time_index])\n",
    "    print(f'Eval time {eval_time} - Brier score: {eval.brier_score(eval_time)}')\n",
    "\n",
    "IBS = eval.integrated_brier_score()\n",
    "print(f'Integrated Brier score: {IBS}')"
   ]
  },
  {
   "cell_type": "markdown",
   "id": "8d898890-64df-4aac-a27c-e0e33132a505",
   "metadata": {},
   "source": [
    "#### D-Calibration (Haider et al., 2020) using the SurvivalEVAL implementation (Qi et al., 2024)"
   ]
  },
  {
   "cell_type": "code",
   "execution_count": 22,
   "id": "d5281245-920b-4f82-941c-66e7d35d34c8",
   "metadata": {},
   "outputs": [
    {
     "name": "stdout",
     "output_type": "stream",
     "text": [
      "The model is not D-calibrated.\n"
     ]
    }
   ],
   "source": [
    "p_value, bin_stats = eval.d_calibration()\n",
    "if p_value >= .05:\n",
    "    print('The model is D-calibrated.')\n",
    "else:\n",
    "    print('The model is not D-calibrated.')"
   ]
  },
  {
   "cell_type": "markdown",
   "id": "b2533edb-260c-4e16-9e09-b59954a9196f",
   "metadata": {},
   "source": [
    "#### Mean Absolute Error via the margin (Haider et al., 2020) and, separately, the Pseudo Observation approach (Qi et al., 2023) both using the SurvivalEVAL implementation (Qi et al., 2024)"
   ]
  },
  {
   "cell_type": "code",
   "execution_count": 23,
   "id": "94aac7b8-2d20-437a-9b5d-304db3971ae8",
   "metadata": {},
   "outputs": [
    {
     "name": "stdout",
     "output_type": "stream",
     "text": [
      "Weighted MAE-Margin: 649.8857943087481\n"
     ]
    }
   ],
   "source": [
    "weighted_MAE_margin = eval.mae(method='Margin', weighted=True)\n",
    "print(f'Weighted MAE-Margin: {weighted_MAE_margin}')"
   ]
  },
  {
   "cell_type": "code",
   "execution_count": 24,
   "id": "dc0f800a-a847-44f2-ac85-698c9f72a881",
   "metadata": {},
   "outputs": [
    {
     "name": "stdout",
     "output_type": "stream",
     "text": [
      "Weighted MAE-PO: 768.3698620042896\n"
     ]
    }
   ],
   "source": [
    "weighted_MAE_PO = eval.mae(method='Pseudo_obs', weighted=True)\n",
    "print(f'Weighted MAE-PO: {weighted_MAE_PO}')"
   ]
  }
 ],
 "metadata": {
  "kernelspec": {
   "display_name": "Python 3 (ipykernel)",
   "language": "python",
   "name": "python3"
  },
  "language_info": {
   "codemirror_mode": {
    "name": "ipython",
    "version": 3
   },
   "file_extension": ".py",
   "mimetype": "text/x-python",
   "name": "python",
   "nbconvert_exporter": "python",
   "pygments_lexer": "ipython3",
   "version": "3.12.4"
  }
 },
 "nbformat": 4,
 "nbformat_minor": 5
}
