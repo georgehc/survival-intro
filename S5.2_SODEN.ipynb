{
 "cells": [
  {
   "cell_type": "markdown",
   "id": "b45f4951-fd8b-4829-a322-a0f08c3a421d",
   "metadata": {},
   "source": [
    "# Section 5.2: SODEN Demo\n",
    "\n",
    "Author: George H. Chen (georgechen [at symbol] cmu.edu)\n",
    "\n",
    "This demo covers how to implement SODEN (Tang et al., 2022) using PyTorch, snippets of the original SODEN code by Tang et al. (2022), and `torchdiffeq`. For an overview of how SODEN works, please see Sections 5.1 and 5.2 in the monograph (the training and prediction procedures are specifically in Section 5.2). This demo largely builds off the exponential time-to-event prediction model demo (`S2.2.2_Exponential.ipynb`), so please look at that first as it describes the different steps of the experimental setup in more detail."
   ]
  },
  {
   "cell_type": "markdown",
   "id": "ed45bbae-a124-4865-afa0-d04f62b24610",
   "metadata": {},
   "source": [
    "### Loading in the SUPPORT dataset (Knaus et al., 1995)\n",
    "\n",
    "As with the earlier demo, we begin by defining the training, validation, and test sets."
   ]
  },
  {
   "cell_type": "code",
   "execution_count": 1,
   "id": "ca8b9722-9480-4771-850a-592ebe83687e",
   "metadata": {},
   "outputs": [
    {
     "name": "stdout",
     "output_type": "stream",
     "text": [
      "Training set size 4968\n",
      "Validation set size 1243\n",
      "Test set size 2662\n",
      "\n",
      "Features before preprocessing (14 total):\n",
      "['age', 'female', 'race', 'num.co', 'diabetes', 'dementia', 'ca', 'meanbp', 'hrt', 'resp', 'temp', 'wblc', 'sod', 'crea']\n",
      "\n",
      "Features after preprocessing (19 total):\n",
      "['age_std', 'female', 'num.co_norm', 'diabetes', 'dementia', 'ca_norm', 'meanbp_std', 'hrt_std', 'resp_std', 'temp_std', 'wblc_std', 'sod_std', 'crea_std', 'race_blank', 'race_asian', 'race_black', 'race_hispanic', 'race_other', 'race_white']\n",
      "\n",
      "Events: ['death']\n",
      "\n"
     ]
    }
   ],
   "source": [
    "from datasets import load_dataset\n",
    "from sklearn.model_selection import train_test_split\n",
    "\n",
    "X_full_train_raw_np, Y_full_train_np, D_full_train_np, \\\n",
    "        X_test_raw_np, Y_test_np, D_test_np, \\\n",
    "        features_before_preprocessing, features_after_preprocessing, \\\n",
    "        events, train_test_split_prespecified, \\\n",
    "        build_preprocessor_and_preprocess, apply_preprocessor = load_dataset('support')\n",
    "\n",
    "# split the \"full training set\" into the actual training set and a validation set (using a 80/20 split)\n",
    "X_train_raw_np, X_val_raw_np, Y_train_np, Y_val_np, D_train_np, D_val_np = \\\n",
    "    train_test_split(X_full_train_raw_np, Y_full_train_np, D_full_train_np,\n",
    "                     test_size=.2, random_state=0)\n",
    "\n",
    "print(f'Training set size {X_train_raw_np.shape[0]}')\n",
    "print(f'Validation set size {X_val_raw_np.shape[0]}')\n",
    "print(f'Test set size {X_test_raw_np.shape[0]}')\n",
    "print()\n",
    "\n",
    "print(f'Features before preprocessing ({len(features_before_preprocessing)} total):')\n",
    "print(features_before_preprocessing)\n",
    "print()\n",
    "\n",
    "print(f'Features after preprocessing ({len(features_after_preprocessing)} total):')\n",
    "print(features_after_preprocessing)\n",
    "print()\n",
    "\n",
    "print('Events:', events)  # only one critical event for the standard time-to-event prediction setup\n",
    "print()"
   ]
  },
  {
   "cell_type": "markdown",
   "id": "c17484e8-156a-4724-a1e2-bd7f2025db68",
   "metadata": {},
   "source": [
    "We fit and apply a preprocessor to the training set. We apply (but do not re-fit) the preprocessor to the validation set."
   ]
  },
  {
   "cell_type": "code",
   "execution_count": 2,
   "id": "835b67c9-142f-47d8-82ee-e9d885e674f0",
   "metadata": {},
   "outputs": [],
   "source": [
    "X_train_np, preprocessor = build_preprocessor_and_preprocess(X_train_raw_np)\n",
    "X_val_np = apply_preprocessor(X_val_raw_np, preprocessor)"
   ]
  },
  {
   "cell_type": "markdown",
   "id": "77ffe5dc-1354-4ea1-bf3c-fea418cd9b0e",
   "metadata": {},
   "source": [
    "### Preparing training and validation sets for use with PyTorch"
   ]
  },
  {
   "cell_type": "code",
   "execution_count": 3,
   "id": "559dc917-0b7c-402f-ad66-fef766e9a87d",
   "metadata": {},
   "outputs": [],
   "source": [
    "import torch\n",
    "\n",
    "device = torch.device('cuda' if torch.cuda.is_available() else 'cpu')\n",
    "\n",
    "X_train = torch.tensor(X_train_np, dtype=torch.float32, device=device)\n",
    "Y_train = torch.tensor(Y_train_np, dtype=torch.float32, device=device)\n",
    "D_train = torch.tensor(D_train_np, dtype=torch.int32, device=device)\n",
    "train_data = list(zip(X_train, Y_train, D_train))\n",
    "\n",
    "X_val = torch.tensor(X_val_np, dtype=torch.float32, device=device)\n",
    "Y_val = torch.tensor(Y_val_np, dtype=torch.float32, device=device)\n",
    "D_val = torch.tensor(D_val_np, dtype=torch.int32, device=device)\n",
    "val_data = list(zip(X_val, Y_val, D_val))"
   ]
  },
  {
   "cell_type": "markdown",
   "id": "e6dafa60-7d87-48d8-8d3b-418dc20bf13c",
   "metadata": {},
   "source": [
    "### Setting up the SODEN model"
   ]
  },
  {
   "cell_type": "code",
   "execution_count": 4,
   "id": "2d5d800a-893c-4342-a561-ca53ceee17b0",
   "metadata": {},
   "outputs": [],
   "source": [
    "import torch\n",
    "import torch.nn as nn\n",
    "from SODEN.models import BaseSurvODEFunc\n",
    "\n",
    "torch.manual_seed(0)\n",
    "\n",
    "num_input_features = X_train.size(1)\n",
    "\n",
    "# The base neural net takes in `num_input_features` + 2 inputs; in particular,\n",
    "# the inputs are:\n",
    "# - t (a nonnegative number)\n",
    "# - H(t|x) (a nonnegative number)\n",
    "# - x (consists of `num_input_features` numbers)\n",
    "# The output is a single positive number for the hazard (to ensure that it's\n",
    "# positive, we use softplus activation)\n",
    "base_neural_net = nn.Sequential(nn.Linear(num_input_features + 2, 8),\n",
    "                                nn.ReLU(),\n",
    "                                nn.Linear(8, 1),\n",
    "                                nn.Softplus()).to(device)\n",
    "\n",
    "# the rest of the code in this cell is to basically glue/wrapper code so that we\n",
    "# can use the base neural net with SODEN\n",
    "\n",
    "# ------------------------------------------------------------------------------\n",
    "# The following class is copied from the `ContextRecMLPODEFunc` class in:\n",
    "#   https://github.com/jiaqima/SODEN/blob/main/models.py\n",
    "# The only change is just that this version accepts a user-specified base neural\n",
    "# net rather than the code creating its own base neural net.\n",
    "class ODEFunc(BaseSurvODEFunc):\n",
    "    def __init__(self, base_neural_net, num_features):\n",
    "        super(ODEFunc, self).__init__()\n",
    "        self.net = base_neural_net\n",
    "        self.feature_size = num_features\n",
    "\n",
    "    def forward(self, t, y):\n",
    "        \"\"\"\n",
    "        Arguments:\n",
    "          t: When self.batch_time_mode is False, t is a scalar indicating the\n",
    "            time step to be evaluated. When self.batch_time_mode is True, t is\n",
    "            a 1-D tensor with a single element [1.0].\n",
    "          y: When self.batch_time_mode is False, y is a 1-D tensor with length\n",
    "            2 + k, where the first dim indicates Lambda_t, the second dim\n",
    "            indicates the final time step T to be evaluated, and the remaining\n",
    "            k dims indicates the features. When self.batch_time_mode is True, y\n",
    "            is a 2-D tensor with batch_size * (2 + k).\n",
    "        \"\"\"\n",
    "        self.nfe += 1\n",
    "        device = next(self.parameters()).device\n",
    "        Lambda_t = y.index_select(-1, torch.tensor([0]).to(device)).view(-1, 1)\n",
    "        T = y.index_select(-1, torch.tensor([1]).to(device)).view(-1, 1)\n",
    "        x = y.index_select(-1, torch.tensor(range(2, y.size(-1))).to(device))\n",
    "        # Rescaling trick\n",
    "        # $\\int_0^T f(s; x) ds = \\int_0^1 T f(tT; x) dt$, where $t = s / T$\n",
    "        inp = torch.cat(\n",
    "            [Lambda_t,\n",
    "             t.repeat(T.size()) * T,  # s = t * T\n",
    "             x.view(-1, self.feature_size)], dim=1)\n",
    "        output = self.net(inp) * T  # f(tT; x) * T\n",
    "        zeros = torch.zeros_like(\n",
    "            y.index_select(-1, torch.tensor(range(1, y.size(-1))).to(device))\n",
    "        )\n",
    "        output = torch.cat([output, zeros], dim=1)\n",
    "        if self.batch_time_mode:\n",
    "            return output\n",
    "        else:\n",
    "            return output.squeeze(0)\n",
    "# ------------------------------------------------------------------------------\n",
    "\n",
    "# wrapper to work with `odeint` from the `torchdiffeq` package\n",
    "ode_func = ODEFunc(base_neural_net, num_input_features)"
   ]
  },
  {
   "cell_type": "markdown",
   "id": "7cf3dfb0-688f-41e5-91e4-63b0821b598e",
   "metadata": {},
   "source": [
    "### Setting up the SODEN loss"
   ]
  },
  {
   "cell_type": "code",
   "execution_count": 5,
   "id": "913bf9df-2f79-4560-bac8-5e0d237846c0",
   "metadata": {},
   "outputs": [],
   "source": [
    "def ode_loss(X_batch, Y_batch, D_batch):\n",
    "    # for every data point, we integrate starting from time 0\n",
    "    all_zeros = torch.zeros(X_batch.size(0), dtype=torch.float, device=device)\n",
    "\n",
    "    init_cond = torch.cat([all_zeros.view(-1, 1),\n",
    "                           Y_batch.view(-1, 1),\n",
    "                           X_batch],\n",
    "                          dim=1)\n",
    "\n",
    "    # we integrate from 0 (time 0) to 1 (the observed time per data point)\n",
    "    t = torch.tensor([0., 1.]).to(device)\n",
    "\n",
    "    # here's code to call the ODE solver\n",
    "    ode_func.set_batch_time_mode(False)\n",
    "    cumulative_hazards = \\\n",
    "        odeint(ode_func, init_cond, t, rtol=1e-4, atol=1e-8)[1:].squeeze()\n",
    "    # note: the reason [1:].squeeze() shows up is as follows:\n",
    "    # - the output of odeint is an iterable where the 0th element corresponds\n",
    "    #   `t[0]` and the 1st element corresponds to `t[1]`\n",
    "    # - by using the indexing `[1:]`, we are saying that we want the\n",
    "    #   cumulative hazards at `t[1]`, which corresponds to the cumulative\n",
    "    #   hazard evaluated at the observed time per data point\n",
    "    # - after applying the indexing `[1;]`, the 0th dimension is no longer\n",
    "    #   needed so we use `squeeze()` to get rid of it\n",
    "    ode_func.set_batch_time_mode(True)\n",
    "\n",
    "    # now we can evaluate the ODE function to get the hazards\n",
    "    hazards = ode_func(t[1:], cumulative_hazards).squeeze()\n",
    "\n",
    "    # some reformatting of the output\n",
    "    cumulative_hazards = cumulative_hazards[:, 0]\n",
    "    hazards = hazards[:, 0] / Y_batch.view(-1, 1)\n",
    "\n",
    "    # use a clamp to avoid log 0\n",
    "    log_hazards = torch.log(hazards.clamp(min=1e-8))\n",
    "\n",
    "    # the loss is precisely L_{SODEN-NLL} in Section 5.2 of the monograph\n",
    "    loss_batch = (-D_batch.view(-1, 1) * log_hazards\n",
    "                  + cumulative_hazards).mean()\n",
    "    return loss_batch"
   ]
  },
  {
   "cell_type": "markdown",
   "id": "c3c36bf4-fd91-4dd5-b997-481b1a8569e2",
   "metadata": {},
   "source": [
    "### Training the model using minibatch gradient descent\n",
    "\n",
    "Just as in the exponential time-to-event prediction model demo, we use the validation set to decide on whether to use a previous epoch's learned model parameters."
   ]
  },
  {
   "cell_type": "code",
   "execution_count": 6,
   "id": "b33ace96-79ed-487a-a1f4-3dc12b33194e",
   "metadata": {},
   "outputs": [
    {
     "name": "stdout",
     "output_type": "stream",
     "text": [
      "Epoch 1 - train loss 10.87423038482666 - val loss 10.589367866516113\n",
      "Epoch 2 - train loss 10.071709632873535 - val loss 9.864890098571777\n",
      "Epoch 3 - train loss 8.400647163391113 - val loss 8.180248260498047\n",
      "Epoch 4 - train loss 4.833189487457275 - val loss 4.7748613357543945\n",
      "Epoch 5 - train loss 4.5473785400390625 - val loss 4.480245113372803\n",
      "Epoch 6 - train loss 4.529810428619385 - val loss 4.461924076080322\n",
      "Epoch 7 - train loss 4.4411420822143555 - val loss 4.364966869354248\n",
      "Epoch 8 - train loss 4.406889915466309 - val loss 4.325331211090088\n",
      "Epoch 9 - train loss 4.404280185699463 - val loss 4.3172831535339355\n",
      "Epoch 10 - train loss 4.43654203414917 - val loss 4.34867000579834\n",
      "Best validation loss (4.3172831535339355) achieved at epoch 9\n"
     ]
    },
    {
     "data": {
      "text/plain": [
       "<All keys matched successfully>"
      ]
     },
     "execution_count": 6,
     "metadata": {},
     "output_type": "execute_result"
    }
   ],
   "source": [
    "from copy import deepcopy\n",
    "from torch.utils.data import DataLoader\n",
    "from torchdiffeq import odeint_adjoint as odeint\n",
    "\n",
    "# minibatch gradient descent\n",
    "num_epochs = 10\n",
    "batch_size = 128\n",
    "learning_rate = 1e-2\n",
    "\n",
    "train_loader = DataLoader(train_data, batch_size, shuffle=True)  # shuffling for minibatch gradient descent\n",
    "val_loader = DataLoader(val_data, batch_size, shuffle=False)  # there is no need to shuffle the validation data\n",
    "\n",
    "optimizer = torch.optim.Adam(base_neural_net.parameters(), lr=learning_rate)\n",
    "train_epoch_losses = []\n",
    "val_epoch_losses = []\n",
    "best_val_loss = float('inf')\n",
    "best_params = None\n",
    "best_epoch_index = None\n",
    "for epoch_index in range(num_epochs):\n",
    "    base_neural_net.train()\n",
    "    for X_batch, Y_batch, D_batch in train_loader:\n",
    "        loss_batch = ode_loss(X_batch, Y_batch, D_batch)\n",
    "\n",
    "        optimizer.zero_grad()\n",
    "        loss_batch.backward()\n",
    "        optimizer.step()\n",
    "\n",
    "    # evaluate training and validation set losses\n",
    "    # (note that in practice, instead of evaluating the negative log likelihood loss,\n",
    "    # we could instead evaluate other metrics such as time-dependent concordance index,\n",
    "    # integrated Brier score, etc)\n",
    "    base_neural_net.eval()\n",
    "    with torch.no_grad():\n",
    "        train_loss = torch.tensor(0.0, dtype=torch.float, device=device)\n",
    "        num_points = 0\n",
    "        for X_batch, Y_batch, D_batch in train_loader:\n",
    "            batch_num_points = X_batch.size(0)\n",
    "            train_loss += ode_loss(X_batch, Y_batch, D_batch) * batch_num_points\n",
    "            num_points += batch_num_points\n",
    "        train_loss = float(train_loss / num_points)\n",
    "        train_epoch_losses.append(train_loss)\n",
    "        print(f'Epoch {epoch_index + 1} - train loss {train_loss}', end=' ', flush=True)\n",
    "\n",
    "        val_loss = torch.tensor(0.0, dtype=torch.float, device=device)\n",
    "        num_points = 0\n",
    "        for X_batch, Y_batch, D_batch in val_loader:\n",
    "            batch_num_points = X_batch.size(0)\n",
    "            val_loss += ode_loss(X_batch, Y_batch, D_batch) * batch_num_points\n",
    "            num_points += batch_num_points\n",
    "        val_loss = float(val_loss / num_points)\n",
    "        val_epoch_losses.append(val_loss)\n",
    "        print(f'- val loss {val_loss}', flush=True)\n",
    "\n",
    "        if val_loss < best_val_loss:\n",
    "            best_val_loss = val_loss\n",
    "            best_epoch_index = epoch_index\n",
    "            best_params = deepcopy(base_neural_net.state_dict())\n",
    "print(f'Best validation loss ({best_val_loss}) achieved at epoch {best_epoch_index + 1}')\n",
    "base_neural_net.load_state_dict(best_params)"
   ]
  },
  {
   "cell_type": "code",
   "execution_count": 7,
   "id": "8d591b8f-de58-4e9c-9b6b-c7111ef86487",
   "metadata": {},
   "outputs": [
    {
     "data": {
      "text/plain": [
       "<matplotlib.legend.Legend at 0x7b6b9bfabf20>"
      ]
     },
     "execution_count": 7,
     "metadata": {},
     "output_type": "execute_result"
    },
    {
     "data": {
      "image/png": "[encoded data removed]",
      "text/plain": [
       "<Figure size 640x480 with 1 Axes>"
      ]
     },
     "metadata": {},
     "output_type": "display_data"
    }
   ],
   "source": [
    "%matplotlib inline\n",
    "import matplotlib.pyplot as plt\n",
    "\n",
    "plt.plot(range(1, num_epochs + 1), train_epoch_losses, label='Training')\n",
    "plt.plot(range(1, num_epochs + 1), val_epoch_losses, '--', label='Validation')\n",
    "plt.xlabel('Epoch')\n",
    "plt.ylabel('Loss')\n",
    "plt.legend()"
   ]
  },
  {
   "cell_type": "markdown",
   "id": "49807d51-72fb-42f3-a4a5-93c59657eb0a",
   "metadata": {},
   "source": [
    "### Predicting test set survival curves"
   ]
  },
  {
   "cell_type": "markdown",
   "id": "9fd16f73-ebe8-4caf-8e8f-31a2ff773547",
   "metadata": {},
   "source": [
    "We begin by preprocessing the test data using the preprocessor built using training data."
   ]
  },
  {
   "cell_type": "code",
   "execution_count": 8,
   "id": "fe28bba0-9ab4-4940-854d-54eec8eb9065",
   "metadata": {},
   "outputs": [
    {
     "data": {
      "text/plain": [
       "(2662, 19)"
      ]
     },
     "execution_count": 8,
     "metadata": {},
     "output_type": "execute_result"
    }
   ],
   "source": [
    "X_test_np = apply_preprocessor(X_test_raw_np, preprocessor).astype('float32')\n",
    "X_test_np.shape"
   ]
  },
  {
   "cell_type": "markdown",
   "id": "68a5e63a-f11c-48d6-a403-acb70f9dad4d",
   "metadata": {},
   "source": [
    "Importantly, in our demos for other models, we would typically train a survival model, and the trained model would use a time grid based on training data. When we evaluate on test data and try to use the observed times from the test data, there would be some interpolation needed (since often the observed times in test data are not exactly the same as the ones in training data).\n",
    "\n",
    "For SODEN, since the model is inherently continuous, we can just predict at whichever times we want, so we can directly just predict at, for instance, the unique observed times in the test data."
   ]
  },
  {
   "cell_type": "code",
   "execution_count": 9,
   "id": "8306d383-f4e6-4da2-a533-d7824ec6cf8d",
   "metadata": {},
   "outputs": [],
   "source": [
    "import numpy as np\n",
    "time_grid_np_test_np = np.unique(Y_test_np)"
   ]
  },
  {
   "cell_type": "code",
   "execution_count": 10,
   "id": "850985b5-3ae7-4a23-abe8-c90bc3a48db7",
   "metadata": {},
   "outputs": [],
   "source": [
    "def ode_predict(X_batch, time_grid_np):\n",
    "    with torch.no_grad():\n",
    "        inserted_0 = False\n",
    "        if time_grid_np[0] != 0:\n",
    "            time_grid_np = np.insert(time_grid_np, 0, 0)\n",
    "            inserted_0 = True\n",
    "\n",
    "        max_time = time_grid_np.max()\n",
    "        time_grid_rescaled_np = time_grid_np / max_time\n",
    "    \n",
    "        # for every data point, we integrate starting from time 0 and we integrate\n",
    "        # to the max time\n",
    "        all_zeros = torch.zeros(X_batch.size(0), dtype=torch.float, device=device)\n",
    "        all_max = max_time * \\\n",
    "            torch.ones(X_batch.size(0), dtype=torch.float, device=device)\n",
    "    \n",
    "        init_cond = torch.cat([all_zeros.view(-1, 1),\n",
    "                               all_max.view(-1, 1),\n",
    "                               X_batch],\n",
    "                              dim=1)\n",
    "    \n",
    "        # we integrate from 0 (time 0) to 1 (the observed time per data point)\n",
    "        t = torch.tensor(time_grid_rescaled_np, dtype=torch.float32).to(device)\n",
    "    \n",
    "        # here's code to call the ODE solver\n",
    "        ode_func.set_batch_time_mode(False)\n",
    "        cumulative_hazards = \\\n",
    "            odeint(ode_func, init_cond, t, rtol=1e-4, atol=1e-8)\n",
    "        ode_func.set_batch_time_mode(True)\n",
    "\n",
    "        if inserted_0:\n",
    "            # ignore the 0th time which is 0\n",
    "            return cumulative_hazards[1:, :, 0]\n",
    "        else:\n",
    "            return cumulative_hazards[:, :, 0]\n",
    "        # output shape = (original time grid length, number of points)"
   ]
  },
  {
   "cell_type": "code",
   "execution_count": 11,
   "id": "997d8603-f6c8-43fd-b0bc-d60d83111c22",
   "metadata": {},
   "outputs": [
    {
     "data": {
      "text/plain": [
       "torch.Size([1061, 2662])"
      ]
     },
     "execution_count": 11,
     "metadata": {},
     "output_type": "execute_result"
    }
   ],
   "source": [
    "cumulative_hazards_test = ode_predict(torch.from_numpy(X_test_np).to(device), time_grid_np_test_np)\n",
    "cumulative_hazards_test.size()"
   ]
  },
  {
   "cell_type": "markdown",
   "id": "351c4397-8389-4824-acdc-3a771f8f366d",
   "metadata": {},
   "source": [
    "We can easily back out survival functions:"
   ]
  },
  {
   "cell_type": "code",
   "execution_count": 12,
   "id": "d6f86f59-e5c3-4508-81f2-68f12f3204c5",
   "metadata": {},
   "outputs": [],
   "source": [
    "surv_test_np = np.exp(-cumulative_hazards_test.cpu().numpy().T)"
   ]
  },
  {
   "cell_type": "markdown",
   "id": "941176df-c8df-45f5-8ad0-a9641f37e2f9",
   "metadata": {},
   "source": [
    "Here's a plot of the predicted survival function for the 0th test data point:"
   ]
  },
  {
   "cell_type": "code",
   "execution_count": 13,
   "id": "14edaf7d-bc40-4474-b443-5d0cefc93452",
   "metadata": {},
   "outputs": [
    {
     "data": {
      "text/plain": [
       "Text(0, 0.5, 'Survival probability')"
      ]
     },
     "execution_count": 13,
     "metadata": {},
     "output_type": "execute_result"
    },
    {
     "data": {
      "image/png": "[encoded data removed]",
      "text/plain": [
       "<Figure size 640x480 with 1 Axes>"
      ]
     },
     "metadata": {},
     "output_type": "display_data"
    }
   ],
   "source": [
    "plt.plot(time_grid_np_test_np, surv_test_np[0])\n",
    "plt.xlabel('Time')\n",
    "plt.ylabel('Survival probability')"
   ]
  },
  {
   "cell_type": "markdown",
   "id": "b3d9dda8-214c-4d57-afb3-60920423fe9e",
   "metadata": {},
   "source": [
    "### Computing test set evaluation metrics"
   ]
  },
  {
   "cell_type": "markdown",
   "id": "931e241e-7648-4d28-91c8-ffc5942a13c9",
   "metadata": {},
   "source": [
    "#### Time-dependent concordance index (Antolini et al., 2005) using the PyCox implementation (Kvamme et al., 2019)"
   ]
  },
  {
   "cell_type": "code",
   "execution_count": 14,
   "id": "4e93bae8-67f1-4b2b-ac35-41270d413fc9",
   "metadata": {},
   "outputs": [
    {
     "name": "stdout",
     "output_type": "stream",
     "text": [
      "Time-dependent concordance index: 0.5999961596954834\n"
     ]
    }
   ],
   "source": [
    "import pandas as pd\n",
    "from pycox.evaluation import EvalSurv\n",
    "\n",
    "# PyCox's EvalSurv expects the predicted test data's survival functions to be in\n",
    "# a Pandas DataFrame where the rows index time, and the columns index data points\n",
    "surv_test_df = pd.DataFrame(surv_test_np.T, index=time_grid_np_test_np)\n",
    "eval_pycox = EvalSurv(surv_test_df, Y_test_np, D_test_np)\n",
    "C_td = eval_pycox.concordance_td('antolini')\n",
    "\n",
    "print(f'Time-dependent concordance index: {C_td}')"
   ]
  },
  {
   "cell_type": "markdown",
   "id": "d25beae8-6208-41b0-a7ed-20e0d6f10ad7",
   "metadata": {},
   "source": [
    "#### Truncated time-dependent concordance index (Uno et al., 2011) using the scikit-survival implementation (Pölsterl, 2020)"
   ]
  },
  {
   "cell_type": "code",
   "execution_count": 15,
   "id": "c2875af8-4377-4d2a-a05d-380b0de2f82b",
   "metadata": {},
   "outputs": [
    {
     "name": "stdout",
     "output_type": "stream",
     "text": [
      "Eval time 316.0 - truncated time-dependent concordance: 0.6003177723541635\n",
      "Eval time 693.0 - truncated time-dependent concordance: 0.6000619206152142\n",
      "Eval time 1291.0 - truncated time-dependent concordance: 0.5965819731040101\n"
     ]
    }
   ],
   "source": [
    "from sksurv.util import Surv\n",
    "from sksurv.metrics import concordance_index_ipcw\n",
    "\n",
    "# convert training and test labels into the structured array format used by scikit-survival\n",
    "labels_train_sksurv = Surv.from_arrays(D_train_np, Y_train_np)\n",
    "labels_test_sksurv = Surv.from_arrays(D_test_np, Y_test_np)\n",
    "\n",
    "# as an illustrative example, we evaluate the truncated time-dependent concordance index at\n",
    "# 25, 50, and 75 percentile values of the time grid we specified earlier\n",
    "eval_time_indices = [int(.25 * len(time_grid_np_test_np)),\n",
    "                     int(.5 * len(time_grid_np_test_np)),\n",
    "                     int(.75 * len(time_grid_np_test_np))]\n",
    "\n",
    "for eval_time_index in eval_time_indices:\n",
    "    eval_time = time_grid_np_test_np[eval_time_index]\n",
    "    surv_values_at_eval_time_np = surv_test_np[:, eval_time_index]\n",
    "    estimated_risks_np = 1 - surv_values_at_eval_time_np\n",
    "    concordance = concordance_index_ipcw(labels_train_sksurv, labels_test_sksurv, estimated_risks_np, tau=eval_time)[0]\n",
    "    print(f'Eval time {eval_time} - truncated time-dependent concordance: {concordance}')"
   ]
  },
  {
   "cell_type": "markdown",
   "id": "b27d2851-845a-4d8a-a36e-faccc829b824",
   "metadata": {},
   "source": [
    "#### Time-dependent AUC (Uno et al., 2007; Hung and Chiang, 2010) using the scikit-survival implementation (Pölsterl, 2020)"
   ]
  },
  {
   "cell_type": "code",
   "execution_count": 16,
   "id": "fe777d9e-10e2-49d0-8563-5a7b9889d732",
   "metadata": {},
   "outputs": [
    {
     "name": "stdout",
     "output_type": "stream",
     "text": [
      "Eval time 316.0 - time-dependent AUC: 0.6427538523851566\n",
      "Eval time 693.0 - time-dependent AUC: 0.6553645331114935\n",
      "Eval time 1291.0 - time-dependent AUC: 0.6485517166931463\n"
     ]
    }
   ],
   "source": [
    "from sksurv.metrics import cumulative_dynamic_auc\n",
    "\n",
    "for eval_time_index in eval_time_indices:\n",
    "    eval_time = time_grid_np_test_np[eval_time_index]\n",
    "\n",
    "    # find the interpolated time grid's time point closest to the evaluation time\n",
    "    interp_time_index = np.argmin(np.abs(eval_time - time_grid_np_test_np))\n",
    "    surv_values_at_eval_time_np = surv_test_np[:, interp_time_index]\n",
    "\n",
    "    estimated_risks_np = 1 - surv_values_at_eval_time_np\n",
    "    AUC = cumulative_dynamic_auc(labels_train_sksurv, labels_test_sksurv, estimated_risks_np, times=[eval_time])[0][0]\n",
    "    print(f'Eval time {eval_time} - time-dependent AUC: {AUC}')"
   ]
  },
  {
   "cell_type": "markdown",
   "id": "86d2ae6f-d8db-4bd5-93fd-6075bb478dd3",
   "metadata": {},
   "source": [
    "#### Brier score (Graf et al., 1999) using the SurvivalEVAL implementation (Qi et al., 2024)"
   ]
  },
  {
   "cell_type": "code",
   "execution_count": 17,
   "id": "594ed417-a759-4871-91fe-657e3d02f111",
   "metadata": {},
   "outputs": [
    {
     "name": "stdout",
     "output_type": "stream",
     "text": [
      "Eval time 316.0 - Brier score: 0.2361933262739466\n"
     ]
    },
    {
     "name": "stderr",
     "output_type": "stream",
     "text": [
      "/home/george/anaconda3/lib/python3.12/site-packages/SurvivalEVAL/Evaluator.py:59: UserWarning: The first time coordinate is not 0. A authentic survival curve should start from 0 with 100% survival probability. \\Adding 0 to the beginning of the time coordinates and 1 to the beginning of the predicted curves.\n",
      "  warnings.warn(\"The first time coordinate is not 0. \"\n"
     ]
    },
    {
     "name": "stdout",
     "output_type": "stream",
     "text": [
      "Eval time 693.0 - Brier score: 0.21787226061435294\n",
      "Eval time 1291.0 - Brier score: 0.20312653778237788\n",
      "Integrated Brier score: 0.20095424799187958\n"
     ]
    }
   ],
   "source": [
    "from SurvivalEVAL.Evaluator import SurvivalEvaluator\n",
    "\n",
    "eval = SurvivalEvaluator(surv_test_np, time_grid_np_test_np,\n",
    "                         Y_test_np, D_test_np,\n",
    "                         Y_train_np, D_train_np)  # note: training labels are also needed\n",
    "\n",
    "for eval_time_index in eval_time_indices:\n",
    "    eval_time = float(time_grid_np_test_np[eval_time_index])\n",
    "    print(f'Eval time {eval_time} - Brier score: {eval.brier_score(eval_time)}')\n",
    "\n",
    "IBS = eval.integrated_brier_score()\n",
    "print(f'Integrated Brier score: {IBS}')"
   ]
  },
  {
   "cell_type": "markdown",
   "id": "8d898890-64df-4aac-a27c-e0e33132a505",
   "metadata": {},
   "source": [
    "#### D-Calibration (Haider et al., 2020) using the SurvivalEVAL implementation (Qi et al., 2024)"
   ]
  },
  {
   "cell_type": "code",
   "execution_count": 18,
   "id": "d5281245-920b-4f82-941c-66e7d35d34c8",
   "metadata": {},
   "outputs": [
    {
     "name": "stdout",
     "output_type": "stream",
     "text": [
      "The model is not D-calibrated.\n"
     ]
    }
   ],
   "source": [
    "p_value, bin_stats = eval.d_calibration()\n",
    "if p_value >= .05:\n",
    "    print('The model is D-calibrated.')\n",
    "else:\n",
    "    print('The model is not D-calibrated.')"
   ]
  },
  {
   "cell_type": "markdown",
   "id": "b2533edb-260c-4e16-9e09-b59954a9196f",
   "metadata": {},
   "source": [
    "#### Mean Absolute Error via the margin (Haider et al., 2020) and, separately, the Pseudo Observation approach (Qi et al., 2023) both using the SurvivalEVAL implementation (Qi et al., 2024)"
   ]
  },
  {
   "cell_type": "code",
   "execution_count": 19,
   "id": "94aac7b8-2d20-437a-9b5d-304db3971ae8",
   "metadata": {},
   "outputs": [
    {
     "name": "stdout",
     "output_type": "stream",
     "text": [
      "Weighted MAE-Margin: 616.4241960737193\n"
     ]
    }
   ],
   "source": [
    "weighted_MAE_margin = eval.mae(method='Margin', weighted=True)\n",
    "print(f'Weighted MAE-Margin: {weighted_MAE_margin}')"
   ]
  },
  {
   "cell_type": "code",
   "execution_count": 20,
   "id": "dc0f800a-a847-44f2-ac85-698c9f72a881",
   "metadata": {},
   "outputs": [
    {
     "name": "stdout",
     "output_type": "stream",
     "text": [
      "Weighted MAE-PO: 734.9082637692605\n"
     ]
    }
   ],
   "source": [
    "weighted_MAE_PO = eval.mae(method='Pseudo_obs', weighted=True)\n",
    "print(f'Weighted MAE-PO: {weighted_MAE_PO}')"
   ]
  }
 ],
 "metadata": {
  "kernelspec": {
   "display_name": "Python 3 (ipykernel)",
   "language": "python",
   "name": "python3"
  },
  "language_info": {
   "codemirror_mode": {
    "name": "ipython",
    "version": 3
   },
   "file_extension": ".py",
   "mimetype": "text/x-python",
   "name": "python",
   "nbconvert_exporter": "python",
   "pygments_lexer": "ipython3",
   "version": "3.12.4"
  }
 },
 "nbformat": 4,
 "nbformat_minor": 5
}
